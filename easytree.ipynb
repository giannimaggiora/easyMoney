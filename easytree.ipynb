{
 "cells": [
  {
   "cell_type": "code",
   "execution_count": null,
   "outputs": [],
   "source": [],
   "metadata": {
    "collapsed": false,
    "pycharm": {
     "name": "#%%\n"
    }
   }
  },
  {
   "cell_type": "code",
   "execution_count": 1,
   "outputs": [],
   "source": [
    "import numpy as np # linear algebra\n",
    "import pandas as pd # data processing, CSV file I/O (e.g. pd.read_csv)\n",
    "\n",
    "# import libraries for plotting\n",
    "import matplotlib.pyplot as plt\n",
    "import seaborn as sns\n",
    "# from matplotlib import pyplot as plt\n",
    "%matplotlib inline\n",
    "plt.style.use('ggplot')\n",
    "pd.set_option('display.max_rows', 500)\n",
    "pd.options.display.float_format = '{:,.2f}'.format\n",
    "RANDOM_STATE = 42\n",
    "from datetime import date"
   ],
   "metadata": {
    "collapsed": false,
    "pycharm": {
     "name": "#%%\n",
     "is_executing": false
    }
   }
  },
  {
   "cell_type": "code",
   "execution_count": null,
   "outputs": [],
   "source": [
    "###Products"
   ],
   "metadata": {
    "collapsed": false,
    "pycharm": {
     "name": "#%%\n"
    }
   }
  },
  {
   "cell_type": "code",
   "execution_count": 1,
   "outputs": [
    {
     "traceback": [
      "\u001b[0;31m---------------------------------------------------------------------------\u001b[0m",
      "\u001b[0;31mNameError\u001b[0m                                 Traceback (most recent call last)",
      "\u001b[0;32m<ipython-input-1-87fb8930bee3>\u001b[0m in \u001b[0;36m<module>\u001b[0;34m\u001b[0m\n\u001b[0;32m----> 1\u001b[0;31m \u001b[0mdf_products\u001b[0m \u001b[0;34m=\u001b[0m \u001b[0mpd\u001b[0m\u001b[0;34m.\u001b[0m\u001b[0mread_csv\u001b[0m\u001b[0;34m(\u001b[0m\u001b[0;34m'products_df.csv'\u001b[0m\u001b[0;34m)\u001b[0m\u001b[0;34m\u001b[0m\u001b[0;34m\u001b[0m\u001b[0m\n\u001b[0m",
      "\u001b[0;31mNameError\u001b[0m: name 'pd' is not defined"
     ],
     "ename": "NameError",
     "evalue": "name 'pd' is not defined",
     "output_type": "error"
    }
   ],
   "source": [
    "df_products = pd.read_csv('products_df.csv')"
   ],
   "metadata": {
    "collapsed": false,
    "pycharm": {
     "name": "#%%\n",
     "is_executing": false
    }
   }
  },
  {
   "cell_type": "code",
   "execution_count": null,
   "outputs": [],
   "source": [
    "df_products.head().T"
   ],
   "metadata": {
    "collapsed": false,
    "pycharm": {
     "name": "#%%\n",
     "is_executing": true
    }
   }
  },
  {
   "cell_type": "code",
   "execution_count": 2,
   "outputs": [
    {
     "traceback": [
      "\u001b[0;31m---------------------------------------------------------------------------\u001b[0m",
      "\u001b[0;31mNameError\u001b[0m                                 Traceback (most recent call last)",
      "\u001b[0;32m<ipython-input-2-b87235f4032f>\u001b[0m in \u001b[0;36m<module>\u001b[0;34m\u001b[0m\n\u001b[0;32m----> 1\u001b[0;31m \u001b[0mdf_products\u001b[0m\u001b[0;34m.\u001b[0m\u001b[0minfo\u001b[0m\u001b[0;34m(\u001b[0m\u001b[0mverbose\u001b[0m\u001b[0;34m=\u001b[0m\u001b[0;32mTrue\u001b[0m\u001b[0;34m)\u001b[0m\u001b[0;34m\u001b[0m\u001b[0;34m\u001b[0m\u001b[0m\n\u001b[0m",
      "\u001b[0;31mNameError\u001b[0m: name 'df_products' is not defined"
     ],
     "ename": "NameError",
     "evalue": "name 'df_products' is not defined",
     "output_type": "error"
    }
   ],
   "source": [
    "df_products.info(verbose=True)"
   ],
   "metadata": {
    "collapsed": false,
    "pycharm": {
     "name": "#%%\n",
     "is_executing": false
    }
   }
  },
  {
   "cell_type": "code",
   "execution_count": 3,
   "outputs": [
    {
     "traceback": [
      "\u001b[0;31m---------------------------------------------------------------------------\u001b[0m",
      "\u001b[0;31mNameError\u001b[0m                                 Traceback (most recent call last)",
      "\u001b[0;32m<ipython-input-3-2a2d150feceb>\u001b[0m in \u001b[0;36m<module>\u001b[0;34m\u001b[0m\n\u001b[0;32m----> 1\u001b[0;31m \u001b[0mdf_products\u001b[0m\u001b[0;34m[\u001b[0m\u001b[0;34m'pk_cid'\u001b[0m\u001b[0;34m]\u001b[0m\u001b[0;34m.\u001b[0m\u001b[0mvalue_counts\u001b[0m\u001b[0;34m(\u001b[0m\u001b[0;34m)\u001b[0m\u001b[0;34m\u001b[0m\u001b[0;34m\u001b[0m\u001b[0m\n\u001b[0m",
      "\u001b[0;31mNameError\u001b[0m: name 'df_products' is not defined"
     ],
     "ename": "NameError",
     "evalue": "name 'df_products' is not defined",
     "output_type": "error"
    }
   ],
   "source": [
    "df_products['pk_cid'].value_counts()"
   ],
   "metadata": {
    "collapsed": false,
    "pycharm": {
     "name": "#%%\n",
     "is_executing": false
    }
   }
  },
  {
   "cell_type": "code",
   "execution_count": 4,
   "outputs": [
    {
     "traceback": [
      "\u001b[0;31m---------------------------------------------------------------------------\u001b[0m",
      "\u001b[0;31mNameError\u001b[0m                                 Traceback (most recent call last)",
      "\u001b[0;32m<ipython-input-4-b86d8665f832>\u001b[0m in \u001b[0;36m<module>\u001b[0;34m\u001b[0m\n\u001b[0;32m----> 1\u001b[0;31m \u001b[0mdf_products\u001b[0m\u001b[0;34m[\u001b[0m\u001b[0;34m'pk_partition'\u001b[0m\u001b[0;34m]\u001b[0m\u001b[0;34m.\u001b[0m\u001b[0mvalue_counts\u001b[0m\u001b[0;34m(\u001b[0m\u001b[0;34m)\u001b[0m\u001b[0;34m\u001b[0m\u001b[0;34m\u001b[0m\u001b[0m\n\u001b[0m",
      "\u001b[0;31mNameError\u001b[0m: name 'df_products' is not defined"
     ],
     "ename": "NameError",
     "evalue": "name 'df_products' is not defined",
     "output_type": "error"
    }
   ],
   "source": [
    "df_products['pk_partition'].value_counts()"
   ],
   "metadata": {
    "collapsed": false,
    "pycharm": {
     "name": "#%%\n",
     "is_executing": false
    }
   }
  },
  {
   "cell_type": "code",
   "execution_count": 5,
   "outputs": [
    {
     "traceback": [
      "\u001b[0;31m---------------------------------------------------------------------------\u001b[0m",
      "\u001b[0;31mNameError\u001b[0m                                 Traceback (most recent call last)",
      "\u001b[0;32m<ipython-input-5-dc0e88e38a05>\u001b[0m in \u001b[0;36m<module>\u001b[0;34m\u001b[0m\n\u001b[0;32m----> 1\u001b[0;31m \u001b[0mcolumnas\u001b[0m\u001b[0;34m=\u001b[0m \u001b[0mdf_products\u001b[0m\u001b[0;34m\u001b[0m\u001b[0;34m\u001b[0m\u001b[0m\n\u001b[0m",
      "\u001b[0;31mNameError\u001b[0m: name 'df_products' is not defined"
     ],
     "ename": "NameError",
     "evalue": "name 'df_products' is not defined",
     "output_type": "error"
    }
   ],
   "source": [
    "columnas= df_products"
   ],
   "metadata": {
    "collapsed": false,
    "pycharm": {
     "name": "#%%\n",
     "is_executing": false
    }
   }
  },
  {
   "cell_type": "code",
   "execution_count": 6,
   "outputs": [
    {
     "traceback": [
      "\u001b[0;31m---------------------------------------------------------------------------\u001b[0m",
      "\u001b[0;31mNameError\u001b[0m                                 Traceback (most recent call last)",
      "\u001b[0;32m<ipython-input-6-f3911db79491>\u001b[0m in \u001b[0;36m<module>\u001b[0;34m\u001b[0m\n\u001b[0;32m----> 1\u001b[0;31m \u001b[0;32mfor\u001b[0m \u001b[0mi\u001b[0m \u001b[0;32min\u001b[0m \u001b[0mcolumnas\u001b[0m\u001b[0;34m:\u001b[0m\u001b[0;34m\u001b[0m\u001b[0;34m\u001b[0m\u001b[0m\n\u001b[0m\u001b[1;32m      2\u001b[0m     \u001b[0mprint\u001b[0m\u001b[0;34m(\u001b[0m\u001b[0;34m'\\n'\u001b[0m\u001b[0;34m,\u001b[0m\u001b[0mi\u001b[0m\u001b[0;34m,\u001b[0m\u001b[0mdf_products\u001b[0m\u001b[0;34m[\u001b[0m\u001b[0mi\u001b[0m\u001b[0;34m]\u001b[0m\u001b[0;34m.\u001b[0m\u001b[0munique\u001b[0m\u001b[0;34m(\u001b[0m\u001b[0;34m)\u001b[0m\u001b[0;34m,\u001b[0m\u001b[0;34m'\\n'\u001b[0m\u001b[0;34m)\u001b[0m\u001b[0;34m\u001b[0m\u001b[0;34m\u001b[0m\u001b[0m\n",
      "\u001b[0;31mNameError\u001b[0m: name 'columnas' is not defined"
     ],
     "ename": "NameError",
     "evalue": "name 'columnas' is not defined",
     "output_type": "error"
    }
   ],
   "source": [
    "for i in columnas:\n",
    "    print('\\n',i,df_products[i].unique(),'\\n')"
   ],
   "metadata": {
    "collapsed": false,
    "pycharm": {
     "name": "#%%\n",
     "is_executing": false
    }
   }
  },
  {
   "cell_type": "code",
   "execution_count": null,
   "outputs": [],
   "source": [
    "###Sociodemographic"
   ],
   "metadata": {
    "collapsed": false,
    "pycharm": {
     "name": "#%%\n"
    }
   }
  },
  {
   "cell_type": "code",
   "execution_count": 7,
   "outputs": [
    {
     "traceback": [
      "\u001b[0;31m---------------------------------------------------------------------------\u001b[0m",
      "\u001b[0;31mNameError\u001b[0m                                 Traceback (most recent call last)",
      "\u001b[0;32m<ipython-input-7-1866526289e6>\u001b[0m in \u001b[0;36m<module>\u001b[0;34m\u001b[0m\n\u001b[0;32m----> 1\u001b[0;31m \u001b[0mdf_socio\u001b[0m\u001b[0;34m=\u001b[0m\u001b[0mdf_products\u001b[0m \u001b[0;34m=\u001b[0m \u001b[0mpd\u001b[0m\u001b[0;34m.\u001b[0m\u001b[0mread_csv\u001b[0m\u001b[0;34m(\u001b[0m\u001b[0;34m'sociodemographic_df.csv'\u001b[0m\u001b[0;34m)\u001b[0m\u001b[0;34m\u001b[0m\u001b[0;34m\u001b[0m\u001b[0m\n\u001b[0m",
      "\u001b[0;31mNameError\u001b[0m: name 'pd' is not defined"
     ],
     "ename": "NameError",
     "evalue": "name 'pd' is not defined",
     "output_type": "error"
    }
   ],
   "source": [
    "df_socio=df_products = pd.read_csv('sociodemographic_df.csv')"
   ],
   "metadata": {
    "collapsed": false,
    "pycharm": {
     "name": "#%%\n",
     "is_executing": false
    }
   }
  },
  {
   "cell_type": "code",
   "execution_count": 10,
   "outputs": [
    {
     "data": {
      "text/plain": "                       0           1           2           3           4\nUnnamed: 0             0           1           2           3           4\npk_cid           1375586     1050611     1050612     1050613     1050614\npk_partition  2018-01-28  2018-01-28  2018-01-28  2018-01-28  2018-01-28\ncountry_id            ES          ES          ES          ES          ES\nregion_code        29.00       13.00       13.00       50.00       50.00\ngender                 H           V           V           H           V\nage                   35          23          23          22          23\ndeceased               N           N           N           N           N\nsalary         87,218.10   35,548.74  122,179.11  119,775.54         NaN",
      "text/html": "<div>\n<style scoped>\n    .dataframe tbody tr th:only-of-type {\n        vertical-align: middle;\n    }\n\n    .dataframe tbody tr th {\n        vertical-align: top;\n    }\n\n    .dataframe thead th {\n        text-align: right;\n    }\n</style>\n<table border=\"1\" class=\"dataframe\">\n  <thead>\n    <tr style=\"text-align: right;\">\n      <th></th>\n      <th>0</th>\n      <th>1</th>\n      <th>2</th>\n      <th>3</th>\n      <th>4</th>\n    </tr>\n  </thead>\n  <tbody>\n    <tr>\n      <th>Unnamed: 0</th>\n      <td>0</td>\n      <td>1</td>\n      <td>2</td>\n      <td>3</td>\n      <td>4</td>\n    </tr>\n    <tr>\n      <th>pk_cid</th>\n      <td>1375586</td>\n      <td>1050611</td>\n      <td>1050612</td>\n      <td>1050613</td>\n      <td>1050614</td>\n    </tr>\n    <tr>\n      <th>pk_partition</th>\n      <td>2018-01-28</td>\n      <td>2018-01-28</td>\n      <td>2018-01-28</td>\n      <td>2018-01-28</td>\n      <td>2018-01-28</td>\n    </tr>\n    <tr>\n      <th>country_id</th>\n      <td>ES</td>\n      <td>ES</td>\n      <td>ES</td>\n      <td>ES</td>\n      <td>ES</td>\n    </tr>\n    <tr>\n      <th>region_code</th>\n      <td>29.00</td>\n      <td>13.00</td>\n      <td>13.00</td>\n      <td>50.00</td>\n      <td>50.00</td>\n    </tr>\n    <tr>\n      <th>gender</th>\n      <td>H</td>\n      <td>V</td>\n      <td>V</td>\n      <td>H</td>\n      <td>V</td>\n    </tr>\n    <tr>\n      <th>age</th>\n      <td>35</td>\n      <td>23</td>\n      <td>23</td>\n      <td>22</td>\n      <td>23</td>\n    </tr>\n    <tr>\n      <th>deceased</th>\n      <td>N</td>\n      <td>N</td>\n      <td>N</td>\n      <td>N</td>\n      <td>N</td>\n    </tr>\n    <tr>\n      <th>salary</th>\n      <td>87,218.10</td>\n      <td>35,548.74</td>\n      <td>122,179.11</td>\n      <td>119,775.54</td>\n      <td>NaN</td>\n    </tr>\n  </tbody>\n</table>\n</div>"
     },
     "metadata": {},
     "output_type": "execute_result",
     "execution_count": 10
    }
   ],
   "source": [
    "df_socio.head().T"
   ],
   "metadata": {
    "collapsed": false,
    "pycharm": {
     "name": "#%%\n",
     "is_executing": false
    }
   }
  },
  {
   "cell_type": "code",
   "execution_count": 11,
   "outputs": [
    {
     "name": "stdout",
     "text": [
      "<class 'pandas.core.frame.DataFrame'>\nRangeIndex: 5962924 entries, 0 to 5962923\nData columns (total 9 columns):\n #   Column        Dtype  \n---  ------        -----  \n 0   Unnamed: 0    int64  \n 1   pk_cid        int64  \n 2   pk_partition  object \n 3   country_id    object \n 4   region_code   float64\n 5   gender        object \n 6   age           int64  \n 7   deceased      object \n 8   salary        float64\ndtypes: float64(2), int64(3), object(4)\nmemory usage: 409.4+ MB\n"
     ],
     "output_type": "stream"
    }
   ],
   "source": [
    "df_socio.info(verbose=True)"
   ],
   "metadata": {
    "collapsed": false,
    "pycharm": {
     "name": "#%%\n",
     "is_executing": false
    }
   }
  },
  {
   "cell_type": "code",
   "execution_count": 12,
   "outputs": [],
   "source": [
    "columnas= df_socio"
   ],
   "metadata": {
    "collapsed": false,
    "pycharm": {
     "name": "#%%\n",
     "is_executing": false
    }
   }
  },
  {
   "cell_type": "code",
   "execution_count": 13,
   "outputs": [
    {
     "name": "stdout",
     "text": [
      "\n Unnamed: 0 [       0        1        2 ... 13647306 13647307 13647308] \n\n",
      "\n pk_cid [1375586 1050611 1050612 ... 1173729 1164094 1550586] \n\n",
      "\n pk_partition ['2018-01-28' '2018-02-28' '2018-03-28' '2018-04-28' '2018-05-28'\n '2018-06-28' '2018-07-28' '2018-08-28' '2018-09-28' '2018-10-28'\n '2018-11-28' '2018-12-28' '2019-01-28' '2019-02-28' '2019-03-28'\n '2019-04-28' '2019-05-28'] \n\n\n country_id ['ES' 'CA' 'CH' 'CL' 'IE' 'AT' 'FR' 'GB' 'DE' 'DO' 'BE' 'AR' 'VE' 'US'\n 'MX' 'PL' 'MA' 'GT' 'GA' 'CO' 'BR' 'RU' 'IT' 'NO' 'SN' 'MR' 'ET' 'CN'\n 'CM' 'SA' 'CI' 'QA' 'LU' 'SE' 'DJ' 'PT' 'JM' 'RO' 'HU' 'DZ' 'PE'] \n\n\n region_code [29. 13. 50. 45. 24. 20. 10. 17. 49.  8. 37.  9. 22. 31.  5. 40. 27. 25.\n 28.  3. 42. 41. 39.  7. 47. 36. 46. 44. 15. 32. 23. 16. 48. 12. 26.  2.\n  6. 30. 11.  4. 19. 34. 35. 14. 21. 18. 33. 38. 52. 43.  1. nan 51.] \n\n",
      "\n gender ['H' 'V' nan] \n\n\n age [ 35  23  22  24  65  28  25  26  53  27  32  37  31  39  63  33  55  42\n  58  38  50  30  45  44  36  29  60  57  67  47  34  48  46  54  84  15\n  12   8   6  83  40  77  69  52  59  43  10   9  49  41  51  78  16  11\n  73  62  66  17  68  82  95  96  56  61  79  72  14  19  13  86  64  20\n  89  71   7  70  74  21  18  75   4  80  81   5  76  92  93  85  91  87\n  90  94  99  98  88  97 100 101   3   2 102 104 103 105] \n\n",
      "\n deceased ['N' 'S'] \n\n",
      "\n salary [ 87218.1   35548.74 122179.11 ...  63867.66  34341.18  89018.37] \n\n"
     ],
     "output_type": "stream"
    }
   ],
   "source": [
    "for i in columnas:\n",
    "    print('\\n',i,df_socio[i].unique(),'\\n')"
   ],
   "metadata": {
    "collapsed": false,
    "pycharm": {
     "name": "#%%\n",
     "is_executing": false
    }
   }
  },
  {
   "cell_type": "code",
   "execution_count": 14,
   "outputs": [
    {
     "data": {
      "text/plain": "896586     17\n1293253    17\n1194997    17\n1186801    17\n1335662    17\n           ..\n1552970     1\n1544782     1\n1540166     1\n1548557     1\n1542575     1\nName: pk_cid, Length: 456373, dtype: int64"
     },
     "metadata": {},
     "output_type": "execute_result",
     "execution_count": 14
    }
   ],
   "source": [
    "df_socio['pk_cid'].value_counts()"
   ],
   "metadata": {
    "collapsed": false,
    "pycharm": {
     "name": "#%%\n",
     "is_executing": false
    }
   }
  },
  {
   "cell_type": "code",
   "execution_count": null,
   "outputs": [],
   "source": [
    "##Actividad comercial"
   ],
   "metadata": {
    "collapsed": false,
    "pycharm": {
     "name": "#%%\n"
    }
   }
  },
  {
   "cell_type": "code",
   "execution_count": 15,
   "outputs": [],
   "source": [
    "df_sales=df_products = pd.read_csv('commercial_activity_df.csv')"
   ],
   "metadata": {
    "collapsed": false,
    "pycharm": {
     "name": "#%%\n",
     "is_executing": false
    }
   }
  },
  {
   "cell_type": "code",
   "execution_count": 16,
   "outputs": [
    {
     "data": {
      "text/plain": "                                 0                   1                   2  \\\nUnnamed: 0                       0                   1                   2   \npk_cid                     1375586             1050611             1050612   \npk_partition            2018-01-28          2018-01-28          2018-01-28   \nentry_date              2018-01-12          2015-08-10          2015-08-10   \nentry_channel                  KHL                 KHE                 KHE   \nactive_customer               1.00                0.00                0.00   \nsegment          02 - PARTICULARES  03 - UNIVERSITARIO  03 - UNIVERSITARIO   \n\n                                  3                   4  \nUnnamed: 0                        3                   4  \npk_cid                      1050613             1050614  \npk_partition             2018-01-28          2018-01-28  \nentry_date               2015-08-10          2015-08-10  \nentry_channel                   KHD                 KHE  \nactive_customer                0.00                1.00  \nsegment          03 - UNIVERSITARIO  03 - UNIVERSITARIO  ",
      "text/html": "<div>\n<style scoped>\n    .dataframe tbody tr th:only-of-type {\n        vertical-align: middle;\n    }\n\n    .dataframe tbody tr th {\n        vertical-align: top;\n    }\n\n    .dataframe thead th {\n        text-align: right;\n    }\n</style>\n<table border=\"1\" class=\"dataframe\">\n  <thead>\n    <tr style=\"text-align: right;\">\n      <th></th>\n      <th>0</th>\n      <th>1</th>\n      <th>2</th>\n      <th>3</th>\n      <th>4</th>\n    </tr>\n  </thead>\n  <tbody>\n    <tr>\n      <th>Unnamed: 0</th>\n      <td>0</td>\n      <td>1</td>\n      <td>2</td>\n      <td>3</td>\n      <td>4</td>\n    </tr>\n    <tr>\n      <th>pk_cid</th>\n      <td>1375586</td>\n      <td>1050611</td>\n      <td>1050612</td>\n      <td>1050613</td>\n      <td>1050614</td>\n    </tr>\n    <tr>\n      <th>pk_partition</th>\n      <td>2018-01-28</td>\n      <td>2018-01-28</td>\n      <td>2018-01-28</td>\n      <td>2018-01-28</td>\n      <td>2018-01-28</td>\n    </tr>\n    <tr>\n      <th>entry_date</th>\n      <td>2018-01-12</td>\n      <td>2015-08-10</td>\n      <td>2015-08-10</td>\n      <td>2015-08-10</td>\n      <td>2015-08-10</td>\n    </tr>\n    <tr>\n      <th>entry_channel</th>\n      <td>KHL</td>\n      <td>KHE</td>\n      <td>KHE</td>\n      <td>KHD</td>\n      <td>KHE</td>\n    </tr>\n    <tr>\n      <th>active_customer</th>\n      <td>1.00</td>\n      <td>0.00</td>\n      <td>0.00</td>\n      <td>0.00</td>\n      <td>1.00</td>\n    </tr>\n    <tr>\n      <th>segment</th>\n      <td>02 - PARTICULARES</td>\n      <td>03 - UNIVERSITARIO</td>\n      <td>03 - UNIVERSITARIO</td>\n      <td>03 - UNIVERSITARIO</td>\n      <td>03 - UNIVERSITARIO</td>\n    </tr>\n  </tbody>\n</table>\n</div>"
     },
     "metadata": {},
     "output_type": "execute_result",
     "execution_count": 16
    }
   ],
   "source": [
    "df_sales.head().T"
   ],
   "metadata": {
    "collapsed": false,
    "pycharm": {
     "name": "#%%\n",
     "is_executing": false
    }
   }
  },
  {
   "cell_type": "code",
   "execution_count": 17,
   "outputs": [
    {
     "name": "stdout",
     "text": [
      "<class 'pandas.core.frame.DataFrame'>\nRangeIndex: 5962924 entries, 0 to 5962923\nData columns (total 7 columns):\n #   Column           Dtype  \n---  ------           -----  \n 0   Unnamed: 0       int64  \n 1   pk_cid           int64  \n 2   pk_partition     object \n 3   entry_date       object \n 4   entry_channel    object \n 5   active_customer  float64\n 6   segment          object \ndtypes: float64(1), int64(2), object(4)\nmemory usage: 318.5+ MB\n"
     ],
     "output_type": "stream"
    }
   ],
   "source": [
    "df_sales.info(verbose=True)"
   ],
   "metadata": {
    "collapsed": false,
    "pycharm": {
     "name": "#%%\n",
     "is_executing": false
    }
   }
  },
  {
   "cell_type": "code",
   "execution_count": 18,
   "outputs": [],
   "source": [
    "columnas= df_sales"
   ],
   "metadata": {
    "collapsed": false,
    "pycharm": {
     "name": "#%%\n",
     "is_executing": false
    }
   }
  },
  {
   "cell_type": "code",
   "execution_count": 19,
   "outputs": [
    {
     "name": "stdout",
     "text": [
      "\n Unnamed: 0 [       0        1        2 ... 13647306 13647307 13647308] \n\n\n pk_cid [1375586 1050611 1050612 ... 1173729 1164094 1550586] \n\n",
      "\n pk_partition ['2018-01-28' '2018-02-28' '2018-03-28' '2018-04-28' '2018-05-28'\n '2018-06-28' '2018-07-28' '2018-08-28' '2018-09-28' '2018-10-28'\n '2018-11-28' '2018-12-28' '2019-01-28' '2019-02-28' '2019-03-28'\n '2019-04-28' '2019-05-28'] \n\n\n entry_date ['2018-01-12' '2015-08-10' '2015-08-16' ... '2019-05-25' '2019-05-01'\n '2019-05-15'] \n\n",
      "\n entry_channel ['KHL' 'KHE' 'KHD' 'KFA' 'KFC' 'KAT' 'KAZ' 'RED' 'KHC' 'KHK' 'KGN' 'KHM'\n 'KHO' 'KDH' 'KEH' 'KAD' 'KBG' nan 'KGC' 'KHF' 'KFK' 'KHN' 'KAB' 'KAG'\n 'KAA' 'KGX' 'KAR' 'KAK' 'KBZ' '007' 'KBO' 'KCB' '013' 'KAY' 'KBE' 'KAS'\n 'KCL' '004' 'KAF' 'KCC' 'KEY' 'KDT' 'KAQ' 'KAH' 'KAM' 'KAJ' 'KFD' 'KCH'\n 'KFS' 'KAW' 'KAE' 'KBH' 'KDR' 'KHQ' 'KBW' 'KBY' 'KCI' 'KEJ' 'KFF' 'KBU'\n 'KAI' 'KCK' 'KDA' 'KES' 'KHP' 'KFL' 'KDS' 'KFP' 'KHS'] \n\n\n active_customer [1. 0.] \n\n",
      "\n segment ['02 - PARTICULARES' '03 - UNIVERSITARIO' '01 - TOP' nan] \n\n"
     ],
     "output_type": "stream"
    }
   ],
   "source": [
    "for i in columnas:\n",
    "    print('\\n',i,df_sales[i].unique(),'\\n')"
   ],
   "metadata": {
    "collapsed": false,
    "pycharm": {
     "name": "#%%\n",
     "is_executing": false
    }
   }
  },
  {
   "cell_type": "code",
   "execution_count": 20,
   "outputs": [
    {
     "data": {
      "text/plain": "896586     17\n1293253    17\n1194997    17\n1186801    17\n1335662    17\n           ..\n1552970     1\n1544782     1\n1540166     1\n1548557     1\n1542575     1\nName: pk_cid, Length: 456373, dtype: int64"
     },
     "metadata": {},
     "output_type": "execute_result",
     "execution_count": 20
    }
   ],
   "source": [
    "df_sales['pk_cid'].value_counts()"
   ],
   "metadata": {
    "collapsed": false,
    "pycharm": {
     "name": "#%%\n",
     "is_executing": false
    }
   }
  },
  {
   "cell_type": "code",
   "execution_count": null,
   "outputs": [],
   "source": [
    "###Viendo el valor, que adopta cada variable, es posible que haya outliers en el salary"
   ],
   "metadata": {
    "collapsed": false,
    "pycharm": {
     "name": "#%%\n"
    }
   }
  },
  {
   "cell_type": "code",
   "execution_count": null,
   "outputs": [],
   "source": [
    "####Como las 3 bases de datos, incluyen la misma informacion, en tamaño y contenido ,tanto del pk_cid (es el id de cada\n",
    "### cliente) y del pk_partition, vamos a trabajar con un dataset que incluya , las 3 bases de datos facilitadas, para \n",
    "###poder realizar un analisis más eficiente. A posteriori, cambiaremos el pk_partition y el entry_date, que son un date,\n",
    "###a un formato,Datetime\n"
   ],
   "metadata": {
    "collapsed": false,
    "pycharm": {
     "name": "#%%\n"
    }
   }
  },
  {
   "cell_type": "code",
   "execution_count": 17,
   "outputs": [],
   "source": [
    "df_products = pd.read_csv('products_df.csv')\n",
    "df_socio = pd.read_csv('sociodemographic_df.csv')\n",
    "df_sales = pd.read_csv('commercial_activity_df.csv')"
   ],
   "metadata": {
    "collapsed": false,
    "pycharm": {
     "name": "#%%\n",
     "is_executing": false
    }
   }
  },
  {
   "cell_type": "code",
   "execution_count": 72,
   "outputs": [
    {
     "data": {
      "text/plain": "                       0           1           2           3           4\nUnnamed: 0             0           1           2           3           4\npk_cid           1375586     1050611     1050612     1050613     1050614\npk_partition  2018-01-28  2018-01-28  2018-01-28  2018-01-28  2018-01-28\ncountry_id            ES          ES          ES          ES          ES\nregion_code        29.00       13.00       13.00       50.00       50.00\ngender                 H           V           V           H           V\nage                   35          23          23          22          23\ndeceased               N           N           N           N           N\nsalary         87,218.10   35,548.74  122,179.11  119,775.54         NaN",
      "text/html": "<div>\n<style scoped>\n    .dataframe tbody tr th:only-of-type {\n        vertical-align: middle;\n    }\n\n    .dataframe tbody tr th {\n        vertical-align: top;\n    }\n\n    .dataframe thead th {\n        text-align: right;\n    }\n</style>\n<table border=\"1\" class=\"dataframe\">\n  <thead>\n    <tr style=\"text-align: right;\">\n      <th></th>\n      <th>0</th>\n      <th>1</th>\n      <th>2</th>\n      <th>3</th>\n      <th>4</th>\n    </tr>\n  </thead>\n  <tbody>\n    <tr>\n      <th>Unnamed: 0</th>\n      <td>0</td>\n      <td>1</td>\n      <td>2</td>\n      <td>3</td>\n      <td>4</td>\n    </tr>\n    <tr>\n      <th>pk_cid</th>\n      <td>1375586</td>\n      <td>1050611</td>\n      <td>1050612</td>\n      <td>1050613</td>\n      <td>1050614</td>\n    </tr>\n    <tr>\n      <th>pk_partition</th>\n      <td>2018-01-28</td>\n      <td>2018-01-28</td>\n      <td>2018-01-28</td>\n      <td>2018-01-28</td>\n      <td>2018-01-28</td>\n    </tr>\n    <tr>\n      <th>country_id</th>\n      <td>ES</td>\n      <td>ES</td>\n      <td>ES</td>\n      <td>ES</td>\n      <td>ES</td>\n    </tr>\n    <tr>\n      <th>region_code</th>\n      <td>29.00</td>\n      <td>13.00</td>\n      <td>13.00</td>\n      <td>50.00</td>\n      <td>50.00</td>\n    </tr>\n    <tr>\n      <th>gender</th>\n      <td>H</td>\n      <td>V</td>\n      <td>V</td>\n      <td>H</td>\n      <td>V</td>\n    </tr>\n    <tr>\n      <th>age</th>\n      <td>35</td>\n      <td>23</td>\n      <td>23</td>\n      <td>22</td>\n      <td>23</td>\n    </tr>\n    <tr>\n      <th>deceased</th>\n      <td>N</td>\n      <td>N</td>\n      <td>N</td>\n      <td>N</td>\n      <td>N</td>\n    </tr>\n    <tr>\n      <th>salary</th>\n      <td>87,218.10</td>\n      <td>35,548.74</td>\n      <td>122,179.11</td>\n      <td>119,775.54</td>\n      <td>NaN</td>\n    </tr>\n  </tbody>\n</table>\n</div>"
     },
     "metadata": {},
     "output_type": "execute_result",
     "execution_count": 72
    }
   ],
   "source": [
    "\n",
    "df_socio.head().T"
   ],
   "metadata": {
    "collapsed": false,
    "pycharm": {
     "name": "#%%\n",
     "is_executing": false
    }
   }
  },
  {
   "cell_type": "code",
   "execution_count": null,
   "outputs": [],
   "source": [
    "df_socio.info()"
   ],
   "metadata": {
    "collapsed": false,
    "pycharm": {
     "name": "#%%\n"
    }
   }
  },
  {
   "cell_type": "code",
   "execution_count": 73,
   "outputs": [
    {
     "data": {
      "text/plain": "         Unnamed: 0       pk_cid  region_code          age        salary\ncount  5,962,924.00 5,962,924.00 5,960,660.00 5,962,924.00  4,450,821.00\nmean   7,155,425.01 1,234,929.80        25.81        29.76    115,816.72\nstd    3,920,784.28   162,302.04        13.60        11.98    199,551.89\nmin            0.00    15,891.00         1.00         2.00      1,202.73\n25%    4,240,385.75 1,112,532.00        13.00        22.00     61,500.63\n50%    7,499,346.50 1,231,097.00        28.00        25.00     88,654.65\n75%   10,201,422.25 1,352,339.00        36.00        34.00    131,669.91\nmax   13,647,308.00 1,553,689.00        52.00       105.00 28,894,395.51",
      "text/html": "<div>\n<style scoped>\n    .dataframe tbody tr th:only-of-type {\n        vertical-align: middle;\n    }\n\n    .dataframe tbody tr th {\n        vertical-align: top;\n    }\n\n    .dataframe thead th {\n        text-align: right;\n    }\n</style>\n<table border=\"1\" class=\"dataframe\">\n  <thead>\n    <tr style=\"text-align: right;\">\n      <th></th>\n      <th>Unnamed: 0</th>\n      <th>pk_cid</th>\n      <th>region_code</th>\n      <th>age</th>\n      <th>salary</th>\n    </tr>\n  </thead>\n  <tbody>\n    <tr>\n      <th>count</th>\n      <td>5,962,924.00</td>\n      <td>5,962,924.00</td>\n      <td>5,960,660.00</td>\n      <td>5,962,924.00</td>\n      <td>4,450,821.00</td>\n    </tr>\n    <tr>\n      <th>mean</th>\n      <td>7,155,425.01</td>\n      <td>1,234,929.80</td>\n      <td>25.81</td>\n      <td>29.76</td>\n      <td>115,816.72</td>\n    </tr>\n    <tr>\n      <th>std</th>\n      <td>3,920,784.28</td>\n      <td>162,302.04</td>\n      <td>13.60</td>\n      <td>11.98</td>\n      <td>199,551.89</td>\n    </tr>\n    <tr>\n      <th>min</th>\n      <td>0.00</td>\n      <td>15,891.00</td>\n      <td>1.00</td>\n      <td>2.00</td>\n      <td>1,202.73</td>\n    </tr>\n    <tr>\n      <th>25%</th>\n      <td>4,240,385.75</td>\n      <td>1,112,532.00</td>\n      <td>13.00</td>\n      <td>22.00</td>\n      <td>61,500.63</td>\n    </tr>\n    <tr>\n      <th>50%</th>\n      <td>7,499,346.50</td>\n      <td>1,231,097.00</td>\n      <td>28.00</td>\n      <td>25.00</td>\n      <td>88,654.65</td>\n    </tr>\n    <tr>\n      <th>75%</th>\n      <td>10,201,422.25</td>\n      <td>1,352,339.00</td>\n      <td>36.00</td>\n      <td>34.00</td>\n      <td>131,669.91</td>\n    </tr>\n    <tr>\n      <th>max</th>\n      <td>13,647,308.00</td>\n      <td>1,553,689.00</td>\n      <td>52.00</td>\n      <td>105.00</td>\n      <td>28,894,395.51</td>\n    </tr>\n  </tbody>\n</table>\n</div>"
     },
     "metadata": {},
     "output_type": "execute_result",
     "execution_count": 73
    }
   ],
   "source": [
    "df_socio.describe()"
   ],
   "metadata": {
    "collapsed": false,
    "pycharm": {
     "name": "#%%\n",
     "is_executing": false
    }
   }
  },
  {
   "cell_type": "code",
   "execution_count": null,
   "outputs": [],
   "source": [
    "df_socio['region_code'].value_counts()"
   ],
   "metadata": {
    "collapsed": false,
    "pycharm": {
     "name": "#%%\n"
    }
   }
  },
  {
   "cell_type": "code",
   "execution_count": null,
   "outputs": [],
   "source": [
    "df_socio['pk_partition'].value_counts()"
   ],
   "metadata": {
    "collapsed": false,
    "pycharm": {
     "name": "#%%\n"
    }
   }
  },
  {
   "cell_type": "code",
   "execution_count": null,
   "outputs": [],
   "source": [
    "df_socio['gender'].value_counts()"
   ],
   "metadata": {
    "collapsed": false,
    "pycharm": {
     "name": "#%%\n"
    }
   }
  },
  {
   "cell_type": "code",
   "execution_count": null,
   "outputs": [],
   "source": [
    "len(df_socio[(df_socio.salary >= 5000000)])"
   ],
   "metadata": {
    "collapsed": false,
    "pycharm": {
     "name": "#%%\n"
    }
   }
  },
  {
   "cell_type": "code",
   "execution_count": null,
   "outputs": [],
   "source": [
    "len(df_socio[(df_socio.salary <= 10000)])"
   ],
   "metadata": {
    "collapsed": false,
    "pycharm": {
     "name": "#%%\n"
    }
   }
  },
  {
   "cell_type": "code",
   "execution_count": null,
   "outputs": [],
   "source": [
    "df_socio['deceased'].value_counts()"
   ],
   "metadata": {
    "collapsed": false,
    "pycharm": {
     "name": "#%%\n"
    }
   }
  },
  {
   "cell_type": "code",
   "execution_count": null,
   "outputs": [],
   "source": [
    "df_socio['gender'].value_counts()"
   ],
   "metadata": {
    "collapsed": false,
    "pycharm": {
     "name": "#%%\n"
    }
   }
  },
  {
   "cell_type": "code",
   "execution_count": null,
   "outputs": [],
   "source": [
    "df_socio['age'].describe()"
   ],
   "metadata": {
    "collapsed": false,
    "pycharm": {
     "name": "#%%\n"
    }
   }
  },
  {
   "cell_type": "code",
   "execution_count": null,
   "outputs": [],
   "source": [
    "df_socio['country_id'].value_counts()"
   ],
   "metadata": {
    "collapsed": false,
    "pycharm": {
     "name": "#%%\n"
    }
   }
  },
  {
   "cell_type": "code",
   "execution_count": null,
   "outputs": [],
   "source": [
    "df_socio['age'].value_counts()"
   ],
   "metadata": {
    "collapsed": false,
    "pycharm": {
     "name": "#%%\n"
    }
   }
  },
  {
   "cell_type": "code",
   "execution_count": null,
   "outputs": [],
   "source": [
    "df_socio['pk_cid'].value_counts()"
   ],
   "metadata": {
    "collapsed": false,
    "pycharm": {
     "name": "#%%\n"
    }
   }
  },
  {
   "cell_type": "code",
   "execution_count": null,
   "outputs": [],
   "source": [],
   "metadata": {
    "collapsed": false,
    "pycharm": {
     "name": "#%%\n"
    }
   }
  },
  {
   "cell_type": "code",
   "execution_count": 3,
   "outputs": [],
   "source": [
    "df_socio['region_code'].fillna(value='nada', inplace=True)\n",
    "df_socio = df_socio[df_socio['region_code'] != 'nada']\n",
    "df_socio['pk_partition'] = pd.to_datetime(df_socio['pk_partition'])\n",
    "df_socio['gender'] = (df_socio['gender']=='H').astype(int)\n",
    "df_socio['salary'] = df_socio['salary'][df_socio.salary < 5000000]"
   ],
   "metadata": {
    "collapsed": false,
    "pycharm": {
     "name": "#%%\n",
     "is_executing": false
    }
   }
  },
  {
   "cell_type": "code",
   "execution_count": 4,
   "outputs": [],
   "source": [
    "df_socio['salary'] = df_socio['salary'][df_socio.salary > 10000]"
   ],
   "metadata": {
    "collapsed": false,
    "pycharm": {
     "name": "#%%\n",
     "is_executing": false
    }
   }
  },
  {
   "cell_type": "code",
   "execution_count": 5,
   "outputs": [],
   "source": [
    "df_socio['salary'].fillna(value='nada', inplace=True)\n",
    "df_socio = df_socio[df_socio['salary'] != 'nada']\n",
    "df_socio['salary'] = df_socio['salary'].astype(int)\n",
    "df_socio['region_code'] = df_socio['region_code'].astype(int)\n",
    "df_socio.drop(\"country_id\", axis=1, inplace=True)\n",
    "df_socio.drop(\"Unnamed: 0\", axis=1, inplace=True)\n",
    "df_socio.drop(\"deceased\", axis=1, inplace=True)\n",
    "df_socio['age'] = df_socio['age'][df_socio.age > 17]\n",
    "df_socio['age'] = df_socio['age'][df_socio.age < 99]\n",
    "df_socio['age'].fillna(value='nada', inplace=True)\n",
    "df_socio = df_socio[df_socio['age'] != 'nada']\n",
    "df_socio['age'] = df_socio['age'].astype(int)\n",
    "\n"
   ],
   "metadata": {
    "collapsed": false,
    "pycharm": {
     "name": "#%%\n",
     "is_executing": false
    }
   }
  },
  {
   "cell_type": "code",
   "execution_count": 6,
   "outputs": [],
   "source": [
    "\n",
    "\n",
    "def set_other(Serie, num_values):\n",
    "    top_categories = Serie.value_counts().head(num_values)\n",
    "    top_categories_list = top_categories.index.to_list()\n",
    "    top_categories_list.append('Others')\n",
    "    Serie = pd.Categorical(Serie, categories=top_categories_list).fillna('Others')\n",
    "    return Serie\n",
    "\n",
    "\n",
    "\n",
    "\n",
    "\n",
    "\n"
   ],
   "metadata": {
    "collapsed": false,
    "pycharm": {
     "name": "#%%\n",
     "is_executing": false
    }
   }
  },
  {
   "cell_type": "code",
   "execution_count": 4,
   "outputs": [
    {
     "name": "stdout",
     "text": [
      "<class 'pandas.core.frame.DataFrame'>\nRangeIndex: 5962924 entries, 0 to 5962923\nData columns (total 18 columns):\n #   Column              Dtype  \n---  ------              -----  \n 0   Unnamed: 0          int64  \n 1   pk_cid              int64  \n 2   pk_partition        object \n 3   short_term_deposit  int64  \n 4   loans               int64  \n 5   mortgage            int64  \n 6   funds               int64  \n 7   securities          int64  \n 8   long_term_deposit   int64  \n 9   em_account_pp       int64  \n 10  credit_card         int64  \n 11  payroll             float64\n 12  pension_plan        float64\n 13  payroll_account     int64  \n 14  emc_account         int64  \n 15  debit_card          int64  \n 16  em_account_p        int64  \n 17  em_acount           int64  \ndtypes: float64(2), int64(15), object(1)\nmemory usage: 818.9+ MB\n"
     ],
     "output_type": "stream"
    }
   ],
   "source": [
    "df_products.info()"
   ],
   "metadata": {
    "collapsed": false,
    "pycharm": {
     "name": "#%%\n",
     "is_executing": false
    }
   }
  },
  {
   "cell_type": "code",
   "execution_count": 5,
   "outputs": [
    {
     "data": {
      "text/plain": "0.00    5757076\n1.00     205787\nName: payroll, dtype: int64"
     },
     "metadata": {},
     "output_type": "execute_result",
     "execution_count": 5
    }
   ],
   "source": [
    "df_products['payroll'].value_counts()"
   ],
   "metadata": {
    "collapsed": false,
    "pycharm": {
     "name": "#%%\n",
     "is_executing": false
    }
   }
  },
  {
   "cell_type": "code",
   "execution_count": 6,
   "outputs": [
    {
     "data": {
      "text/plain": "0.00    5745061\n1.00     217802\nName: pension_plan, dtype: int64"
     },
     "metadata": {},
     "output_type": "execute_result",
     "execution_count": 6
    }
   ],
   "source": [
    "df_products['pension_plan'].value_counts()"
   ],
   "metadata": {
    "collapsed": false,
    "pycharm": {
     "name": "#%%\n",
     "is_executing": false
    }
   }
  },
  {
   "cell_type": "code",
   "execution_count": 7,
   "outputs": [
    {
     "data": {
      "text/plain": "2019-05-28    442995\n2019-04-28    439627\n2019-03-28    436183\n2019-02-28    431727\n2019-01-28    426875\n2018-12-28    422481\n2018-11-28    416387\n2018-10-28    402300\n2018-09-28    375323\n2018-08-28    352922\n2018-07-28    339339\n2018-06-28    252104\n2018-05-28    249926\n2018-04-28    247463\n2018-03-28    245258\n2018-02-28    242521\n2018-01-28    239493\nName: pk_partition, dtype: int64"
     },
     "metadata": {},
     "output_type": "execute_result",
     "execution_count": 7
    }
   ],
   "source": [
    "df_products['pk_partition'].value_counts()"
   ],
   "metadata": {
    "collapsed": false,
    "pycharm": {
     "name": "#%%\n",
     "is_executing": false
    }
   }
  },
  {
   "cell_type": "code",
   "execution_count": 7,
   "outputs": [],
   "source": [
    "df_products[df_products['pk_partition'] == '2018-01-28'].describe().T\n",
    "df_products[df_products['pk_partition'] == '2019-05-28'].describe().T\n",
    "df_products['pk_partition'] = pd.to_datetime(df_products['pk_partition'])\n",
    "df_products.drop(\"loans\", axis=1, inplace=True)\n",
    "df_products.drop(\"mortgage\", axis=1, inplace=True)\n",
    "df_products.drop(\"em_account_pp\", axis=1, inplace=True)\n",
    "df_products.drop(\"em_account_p\", axis=1, inplace=True)\n",
    "df_products['payroll'] = (df_products['payroll']==1.00).astype(int)\n",
    "df_products['pension_plan'] = (df_products['pension_plan']==1.00).astype(int)\n",
    "\n"
   ],
   "metadata": {
    "collapsed": false,
    "pycharm": {
     "name": "#%%\n",
     "is_executing": false
    }
   }
  },
  {
   "cell_type": "code",
   "execution_count": 9,
   "outputs": [
    {
     "name": "stdout",
     "text": [
      "<class 'pandas.core.frame.DataFrame'>\nRangeIndex: 5962924 entries, 0 to 5962923\nData columns (total 7 columns):\n #   Column           Dtype  \n---  ------           -----  \n 0   Unnamed: 0       int64  \n 1   pk_cid           int64  \n 2   pk_partition     object \n 3   entry_date       object \n 4   entry_channel    object \n 5   active_customer  float64\n 6   segment          object \ndtypes: float64(1), int64(2), object(4)\nmemory usage: 318.5+ MB\n"
     ],
     "output_type": "stream"
    }
   ],
   "source": [
    "df_sales.info()"
   ],
   "metadata": {
    "collapsed": false,
    "pycharm": {
     "name": "#%%\n",
     "is_executing": false
    }
   }
  },
  {
   "cell_type": "code",
   "execution_count": 10,
   "outputs": [
    {
     "data": {
      "text/plain": "KHE    3113947\nKFC     890620\nKHQ     590280\nKAT     416084\nKHK     230197\nKHM     176591\nKHN     108434\nKFA      79020\nKHD      75899\nRED      60601\nKHL      41736\nKHF      20657\nKHO       8247\nKAZ       5635\nKHC       5241\nKBG       1662\nKEH        728\nKHP        691\n007        613\n013        397\nKAG        335\nKAS        305\nKBZ        198\nKAA        193\nKAR        157\nKAY        149\nKAF        123\nKAB         95\nKFD         91\nKCC         89\nKAW         65\nKAQ         52\nKDH         51\nKCH         48\nKAE         48\nKCB         47\nKAD         45\nKAM         43\nKAH         40\nKAK         34\nKAJ         33\nKDT         23\nKFF         22\nKBO         21\nKEY         20\nKCL         17\nKGN         17\nKBE         17\nKBH         17\nKFS         17\nKGC         17\nKFK         17\nKCI         17\nKGX         17\n004         17\nKDR         16\nKFL         13\nKBW         12\nKAI         11\nKBU         11\nKES         11\nKCK         11\nKBY         11\nKEJ          8\nKHS          5\nKDA          2\nKFP          2\nKDS          1\nName: entry_channel, dtype: int64"
     },
     "metadata": {},
     "output_type": "execute_result",
     "execution_count": 10
    }
   ],
   "source": [
    "df_sales['entry_channel'].value_counts()"
   ],
   "metadata": {
    "collapsed": false,
    "pycharm": {
     "name": "#%%\n",
     "is_executing": false
    }
   }
  },
  {
   "cell_type": "code",
   "execution_count": 11,
   "outputs": [
    {
     "data": {
      "text/plain": "0.00    3557573\n1.00    2405351\nName: active_customer, dtype: int64"
     },
     "metadata": {},
     "output_type": "execute_result",
     "execution_count": 11
    }
   ],
   "source": [
    "df_sales['active_customer'].value_counts()"
   ],
   "metadata": {
    "collapsed": false,
    "pycharm": {
     "name": "#%%\n",
     "is_executing": false
    }
   }
  },
  {
   "cell_type": "code",
   "execution_count": 12,
   "outputs": [
    {
     "data": {
      "text/plain": "03 - UNIVERSITARIO    3900166\n02 - PARTICULARES     1830875\n01 - TOP                97939\nName: segment, dtype: int64"
     },
     "metadata": {},
     "output_type": "execute_result",
     "execution_count": 12
    }
   ],
   "source": [
    "df_sales['segment'].value_counts()"
   ],
   "metadata": {
    "collapsed": false,
    "pycharm": {
     "name": "#%%\n",
     "is_executing": false
    }
   }
  },
  {
   "cell_type": "code",
   "execution_count": 8,
   "outputs": [],
   "source": [
    "df_sales.drop(\"Unnamed: 0\", axis=1, inplace=True)\n",
    "df_sales['pk_partition'] = pd.to_datetime(df_sales['pk_partition'])\n",
    "df_sales = df_sales[df_sales['entry_date'] != '2015-02-29']\n",
    "df_sales = df_sales[df_sales['entry_date'] != '2019-02-29']\n",
    "df_sales['entry_date'] = pd.to_datetime(df_sales['entry_date'])"
   ],
   "metadata": {
    "collapsed": false,
    "pycharm": {
     "name": "#%%\n",
     "is_executing": false
    }
   }
  },
  {
   "cell_type": "code",
   "execution_count": 9,
   "outputs": [],
   "source": [
    "df_sales['entry_channel'] = set_other(df_sales['entry_channel'], 16)"
   ],
   "metadata": {
    "collapsed": false,
    "pycharm": {
     "name": "#%%\n",
     "is_executing": false
    }
   }
  },
  {
   "cell_type": "code",
   "execution_count": 10,
   "outputs": [],
   "source": [
    "_dummy_dataset = pd.get_dummies(df_sales['entry_channel'], prefix='entry_channel')\n",
    "df_sales = pd.concat([df_sales,_dummy_dataset],axis=1)"
   ],
   "metadata": {
    "collapsed": false,
    "pycharm": {
     "name": "#%%\n",
     "is_executing": false
    }
   }
  },
  {
   "cell_type": "code",
   "execution_count": 11,
   "outputs": [],
   "source": [
    "df_sales.drop(['entry_channel'],axis=1, inplace=True)\n",
    "df_sales['active_customer'] = (df_sales['active_customer']==1.00).astype(int)\n",
    "_dummy_dataset = pd.get_dummies(df_sales['segment'], prefix='segment')\n",
    "df_sales = pd.concat([df_sales,_dummy_dataset],axis=1)"
   ],
   "metadata": {
    "collapsed": false,
    "pycharm": {
     "name": "#%%\n",
     "is_executing": false
    }
   }
  },
  {
   "cell_type": "code",
   "execution_count": 12,
   "outputs": [],
   "source": [
    "df_sales.drop(['segment'],axis=1, inplace=True)\n"
   ],
   "metadata": {
    "collapsed": false,
    "pycharm": {
     "name": "#%%\n",
     "is_executing": false
    }
   }
  },
  {
   "cell_type": "code",
   "execution_count": 20,
   "outputs": [
    {
     "data": {
      "text/plain": "pk_cid                        0\npk_partition                  0\nentry_date                    0\nactive_customer               0\nentry_channel_KHE             0\nentry_channel_KFC             0\nentry_channel_KHQ             0\nentry_channel_KAT             0\nentry_channel_KHK             0\nentry_channel_KHM             0\nentry_channel_KHN             0\nentry_channel_KFA             0\nentry_channel_KHD             0\nentry_channel_RED             0\nentry_channel_KHL             0\nentry_channel_KHF             0\nentry_channel_KHO             0\nentry_channel_KAZ             0\nentry_channel_KHC             0\nentry_channel_KBG             0\nentry_channel_Others          0\nsegment_01 - TOP              0\nsegment_02 - PARTICULARES     0\nsegment_03 - UNIVERSITARIO    0\ndtype: int64"
     },
     "metadata": {},
     "output_type": "execute_result",
     "execution_count": 20
    }
   ],
   "source": [
    "df_sales.isnull().sum()"
   ],
   "metadata": {
    "collapsed": false,
    "pycharm": {
     "name": "#%%\n",
     "is_executing": false
    }
   }
  },
  {
   "cell_type": "code",
   "execution_count": 21,
   "outputs": [
    {
     "data": {
      "text/plain": "Unnamed: 0            0\npk_cid                0\npk_partition          0\nshort_term_deposit    0\nfunds                 0\nsecurities            0\nlong_term_deposit     0\ncredit_card           0\npayroll               0\npension_plan          0\npayroll_account       0\nemc_account           0\ndebit_card            0\nem_acount             0\ndtype: int64"
     },
     "metadata": {},
     "output_type": "execute_result",
     "execution_count": 21
    }
   ],
   "source": [
    "df_products.isnull().sum()"
   ],
   "metadata": {
    "collapsed": false,
    "pycharm": {
     "name": "#%%\n",
     "is_executing": false
    }
   }
  },
  {
   "cell_type": "code",
   "execution_count": 22,
   "outputs": [
    {
     "data": {
      "text/plain": "Unnamed: 0            0\npk_cid                0\npk_partition          0\ncountry_id            0\nregion_code        2264\ngender               25\nage                   0\ndeceased              0\nsalary          1512103\ndtype: int64"
     },
     "metadata": {},
     "output_type": "execute_result",
     "execution_count": 22
    }
   ],
   "source": [
    "df_socio.isnull().sum()"
   ],
   "metadata": {
    "collapsed": false,
    "pycharm": {
     "name": "#%%\n",
     "is_executing": false
    }
   }
  },
  {
   "cell_type": "code",
   "execution_count": null,
   "outputs": [],
   "source": [],
   "metadata": {
    "collapsed": false,
    "pycharm": {
     "name": "#%%\n"
    }
   }
  },
  {
   "cell_type": "code",
   "execution_count": 13,
   "outputs": [],
   "source": [
    "mergedf = pd.merge(df_products, df_socio, on = [\"pk_cid\",\"pk_partition\"],how =\"inner\")"
   ],
   "metadata": {
    "collapsed": false,
    "pycharm": {
     "name": "#%%\n",
     "is_executing": false
    }
   }
  },
  {
   "cell_type": "code",
   "execution_count": 14,
   "outputs": [],
   "source": [
    "mergedf = pd.merge(mergedf, df_sales, on = [\"pk_cid\",\"pk_partition\"],how =\"inner\")"
   ],
   "metadata": {
    "collapsed": false,
    "pycharm": {
     "name": "#%%\n",
     "is_executing": false
    }
   }
  },
  {
   "cell_type": "code",
   "execution_count": 28,
   "outputs": [
    {
     "data": {
      "text/plain": "Unnamed: 0            0\npk_cid                0\npk_partition          0\nshort_term_deposit    0\nfunds                 0\nsecurities            0\nlong_term_deposit     0\ncredit_card           0\npayroll               0\npension_plan          0\npayroll_account       0\nemc_account           0\ndebit_card            0\nem_acount             0\nregion_code           0\ngender                0\nage                   0\nsalary                0\ndtype: int64"
     },
     "metadata": {},
     "output_type": "execute_result",
     "execution_count": 28
    }
   ],
   "source": [
    "mergedf.isnull().sum()\n",
    "        "
   ],
   "metadata": {
    "collapsed": false,
    "pycharm": {
     "name": "#%%\n",
     "is_executing": false
    }
   }
  },
  {
   "cell_type": "code",
   "execution_count": 135,
   "outputs": [
    {
     "data": {
      "text/plain": "                                              0                    1  \\\npk_cid                                  1375586              1050611   \npk_partition                2018-01-28 00:00:00  2018-01-28 00:00:00   \nshort_term_deposit                            0                    0   \nfunds                                         0                    0   \nsecurities                                    0                    0   \nlong_term_deposit                             0                    0   \ncredit_card                                   0                    0   \npayroll                                       0                    0   \npension_plan                                  0                    0   \npayroll_account                               0                    0   \nemc_account                                   0                    0   \ndebit_card                                    0                    0   \nem_acount                                     1                    1   \nregion_code                                  29                   13   \ngender                                        1                    0   \nage                                          35                   23   \nsalary                                    87218                35548   \nentry_date                  2018-01-12 00:00:00  2015-08-10 00:00:00   \nactive_customer                               1                    0   \nentry_channel_KHE                             0                    1   \nentry_channel_KFC                             0                    0   \nentry_channel_KHQ                             0                    0   \nentry_channel_KAT                             0                    0   \nentry_channel_KHK                             0                    0   \nentry_channel_KHM                             0                    0   \nentry_channel_KHN                             0                    0   \nentry_channel_KFA                             0                    0   \nentry_channel_KHD                             0                    0   \nentry_channel_RED                             0                    0   \nentry_channel_KHL                             1                    0   \nentry_channel_KHF                             0                    0   \nentry_channel_KHO                             0                    0   \nentry_channel_KAZ                             0                    0   \nentry_channel_KHC                             0                    0   \nentry_channel_KBG                             0                    0   \nentry_channel_Others                          0                    0   \nsegment_01 - TOP                              0                    0   \nsegment_02 - PARTICULARES                     1                    0   \nsegment_03 - UNIVERSITARIO                    0                    1   \n\n                                              2                    3  \\\npk_cid                                  1050612              1050613   \npk_partition                2018-01-28 00:00:00  2018-01-28 00:00:00   \nshort_term_deposit                            0                    1   \nfunds                                         0                    0   \nsecurities                                    0                    0   \nlong_term_deposit                             0                    0   \ncredit_card                                   0                    0   \npayroll                                       0                    0   \npension_plan                                  0                    0   \npayroll_account                               0                    0   \nemc_account                                   0                    0   \ndebit_card                                    0                    0   \nem_acount                                     1                    0   \nregion_code                                  13                   50   \ngender                                        0                    1   \nage                                          23                   22   \nsalary                                   122179               119775   \nentry_date                  2015-08-10 00:00:00  2015-08-10 00:00:00   \nactive_customer                               0                    0   \nentry_channel_KHE                             1                    0   \nentry_channel_KFC                             0                    0   \nentry_channel_KHQ                             0                    0   \nentry_channel_KAT                             0                    0   \nentry_channel_KHK                             0                    0   \nentry_channel_KHM                             0                    0   \nentry_channel_KHN                             0                    0   \nentry_channel_KFA                             0                    0   \nentry_channel_KHD                             0                    1   \nentry_channel_RED                             0                    0   \nentry_channel_KHL                             0                    0   \nentry_channel_KHF                             0                    0   \nentry_channel_KHO                             0                    0   \nentry_channel_KAZ                             0                    0   \nentry_channel_KHC                             0                    0   \nentry_channel_KBG                             0                    0   \nentry_channel_Others                          0                    0   \nsegment_01 - TOP                              0                    0   \nsegment_02 - PARTICULARES                     0                    0   \nsegment_03 - UNIVERSITARIO                    1                    1   \n\n                                              4  \npk_cid                                  1050615  \npk_partition                2018-01-28 00:00:00  \nshort_term_deposit                            0  \nfunds                                         0  \nsecurities                                    0  \nlong_term_deposit                             0  \ncredit_card                                   0  \npayroll                                       0  \npension_plan                                  0  \npayroll_account                               0  \nemc_account                                   0  \ndebit_card                                    0  \nem_acount                                     1  \nregion_code                                  45  \ngender                                        1  \nage                                          23  \nsalary                                    22220  \nentry_date                  2015-08-10 00:00:00  \nactive_customer                               0  \nentry_channel_KHE                             1  \nentry_channel_KFC                             0  \nentry_channel_KHQ                             0  \nentry_channel_KAT                             0  \nentry_channel_KHK                             0  \nentry_channel_KHM                             0  \nentry_channel_KHN                             0  \nentry_channel_KFA                             0  \nentry_channel_KHD                             0  \nentry_channel_RED                             0  \nentry_channel_KHL                             0  \nentry_channel_KHF                             0  \nentry_channel_KHO                             0  \nentry_channel_KAZ                             0  \nentry_channel_KHC                             0  \nentry_channel_KBG                             0  \nentry_channel_Others                          0  \nsegment_01 - TOP                              0  \nsegment_02 - PARTICULARES                     0  \nsegment_03 - UNIVERSITARIO                    1  ",
      "text/html": "<div>\n<style scoped>\n    .dataframe tbody tr th:only-of-type {\n        vertical-align: middle;\n    }\n\n    .dataframe tbody tr th {\n        vertical-align: top;\n    }\n\n    .dataframe thead th {\n        text-align: right;\n    }\n</style>\n<table border=\"1\" class=\"dataframe\">\n  <thead>\n    <tr style=\"text-align: right;\">\n      <th></th>\n      <th>0</th>\n      <th>1</th>\n      <th>2</th>\n      <th>3</th>\n      <th>4</th>\n    </tr>\n  </thead>\n  <tbody>\n    <tr>\n      <th>pk_cid</th>\n      <td>1375586</td>\n      <td>1050611</td>\n      <td>1050612</td>\n      <td>1050613</td>\n      <td>1050615</td>\n    </tr>\n    <tr>\n      <th>pk_partition</th>\n      <td>2018-01-28 00:00:00</td>\n      <td>2018-01-28 00:00:00</td>\n      <td>2018-01-28 00:00:00</td>\n      <td>2018-01-28 00:00:00</td>\n      <td>2018-01-28 00:00:00</td>\n    </tr>\n    <tr>\n      <th>short_term_deposit</th>\n      <td>0</td>\n      <td>0</td>\n      <td>0</td>\n      <td>1</td>\n      <td>0</td>\n    </tr>\n    <tr>\n      <th>funds</th>\n      <td>0</td>\n      <td>0</td>\n      <td>0</td>\n      <td>0</td>\n      <td>0</td>\n    </tr>\n    <tr>\n      <th>securities</th>\n      <td>0</td>\n      <td>0</td>\n      <td>0</td>\n      <td>0</td>\n      <td>0</td>\n    </tr>\n    <tr>\n      <th>long_term_deposit</th>\n      <td>0</td>\n      <td>0</td>\n      <td>0</td>\n      <td>0</td>\n      <td>0</td>\n    </tr>\n    <tr>\n      <th>credit_card</th>\n      <td>0</td>\n      <td>0</td>\n      <td>0</td>\n      <td>0</td>\n      <td>0</td>\n    </tr>\n    <tr>\n      <th>payroll</th>\n      <td>0</td>\n      <td>0</td>\n      <td>0</td>\n      <td>0</td>\n      <td>0</td>\n    </tr>\n    <tr>\n      <th>pension_plan</th>\n      <td>0</td>\n      <td>0</td>\n      <td>0</td>\n      <td>0</td>\n      <td>0</td>\n    </tr>\n    <tr>\n      <th>payroll_account</th>\n      <td>0</td>\n      <td>0</td>\n      <td>0</td>\n      <td>0</td>\n      <td>0</td>\n    </tr>\n    <tr>\n      <th>emc_account</th>\n      <td>0</td>\n      <td>0</td>\n      <td>0</td>\n      <td>0</td>\n      <td>0</td>\n    </tr>\n    <tr>\n      <th>debit_card</th>\n      <td>0</td>\n      <td>0</td>\n      <td>0</td>\n      <td>0</td>\n      <td>0</td>\n    </tr>\n    <tr>\n      <th>em_acount</th>\n      <td>1</td>\n      <td>1</td>\n      <td>1</td>\n      <td>0</td>\n      <td>1</td>\n    </tr>\n    <tr>\n      <th>region_code</th>\n      <td>29</td>\n      <td>13</td>\n      <td>13</td>\n      <td>50</td>\n      <td>45</td>\n    </tr>\n    <tr>\n      <th>gender</th>\n      <td>1</td>\n      <td>0</td>\n      <td>0</td>\n      <td>1</td>\n      <td>1</td>\n    </tr>\n    <tr>\n      <th>age</th>\n      <td>35</td>\n      <td>23</td>\n      <td>23</td>\n      <td>22</td>\n      <td>23</td>\n    </tr>\n    <tr>\n      <th>salary</th>\n      <td>87218</td>\n      <td>35548</td>\n      <td>122179</td>\n      <td>119775</td>\n      <td>22220</td>\n    </tr>\n    <tr>\n      <th>entry_date</th>\n      <td>2018-01-12 00:00:00</td>\n      <td>2015-08-10 00:00:00</td>\n      <td>2015-08-10 00:00:00</td>\n      <td>2015-08-10 00:00:00</td>\n      <td>2015-08-10 00:00:00</td>\n    </tr>\n    <tr>\n      <th>active_customer</th>\n      <td>1</td>\n      <td>0</td>\n      <td>0</td>\n      <td>0</td>\n      <td>0</td>\n    </tr>\n    <tr>\n      <th>entry_channel_KHE</th>\n      <td>0</td>\n      <td>1</td>\n      <td>1</td>\n      <td>0</td>\n      <td>1</td>\n    </tr>\n    <tr>\n      <th>entry_channel_KFC</th>\n      <td>0</td>\n      <td>0</td>\n      <td>0</td>\n      <td>0</td>\n      <td>0</td>\n    </tr>\n    <tr>\n      <th>entry_channel_KHQ</th>\n      <td>0</td>\n      <td>0</td>\n      <td>0</td>\n      <td>0</td>\n      <td>0</td>\n    </tr>\n    <tr>\n      <th>entry_channel_KAT</th>\n      <td>0</td>\n      <td>0</td>\n      <td>0</td>\n      <td>0</td>\n      <td>0</td>\n    </tr>\n    <tr>\n      <th>entry_channel_KHK</th>\n      <td>0</td>\n      <td>0</td>\n      <td>0</td>\n      <td>0</td>\n      <td>0</td>\n    </tr>\n    <tr>\n      <th>entry_channel_KHM</th>\n      <td>0</td>\n      <td>0</td>\n      <td>0</td>\n      <td>0</td>\n      <td>0</td>\n    </tr>\n    <tr>\n      <th>entry_channel_KHN</th>\n      <td>0</td>\n      <td>0</td>\n      <td>0</td>\n      <td>0</td>\n      <td>0</td>\n    </tr>\n    <tr>\n      <th>entry_channel_KFA</th>\n      <td>0</td>\n      <td>0</td>\n      <td>0</td>\n      <td>0</td>\n      <td>0</td>\n    </tr>\n    <tr>\n      <th>entry_channel_KHD</th>\n      <td>0</td>\n      <td>0</td>\n      <td>0</td>\n      <td>1</td>\n      <td>0</td>\n    </tr>\n    <tr>\n      <th>entry_channel_RED</th>\n      <td>0</td>\n      <td>0</td>\n      <td>0</td>\n      <td>0</td>\n      <td>0</td>\n    </tr>\n    <tr>\n      <th>entry_channel_KHL</th>\n      <td>1</td>\n      <td>0</td>\n      <td>0</td>\n      <td>0</td>\n      <td>0</td>\n    </tr>\n    <tr>\n      <th>entry_channel_KHF</th>\n      <td>0</td>\n      <td>0</td>\n      <td>0</td>\n      <td>0</td>\n      <td>0</td>\n    </tr>\n    <tr>\n      <th>entry_channel_KHO</th>\n      <td>0</td>\n      <td>0</td>\n      <td>0</td>\n      <td>0</td>\n      <td>0</td>\n    </tr>\n    <tr>\n      <th>entry_channel_KAZ</th>\n      <td>0</td>\n      <td>0</td>\n      <td>0</td>\n      <td>0</td>\n      <td>0</td>\n    </tr>\n    <tr>\n      <th>entry_channel_KHC</th>\n      <td>0</td>\n      <td>0</td>\n      <td>0</td>\n      <td>0</td>\n      <td>0</td>\n    </tr>\n    <tr>\n      <th>entry_channel_KBG</th>\n      <td>0</td>\n      <td>0</td>\n      <td>0</td>\n      <td>0</td>\n      <td>0</td>\n    </tr>\n    <tr>\n      <th>entry_channel_Others</th>\n      <td>0</td>\n      <td>0</td>\n      <td>0</td>\n      <td>0</td>\n      <td>0</td>\n    </tr>\n    <tr>\n      <th>segment_01 - TOP</th>\n      <td>0</td>\n      <td>0</td>\n      <td>0</td>\n      <td>0</td>\n      <td>0</td>\n    </tr>\n    <tr>\n      <th>segment_02 - PARTICULARES</th>\n      <td>1</td>\n      <td>0</td>\n      <td>0</td>\n      <td>0</td>\n      <td>0</td>\n    </tr>\n    <tr>\n      <th>segment_03 - UNIVERSITARIO</th>\n      <td>0</td>\n      <td>1</td>\n      <td>1</td>\n      <td>1</td>\n      <td>1</td>\n    </tr>\n  </tbody>\n</table>\n</div>"
     },
     "metadata": {},
     "output_type": "execute_result",
     "execution_count": 135
    }
   ],
   "source": [
    "\n",
    "mergedf.head(5).T\n"
   ],
   "metadata": {
    "collapsed": false,
    "pycharm": {
     "name": "#%%\n",
     "is_executing": false
    }
   }
  },
  {
   "cell_type": "code",
   "execution_count": 15,
   "outputs": [],
   "source": [
    "test = mergedf.sample(5) "
   ],
   "metadata": {
    "collapsed": false,
    "pycharm": {
     "name": "#%%\n",
     "is_executing": false
    }
   }
  },
  {
   "cell_type": "code",
   "execution_count": 16,
   "outputs": [
    {
     "name": "stdout",
     "text": [
      "[7743716 1151981 Timestamp('2018-11-28 00:00:00') 0 0 0 0 0 0 0 0 0 0 1 8\n 1 22 518930 Timestamp('2016-07-31 00:00:00') 0 1 0 0 0 0 0 0 0 0 0 0 0 0\n 0 0 0 0 0 0 1]\n0\n[10690815 1137977 Timestamp('2019-02-28 00:00:00') 0 0 0 0 0 0 0 0 0 0 0 8\n 0 45 475430 Timestamp('2016-06-20 00:00:00') 0 0 1 0 0 0 0 0 0 0 0 0 0 0\n 0 0 0 0 0 1 0]\n1\n[9375579 1177253 Timestamp('2019-01-28 00:00:00') 0 0 0 0 0 0 0 0 0 0 1 28\n 1 22 211853 Timestamp('2016-09-17 00:00:00') 0 1 0 0 0 0 0 0 0 0 0 0 0 0\n 0 0 0 0 0 0 1]\n2\n[1850373 1047443 Timestamp('2018-03-28 00:00:00') 0 0 0 0 0 0 0 0 0 0 1 14\n 0 25 170625 Timestamp('2015-08-08 00:00:00') 0 1 0 0 0 0 0 0 0 0 0 0 0 0\n 0 0 0 0 0 0 1]\n3\n[9031519 1430537 Timestamp('2019-01-28 00:00:00') 0 0 0 0 0 0 0 0 0 0 1 47\n 1 20 89048 Timestamp('2018-08-06 00:00:00') 1 0 0 1 0 0 0 0 0 0 0 0 0 0 0\n 0 0 0 0 0 1]\n4\n"
     ],
     "output_type": "stream"
    }
   ],
   "source": [
    "\n",
    "for i, row in enumerate(test.values):\n",
    "        print(row)\n",
    "        print(i)"
   ],
   "metadata": {
    "collapsed": false,
    "pycharm": {
     "name": "#%%\n",
     "is_executing": false
    }
   }
  },
  {
   "cell_type": "code",
   "execution_count": null,
   "outputs": [],
   "source": [
    "    \n",
    "\n",
    "\n",
    "\n",
    "\n"
   ],
   "metadata": {
    "collapsed": false,
    "pycharm": {
     "name": "#%%\n"
    }
   }
  },
  {
   "cell_type": "code",
   "execution_count": null,
   "outputs": [],
   "source": [
    "for x in mergedf['pk_cid'].value_counts():\n",
    "    if(x > 15):\n",
    "        print('8')\n",
    "        mergedf['TARGET']=8 \n",
    "        continue\n",
    "    if(x > 13):\n",
    "        print('7')\n",
    "        continue\n",
    "    if(x > 11):\n",
    "        print('6')\n",
    "        continue\n",
    "    if(x > 9):\n",
    "        print('5')\n",
    "        continue\n",
    "    if(x > 7):\n",
    "        print('4')\n",
    "        continue\n",
    "    if(x > 5):\n",
    "        print('3')\n",
    "        continue\n",
    "    if(x > 3):\n",
    "        print('2')\n",
    "        continue\n",
    "    if(x > 1):\n",
    "        print('1')\n",
    "        continue"
   ],
   "metadata": {
    "collapsed": false,
    "pycharm": {
     "name": "#%%\n"
    }
   }
  }
 ],
 "metadata": {
  "language_info": {
   "codemirror_mode": {
    "name": "ipython",
    "version": 2
   },
   "file_extension": ".py",
   "mimetype": "text/x-python",
   "name": "python",
   "nbconvert_exporter": "python",
   "pygments_lexer": "ipython2",
   "version": "2.7.6"
  },
  "kernelspec": {
   "name": "python3",
   "language": "python",
   "display_name": "Python 3"
  },
  "pycharm": {
   "stem_cell": {
    "cell_type": "raw",
    "source": [],
    "metadata": {
     "collapsed": false
    }
   }
  }
 },
 "nbformat": 4,
 "nbformat_minor": 0
}