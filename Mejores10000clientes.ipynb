{
 "cells": [
  {
   "cell_type": "code",
   "execution_count": 1,
   "metadata": {},
   "outputs": [],
   "source": [
    "import numpy as np # linear algebra\n",
    "import pandas as pd # data processing, CSV file I/O (e.g. pd.read_csv)\n",
    "import matplotlib.pyplot as plt\n",
    "import seaborn as sns\n",
    "# from matplotlib import pyplot as plt\n",
    "%matplotlib inline\n",
    "plt.style.use('ggplot')\n",
    "import plotly.graph_objects as go\n",
    "from plotly import offline as pyoff\n",
    "RANDOM_STATE = 42\n",
    "from datetime import date\n",
    "import calendar\n",
    "import datetime as dt\n",
    "from datetime import datetime"
   ]
  },
  {
   "cell_type": "code",
   "execution_count": 2,
   "metadata": {},
   "outputs": [],
   "source": [
    "df = pd.read_csv('df_banc_rev.csv')"
   ]
  },
  {
   "cell_type": "code",
   "execution_count": 3,
   "metadata": {},
   "outputs": [],
   "source": [
    "###Para obtener el listado de los 10000 mejores clientes, a quienes enviar el email, vamos a seguir el criterio de\n",
    "###los que han hecho mas operaciones de compra con nosotros; preferimos este criterio, en lugar del revenue, porque\n",
    "##teniendo en cuenta el alto nivel de abandono (archivo Churn2) que tenemos, es mas facil fidelizar y a su vez, con un\n",
    "##porcentaje de interes frente a nuestra mailingm aquel cliente,\n",
    "## que nos compra mas veces, y ha experimentado  nuestro servicio de atencio al cliente,\n",
    "###que el que solo lo hace una vez, y nos pueda dar más revenue."
   ]
  },
  {
   "cell_type": "code",
   "execution_count": 4,
   "metadata": {},
   "outputs": [],
   "source": [
    "df_top = df.groupby(by=['pk_cid','entry_date'],as_index=False)[\"unidades_vendidas_total\"].count()"
   ]
  },
  {
   "cell_type": "code",
   "execution_count": 5,
   "metadata": {},
   "outputs": [
    {
     "data": {
      "text/html": [
       "<div>\n",
       "<style scoped>\n",
       "    .dataframe tbody tr th:only-of-type {\n",
       "        vertical-align: middle;\n",
       "    }\n",
       "\n",
       "    .dataframe tbody tr th {\n",
       "        vertical-align: top;\n",
       "    }\n",
       "\n",
       "    .dataframe thead th {\n",
       "        text-align: right;\n",
       "    }\n",
       "</style>\n",
       "<table border=\"1\" class=\"dataframe\">\n",
       "  <thead>\n",
       "    <tr style=\"text-align: right;\">\n",
       "      <th></th>\n",
       "      <th>pk_cid</th>\n",
       "      <th>entry_date</th>\n",
       "      <th>unidades_vendidas_total</th>\n",
       "    </tr>\n",
       "  </thead>\n",
       "  <tbody>\n",
       "    <tr>\n",
       "      <th>0</th>\n",
       "      <td>15891</td>\n",
       "      <td>2018-07-28</td>\n",
       "      <td>2</td>\n",
       "    </tr>\n",
       "    <tr>\n",
       "      <th>1</th>\n",
       "      <td>16063</td>\n",
       "      <td>2018-11-19</td>\n",
       "      <td>7</td>\n",
       "    </tr>\n",
       "    <tr>\n",
       "      <th>2</th>\n",
       "      <td>16203</td>\n",
       "      <td>2018-12-23</td>\n",
       "      <td>6</td>\n",
       "    </tr>\n",
       "    <tr>\n",
       "      <th>3</th>\n",
       "      <td>16502</td>\n",
       "      <td>2018-09-30</td>\n",
       "      <td>9</td>\n",
       "    </tr>\n",
       "    <tr>\n",
       "      <th>4</th>\n",
       "      <td>17457</td>\n",
       "      <td>2017-09-16</td>\n",
       "      <td>17</td>\n",
       "    </tr>\n",
       "    <tr>\n",
       "      <th>...</th>\n",
       "      <td>...</td>\n",
       "      <td>...</td>\n",
       "      <td>...</td>\n",
       "    </tr>\n",
       "    <tr>\n",
       "      <th>454901</th>\n",
       "      <td>1553685</td>\n",
       "      <td>2019-05-31</td>\n",
       "      <td>1</td>\n",
       "    </tr>\n",
       "    <tr>\n",
       "      <th>454902</th>\n",
       "      <td>1553686</td>\n",
       "      <td>2019-05-31</td>\n",
       "      <td>1</td>\n",
       "    </tr>\n",
       "    <tr>\n",
       "      <th>454903</th>\n",
       "      <td>1553687</td>\n",
       "      <td>2019-05-31</td>\n",
       "      <td>1</td>\n",
       "    </tr>\n",
       "    <tr>\n",
       "      <th>454904</th>\n",
       "      <td>1553688</td>\n",
       "      <td>2019-05-31</td>\n",
       "      <td>1</td>\n",
       "    </tr>\n",
       "    <tr>\n",
       "      <th>454905</th>\n",
       "      <td>1553689</td>\n",
       "      <td>2019-05-31</td>\n",
       "      <td>1</td>\n",
       "    </tr>\n",
       "  </tbody>\n",
       "</table>\n",
       "<p>454906 rows × 3 columns</p>\n",
       "</div>"
      ],
      "text/plain": [
       "         pk_cid  entry_date  unidades_vendidas_total\n",
       "0         15891  2018-07-28                        2\n",
       "1         16063  2018-11-19                        7\n",
       "2         16203  2018-12-23                        6\n",
       "3         16502  2018-09-30                        9\n",
       "4         17457  2017-09-16                       17\n",
       "...         ...         ...                      ...\n",
       "454901  1553685  2019-05-31                        1\n",
       "454902  1553686  2019-05-31                        1\n",
       "454903  1553687  2019-05-31                        1\n",
       "454904  1553688  2019-05-31                        1\n",
       "454905  1553689  2019-05-31                        1\n",
       "\n",
       "[454906 rows x 3 columns]"
      ]
     },
     "execution_count": 5,
     "metadata": {},
     "output_type": "execute_result"
    }
   ],
   "source": [
    "df_top"
   ]
  },
  {
   "cell_type": "code",
   "execution_count": 6,
   "metadata": {},
   "outputs": [],
   "source": [
    "df_top = df_top[df_top['unidades_vendidas_total']==17]"
   ]
  },
  {
   "cell_type": "code",
   "execution_count": 7,
   "metadata": {},
   "outputs": [
    {
     "data": {
      "text/html": [
       "<div>\n",
       "<style scoped>\n",
       "    .dataframe tbody tr th:only-of-type {\n",
       "        vertical-align: middle;\n",
       "    }\n",
       "\n",
       "    .dataframe tbody tr th {\n",
       "        vertical-align: top;\n",
       "    }\n",
       "\n",
       "    .dataframe thead th {\n",
       "        text-align: right;\n",
       "    }\n",
       "</style>\n",
       "<table border=\"1\" class=\"dataframe\">\n",
       "  <thead>\n",
       "    <tr style=\"text-align: right;\">\n",
       "      <th></th>\n",
       "      <th>pk_cid</th>\n",
       "      <th>unidades_vendidas_total</th>\n",
       "    </tr>\n",
       "  </thead>\n",
       "  <tbody>\n",
       "    <tr>\n",
       "      <th>count</th>\n",
       "      <td>2.328910e+05</td>\n",
       "      <td>232891.0</td>\n",
       "    </tr>\n",
       "    <tr>\n",
       "      <th>mean</th>\n",
       "      <td>1.178941e+06</td>\n",
       "      <td>17.0</td>\n",
       "    </tr>\n",
       "    <tr>\n",
       "      <th>std</th>\n",
       "      <td>1.261654e+05</td>\n",
       "      <td>0.0</td>\n",
       "    </tr>\n",
       "    <tr>\n",
       "      <th>min</th>\n",
       "      <td>1.745700e+04</td>\n",
       "      <td>17.0</td>\n",
       "    </tr>\n",
       "    <tr>\n",
       "      <th>25%</th>\n",
       "      <td>1.086818e+06</td>\n",
       "      <td>17.0</td>\n",
       "    </tr>\n",
       "    <tr>\n",
       "      <th>50%</th>\n",
       "      <td>1.180961e+06</td>\n",
       "      <td>17.0</td>\n",
       "    </tr>\n",
       "    <tr>\n",
       "      <th>75%</th>\n",
       "      <td>1.280713e+06</td>\n",
       "      <td>17.0</td>\n",
       "    </tr>\n",
       "    <tr>\n",
       "      <th>max</th>\n",
       "      <td>1.379128e+06</td>\n",
       "      <td>17.0</td>\n",
       "    </tr>\n",
       "  </tbody>\n",
       "</table>\n",
       "</div>"
      ],
      "text/plain": [
       "             pk_cid  unidades_vendidas_total\n",
       "count  2.328910e+05                 232891.0\n",
       "mean   1.178941e+06                     17.0\n",
       "std    1.261654e+05                      0.0\n",
       "min    1.745700e+04                     17.0\n",
       "25%    1.086818e+06                     17.0\n",
       "50%    1.180961e+06                     17.0\n",
       "75%    1.280713e+06                     17.0\n",
       "max    1.379128e+06                     17.0"
      ]
     },
     "execution_count": 7,
     "metadata": {},
     "output_type": "execute_result"
    }
   ],
   "source": [
    "df_top.describe()"
   ]
  },
  {
   "cell_type": "code",
   "execution_count": 8,
   "metadata": {},
   "outputs": [],
   "source": [
    "NOW = dt.datetime(2019,5,28)"
   ]
  },
  {
   "cell_type": "code",
   "execution_count": 9,
   "metadata": {},
   "outputs": [],
   "source": [
    "df['entry_date'] = pd.to_datetime(df['entry_date'])"
   ]
  },
  {
   "cell_type": "code",
   "execution_count": 10,
   "metadata": {},
   "outputs": [],
   "source": [
    "df['pk_partition'] = pd.to_datetime(df['pk_partition'])"
   ]
  },
  {
   "cell_type": "code",
   "execution_count": 11,
   "metadata": {},
   "outputs": [],
   "source": [
    "df_17m = df[(df.entry_date.dt.date < date(2019,5,28)) & (df.entry_date.dt.date >= date(2018,1,1))].reset_index(drop=True)"
   ]
  },
  {
   "cell_type": "code",
   "execution_count": 12,
   "metadata": {},
   "outputs": [],
   "source": [
    "df_frequency = df_17m.groupby('pk_cid').entry_date.count().reset_index()\n",
    "df_frequency.columns = ['pk_cid','Frequency']"
   ]
  },
  {
   "cell_type": "code",
   "execution_count": 13,
   "metadata": {},
   "outputs": [],
   "source": [
    "df = pd.merge(df,df_frequency,on='pk_cid',how='right')"
   ]
  },
  {
   "cell_type": "code",
   "execution_count": 14,
   "metadata": {},
   "outputs": [
    {
     "data": {
      "text/html": [
       "<div>\n",
       "<style scoped>\n",
       "    .dataframe tbody tr th:only-of-type {\n",
       "        vertical-align: middle;\n",
       "    }\n",
       "\n",
       "    .dataframe tbody tr th {\n",
       "        vertical-align: top;\n",
       "    }\n",
       "\n",
       "    .dataframe thead th {\n",
       "        text-align: right;\n",
       "    }\n",
       "</style>\n",
       "<table border=\"1\" class=\"dataframe\">\n",
       "  <thead>\n",
       "    <tr style=\"text-align: right;\">\n",
       "      <th></th>\n",
       "      <th>0</th>\n",
       "      <th>1</th>\n",
       "      <th>2</th>\n",
       "      <th>3</th>\n",
       "      <th>4</th>\n",
       "      <th>5</th>\n",
       "      <th>6</th>\n",
       "      <th>7</th>\n",
       "      <th>8</th>\n",
       "      <th>9</th>\n",
       "      <th>10</th>\n",
       "      <th>11</th>\n",
       "      <th>12</th>\n",
       "      <th>13</th>\n",
       "      <th>14</th>\n",
       "      <th>15</th>\n",
       "      <th>16</th>\n",
       "      <th>17</th>\n",
       "      <th>18</th>\n",
       "      <th>19</th>\n",
       "    </tr>\n",
       "  </thead>\n",
       "  <tbody>\n",
       "    <tr>\n",
       "      <th>Unnamed: 0</th>\n",
       "      <td>2168122</td>\n",
       "      <td>1479563</td>\n",
       "      <td>5134317</td>\n",
       "      <td>2962973</td>\n",
       "      <td>4028169</td>\n",
       "      <td>5523397</td>\n",
       "      <td>4876040</td>\n",
       "      <td>3628236</td>\n",
       "      <td>4480637</td>\n",
       "      <td>5134321</td>\n",
       "      <td>5523396</td>\n",
       "      <td>3628238</td>\n",
       "      <td>4028170</td>\n",
       "      <td>4876039</td>\n",
       "      <td>4480636</td>\n",
       "      <td>4876038</td>\n",
       "      <td>3628237</td>\n",
       "      <td>2171490</td>\n",
       "      <td>5523395</td>\n",
       "      <td>5134320</td>\n",
       "    </tr>\n",
       "    <tr>\n",
       "      <th>pk_cid</th>\n",
       "      <td>15891</td>\n",
       "      <td>15891</td>\n",
       "      <td>16063</td>\n",
       "      <td>16063</td>\n",
       "      <td>16063</td>\n",
       "      <td>16063</td>\n",
       "      <td>16063</td>\n",
       "      <td>16063</td>\n",
       "      <td>16063</td>\n",
       "      <td>16203</td>\n",
       "      <td>16203</td>\n",
       "      <td>16203</td>\n",
       "      <td>16203</td>\n",
       "      <td>16203</td>\n",
       "      <td>16203</td>\n",
       "      <td>16502</td>\n",
       "      <td>16502</td>\n",
       "      <td>16502</td>\n",
       "      <td>16502</td>\n",
       "      <td>16502</td>\n",
       "    </tr>\n",
       "    <tr>\n",
       "      <th>pk_partition</th>\n",
       "      <td>2018-08-28 00:00:00</td>\n",
       "      <td>2018-07-28 00:00:00</td>\n",
       "      <td>2019-04-28 00:00:00</td>\n",
       "      <td>2018-11-28 00:00:00</td>\n",
       "      <td>2019-01-28 00:00:00</td>\n",
       "      <td>2019-05-28 00:00:00</td>\n",
       "      <td>2019-03-28 00:00:00</td>\n",
       "      <td>2018-12-28 00:00:00</td>\n",
       "      <td>2019-02-28 00:00:00</td>\n",
       "      <td>2019-04-28 00:00:00</td>\n",
       "      <td>2019-05-28 00:00:00</td>\n",
       "      <td>2018-12-28 00:00:00</td>\n",
       "      <td>2019-01-28 00:00:00</td>\n",
       "      <td>2019-03-28 00:00:00</td>\n",
       "      <td>2019-02-28 00:00:00</td>\n",
       "      <td>2019-03-28 00:00:00</td>\n",
       "      <td>2018-12-28 00:00:00</td>\n",
       "      <td>2018-09-28 00:00:00</td>\n",
       "      <td>2019-05-28 00:00:00</td>\n",
       "      <td>2019-04-28 00:00:00</td>\n",
       "    </tr>\n",
       "    <tr>\n",
       "      <th>entry_date</th>\n",
       "      <td>2018-07-28 00:00:00</td>\n",
       "      <td>2018-07-28 00:00:00</td>\n",
       "      <td>2018-11-19 00:00:00</td>\n",
       "      <td>2018-11-19 00:00:00</td>\n",
       "      <td>2018-11-19 00:00:00</td>\n",
       "      <td>2018-11-19 00:00:00</td>\n",
       "      <td>2018-11-19 00:00:00</td>\n",
       "      <td>2018-11-19 00:00:00</td>\n",
       "      <td>2018-11-19 00:00:00</td>\n",
       "      <td>2018-12-23 00:00:00</td>\n",
       "      <td>2018-12-23 00:00:00</td>\n",
       "      <td>2018-12-23 00:00:00</td>\n",
       "      <td>2018-12-23 00:00:00</td>\n",
       "      <td>2018-12-23 00:00:00</td>\n",
       "      <td>2018-12-23 00:00:00</td>\n",
       "      <td>2018-09-30 00:00:00</td>\n",
       "      <td>2018-09-30 00:00:00</td>\n",
       "      <td>2018-09-30 00:00:00</td>\n",
       "      <td>2018-09-30 00:00:00</td>\n",
       "      <td>2018-09-30 00:00:00</td>\n",
       "    </tr>\n",
       "    <tr>\n",
       "      <th>active_customer</th>\n",
       "      <td>0</td>\n",
       "      <td>1</td>\n",
       "      <td>1</td>\n",
       "      <td>1</td>\n",
       "      <td>1</td>\n",
       "      <td>0</td>\n",
       "      <td>0</td>\n",
       "      <td>1</td>\n",
       "      <td>1</td>\n",
       "      <td>1</td>\n",
       "      <td>1</td>\n",
       "      <td>0</td>\n",
       "      <td>1</td>\n",
       "      <td>1</td>\n",
       "      <td>1</td>\n",
       "      <td>1</td>\n",
       "      <td>1</td>\n",
       "      <td>0</td>\n",
       "      <td>1</td>\n",
       "      <td>1</td>\n",
       "    </tr>\n",
       "    <tr>\n",
       "      <th>...</th>\n",
       "      <td>...</td>\n",
       "      <td>...</td>\n",
       "      <td>...</td>\n",
       "      <td>...</td>\n",
       "      <td>...</td>\n",
       "      <td>...</td>\n",
       "      <td>...</td>\n",
       "      <td>...</td>\n",
       "      <td>...</td>\n",
       "      <td>...</td>\n",
       "      <td>...</td>\n",
       "      <td>...</td>\n",
       "      <td>...</td>\n",
       "      <td>...</td>\n",
       "      <td>...</td>\n",
       "      <td>...</td>\n",
       "      <td>...</td>\n",
       "      <td>...</td>\n",
       "      <td>...</td>\n",
       "      <td>...</td>\n",
       "    </tr>\n",
       "    <tr>\n",
       "      <th>revenue_payroll</th>\n",
       "      <td>0</td>\n",
       "      <td>0</td>\n",
       "      <td>0</td>\n",
       "      <td>0</td>\n",
       "      <td>0</td>\n",
       "      <td>0</td>\n",
       "      <td>0</td>\n",
       "      <td>0</td>\n",
       "      <td>0</td>\n",
       "      <td>0</td>\n",
       "      <td>0</td>\n",
       "      <td>0</td>\n",
       "      <td>0</td>\n",
       "      <td>0</td>\n",
       "      <td>0</td>\n",
       "      <td>0</td>\n",
       "      <td>0</td>\n",
       "      <td>0</td>\n",
       "      <td>0</td>\n",
       "      <td>0</td>\n",
       "    </tr>\n",
       "    <tr>\n",
       "      <th>revenue_payroll_account</th>\n",
       "      <td>0</td>\n",
       "      <td>0</td>\n",
       "      <td>0</td>\n",
       "      <td>0</td>\n",
       "      <td>0</td>\n",
       "      <td>0</td>\n",
       "      <td>0</td>\n",
       "      <td>0</td>\n",
       "      <td>0</td>\n",
       "      <td>0</td>\n",
       "      <td>0</td>\n",
       "      <td>0</td>\n",
       "      <td>0</td>\n",
       "      <td>0</td>\n",
       "      <td>0</td>\n",
       "      <td>0</td>\n",
       "      <td>0</td>\n",
       "      <td>0</td>\n",
       "      <td>0</td>\n",
       "      <td>0</td>\n",
       "    </tr>\n",
       "    <tr>\n",
       "      <th>revenue_total</th>\n",
       "      <td>0</td>\n",
       "      <td>10</td>\n",
       "      <td>0</td>\n",
       "      <td>0</td>\n",
       "      <td>0</td>\n",
       "      <td>0</td>\n",
       "      <td>0</td>\n",
       "      <td>0</td>\n",
       "      <td>0</td>\n",
       "      <td>10</td>\n",
       "      <td>10</td>\n",
       "      <td>0</td>\n",
       "      <td>10</td>\n",
       "      <td>10</td>\n",
       "      <td>10</td>\n",
       "      <td>20</td>\n",
       "      <td>10</td>\n",
       "      <td>0</td>\n",
       "      <td>20</td>\n",
       "      <td>20</td>\n",
       "    </tr>\n",
       "    <tr>\n",
       "      <th>unidades_vendidas_total</th>\n",
       "      <td>0</td>\n",
       "      <td>1</td>\n",
       "      <td>0</td>\n",
       "      <td>0</td>\n",
       "      <td>0</td>\n",
       "      <td>0</td>\n",
       "      <td>0</td>\n",
       "      <td>0</td>\n",
       "      <td>0</td>\n",
       "      <td>1</td>\n",
       "      <td>1</td>\n",
       "      <td>0</td>\n",
       "      <td>1</td>\n",
       "      <td>1</td>\n",
       "      <td>1</td>\n",
       "      <td>2</td>\n",
       "      <td>1</td>\n",
       "      <td>0</td>\n",
       "      <td>2</td>\n",
       "      <td>2</td>\n",
       "    </tr>\n",
       "    <tr>\n",
       "      <th>Frequency</th>\n",
       "      <td>2</td>\n",
       "      <td>2</td>\n",
       "      <td>7</td>\n",
       "      <td>7</td>\n",
       "      <td>7</td>\n",
       "      <td>7</td>\n",
       "      <td>7</td>\n",
       "      <td>7</td>\n",
       "      <td>7</td>\n",
       "      <td>6</td>\n",
       "      <td>6</td>\n",
       "      <td>6</td>\n",
       "      <td>6</td>\n",
       "      <td>6</td>\n",
       "      <td>6</td>\n",
       "      <td>9</td>\n",
       "      <td>9</td>\n",
       "      <td>9</td>\n",
       "      <td>9</td>\n",
       "      <td>9</td>\n",
       "    </tr>\n",
       "  </tbody>\n",
       "</table>\n",
       "<p>68 rows × 20 columns</p>\n",
       "</div>"
      ],
      "text/plain": [
       "                                          0                    1   \\\n",
       "Unnamed: 0                           2168122              1479563   \n",
       "pk_cid                                 15891                15891   \n",
       "pk_partition             2018-08-28 00:00:00  2018-07-28 00:00:00   \n",
       "entry_date               2018-07-28 00:00:00  2018-07-28 00:00:00   \n",
       "active_customer                            0                    1   \n",
       "...                                      ...                  ...   \n",
       "revenue_payroll                            0                    0   \n",
       "revenue_payroll_account                    0                    0   \n",
       "revenue_total                              0                   10   \n",
       "unidades_vendidas_total                    0                    1   \n",
       "Frequency                                  2                    2   \n",
       "\n",
       "                                          2                    3   \\\n",
       "Unnamed: 0                           5134317              2962973   \n",
       "pk_cid                                 16063                16063   \n",
       "pk_partition             2019-04-28 00:00:00  2018-11-28 00:00:00   \n",
       "entry_date               2018-11-19 00:00:00  2018-11-19 00:00:00   \n",
       "active_customer                            1                    1   \n",
       "...                                      ...                  ...   \n",
       "revenue_payroll                            0                    0   \n",
       "revenue_payroll_account                    0                    0   \n",
       "revenue_total                              0                    0   \n",
       "unidades_vendidas_total                    0                    0   \n",
       "Frequency                                  7                    7   \n",
       "\n",
       "                                          4                    5   \\\n",
       "Unnamed: 0                           4028169              5523397   \n",
       "pk_cid                                 16063                16063   \n",
       "pk_partition             2019-01-28 00:00:00  2019-05-28 00:00:00   \n",
       "entry_date               2018-11-19 00:00:00  2018-11-19 00:00:00   \n",
       "active_customer                            1                    0   \n",
       "...                                      ...                  ...   \n",
       "revenue_payroll                            0                    0   \n",
       "revenue_payroll_account                    0                    0   \n",
       "revenue_total                              0                    0   \n",
       "unidades_vendidas_total                    0                    0   \n",
       "Frequency                                  7                    7   \n",
       "\n",
       "                                          6                    7   \\\n",
       "Unnamed: 0                           4876040              3628236   \n",
       "pk_cid                                 16063                16063   \n",
       "pk_partition             2019-03-28 00:00:00  2018-12-28 00:00:00   \n",
       "entry_date               2018-11-19 00:00:00  2018-11-19 00:00:00   \n",
       "active_customer                            0                    1   \n",
       "...                                      ...                  ...   \n",
       "revenue_payroll                            0                    0   \n",
       "revenue_payroll_account                    0                    0   \n",
       "revenue_total                              0                    0   \n",
       "unidades_vendidas_total                    0                    0   \n",
       "Frequency                                  7                    7   \n",
       "\n",
       "                                          8                    9   \\\n",
       "Unnamed: 0                           4480637              5134321   \n",
       "pk_cid                                 16063                16203   \n",
       "pk_partition             2019-02-28 00:00:00  2019-04-28 00:00:00   \n",
       "entry_date               2018-11-19 00:00:00  2018-12-23 00:00:00   \n",
       "active_customer                            1                    1   \n",
       "...                                      ...                  ...   \n",
       "revenue_payroll                            0                    0   \n",
       "revenue_payroll_account                    0                    0   \n",
       "revenue_total                              0                   10   \n",
       "unidades_vendidas_total                    0                    1   \n",
       "Frequency                                  7                    6   \n",
       "\n",
       "                                          10                   11  \\\n",
       "Unnamed: 0                           5523396              3628238   \n",
       "pk_cid                                 16203                16203   \n",
       "pk_partition             2019-05-28 00:00:00  2018-12-28 00:00:00   \n",
       "entry_date               2018-12-23 00:00:00  2018-12-23 00:00:00   \n",
       "active_customer                            1                    0   \n",
       "...                                      ...                  ...   \n",
       "revenue_payroll                            0                    0   \n",
       "revenue_payroll_account                    0                    0   \n",
       "revenue_total                             10                    0   \n",
       "unidades_vendidas_total                    1                    0   \n",
       "Frequency                                  6                    6   \n",
       "\n",
       "                                          12                   13  \\\n",
       "Unnamed: 0                           4028170              4876039   \n",
       "pk_cid                                 16203                16203   \n",
       "pk_partition             2019-01-28 00:00:00  2019-03-28 00:00:00   \n",
       "entry_date               2018-12-23 00:00:00  2018-12-23 00:00:00   \n",
       "active_customer                            1                    1   \n",
       "...                                      ...                  ...   \n",
       "revenue_payroll                            0                    0   \n",
       "revenue_payroll_account                    0                    0   \n",
       "revenue_total                             10                   10   \n",
       "unidades_vendidas_total                    1                    1   \n",
       "Frequency                                  6                    6   \n",
       "\n",
       "                                          14                   15  \\\n",
       "Unnamed: 0                           4480636              4876038   \n",
       "pk_cid                                 16203                16502   \n",
       "pk_partition             2019-02-28 00:00:00  2019-03-28 00:00:00   \n",
       "entry_date               2018-12-23 00:00:00  2018-09-30 00:00:00   \n",
       "active_customer                            1                    1   \n",
       "...                                      ...                  ...   \n",
       "revenue_payroll                            0                    0   \n",
       "revenue_payroll_account                    0                    0   \n",
       "revenue_total                             10                   20   \n",
       "unidades_vendidas_total                    1                    2   \n",
       "Frequency                                  6                    9   \n",
       "\n",
       "                                          16                   17  \\\n",
       "Unnamed: 0                           3628237              2171490   \n",
       "pk_cid                                 16502                16502   \n",
       "pk_partition             2018-12-28 00:00:00  2018-09-28 00:00:00   \n",
       "entry_date               2018-09-30 00:00:00  2018-09-30 00:00:00   \n",
       "active_customer                            1                    0   \n",
       "...                                      ...                  ...   \n",
       "revenue_payroll                            0                    0   \n",
       "revenue_payroll_account                    0                    0   \n",
       "revenue_total                             10                    0   \n",
       "unidades_vendidas_total                    1                    0   \n",
       "Frequency                                  9                    9   \n",
       "\n",
       "                                          18                   19  \n",
       "Unnamed: 0                           5523395              5134320  \n",
       "pk_cid                                 16502                16502  \n",
       "pk_partition             2019-05-28 00:00:00  2019-04-28 00:00:00  \n",
       "entry_date               2018-09-30 00:00:00  2018-09-30 00:00:00  \n",
       "active_customer                            1                    1  \n",
       "...                                      ...                  ...  \n",
       "revenue_payroll                            0                    0  \n",
       "revenue_payroll_account                    0                    0  \n",
       "revenue_total                             20                   20  \n",
       "unidades_vendidas_total                    2                    2  \n",
       "Frequency                                  9                    9  \n",
       "\n",
       "[68 rows x 20 columns]"
      ]
     },
     "execution_count": 14,
     "metadata": {},
     "output_type": "execute_result"
    }
   ],
   "source": [
    "df.head(20).T"
   ]
  },
  {
   "cell_type": "code",
   "execution_count": 15,
   "metadata": {},
   "outputs": [],
   "source": [
    "rfmTable = df.groupby('pk_cid').agg({'entry_date': lambda x: (NOW - x.max()).days,'Frequency': lambda x: len(x), 'revenue_total': lambda x: x.sum()})\n",
    "rfmTable['entry_date'] = rfmTable['entry_date'].astype(int)\n",
    "rfmTable.rename(columns={'entry_date': 'recency', \n",
    "                         'Frequency': 'frequency',\n",
    "                         'revenue_total': 'monetary_value'}, inplace=True)"
   ]
  },
  {
   "cell_type": "code",
   "execution_count": 16,
   "metadata": {
    "scrolled": false
   },
   "outputs": [
    {
     "data": {
      "text/html": [
       "<div>\n",
       "<style scoped>\n",
       "    .dataframe tbody tr th:only-of-type {\n",
       "        vertical-align: middle;\n",
       "    }\n",
       "\n",
       "    .dataframe tbody tr th {\n",
       "        vertical-align: top;\n",
       "    }\n",
       "\n",
       "    .dataframe thead th {\n",
       "        text-align: right;\n",
       "    }\n",
       "</style>\n",
       "<table border=\"1\" class=\"dataframe\">\n",
       "  <thead>\n",
       "    <tr style=\"text-align: right;\">\n",
       "      <th></th>\n",
       "      <th>recency</th>\n",
       "      <th>frequency</th>\n",
       "      <th>monetary_value</th>\n",
       "    </tr>\n",
       "    <tr>\n",
       "      <th>pk_cid</th>\n",
       "      <th></th>\n",
       "      <th></th>\n",
       "      <th></th>\n",
       "    </tr>\n",
       "  </thead>\n",
       "  <tbody>\n",
       "    <tr>\n",
       "      <th>15891</th>\n",
       "      <td>304</td>\n",
       "      <td>2</td>\n",
       "      <td>10.0</td>\n",
       "    </tr>\n",
       "    <tr>\n",
       "      <th>16063</th>\n",
       "      <td>190</td>\n",
       "      <td>7</td>\n",
       "      <td>0.0</td>\n",
       "    </tr>\n",
       "    <tr>\n",
       "      <th>16203</th>\n",
       "      <td>156</td>\n",
       "      <td>6</td>\n",
       "      <td>50.0</td>\n",
       "    </tr>\n",
       "    <tr>\n",
       "      <th>16502</th>\n",
       "      <td>240</td>\n",
       "      <td>9</td>\n",
       "      <td>130.0</td>\n",
       "    </tr>\n",
       "    <tr>\n",
       "      <th>17799</th>\n",
       "      <td>509</td>\n",
       "      <td>17</td>\n",
       "      <td>170.0</td>\n",
       "    </tr>\n",
       "    <tr>\n",
       "      <th>...</th>\n",
       "      <td>...</td>\n",
       "      <td>...</td>\n",
       "      <td>...</td>\n",
       "    </tr>\n",
       "    <tr>\n",
       "      <th>1553111</th>\n",
       "      <td>1</td>\n",
       "      <td>1</td>\n",
       "      <td>0.0</td>\n",
       "    </tr>\n",
       "    <tr>\n",
       "      <th>1553112</th>\n",
       "      <td>1</td>\n",
       "      <td>1</td>\n",
       "      <td>0.0</td>\n",
       "    </tr>\n",
       "    <tr>\n",
       "      <th>1553113</th>\n",
       "      <td>1</td>\n",
       "      <td>1</td>\n",
       "      <td>0.0</td>\n",
       "    </tr>\n",
       "    <tr>\n",
       "      <th>1553114</th>\n",
       "      <td>1</td>\n",
       "      <td>1</td>\n",
       "      <td>0.0</td>\n",
       "    </tr>\n",
       "    <tr>\n",
       "      <th>1553115</th>\n",
       "      <td>1</td>\n",
       "      <td>1</td>\n",
       "      <td>0.0</td>\n",
       "    </tr>\n",
       "  </tbody>\n",
       "</table>\n",
       "<p>153232 rows × 3 columns</p>\n",
       "</div>"
      ],
      "text/plain": [
       "         recency  frequency  monetary_value\n",
       "pk_cid                                     \n",
       "15891        304          2            10.0\n",
       "16063        190          7             0.0\n",
       "16203        156          6            50.0\n",
       "16502        240          9           130.0\n",
       "17799        509         17           170.0\n",
       "...          ...        ...             ...\n",
       "1553111        1          1             0.0\n",
       "1553112        1          1             0.0\n",
       "1553113        1          1             0.0\n",
       "1553114        1          1             0.0\n",
       "1553115        1          1             0.0\n",
       "\n",
       "[153232 rows x 3 columns]"
      ]
     },
     "execution_count": 16,
     "metadata": {},
     "output_type": "execute_result"
    }
   ],
   "source": [
    "rfmTable"
   ]
  },
  {
   "cell_type": "code",
   "execution_count": 17,
   "metadata": {},
   "outputs": [],
   "source": [
    "first_customer=df[df['pk_cid']==16502]"
   ]
  },
  {
   "cell_type": "code",
   "execution_count": 18,
   "metadata": {},
   "outputs": [
    {
     "data": {
      "text/html": [
       "<div>\n",
       "<style scoped>\n",
       "    .dataframe tbody tr th:only-of-type {\n",
       "        vertical-align: middle;\n",
       "    }\n",
       "\n",
       "    .dataframe tbody tr th {\n",
       "        vertical-align: top;\n",
       "    }\n",
       "\n",
       "    .dataframe thead th {\n",
       "        text-align: right;\n",
       "    }\n",
       "</style>\n",
       "<table border=\"1\" class=\"dataframe\">\n",
       "  <thead>\n",
       "    <tr style=\"text-align: right;\">\n",
       "      <th></th>\n",
       "      <th>15</th>\n",
       "      <th>16</th>\n",
       "      <th>17</th>\n",
       "      <th>18</th>\n",
       "      <th>19</th>\n",
       "      <th>20</th>\n",
       "      <th>21</th>\n",
       "      <th>22</th>\n",
       "      <th>23</th>\n",
       "    </tr>\n",
       "  </thead>\n",
       "  <tbody>\n",
       "    <tr>\n",
       "      <th>Unnamed: 0</th>\n",
       "      <td>4876038</td>\n",
       "      <td>3628237</td>\n",
       "      <td>2171490</td>\n",
       "      <td>5523395</td>\n",
       "      <td>5134320</td>\n",
       "      <td>4480638</td>\n",
       "      <td>4028330</td>\n",
       "      <td>2962972</td>\n",
       "      <td>2943633</td>\n",
       "    </tr>\n",
       "    <tr>\n",
       "      <th>pk_cid</th>\n",
       "      <td>16502</td>\n",
       "      <td>16502</td>\n",
       "      <td>16502</td>\n",
       "      <td>16502</td>\n",
       "      <td>16502</td>\n",
       "      <td>16502</td>\n",
       "      <td>16502</td>\n",
       "      <td>16502</td>\n",
       "      <td>16502</td>\n",
       "    </tr>\n",
       "    <tr>\n",
       "      <th>pk_partition</th>\n",
       "      <td>2019-03-28 00:00:00</td>\n",
       "      <td>2018-12-28 00:00:00</td>\n",
       "      <td>2018-09-28 00:00:00</td>\n",
       "      <td>2019-05-28 00:00:00</td>\n",
       "      <td>2019-04-28 00:00:00</td>\n",
       "      <td>2019-02-28 00:00:00</td>\n",
       "      <td>2019-01-28 00:00:00</td>\n",
       "      <td>2018-11-28 00:00:00</td>\n",
       "      <td>2018-10-28 00:00:00</td>\n",
       "    </tr>\n",
       "    <tr>\n",
       "      <th>entry_date</th>\n",
       "      <td>2018-09-30 00:00:00</td>\n",
       "      <td>2018-09-30 00:00:00</td>\n",
       "      <td>2018-09-30 00:00:00</td>\n",
       "      <td>2018-09-30 00:00:00</td>\n",
       "      <td>2018-09-30 00:00:00</td>\n",
       "      <td>2018-09-30 00:00:00</td>\n",
       "      <td>2018-09-30 00:00:00</td>\n",
       "      <td>2018-09-30 00:00:00</td>\n",
       "      <td>2018-09-30 00:00:00</td>\n",
       "    </tr>\n",
       "    <tr>\n",
       "      <th>active_customer</th>\n",
       "      <td>1</td>\n",
       "      <td>1</td>\n",
       "      <td>0</td>\n",
       "      <td>1</td>\n",
       "      <td>1</td>\n",
       "      <td>1</td>\n",
       "      <td>1</td>\n",
       "      <td>1</td>\n",
       "      <td>1</td>\n",
       "    </tr>\n",
       "    <tr>\n",
       "      <th>...</th>\n",
       "      <td>...</td>\n",
       "      <td>...</td>\n",
       "      <td>...</td>\n",
       "      <td>...</td>\n",
       "      <td>...</td>\n",
       "      <td>...</td>\n",
       "      <td>...</td>\n",
       "      <td>...</td>\n",
       "      <td>...</td>\n",
       "    </tr>\n",
       "    <tr>\n",
       "      <th>revenue_payroll</th>\n",
       "      <td>0</td>\n",
       "      <td>0</td>\n",
       "      <td>0</td>\n",
       "      <td>0</td>\n",
       "      <td>0</td>\n",
       "      <td>0</td>\n",
       "      <td>0</td>\n",
       "      <td>0</td>\n",
       "      <td>0</td>\n",
       "    </tr>\n",
       "    <tr>\n",
       "      <th>revenue_payroll_account</th>\n",
       "      <td>0</td>\n",
       "      <td>0</td>\n",
       "      <td>0</td>\n",
       "      <td>0</td>\n",
       "      <td>0</td>\n",
       "      <td>0</td>\n",
       "      <td>0</td>\n",
       "      <td>0</td>\n",
       "      <td>0</td>\n",
       "    </tr>\n",
       "    <tr>\n",
       "      <th>revenue_total</th>\n",
       "      <td>20</td>\n",
       "      <td>10</td>\n",
       "      <td>0</td>\n",
       "      <td>20</td>\n",
       "      <td>20</td>\n",
       "      <td>20</td>\n",
       "      <td>20</td>\n",
       "      <td>10</td>\n",
       "      <td>10</td>\n",
       "    </tr>\n",
       "    <tr>\n",
       "      <th>unidades_vendidas_total</th>\n",
       "      <td>2</td>\n",
       "      <td>1</td>\n",
       "      <td>0</td>\n",
       "      <td>2</td>\n",
       "      <td>2</td>\n",
       "      <td>2</td>\n",
       "      <td>2</td>\n",
       "      <td>1</td>\n",
       "      <td>1</td>\n",
       "    </tr>\n",
       "    <tr>\n",
       "      <th>Frequency</th>\n",
       "      <td>9</td>\n",
       "      <td>9</td>\n",
       "      <td>9</td>\n",
       "      <td>9</td>\n",
       "      <td>9</td>\n",
       "      <td>9</td>\n",
       "      <td>9</td>\n",
       "      <td>9</td>\n",
       "      <td>9</td>\n",
       "    </tr>\n",
       "  </tbody>\n",
       "</table>\n",
       "<p>68 rows × 9 columns</p>\n",
       "</div>"
      ],
      "text/plain": [
       "                                          15                   16  \\\n",
       "Unnamed: 0                           4876038              3628237   \n",
       "pk_cid                                 16502                16502   \n",
       "pk_partition             2019-03-28 00:00:00  2018-12-28 00:00:00   \n",
       "entry_date               2018-09-30 00:00:00  2018-09-30 00:00:00   \n",
       "active_customer                            1                    1   \n",
       "...                                      ...                  ...   \n",
       "revenue_payroll                            0                    0   \n",
       "revenue_payroll_account                    0                    0   \n",
       "revenue_total                             20                   10   \n",
       "unidades_vendidas_total                    2                    1   \n",
       "Frequency                                  9                    9   \n",
       "\n",
       "                                          17                   18  \\\n",
       "Unnamed: 0                           2171490              5523395   \n",
       "pk_cid                                 16502                16502   \n",
       "pk_partition             2018-09-28 00:00:00  2019-05-28 00:00:00   \n",
       "entry_date               2018-09-30 00:00:00  2018-09-30 00:00:00   \n",
       "active_customer                            0                    1   \n",
       "...                                      ...                  ...   \n",
       "revenue_payroll                            0                    0   \n",
       "revenue_payroll_account                    0                    0   \n",
       "revenue_total                              0                   20   \n",
       "unidades_vendidas_total                    0                    2   \n",
       "Frequency                                  9                    9   \n",
       "\n",
       "                                          19                   20  \\\n",
       "Unnamed: 0                           5134320              4480638   \n",
       "pk_cid                                 16502                16502   \n",
       "pk_partition             2019-04-28 00:00:00  2019-02-28 00:00:00   \n",
       "entry_date               2018-09-30 00:00:00  2018-09-30 00:00:00   \n",
       "active_customer                            1                    1   \n",
       "...                                      ...                  ...   \n",
       "revenue_payroll                            0                    0   \n",
       "revenue_payroll_account                    0                    0   \n",
       "revenue_total                             20                   20   \n",
       "unidades_vendidas_total                    2                    2   \n",
       "Frequency                                  9                    9   \n",
       "\n",
       "                                          21                   22  \\\n",
       "Unnamed: 0                           4028330              2962972   \n",
       "pk_cid                                 16502                16502   \n",
       "pk_partition             2019-01-28 00:00:00  2018-11-28 00:00:00   \n",
       "entry_date               2018-09-30 00:00:00  2018-09-30 00:00:00   \n",
       "active_customer                            1                    1   \n",
       "...                                      ...                  ...   \n",
       "revenue_payroll                            0                    0   \n",
       "revenue_payroll_account                    0                    0   \n",
       "revenue_total                             20                   10   \n",
       "unidades_vendidas_total                    2                    1   \n",
       "Frequency                                  9                    9   \n",
       "\n",
       "                                          23  \n",
       "Unnamed: 0                           2943633  \n",
       "pk_cid                                 16502  \n",
       "pk_partition             2018-10-28 00:00:00  \n",
       "entry_date               2018-09-30 00:00:00  \n",
       "active_customer                            1  \n",
       "...                                      ...  \n",
       "revenue_payroll                            0  \n",
       "revenue_payroll_account                    0  \n",
       "revenue_total                             10  \n",
       "unidades_vendidas_total                    1  \n",
       "Frequency                                  9  \n",
       "\n",
       "[68 rows x 9 columns]"
      ]
     },
     "execution_count": 18,
     "metadata": {},
     "output_type": "execute_result"
    }
   ],
   "source": [
    "first_customer.T"
   ]
  },
  {
   "cell_type": "code",
   "execution_count": 19,
   "metadata": {},
   "outputs": [],
   "source": [
    "quantiles = rfmTable.quantile(q=[0.25,0.5,0.75])\n",
    "quantiles = quantiles.to_dict()"
   ]
  },
  {
   "cell_type": "code",
   "execution_count": 20,
   "metadata": {},
   "outputs": [],
   "source": [
    "segmented_rfm = rfmTable"
   ]
  },
  {
   "cell_type": "code",
   "execution_count": 21,
   "metadata": {},
   "outputs": [],
   "source": [
    "###The lowest recency, highest frequency and monetary amounts are our best customers."
   ]
  },
  {
   "cell_type": "code",
   "execution_count": 22,
   "metadata": {},
   "outputs": [],
   "source": [
    "def RScore(x,p,d):\n",
    "    if x <= d[p][0.25]:\n",
    "        return 1\n",
    "    elif x <= d[p][0.50]:\n",
    "        return 2\n",
    "    elif x <= d[p][0.75]: \n",
    "        return 3\n",
    "    else:\n",
    "        return 4"
   ]
  },
  {
   "cell_type": "code",
   "execution_count": 23,
   "metadata": {},
   "outputs": [],
   "source": [
    "def FMScore(x,p,d):\n",
    "    if x <= d[p][0.25]:\n",
    "        return 4\n",
    "    elif x <= d[p][0.50]:\n",
    "        return 3\n",
    "    elif x <= d[p][0.75]: \n",
    "        return 2\n",
    "    else:\n",
    "        return 1"
   ]
  },
  {
   "cell_type": "code",
   "execution_count": 24,
   "metadata": {},
   "outputs": [
    {
     "data": {
      "text/html": [
       "<div>\n",
       "<style scoped>\n",
       "    .dataframe tbody tr th:only-of-type {\n",
       "        vertical-align: middle;\n",
       "    }\n",
       "\n",
       "    .dataframe tbody tr th {\n",
       "        vertical-align: top;\n",
       "    }\n",
       "\n",
       "    .dataframe thead th {\n",
       "        text-align: right;\n",
       "    }\n",
       "</style>\n",
       "<table border=\"1\" class=\"dataframe\">\n",
       "  <thead>\n",
       "    <tr style=\"text-align: right;\">\n",
       "      <th></th>\n",
       "      <th>recency</th>\n",
       "      <th>frequency</th>\n",
       "      <th>monetary_value</th>\n",
       "      <th>r_quartile</th>\n",
       "      <th>f_quartile</th>\n",
       "      <th>m_quartile</th>\n",
       "    </tr>\n",
       "    <tr>\n",
       "      <th>pk_cid</th>\n",
       "      <th></th>\n",
       "      <th></th>\n",
       "      <th></th>\n",
       "      <th></th>\n",
       "      <th></th>\n",
       "      <th></th>\n",
       "    </tr>\n",
       "  </thead>\n",
       "  <tbody>\n",
       "    <tr>\n",
       "      <th>15891</th>\n",
       "      <td>304</td>\n",
       "      <td>2</td>\n",
       "      <td>10.0</td>\n",
       "      <td>4</td>\n",
       "      <td>4</td>\n",
       "      <td>3</td>\n",
       "    </tr>\n",
       "    <tr>\n",
       "      <th>16063</th>\n",
       "      <td>190</td>\n",
       "      <td>7</td>\n",
       "      <td>0.0</td>\n",
       "      <td>1</td>\n",
       "      <td>3</td>\n",
       "      <td>4</td>\n",
       "    </tr>\n",
       "    <tr>\n",
       "      <th>16203</th>\n",
       "      <td>156</td>\n",
       "      <td>6</td>\n",
       "      <td>50.0</td>\n",
       "      <td>1</td>\n",
       "      <td>4</td>\n",
       "      <td>3</td>\n",
       "    </tr>\n",
       "    <tr>\n",
       "      <th>16502</th>\n",
       "      <td>240</td>\n",
       "      <td>9</td>\n",
       "      <td>130.0</td>\n",
       "      <td>2</td>\n",
       "      <td>2</td>\n",
       "      <td>1</td>\n",
       "    </tr>\n",
       "    <tr>\n",
       "      <th>17799</th>\n",
       "      <td>509</td>\n",
       "      <td>17</td>\n",
       "      <td>170.0</td>\n",
       "      <td>4</td>\n",
       "      <td>1</td>\n",
       "      <td>1</td>\n",
       "    </tr>\n",
       "  </tbody>\n",
       "</table>\n",
       "</div>"
      ],
      "text/plain": [
       "        recency  frequency  monetary_value  r_quartile  f_quartile  m_quartile\n",
       "pk_cid                                                                        \n",
       "15891       304          2            10.0           4           4           3\n",
       "16063       190          7             0.0           1           3           4\n",
       "16203       156          6            50.0           1           4           3\n",
       "16502       240          9           130.0           2           2           1\n",
       "17799       509         17           170.0           4           1           1"
      ]
     },
     "execution_count": 24,
     "metadata": {},
     "output_type": "execute_result"
    }
   ],
   "source": [
    "segmented_rfm['r_quartile'] = segmented_rfm['recency'].apply(RScore, args=('recency',quantiles,))\n",
    "segmented_rfm['f_quartile'] = segmented_rfm['frequency'].apply(FMScore, args=('frequency',quantiles,))\n",
    "segmented_rfm['m_quartile'] = segmented_rfm['monetary_value'].apply(FMScore, args=('monetary_value',quantiles,))\n",
    "segmented_rfm.head()"
   ]
  },
  {
   "cell_type": "code",
   "execution_count": 25,
   "metadata": {},
   "outputs": [],
   "source": [
    "segmented_rfm['RFMScore'] = segmented_rfm.r_quartile.map(str) + segmented_rfm.f_quartile.map(str) + segmented_rfm.m_quartile.map(str)\n"
   ]
  },
  {
   "cell_type": "code",
   "execution_count": 26,
   "metadata": {},
   "outputs": [
    {
     "data": {
      "text/html": [
       "<div>\n",
       "<style scoped>\n",
       "    .dataframe tbody tr th:only-of-type {\n",
       "        vertical-align: middle;\n",
       "    }\n",
       "\n",
       "    .dataframe tbody tr th {\n",
       "        vertical-align: top;\n",
       "    }\n",
       "\n",
       "    .dataframe thead th {\n",
       "        text-align: right;\n",
       "    }\n",
       "</style>\n",
       "<table border=\"1\" class=\"dataframe\">\n",
       "  <thead>\n",
       "    <tr style=\"text-align: right;\">\n",
       "      <th></th>\n",
       "      <th>recency</th>\n",
       "      <th>frequency</th>\n",
       "      <th>monetary_value</th>\n",
       "      <th>r_quartile</th>\n",
       "      <th>f_quartile</th>\n",
       "      <th>m_quartile</th>\n",
       "      <th>RFMScore</th>\n",
       "    </tr>\n",
       "    <tr>\n",
       "      <th>pk_cid</th>\n",
       "      <th></th>\n",
       "      <th></th>\n",
       "      <th></th>\n",
       "      <th></th>\n",
       "      <th></th>\n",
       "      <th></th>\n",
       "      <th></th>\n",
       "    </tr>\n",
       "  </thead>\n",
       "  <tbody>\n",
       "    <tr>\n",
       "      <th>15891</th>\n",
       "      <td>304</td>\n",
       "      <td>2</td>\n",
       "      <td>10.0</td>\n",
       "      <td>4</td>\n",
       "      <td>4</td>\n",
       "      <td>3</td>\n",
       "      <td>443</td>\n",
       "    </tr>\n",
       "    <tr>\n",
       "      <th>16063</th>\n",
       "      <td>190</td>\n",
       "      <td>7</td>\n",
       "      <td>0.0</td>\n",
       "      <td>1</td>\n",
       "      <td>3</td>\n",
       "      <td>4</td>\n",
       "      <td>134</td>\n",
       "    </tr>\n",
       "    <tr>\n",
       "      <th>16203</th>\n",
       "      <td>156</td>\n",
       "      <td>6</td>\n",
       "      <td>50.0</td>\n",
       "      <td>1</td>\n",
       "      <td>4</td>\n",
       "      <td>3</td>\n",
       "      <td>143</td>\n",
       "    </tr>\n",
       "    <tr>\n",
       "      <th>16502</th>\n",
       "      <td>240</td>\n",
       "      <td>9</td>\n",
       "      <td>130.0</td>\n",
       "      <td>2</td>\n",
       "      <td>2</td>\n",
       "      <td>1</td>\n",
       "      <td>221</td>\n",
       "    </tr>\n",
       "    <tr>\n",
       "      <th>17799</th>\n",
       "      <td>509</td>\n",
       "      <td>17</td>\n",
       "      <td>170.0</td>\n",
       "      <td>4</td>\n",
       "      <td>1</td>\n",
       "      <td>1</td>\n",
       "      <td>411</td>\n",
       "    </tr>\n",
       "  </tbody>\n",
       "</table>\n",
       "</div>"
      ],
      "text/plain": [
       "        recency  frequency  monetary_value  r_quartile  f_quartile  \\\n",
       "pk_cid                                                               \n",
       "15891       304          2            10.0           4           4   \n",
       "16063       190          7             0.0           1           3   \n",
       "16203       156          6            50.0           1           4   \n",
       "16502       240          9           130.0           2           2   \n",
       "17799       509         17           170.0           4           1   \n",
       "\n",
       "        m_quartile RFMScore  \n",
       "pk_cid                       \n",
       "15891            3      443  \n",
       "16063            4      134  \n",
       "16203            3      143  \n",
       "16502            1      221  \n",
       "17799            1      411  "
      ]
     },
     "execution_count": 26,
     "metadata": {},
     "output_type": "execute_result"
    }
   ],
   "source": [
    "segmented_rfm.head()"
   ]
  },
  {
   "cell_type": "code",
   "execution_count": 27,
   "metadata": {},
   "outputs": [],
   "source": [
    "##It is obvious that the first customer is not our best customer at all."
   ]
  },
  {
   "cell_type": "code",
   "execution_count": 28,
   "metadata": {
    "scrolled": true
   },
   "outputs": [
    {
     "data": {
      "text/plain": [
       "recency           153232\n",
       "frequency         153232\n",
       "monetary_value    153232\n",
       "r_quartile        153232\n",
       "f_quartile        153232\n",
       "m_quartile        153232\n",
       "RFMScore          153232\n",
       "dtype: int64"
      ]
     },
     "execution_count": 28,
     "metadata": {},
     "output_type": "execute_result"
    }
   ],
   "source": [
    "segmented_rfm.count()"
   ]
  },
  {
   "cell_type": "code",
   "execution_count": 29,
   "metadata": {},
   "outputs": [
    {
     "data": {
      "text/plain": [
       "322    21880\n",
       "233    20623\n",
       "411    17229\n",
       "143    14504\n",
       "144    13551\n",
       "234    11587\n",
       "412    11310\n",
       "414     5902\n",
       "324     5263\n",
       "321     4702\n",
       "141     4472\n",
       "231     3521\n",
       "133     2868\n",
       "323     2736\n",
       "134     1764\n",
       "244     1554\n",
       "344     1421\n",
       "413     1387\n",
       "444     1201\n",
       "223      924\n",
       "142      810\n",
       "312      707\n",
       "131      631\n",
       "343      406\n",
       "243      358\n",
       "443      334\n",
       "232      231\n",
       "441      149\n",
       "224      129\n",
       "431      126\n",
       "421      123\n",
       "433      115\n",
       "221       99\n",
       "132       83\n",
       "333       82\n",
       "311       80\n",
       "423       66\n",
       "314       61\n",
       "341       48\n",
       "331       36\n",
       "434       30\n",
       "313       30\n",
       "241       25\n",
       "424       18\n",
       "422       17\n",
       "334       15\n",
       "442       10\n",
       "432        6\n",
       "222        3\n",
       "342        3\n",
       "332        1\n",
       "242        1\n",
       "Name: RFMScore, dtype: int64"
      ]
     },
     "execution_count": 29,
     "metadata": {},
     "output_type": "execute_result"
    }
   ],
   "source": [
    "segmented_rfm['RFMScore'].value_counts()"
   ]
  },
  {
   "cell_type": "code",
   "execution_count": 30,
   "metadata": {},
   "outputs": [],
   "source": [
    "###Como tenemos la urgente necesidad de incrementar los ingresos, nos enfocaremos, a aquellos clientes, con mayor facturacion,\n",
    "###y en un periodo no muy alto ,entre compra y compra, ya que pueden ser más fieles y ser mas receptivos a nuestra propuesta \n",
    "###por email.Como por desgracia, solo son 4500 clientes, los restantes 5500, los basaremos en los que nos han dado \n",
    "##jla mayor facturacion, pero hace tiempo que no compran,Cogeremos los clientes con un RFM  141 y 411, llegando a unos 10000 clientes ,nuestro mailing"
   ]
  },
  {
   "cell_type": "code",
   "execution_count": null,
   "metadata": {},
   "outputs": [],
   "source": []
  },
  {
   "cell_type": "code",
   "execution_count": 31,
   "metadata": {
    "scrolled": true
   },
   "outputs": [],
   "source": [
    "df_best = segmented_rfm[segmented_rfm['RFMScore']=='141'].sort_values('monetary_value', ascending=False).head(4472)"
   ]
  },
  {
   "cell_type": "code",
   "execution_count": 32,
   "metadata": {
    "scrolled": true
   },
   "outputs": [
    {
     "data": {
      "text/html": [
       "<div>\n",
       "<style scoped>\n",
       "    .dataframe tbody tr th:only-of-type {\n",
       "        vertical-align: middle;\n",
       "    }\n",
       "\n",
       "    .dataframe tbody tr th {\n",
       "        vertical-align: top;\n",
       "    }\n",
       "\n",
       "    .dataframe thead th {\n",
       "        text-align: right;\n",
       "    }\n",
       "</style>\n",
       "<table border=\"1\" class=\"dataframe\">\n",
       "  <thead>\n",
       "    <tr style=\"text-align: right;\">\n",
       "      <th></th>\n",
       "      <th>recency</th>\n",
       "      <th>frequency</th>\n",
       "      <th>monetary_value</th>\n",
       "      <th>r_quartile</th>\n",
       "      <th>f_quartile</th>\n",
       "      <th>m_quartile</th>\n",
       "      <th>RFMScore</th>\n",
       "    </tr>\n",
       "    <tr>\n",
       "      <th>pk_cid</th>\n",
       "      <th></th>\n",
       "      <th></th>\n",
       "      <th></th>\n",
       "      <th></th>\n",
       "      <th></th>\n",
       "      <th></th>\n",
       "      <th></th>\n",
       "    </tr>\n",
       "  </thead>\n",
       "  <tbody>\n",
       "    <tr>\n",
       "      <th>1517456</th>\n",
       "      <td>161</td>\n",
       "      <td>6</td>\n",
       "      <td>910.0</td>\n",
       "      <td>1</td>\n",
       "      <td>4</td>\n",
       "      <td>1</td>\n",
       "      <td>141</td>\n",
       "    </tr>\n",
       "    <tr>\n",
       "      <th>1512063</th>\n",
       "      <td>178</td>\n",
       "      <td>6</td>\n",
       "      <td>900.0</td>\n",
       "      <td>1</td>\n",
       "      <td>4</td>\n",
       "      <td>1</td>\n",
       "      <td>141</td>\n",
       "    </tr>\n",
       "    <tr>\n",
       "      <th>1515010</th>\n",
       "      <td>169</td>\n",
       "      <td>6</td>\n",
       "      <td>900.0</td>\n",
       "      <td>1</td>\n",
       "      <td>4</td>\n",
       "      <td>1</td>\n",
       "      <td>141</td>\n",
       "    </tr>\n",
       "    <tr>\n",
       "      <th>1520203</th>\n",
       "      <td>148</td>\n",
       "      <td>6</td>\n",
       "      <td>840.0</td>\n",
       "      <td>1</td>\n",
       "      <td>4</td>\n",
       "      <td>1</td>\n",
       "      <td>141</td>\n",
       "    </tr>\n",
       "    <tr>\n",
       "      <th>1518210</th>\n",
       "      <td>157</td>\n",
       "      <td>6</td>\n",
       "      <td>810.0</td>\n",
       "      <td>1</td>\n",
       "      <td>4</td>\n",
       "      <td>1</td>\n",
       "      <td>141</td>\n",
       "    </tr>\n",
       "    <tr>\n",
       "      <th>...</th>\n",
       "      <td>...</td>\n",
       "      <td>...</td>\n",
       "      <td>...</td>\n",
       "      <td>...</td>\n",
       "      <td>...</td>\n",
       "      <td>...</td>\n",
       "      <td>...</td>\n",
       "    </tr>\n",
       "    <tr>\n",
       "      <th>1526351</th>\n",
       "      <td>127</td>\n",
       "      <td>5</td>\n",
       "      <td>120.0</td>\n",
       "      <td>1</td>\n",
       "      <td>4</td>\n",
       "      <td>1</td>\n",
       "      <td>141</td>\n",
       "    </tr>\n",
       "    <tr>\n",
       "      <th>1536961</th>\n",
       "      <td>87</td>\n",
       "      <td>3</td>\n",
       "      <td>120.0</td>\n",
       "      <td>1</td>\n",
       "      <td>4</td>\n",
       "      <td>1</td>\n",
       "      <td>141</td>\n",
       "    </tr>\n",
       "    <tr>\n",
       "      <th>1517519</th>\n",
       "      <td>160</td>\n",
       "      <td>6</td>\n",
       "      <td>120.0</td>\n",
       "      <td>1</td>\n",
       "      <td>4</td>\n",
       "      <td>1</td>\n",
       "      <td>141</td>\n",
       "    </tr>\n",
       "    <tr>\n",
       "      <th>1517515</th>\n",
       "      <td>160</td>\n",
       "      <td>6</td>\n",
       "      <td>120.0</td>\n",
       "      <td>1</td>\n",
       "      <td>4</td>\n",
       "      <td>1</td>\n",
       "      <td>141</td>\n",
       "    </tr>\n",
       "    <tr>\n",
       "      <th>1552055</th>\n",
       "      <td>6</td>\n",
       "      <td>1</td>\n",
       "      <td>120.0</td>\n",
       "      <td>1</td>\n",
       "      <td>4</td>\n",
       "      <td>1</td>\n",
       "      <td>141</td>\n",
       "    </tr>\n",
       "  </tbody>\n",
       "</table>\n",
       "<p>4472 rows × 7 columns</p>\n",
       "</div>"
      ],
      "text/plain": [
       "         recency  frequency  monetary_value  r_quartile  f_quartile  \\\n",
       "pk_cid                                                                \n",
       "1517456      161          6           910.0           1           4   \n",
       "1512063      178          6           900.0           1           4   \n",
       "1515010      169          6           900.0           1           4   \n",
       "1520203      148          6           840.0           1           4   \n",
       "1518210      157          6           810.0           1           4   \n",
       "...          ...        ...             ...         ...         ...   \n",
       "1526351      127          5           120.0           1           4   \n",
       "1536961       87          3           120.0           1           4   \n",
       "1517519      160          6           120.0           1           4   \n",
       "1517515      160          6           120.0           1           4   \n",
       "1552055        6          1           120.0           1           4   \n",
       "\n",
       "         m_quartile RFMScore  \n",
       "pk_cid                        \n",
       "1517456           1      141  \n",
       "1512063           1      141  \n",
       "1515010           1      141  \n",
       "1520203           1      141  \n",
       "1518210           1      141  \n",
       "...             ...      ...  \n",
       "1526351           1      141  \n",
       "1536961           1      141  \n",
       "1517519           1      141  \n",
       "1517515           1      141  \n",
       "1552055           1      141  \n",
       "\n",
       "[4472 rows x 7 columns]"
      ]
     },
     "execution_count": 32,
     "metadata": {},
     "output_type": "execute_result"
    }
   ],
   "source": [
    "df_best"
   ]
  },
  {
   "cell_type": "code",
   "execution_count": 33,
   "metadata": {},
   "outputs": [],
   "source": [
    "df_best1= segmented_rfm[segmented_rfm['RFMScore']=='411'].sort_values('monetary_value', ascending=False).head(5500)"
   ]
  },
  {
   "cell_type": "code",
   "execution_count": 34,
   "metadata": {
    "scrolled": true
   },
   "outputs": [
    {
     "data": {
      "text/html": [
       "<div>\n",
       "<style scoped>\n",
       "    .dataframe tbody tr th:only-of-type {\n",
       "        vertical-align: middle;\n",
       "    }\n",
       "\n",
       "    .dataframe tbody tr th {\n",
       "        vertical-align: top;\n",
       "    }\n",
       "\n",
       "    .dataframe thead th {\n",
       "        text-align: right;\n",
       "    }\n",
       "</style>\n",
       "<table border=\"1\" class=\"dataframe\">\n",
       "  <thead>\n",
       "    <tr style=\"text-align: right;\">\n",
       "      <th></th>\n",
       "      <th>recency</th>\n",
       "      <th>frequency</th>\n",
       "      <th>monetary_value</th>\n",
       "      <th>r_quartile</th>\n",
       "      <th>f_quartile</th>\n",
       "      <th>m_quartile</th>\n",
       "      <th>RFMScore</th>\n",
       "    </tr>\n",
       "    <tr>\n",
       "      <th>pk_cid</th>\n",
       "      <th></th>\n",
       "      <th></th>\n",
       "      <th></th>\n",
       "      <th></th>\n",
       "      <th></th>\n",
       "      <th></th>\n",
       "      <th></th>\n",
       "    </tr>\n",
       "  </thead>\n",
       "  <tbody>\n",
       "    <tr>\n",
       "      <th>1374819</th>\n",
       "      <td>505</td>\n",
       "      <td>17</td>\n",
       "      <td>4290.0</td>\n",
       "      <td>4</td>\n",
       "      <td>1</td>\n",
       "      <td>1</td>\n",
       "      <td>411</td>\n",
       "    </tr>\n",
       "    <tr>\n",
       "      <th>1392320</th>\n",
       "      <td>408</td>\n",
       "      <td>14</td>\n",
       "      <td>3190.0</td>\n",
       "      <td>4</td>\n",
       "      <td>1</td>\n",
       "      <td>1</td>\n",
       "      <td>411</td>\n",
       "    </tr>\n",
       "    <tr>\n",
       "      <th>1377496</th>\n",
       "      <td>492</td>\n",
       "      <td>17</td>\n",
       "      <td>2880.0</td>\n",
       "      <td>4</td>\n",
       "      <td>1</td>\n",
       "      <td>1</td>\n",
       "      <td>411</td>\n",
       "    </tr>\n",
       "    <tr>\n",
       "      <th>1374123</th>\n",
       "      <td>508</td>\n",
       "      <td>17</td>\n",
       "      <td>2850.0</td>\n",
       "      <td>4</td>\n",
       "      <td>1</td>\n",
       "      <td>1</td>\n",
       "      <td>411</td>\n",
       "    </tr>\n",
       "    <tr>\n",
       "      <th>1374403</th>\n",
       "      <td>506</td>\n",
       "      <td>17</td>\n",
       "      <td>2840.0</td>\n",
       "      <td>4</td>\n",
       "      <td>1</td>\n",
       "      <td>1</td>\n",
       "      <td>411</td>\n",
       "    </tr>\n",
       "    <tr>\n",
       "      <th>...</th>\n",
       "      <td>...</td>\n",
       "      <td>...</td>\n",
       "      <td>...</td>\n",
       "      <td>...</td>\n",
       "      <td>...</td>\n",
       "      <td>...</td>\n",
       "      <td>...</td>\n",
       "    </tr>\n",
       "    <tr>\n",
       "      <th>1401318</th>\n",
       "      <td>351</td>\n",
       "      <td>12</td>\n",
       "      <td>640.0</td>\n",
       "      <td>4</td>\n",
       "      <td>1</td>\n",
       "      <td>1</td>\n",
       "      <td>411</td>\n",
       "    </tr>\n",
       "    <tr>\n",
       "      <th>1397743</th>\n",
       "      <td>374</td>\n",
       "      <td>13</td>\n",
       "      <td>640.0</td>\n",
       "      <td>4</td>\n",
       "      <td>1</td>\n",
       "      <td>1</td>\n",
       "      <td>411</td>\n",
       "    </tr>\n",
       "    <tr>\n",
       "      <th>1397057</th>\n",
       "      <td>379</td>\n",
       "      <td>12</td>\n",
       "      <td>640.0</td>\n",
       "      <td>4</td>\n",
       "      <td>1</td>\n",
       "      <td>1</td>\n",
       "      <td>411</td>\n",
       "    </tr>\n",
       "    <tr>\n",
       "      <th>1399722</th>\n",
       "      <td>361</td>\n",
       "      <td>12</td>\n",
       "      <td>640.0</td>\n",
       "      <td>4</td>\n",
       "      <td>1</td>\n",
       "      <td>1</td>\n",
       "      <td>411</td>\n",
       "    </tr>\n",
       "    <tr>\n",
       "      <th>1382256</th>\n",
       "      <td>470</td>\n",
       "      <td>16</td>\n",
       "      <td>640.0</td>\n",
       "      <td>4</td>\n",
       "      <td>1</td>\n",
       "      <td>1</td>\n",
       "      <td>411</td>\n",
       "    </tr>\n",
       "  </tbody>\n",
       "</table>\n",
       "<p>5500 rows × 7 columns</p>\n",
       "</div>"
      ],
      "text/plain": [
       "         recency  frequency  monetary_value  r_quartile  f_quartile  \\\n",
       "pk_cid                                                                \n",
       "1374819      505         17          4290.0           4           1   \n",
       "1392320      408         14          3190.0           4           1   \n",
       "1377496      492         17          2880.0           4           1   \n",
       "1374123      508         17          2850.0           4           1   \n",
       "1374403      506         17          2840.0           4           1   \n",
       "...          ...        ...             ...         ...         ...   \n",
       "1401318      351         12           640.0           4           1   \n",
       "1397743      374         13           640.0           4           1   \n",
       "1397057      379         12           640.0           4           1   \n",
       "1399722      361         12           640.0           4           1   \n",
       "1382256      470         16           640.0           4           1   \n",
       "\n",
       "         m_quartile RFMScore  \n",
       "pk_cid                        \n",
       "1374819           1      411  \n",
       "1392320           1      411  \n",
       "1377496           1      411  \n",
       "1374123           1      411  \n",
       "1374403           1      411  \n",
       "...             ...      ...  \n",
       "1401318           1      411  \n",
       "1397743           1      411  \n",
       "1397057           1      411  \n",
       "1399722           1      411  \n",
       "1382256           1      411  \n",
       "\n",
       "[5500 rows x 7 columns]"
      ]
     },
     "execution_count": 34,
     "metadata": {},
     "output_type": "execute_result"
    }
   ],
   "source": [
    "df_best1"
   ]
  },
  {
   "cell_type": "code",
   "execution_count": 35,
   "metadata": {
    "scrolled": true
   },
   "outputs": [],
   "source": [
    "df_best_total = pd.concat([df_best,df_best1],axis=0)"
   ]
  },
  {
   "cell_type": "code",
   "execution_count": 36,
   "metadata": {},
   "outputs": [
    {
     "data": {
      "text/html": [
       "<div>\n",
       "<style scoped>\n",
       "    .dataframe tbody tr th:only-of-type {\n",
       "        vertical-align: middle;\n",
       "    }\n",
       "\n",
       "    .dataframe tbody tr th {\n",
       "        vertical-align: top;\n",
       "    }\n",
       "\n",
       "    .dataframe thead th {\n",
       "        text-align: right;\n",
       "    }\n",
       "</style>\n",
       "<table border=\"1\" class=\"dataframe\">\n",
       "  <thead>\n",
       "    <tr style=\"text-align: right;\">\n",
       "      <th></th>\n",
       "      <th>recency</th>\n",
       "      <th>frequency</th>\n",
       "      <th>monetary_value</th>\n",
       "      <th>r_quartile</th>\n",
       "      <th>f_quartile</th>\n",
       "      <th>m_quartile</th>\n",
       "      <th>RFMScore</th>\n",
       "    </tr>\n",
       "    <tr>\n",
       "      <th>pk_cid</th>\n",
       "      <th></th>\n",
       "      <th></th>\n",
       "      <th></th>\n",
       "      <th></th>\n",
       "      <th></th>\n",
       "      <th></th>\n",
       "      <th></th>\n",
       "    </tr>\n",
       "  </thead>\n",
       "  <tbody>\n",
       "    <tr>\n",
       "      <th>1517456</th>\n",
       "      <td>161</td>\n",
       "      <td>6</td>\n",
       "      <td>910.0</td>\n",
       "      <td>1</td>\n",
       "      <td>4</td>\n",
       "      <td>1</td>\n",
       "      <td>141</td>\n",
       "    </tr>\n",
       "    <tr>\n",
       "      <th>1512063</th>\n",
       "      <td>178</td>\n",
       "      <td>6</td>\n",
       "      <td>900.0</td>\n",
       "      <td>1</td>\n",
       "      <td>4</td>\n",
       "      <td>1</td>\n",
       "      <td>141</td>\n",
       "    </tr>\n",
       "    <tr>\n",
       "      <th>1515010</th>\n",
       "      <td>169</td>\n",
       "      <td>6</td>\n",
       "      <td>900.0</td>\n",
       "      <td>1</td>\n",
       "      <td>4</td>\n",
       "      <td>1</td>\n",
       "      <td>141</td>\n",
       "    </tr>\n",
       "    <tr>\n",
       "      <th>1520203</th>\n",
       "      <td>148</td>\n",
       "      <td>6</td>\n",
       "      <td>840.0</td>\n",
       "      <td>1</td>\n",
       "      <td>4</td>\n",
       "      <td>1</td>\n",
       "      <td>141</td>\n",
       "    </tr>\n",
       "    <tr>\n",
       "      <th>1518210</th>\n",
       "      <td>157</td>\n",
       "      <td>6</td>\n",
       "      <td>810.0</td>\n",
       "      <td>1</td>\n",
       "      <td>4</td>\n",
       "      <td>1</td>\n",
       "      <td>141</td>\n",
       "    </tr>\n",
       "    <tr>\n",
       "      <th>...</th>\n",
       "      <td>...</td>\n",
       "      <td>...</td>\n",
       "      <td>...</td>\n",
       "      <td>...</td>\n",
       "      <td>...</td>\n",
       "      <td>...</td>\n",
       "      <td>...</td>\n",
       "    </tr>\n",
       "    <tr>\n",
       "      <th>1401318</th>\n",
       "      <td>351</td>\n",
       "      <td>12</td>\n",
       "      <td>640.0</td>\n",
       "      <td>4</td>\n",
       "      <td>1</td>\n",
       "      <td>1</td>\n",
       "      <td>411</td>\n",
       "    </tr>\n",
       "    <tr>\n",
       "      <th>1397743</th>\n",
       "      <td>374</td>\n",
       "      <td>13</td>\n",
       "      <td>640.0</td>\n",
       "      <td>4</td>\n",
       "      <td>1</td>\n",
       "      <td>1</td>\n",
       "      <td>411</td>\n",
       "    </tr>\n",
       "    <tr>\n",
       "      <th>1397057</th>\n",
       "      <td>379</td>\n",
       "      <td>12</td>\n",
       "      <td>640.0</td>\n",
       "      <td>4</td>\n",
       "      <td>1</td>\n",
       "      <td>1</td>\n",
       "      <td>411</td>\n",
       "    </tr>\n",
       "    <tr>\n",
       "      <th>1399722</th>\n",
       "      <td>361</td>\n",
       "      <td>12</td>\n",
       "      <td>640.0</td>\n",
       "      <td>4</td>\n",
       "      <td>1</td>\n",
       "      <td>1</td>\n",
       "      <td>411</td>\n",
       "    </tr>\n",
       "    <tr>\n",
       "      <th>1382256</th>\n",
       "      <td>470</td>\n",
       "      <td>16</td>\n",
       "      <td>640.0</td>\n",
       "      <td>4</td>\n",
       "      <td>1</td>\n",
       "      <td>1</td>\n",
       "      <td>411</td>\n",
       "    </tr>\n",
       "  </tbody>\n",
       "</table>\n",
       "<p>9972 rows × 7 columns</p>\n",
       "</div>"
      ],
      "text/plain": [
       "         recency  frequency  monetary_value  r_quartile  f_quartile  \\\n",
       "pk_cid                                                                \n",
       "1517456      161          6           910.0           1           4   \n",
       "1512063      178          6           900.0           1           4   \n",
       "1515010      169          6           900.0           1           4   \n",
       "1520203      148          6           840.0           1           4   \n",
       "1518210      157          6           810.0           1           4   \n",
       "...          ...        ...             ...         ...         ...   \n",
       "1401318      351         12           640.0           4           1   \n",
       "1397743      374         13           640.0           4           1   \n",
       "1397057      379         12           640.0           4           1   \n",
       "1399722      361         12           640.0           4           1   \n",
       "1382256      470         16           640.0           4           1   \n",
       "\n",
       "         m_quartile RFMScore  \n",
       "pk_cid                        \n",
       "1517456           1      141  \n",
       "1512063           1      141  \n",
       "1515010           1      141  \n",
       "1520203           1      141  \n",
       "1518210           1      141  \n",
       "...             ...      ...  \n",
       "1401318           1      411  \n",
       "1397743           1      411  \n",
       "1397057           1      411  \n",
       "1399722           1      411  \n",
       "1382256           1      411  \n",
       "\n",
       "[9972 rows x 7 columns]"
      ]
     },
     "execution_count": 36,
     "metadata": {},
     "output_type": "execute_result"
    }
   ],
   "source": [
    "df_best_total"
   ]
  },
  {
   "cell_type": "code",
   "execution_count": 37,
   "metadata": {},
   "outputs": [
    {
     "data": {
      "text/plain": [
       "411    5500\n",
       "141    4472\n",
       "Name: RFMScore, dtype: int64"
      ]
     },
     "execution_count": 37,
     "metadata": {},
     "output_type": "execute_result"
    }
   ],
   "source": [
    "df_best_total['RFMScore'].value_counts()"
   ]
  },
  {
   "cell_type": "code",
   "execution_count": 38,
   "metadata": {
    "scrolled": true
   },
   "outputs": [
    {
     "data": {
      "text/plain": [
       "0          28.0\n",
       "1          28.0\n",
       "2          28.0\n",
       "3          28.0\n",
       "4          28.0\n",
       "           ... \n",
       "1250311     8.0\n",
       "1250312    28.0\n",
       "1250313    21.0\n",
       "1250314    28.0\n",
       "1250315    28.0\n",
       "Name: region_code, Length: 1250316, dtype: float64"
      ]
     },
     "execution_count": 38,
     "metadata": {},
     "output_type": "execute_result"
    }
   ],
   "source": [
    "df['region_code']"
   ]
  },
  {
   "cell_type": "code",
   "execution_count": 39,
   "metadata": {
    "scrolled": true
   },
   "outputs": [
    {
     "data": {
      "text/plain": [
       "0          59\n",
       "1          59\n",
       "2          62\n",
       "3          62\n",
       "4          62\n",
       "           ..\n",
       "1250311    28\n",
       "1250312    43\n",
       "1250313    46\n",
       "1250314    76\n",
       "1250315    70\n",
       "Name: age, Length: 1250316, dtype: int64"
      ]
     },
     "execution_count": 39,
     "metadata": {},
     "output_type": "execute_result"
    }
   ],
   "source": [
    "df['age']"
   ]
  },
  {
   "cell_type": "code",
   "execution_count": 40,
   "metadata": {},
   "outputs": [
    {
     "data": {
      "text/plain": [
       "0          113652.32033\n",
       "1          113652.32033\n",
       "2          113652.32033\n",
       "3          113652.32033\n",
       "4          113652.32033\n",
       "               ...     \n",
       "1250311    113652.32033\n",
       "1250312    113652.32033\n",
       "1250313    113652.32033\n",
       "1250314    113652.32033\n",
       "1250315    113652.32033\n",
       "Name: salary, Length: 1250316, dtype: float64"
      ]
     },
     "execution_count": 40,
     "metadata": {},
     "output_type": "execute_result"
    }
   ],
   "source": [
    "df['salary']"
   ]
  },
  {
   "cell_type": "code",
   "execution_count": 41,
   "metadata": {
    "scrolled": true
   },
   "outputs": [
    {
     "data": {
      "text/html": [
       "<div>\n",
       "<style scoped>\n",
       "    .dataframe tbody tr th:only-of-type {\n",
       "        vertical-align: middle;\n",
       "    }\n",
       "\n",
       "    .dataframe tbody tr th {\n",
       "        vertical-align: top;\n",
       "    }\n",
       "\n",
       "    .dataframe thead th {\n",
       "        text-align: right;\n",
       "    }\n",
       "</style>\n",
       "<table border=\"1\" class=\"dataframe\">\n",
       "  <thead>\n",
       "    <tr style=\"text-align: right;\">\n",
       "      <th></th>\n",
       "      <th>recency</th>\n",
       "      <th>frequency</th>\n",
       "      <th>monetary_value</th>\n",
       "      <th>r_quartile</th>\n",
       "      <th>f_quartile</th>\n",
       "      <th>m_quartile</th>\n",
       "      <th>RFMScore</th>\n",
       "    </tr>\n",
       "    <tr>\n",
       "      <th>pk_cid</th>\n",
       "      <th></th>\n",
       "      <th></th>\n",
       "      <th></th>\n",
       "      <th></th>\n",
       "      <th></th>\n",
       "      <th></th>\n",
       "      <th></th>\n",
       "    </tr>\n",
       "  </thead>\n",
       "  <tbody>\n",
       "    <tr>\n",
       "      <th>1517456</th>\n",
       "      <td>161</td>\n",
       "      <td>6</td>\n",
       "      <td>910.0</td>\n",
       "      <td>1</td>\n",
       "      <td>4</td>\n",
       "      <td>1</td>\n",
       "      <td>141</td>\n",
       "    </tr>\n",
       "    <tr>\n",
       "      <th>1512063</th>\n",
       "      <td>178</td>\n",
       "      <td>6</td>\n",
       "      <td>900.0</td>\n",
       "      <td>1</td>\n",
       "      <td>4</td>\n",
       "      <td>1</td>\n",
       "      <td>141</td>\n",
       "    </tr>\n",
       "    <tr>\n",
       "      <th>1515010</th>\n",
       "      <td>169</td>\n",
       "      <td>6</td>\n",
       "      <td>900.0</td>\n",
       "      <td>1</td>\n",
       "      <td>4</td>\n",
       "      <td>1</td>\n",
       "      <td>141</td>\n",
       "    </tr>\n",
       "    <tr>\n",
       "      <th>1520203</th>\n",
       "      <td>148</td>\n",
       "      <td>6</td>\n",
       "      <td>840.0</td>\n",
       "      <td>1</td>\n",
       "      <td>4</td>\n",
       "      <td>1</td>\n",
       "      <td>141</td>\n",
       "    </tr>\n",
       "    <tr>\n",
       "      <th>1518210</th>\n",
       "      <td>157</td>\n",
       "      <td>6</td>\n",
       "      <td>810.0</td>\n",
       "      <td>1</td>\n",
       "      <td>4</td>\n",
       "      <td>1</td>\n",
       "      <td>141</td>\n",
       "    </tr>\n",
       "    <tr>\n",
       "      <th>...</th>\n",
       "      <td>...</td>\n",
       "      <td>...</td>\n",
       "      <td>...</td>\n",
       "      <td>...</td>\n",
       "      <td>...</td>\n",
       "      <td>...</td>\n",
       "      <td>...</td>\n",
       "    </tr>\n",
       "    <tr>\n",
       "      <th>1401318</th>\n",
       "      <td>351</td>\n",
       "      <td>12</td>\n",
       "      <td>640.0</td>\n",
       "      <td>4</td>\n",
       "      <td>1</td>\n",
       "      <td>1</td>\n",
       "      <td>411</td>\n",
       "    </tr>\n",
       "    <tr>\n",
       "      <th>1397743</th>\n",
       "      <td>374</td>\n",
       "      <td>13</td>\n",
       "      <td>640.0</td>\n",
       "      <td>4</td>\n",
       "      <td>1</td>\n",
       "      <td>1</td>\n",
       "      <td>411</td>\n",
       "    </tr>\n",
       "    <tr>\n",
       "      <th>1397057</th>\n",
       "      <td>379</td>\n",
       "      <td>12</td>\n",
       "      <td>640.0</td>\n",
       "      <td>4</td>\n",
       "      <td>1</td>\n",
       "      <td>1</td>\n",
       "      <td>411</td>\n",
       "    </tr>\n",
       "    <tr>\n",
       "      <th>1399722</th>\n",
       "      <td>361</td>\n",
       "      <td>12</td>\n",
       "      <td>640.0</td>\n",
       "      <td>4</td>\n",
       "      <td>1</td>\n",
       "      <td>1</td>\n",
       "      <td>411</td>\n",
       "    </tr>\n",
       "    <tr>\n",
       "      <th>1382256</th>\n",
       "      <td>470</td>\n",
       "      <td>16</td>\n",
       "      <td>640.0</td>\n",
       "      <td>4</td>\n",
       "      <td>1</td>\n",
       "      <td>1</td>\n",
       "      <td>411</td>\n",
       "    </tr>\n",
       "  </tbody>\n",
       "</table>\n",
       "<p>9972 rows × 7 columns</p>\n",
       "</div>"
      ],
      "text/plain": [
       "         recency  frequency  monetary_value  r_quartile  f_quartile  \\\n",
       "pk_cid                                                                \n",
       "1517456      161          6           910.0           1           4   \n",
       "1512063      178          6           900.0           1           4   \n",
       "1515010      169          6           900.0           1           4   \n",
       "1520203      148          6           840.0           1           4   \n",
       "1518210      157          6           810.0           1           4   \n",
       "...          ...        ...             ...         ...         ...   \n",
       "1401318      351         12           640.0           4           1   \n",
       "1397743      374         13           640.0           4           1   \n",
       "1397057      379         12           640.0           4           1   \n",
       "1399722      361         12           640.0           4           1   \n",
       "1382256      470         16           640.0           4           1   \n",
       "\n",
       "         m_quartile RFMScore  \n",
       "pk_cid                        \n",
       "1517456           1      141  \n",
       "1512063           1      141  \n",
       "1515010           1      141  \n",
       "1520203           1      141  \n",
       "1518210           1      141  \n",
       "...             ...      ...  \n",
       "1401318           1      411  \n",
       "1397743           1      411  \n",
       "1397057           1      411  \n",
       "1399722           1      411  \n",
       "1382256           1      411  \n",
       "\n",
       "[9972 rows x 7 columns]"
      ]
     },
     "execution_count": 41,
     "metadata": {},
     "output_type": "execute_result"
    }
   ],
   "source": [
    "df_best_total"
   ]
  },
  {
   "cell_type": "code",
   "execution_count": 42,
   "metadata": {},
   "outputs": [
    {
     "data": {
      "text/plain": [
       "Index(['Unnamed: 0', 'pk_cid', 'pk_partition', 'entry_date', 'active_customer',\n",
       "       'short_term_deposit', 'loans', 'mortgage', 'funds', 'securities',\n",
       "       'long_term_deposit', 'credit_card', 'payroll', 'pension_plan',\n",
       "       'payroll_account', 'emc_account', 'debit_card', 'em_account_p',\n",
       "       'em_acount', 'region_code', 'gender', 'age', 'deceased', 'salary',\n",
       "       'entry_channel_KHE', 'entry_channel_KFC', 'entry_channel_KHQ',\n",
       "       'entry_channel_KAT', 'entry_channel_KHK', 'entry_channel_KHM',\n",
       "       'entry_channel_KHN', 'entry_channel_KFA', 'entry_channel_KHD',\n",
       "       'entry_channel_RED', 'entry_channel_KHL', 'entry_channel_KHF',\n",
       "       'entry_channel_KHO', 'entry_channel_KAZ', 'entry_channel_KHC',\n",
       "       'entry_channel_KBG', 'entry_channel_Others', 'segment_01 - TOP',\n",
       "       'segment_02 - PARTICULARES', 'segment_03 - UNIVERSITARIO',\n",
       "       'country_id_ES', 'country_id_GB', 'country_id_FR', 'country_id_DE',\n",
       "       'country_id_US', 'country_id_CH', 'country_id_Others',\n",
       "       'em_acount_revenue', 'em_account_p_revenue', 'revenue_emc_account',\n",
       "       'revenue_funds', 'revenue_loans', 'revenue_long_term_deposit',\n",
       "       'revenue_mortgage', 'revenue_pension_plan', 'revenue_securities',\n",
       "       'revenue_credit_card', 'revenue_debit_card',\n",
       "       'revenue_short_term_deposit', 'revenue_payroll',\n",
       "       'revenue_payroll_account', 'revenue_total', 'unidades_vendidas_total',\n",
       "       'Frequency'],\n",
       "      dtype='object')"
      ]
     },
     "execution_count": 42,
     "metadata": {},
     "output_type": "execute_result"
    }
   ],
   "source": [
    "df.columns"
   ]
  },
  {
   "cell_type": "code",
   "execution_count": 67,
   "metadata": {},
   "outputs": [],
   "source": [
    "df_best_features = df[['pk_cid','region_code','salary','age','gender','unidades_vendidas_total','em_acount','debit_card','salary']]"
   ]
  },
  {
   "cell_type": "code",
   "execution_count": 68,
   "metadata": {},
   "outputs": [
    {
     "data": {
      "text/plain": [
       "(1250316, 9)"
      ]
     },
     "execution_count": 68,
     "metadata": {},
     "output_type": "execute_result"
    }
   ],
   "source": [
    "df_best_features.shape"
   ]
  },
  {
   "cell_type": "code",
   "execution_count": 69,
   "metadata": {},
   "outputs": [],
   "source": [
    "test = df_best_features.groupby(['pk_cid']).mean()"
   ]
  },
  {
   "cell_type": "code",
   "execution_count": 70,
   "metadata": {},
   "outputs": [
    {
     "data": {
      "text/plain": [
       "(153232, 8)"
      ]
     },
     "execution_count": 70,
     "metadata": {},
     "output_type": "execute_result"
    }
   ],
   "source": [
    "test.shape"
   ]
  },
  {
   "cell_type": "code",
   "execution_count": 71,
   "metadata": {},
   "outputs": [
    {
     "data": {
      "text/html": [
       "<div>\n",
       "<style scoped>\n",
       "    .dataframe tbody tr th:only-of-type {\n",
       "        vertical-align: middle;\n",
       "    }\n",
       "\n",
       "    .dataframe tbody tr th {\n",
       "        vertical-align: top;\n",
       "    }\n",
       "\n",
       "    .dataframe thead th {\n",
       "        text-align: right;\n",
       "    }\n",
       "</style>\n",
       "<table border=\"1\" class=\"dataframe\">\n",
       "  <thead>\n",
       "    <tr style=\"text-align: right;\">\n",
       "      <th></th>\n",
       "      <th>region_code</th>\n",
       "      <th>salary</th>\n",
       "      <th>age</th>\n",
       "      <th>gender</th>\n",
       "      <th>unidades_vendidas_total</th>\n",
       "      <th>em_acount</th>\n",
       "      <th>debit_card</th>\n",
       "      <th>salary</th>\n",
       "    </tr>\n",
       "    <tr>\n",
       "      <th>pk_cid</th>\n",
       "      <th></th>\n",
       "      <th></th>\n",
       "      <th></th>\n",
       "      <th></th>\n",
       "      <th></th>\n",
       "      <th></th>\n",
       "      <th></th>\n",
       "      <th></th>\n",
       "    </tr>\n",
       "  </thead>\n",
       "  <tbody>\n",
       "    <tr>\n",
       "      <th>15891</th>\n",
       "      <td>28.0</td>\n",
       "      <td>113652.32033</td>\n",
       "      <td>59.000000</td>\n",
       "      <td>1.0</td>\n",
       "      <td>0.500000</td>\n",
       "      <td>0.500000</td>\n",
       "      <td>0.000000</td>\n",
       "      <td>113652.32033</td>\n",
       "    </tr>\n",
       "    <tr>\n",
       "      <th>16063</th>\n",
       "      <td>28.0</td>\n",
       "      <td>113652.32033</td>\n",
       "      <td>62.000000</td>\n",
       "      <td>1.0</td>\n",
       "      <td>0.000000</td>\n",
       "      <td>0.000000</td>\n",
       "      <td>0.000000</td>\n",
       "      <td>113652.32033</td>\n",
       "    </tr>\n",
       "    <tr>\n",
       "      <th>16203</th>\n",
       "      <td>8.0</td>\n",
       "      <td>113652.32033</td>\n",
       "      <td>70.000000</td>\n",
       "      <td>2.0</td>\n",
       "      <td>0.833333</td>\n",
       "      <td>0.833333</td>\n",
       "      <td>0.000000</td>\n",
       "      <td>113652.32033</td>\n",
       "    </tr>\n",
       "    <tr>\n",
       "      <th>16502</th>\n",
       "      <td>28.0</td>\n",
       "      <td>113652.32033</td>\n",
       "      <td>57.888889</td>\n",
       "      <td>1.0</td>\n",
       "      <td>1.444444</td>\n",
       "      <td>0.888889</td>\n",
       "      <td>0.000000</td>\n",
       "      <td>113652.32033</td>\n",
       "    </tr>\n",
       "    <tr>\n",
       "      <th>17799</th>\n",
       "      <td>28.0</td>\n",
       "      <td>84511.86000</td>\n",
       "      <td>46.294118</td>\n",
       "      <td>1.0</td>\n",
       "      <td>1.000000</td>\n",
       "      <td>1.000000</td>\n",
       "      <td>0.000000</td>\n",
       "      <td>84511.86000</td>\n",
       "    </tr>\n",
       "    <tr>\n",
       "      <th>17980</th>\n",
       "      <td>28.0</td>\n",
       "      <td>282461.79000</td>\n",
       "      <td>77.230769</td>\n",
       "      <td>2.0</td>\n",
       "      <td>2.000000</td>\n",
       "      <td>0.000000</td>\n",
       "      <td>0.000000</td>\n",
       "      <td>282461.79000</td>\n",
       "    </tr>\n",
       "    <tr>\n",
       "      <th>18146</th>\n",
       "      <td>28.0</td>\n",
       "      <td>113652.32033</td>\n",
       "      <td>65.000000</td>\n",
       "      <td>2.0</td>\n",
       "      <td>0.250000</td>\n",
       "      <td>0.000000</td>\n",
       "      <td>0.000000</td>\n",
       "      <td>113652.32033</td>\n",
       "    </tr>\n",
       "    <tr>\n",
       "      <th>19812</th>\n",
       "      <td>28.0</td>\n",
       "      <td>113652.32033</td>\n",
       "      <td>53.750000</td>\n",
       "      <td>1.0</td>\n",
       "      <td>0.000000</td>\n",
       "      <td>0.000000</td>\n",
       "      <td>0.000000</td>\n",
       "      <td>113652.32033</td>\n",
       "    </tr>\n",
       "    <tr>\n",
       "      <th>20243</th>\n",
       "      <td>28.0</td>\n",
       "      <td>113652.32033</td>\n",
       "      <td>75.333333</td>\n",
       "      <td>1.0</td>\n",
       "      <td>0.666667</td>\n",
       "      <td>0.000000</td>\n",
       "      <td>0.000000</td>\n",
       "      <td>113652.32033</td>\n",
       "    </tr>\n",
       "    <tr>\n",
       "      <th>21719</th>\n",
       "      <td>28.0</td>\n",
       "      <td>97573.38000</td>\n",
       "      <td>56.142857</td>\n",
       "      <td>1.0</td>\n",
       "      <td>1.928571</td>\n",
       "      <td>0.428571</td>\n",
       "      <td>0.928571</td>\n",
       "      <td>97573.38000</td>\n",
       "    </tr>\n",
       "  </tbody>\n",
       "</table>\n",
       "</div>"
      ],
      "text/plain": [
       "        region_code        salary        age  gender  unidades_vendidas_total  \\\n",
       "pk_cid                                                                          \n",
       "15891          28.0  113652.32033  59.000000     1.0                 0.500000   \n",
       "16063          28.0  113652.32033  62.000000     1.0                 0.000000   \n",
       "16203           8.0  113652.32033  70.000000     2.0                 0.833333   \n",
       "16502          28.0  113652.32033  57.888889     1.0                 1.444444   \n",
       "17799          28.0   84511.86000  46.294118     1.0                 1.000000   \n",
       "17980          28.0  282461.79000  77.230769     2.0                 2.000000   \n",
       "18146          28.0  113652.32033  65.000000     2.0                 0.250000   \n",
       "19812          28.0  113652.32033  53.750000     1.0                 0.000000   \n",
       "20243          28.0  113652.32033  75.333333     1.0                 0.666667   \n",
       "21719          28.0   97573.38000  56.142857     1.0                 1.928571   \n",
       "\n",
       "        em_acount  debit_card        salary  \n",
       "pk_cid                                       \n",
       "15891    0.500000    0.000000  113652.32033  \n",
       "16063    0.000000    0.000000  113652.32033  \n",
       "16203    0.833333    0.000000  113652.32033  \n",
       "16502    0.888889    0.000000  113652.32033  \n",
       "17799    1.000000    0.000000   84511.86000  \n",
       "17980    0.000000    0.000000  282461.79000  \n",
       "18146    0.000000    0.000000  113652.32033  \n",
       "19812    0.000000    0.000000  113652.32033  \n",
       "20243    0.000000    0.000000  113652.32033  \n",
       "21719    0.428571    0.928571   97573.38000  "
      ]
     },
     "execution_count": 71,
     "metadata": {},
     "output_type": "execute_result"
    }
   ],
   "source": [
    "test.head(10)"
   ]
  },
  {
   "cell_type": "code",
   "execution_count": 72,
   "metadata": {},
   "outputs": [],
   "source": [
    "definitivo_10000clientes = pd.merge(df_best_total,test,on='pk_cid',how='left')"
   ]
  },
  {
   "cell_type": "code",
   "execution_count": 73,
   "metadata": {},
   "outputs": [
    {
     "data": {
      "text/html": [
       "<div>\n",
       "<style scoped>\n",
       "    .dataframe tbody tr th:only-of-type {\n",
       "        vertical-align: middle;\n",
       "    }\n",
       "\n",
       "    .dataframe tbody tr th {\n",
       "        vertical-align: top;\n",
       "    }\n",
       "\n",
       "    .dataframe thead th {\n",
       "        text-align: right;\n",
       "    }\n",
       "</style>\n",
       "<table border=\"1\" class=\"dataframe\">\n",
       "  <thead>\n",
       "    <tr style=\"text-align: right;\">\n",
       "      <th></th>\n",
       "      <th>recency</th>\n",
       "      <th>frequency</th>\n",
       "      <th>monetary_value</th>\n",
       "      <th>r_quartile</th>\n",
       "      <th>f_quartile</th>\n",
       "      <th>m_quartile</th>\n",
       "      <th>RFMScore</th>\n",
       "      <th>region_code</th>\n",
       "      <th>salary</th>\n",
       "      <th>age</th>\n",
       "      <th>gender</th>\n",
       "      <th>unidades_vendidas_total</th>\n",
       "      <th>em_acount</th>\n",
       "      <th>debit_card</th>\n",
       "      <th>salary</th>\n",
       "    </tr>\n",
       "    <tr>\n",
       "      <th>pk_cid</th>\n",
       "      <th></th>\n",
       "      <th></th>\n",
       "      <th></th>\n",
       "      <th></th>\n",
       "      <th></th>\n",
       "      <th></th>\n",
       "      <th></th>\n",
       "      <th></th>\n",
       "      <th></th>\n",
       "      <th></th>\n",
       "      <th></th>\n",
       "      <th></th>\n",
       "      <th></th>\n",
       "      <th></th>\n",
       "      <th></th>\n",
       "    </tr>\n",
       "  </thead>\n",
       "  <tbody>\n",
       "    <tr>\n",
       "      <th>1517456</th>\n",
       "      <td>161</td>\n",
       "      <td>6</td>\n",
       "      <td>910.0</td>\n",
       "      <td>1</td>\n",
       "      <td>4</td>\n",
       "      <td>1</td>\n",
       "      <td>141</td>\n",
       "      <td>28.0</td>\n",
       "      <td>113652.32033</td>\n",
       "      <td>37.000000</td>\n",
       "      <td>2.0</td>\n",
       "      <td>4.5</td>\n",
       "      <td>0.166667</td>\n",
       "      <td>0.833333</td>\n",
       "      <td>113652.32033</td>\n",
       "    </tr>\n",
       "    <tr>\n",
       "      <th>1512063</th>\n",
       "      <td>178</td>\n",
       "      <td>6</td>\n",
       "      <td>900.0</td>\n",
       "      <td>1</td>\n",
       "      <td>4</td>\n",
       "      <td>1</td>\n",
       "      <td>141</td>\n",
       "      <td>8.0</td>\n",
       "      <td>113652.32033</td>\n",
       "      <td>32.833333</td>\n",
       "      <td>2.0</td>\n",
       "      <td>4.5</td>\n",
       "      <td>0.000000</td>\n",
       "      <td>0.833333</td>\n",
       "      <td>113652.32033</td>\n",
       "    </tr>\n",
       "    <tr>\n",
       "      <th>1515010</th>\n",
       "      <td>169</td>\n",
       "      <td>6</td>\n",
       "      <td>900.0</td>\n",
       "      <td>1</td>\n",
       "      <td>4</td>\n",
       "      <td>1</td>\n",
       "      <td>141</td>\n",
       "      <td>28.0</td>\n",
       "      <td>113652.32033</td>\n",
       "      <td>31.000000</td>\n",
       "      <td>1.0</td>\n",
       "      <td>5.0</td>\n",
       "      <td>0.000000</td>\n",
       "      <td>0.833333</td>\n",
       "      <td>113652.32033</td>\n",
       "    </tr>\n",
       "    <tr>\n",
       "      <th>1520203</th>\n",
       "      <td>148</td>\n",
       "      <td>6</td>\n",
       "      <td>840.0</td>\n",
       "      <td>1</td>\n",
       "      <td>4</td>\n",
       "      <td>1</td>\n",
       "      <td>141</td>\n",
       "      <td>8.0</td>\n",
       "      <td>113652.32033</td>\n",
       "      <td>34.500000</td>\n",
       "      <td>1.0</td>\n",
       "      <td>4.5</td>\n",
       "      <td>0.833333</td>\n",
       "      <td>0.833333</td>\n",
       "      <td>113652.32033</td>\n",
       "    </tr>\n",
       "    <tr>\n",
       "      <th>1518210</th>\n",
       "      <td>157</td>\n",
       "      <td>6</td>\n",
       "      <td>810.0</td>\n",
       "      <td>1</td>\n",
       "      <td>4</td>\n",
       "      <td>1</td>\n",
       "      <td>141</td>\n",
       "      <td>28.0</td>\n",
       "      <td>113652.32033</td>\n",
       "      <td>65.000000</td>\n",
       "      <td>2.0</td>\n",
       "      <td>4.0</td>\n",
       "      <td>0.166667</td>\n",
       "      <td>1.000000</td>\n",
       "      <td>113652.32033</td>\n",
       "    </tr>\n",
       "  </tbody>\n",
       "</table>\n",
       "</div>"
      ],
      "text/plain": [
       "         recency  frequency  monetary_value  r_quartile  f_quartile  \\\n",
       "pk_cid                                                                \n",
       "1517456      161          6           910.0           1           4   \n",
       "1512063      178          6           900.0           1           4   \n",
       "1515010      169          6           900.0           1           4   \n",
       "1520203      148          6           840.0           1           4   \n",
       "1518210      157          6           810.0           1           4   \n",
       "\n",
       "         m_quartile RFMScore  region_code        salary        age  gender  \\\n",
       "pk_cid                                                                       \n",
       "1517456           1      141         28.0  113652.32033  37.000000     2.0   \n",
       "1512063           1      141          8.0  113652.32033  32.833333     2.0   \n",
       "1515010           1      141         28.0  113652.32033  31.000000     1.0   \n",
       "1520203           1      141          8.0  113652.32033  34.500000     1.0   \n",
       "1518210           1      141         28.0  113652.32033  65.000000     2.0   \n",
       "\n",
       "         unidades_vendidas_total  em_acount  debit_card        salary  \n",
       "pk_cid                                                                 \n",
       "1517456                      4.5   0.166667    0.833333  113652.32033  \n",
       "1512063                      4.5   0.000000    0.833333  113652.32033  \n",
       "1515010                      5.0   0.000000    0.833333  113652.32033  \n",
       "1520203                      4.5   0.833333    0.833333  113652.32033  \n",
       "1518210                      4.0   0.166667    1.000000  113652.32033  "
      ]
     },
     "execution_count": 73,
     "metadata": {},
     "output_type": "execute_result"
    }
   ],
   "source": [
    "definitivo_10000clientes.head()"
   ]
  },
  {
   "cell_type": "code",
   "execution_count": 74,
   "metadata": {
    "scrolled": true
   },
   "outputs": [
    {
     "data": {
      "text/plain": [
       "(9972, 15)"
      ]
     },
     "execution_count": 74,
     "metadata": {},
     "output_type": "execute_result"
    }
   ],
   "source": [
    "definitivo_10000clientes.shape"
   ]
  },
  {
   "cell_type": "code",
   "execution_count": 75,
   "metadata": {},
   "outputs": [
    {
     "data": {
      "text/html": [
       "<div>\n",
       "<style scoped>\n",
       "    .dataframe tbody tr th:only-of-type {\n",
       "        vertical-align: middle;\n",
       "    }\n",
       "\n",
       "    .dataframe tbody tr th {\n",
       "        vertical-align: top;\n",
       "    }\n",
       "\n",
       "    .dataframe thead th {\n",
       "        text-align: right;\n",
       "    }\n",
       "</style>\n",
       "<table border=\"1\" class=\"dataframe\">\n",
       "  <thead>\n",
       "    <tr style=\"text-align: right;\">\n",
       "      <th></th>\n",
       "      <th>recency</th>\n",
       "      <th>frequency</th>\n",
       "      <th>monetary_value</th>\n",
       "      <th>r_quartile</th>\n",
       "      <th>f_quartile</th>\n",
       "      <th>m_quartile</th>\n",
       "      <th>RFMScore</th>\n",
       "      <th>region_code</th>\n",
       "      <th>salary</th>\n",
       "      <th>age</th>\n",
       "      <th>gender</th>\n",
       "      <th>unidades_vendidas_total</th>\n",
       "      <th>em_acount</th>\n",
       "      <th>debit_card</th>\n",
       "      <th>salary</th>\n",
       "    </tr>\n",
       "    <tr>\n",
       "      <th>pk_cid</th>\n",
       "      <th></th>\n",
       "      <th></th>\n",
       "      <th></th>\n",
       "      <th></th>\n",
       "      <th></th>\n",
       "      <th></th>\n",
       "      <th></th>\n",
       "      <th></th>\n",
       "      <th></th>\n",
       "      <th></th>\n",
       "      <th></th>\n",
       "      <th></th>\n",
       "      <th></th>\n",
       "      <th></th>\n",
       "      <th></th>\n",
       "    </tr>\n",
       "  </thead>\n",
       "  <tbody>\n",
       "    <tr>\n",
       "      <th>1517456</th>\n",
       "      <td>161</td>\n",
       "      <td>6</td>\n",
       "      <td>910.0</td>\n",
       "      <td>1</td>\n",
       "      <td>4</td>\n",
       "      <td>1</td>\n",
       "      <td>141</td>\n",
       "      <td>28.0</td>\n",
       "      <td>113652.32033</td>\n",
       "      <td>37.000000</td>\n",
       "      <td>2.0</td>\n",
       "      <td>4.500000</td>\n",
       "      <td>0.166667</td>\n",
       "      <td>0.833333</td>\n",
       "      <td>113652.32033</td>\n",
       "    </tr>\n",
       "    <tr>\n",
       "      <th>1512063</th>\n",
       "      <td>178</td>\n",
       "      <td>6</td>\n",
       "      <td>900.0</td>\n",
       "      <td>1</td>\n",
       "      <td>4</td>\n",
       "      <td>1</td>\n",
       "      <td>141</td>\n",
       "      <td>8.0</td>\n",
       "      <td>113652.32033</td>\n",
       "      <td>32.833333</td>\n",
       "      <td>2.0</td>\n",
       "      <td>4.500000</td>\n",
       "      <td>0.000000</td>\n",
       "      <td>0.833333</td>\n",
       "      <td>113652.32033</td>\n",
       "    </tr>\n",
       "    <tr>\n",
       "      <th>1515010</th>\n",
       "      <td>169</td>\n",
       "      <td>6</td>\n",
       "      <td>900.0</td>\n",
       "      <td>1</td>\n",
       "      <td>4</td>\n",
       "      <td>1</td>\n",
       "      <td>141</td>\n",
       "      <td>28.0</td>\n",
       "      <td>113652.32033</td>\n",
       "      <td>31.000000</td>\n",
       "      <td>1.0</td>\n",
       "      <td>5.000000</td>\n",
       "      <td>0.000000</td>\n",
       "      <td>0.833333</td>\n",
       "      <td>113652.32033</td>\n",
       "    </tr>\n",
       "    <tr>\n",
       "      <th>1520203</th>\n",
       "      <td>148</td>\n",
       "      <td>6</td>\n",
       "      <td>840.0</td>\n",
       "      <td>1</td>\n",
       "      <td>4</td>\n",
       "      <td>1</td>\n",
       "      <td>141</td>\n",
       "      <td>8.0</td>\n",
       "      <td>113652.32033</td>\n",
       "      <td>34.500000</td>\n",
       "      <td>1.0</td>\n",
       "      <td>4.500000</td>\n",
       "      <td>0.833333</td>\n",
       "      <td>0.833333</td>\n",
       "      <td>113652.32033</td>\n",
       "    </tr>\n",
       "    <tr>\n",
       "      <th>1518210</th>\n",
       "      <td>157</td>\n",
       "      <td>6</td>\n",
       "      <td>810.0</td>\n",
       "      <td>1</td>\n",
       "      <td>4</td>\n",
       "      <td>1</td>\n",
       "      <td>141</td>\n",
       "      <td>28.0</td>\n",
       "      <td>113652.32033</td>\n",
       "      <td>65.000000</td>\n",
       "      <td>2.0</td>\n",
       "      <td>4.000000</td>\n",
       "      <td>0.166667</td>\n",
       "      <td>1.000000</td>\n",
       "      <td>113652.32033</td>\n",
       "    </tr>\n",
       "    <tr>\n",
       "      <th>...</th>\n",
       "      <td>...</td>\n",
       "      <td>...</td>\n",
       "      <td>...</td>\n",
       "      <td>...</td>\n",
       "      <td>...</td>\n",
       "      <td>...</td>\n",
       "      <td>...</td>\n",
       "      <td>...</td>\n",
       "      <td>...</td>\n",
       "      <td>...</td>\n",
       "      <td>...</td>\n",
       "      <td>...</td>\n",
       "      <td>...</td>\n",
       "      <td>...</td>\n",
       "      <td>...</td>\n",
       "    </tr>\n",
       "    <tr>\n",
       "      <th>1401318</th>\n",
       "      <td>351</td>\n",
       "      <td>12</td>\n",
       "      <td>640.0</td>\n",
       "      <td>4</td>\n",
       "      <td>1</td>\n",
       "      <td>1</td>\n",
       "      <td>411</td>\n",
       "      <td>28.0</td>\n",
       "      <td>152395.11000</td>\n",
       "      <td>31.333333</td>\n",
       "      <td>1.0</td>\n",
       "      <td>1.916667</td>\n",
       "      <td>0.833333</td>\n",
       "      <td>0.583333</td>\n",
       "      <td>152395.11000</td>\n",
       "    </tr>\n",
       "    <tr>\n",
       "      <th>1397743</th>\n",
       "      <td>374</td>\n",
       "      <td>13</td>\n",
       "      <td>640.0</td>\n",
       "      <td>4</td>\n",
       "      <td>1</td>\n",
       "      <td>1</td>\n",
       "      <td>411</td>\n",
       "      <td>35.0</td>\n",
       "      <td>88566.72000</td>\n",
       "      <td>27.076923</td>\n",
       "      <td>1.0</td>\n",
       "      <td>2.461538</td>\n",
       "      <td>0.230769</td>\n",
       "      <td>0.076923</td>\n",
       "      <td>88566.72000</td>\n",
       "    </tr>\n",
       "    <tr>\n",
       "      <th>1397057</th>\n",
       "      <td>379</td>\n",
       "      <td>12</td>\n",
       "      <td>640.0</td>\n",
       "      <td>4</td>\n",
       "      <td>1</td>\n",
       "      <td>1</td>\n",
       "      <td>411</td>\n",
       "      <td>28.0</td>\n",
       "      <td>84545.25000</td>\n",
       "      <td>45.000000</td>\n",
       "      <td>2.0</td>\n",
       "      <td>2.333333</td>\n",
       "      <td>1.000000</td>\n",
       "      <td>0.000000</td>\n",
       "      <td>84545.25000</td>\n",
       "    </tr>\n",
       "    <tr>\n",
       "      <th>1399722</th>\n",
       "      <td>361</td>\n",
       "      <td>12</td>\n",
       "      <td>640.0</td>\n",
       "      <td>4</td>\n",
       "      <td>1</td>\n",
       "      <td>1</td>\n",
       "      <td>411</td>\n",
       "      <td>33.0</td>\n",
       "      <td>46825.86000</td>\n",
       "      <td>42.666667</td>\n",
       "      <td>2.0</td>\n",
       "      <td>2.750000</td>\n",
       "      <td>0.166667</td>\n",
       "      <td>0.166667</td>\n",
       "      <td>46825.86000</td>\n",
       "    </tr>\n",
       "    <tr>\n",
       "      <th>1382256</th>\n",
       "      <td>470</td>\n",
       "      <td>16</td>\n",
       "      <td>640.0</td>\n",
       "      <td>4</td>\n",
       "      <td>1</td>\n",
       "      <td>1</td>\n",
       "      <td>411</td>\n",
       "      <td>28.0</td>\n",
       "      <td>104109.42000</td>\n",
       "      <td>33.250000</td>\n",
       "      <td>1.0</td>\n",
       "      <td>1.000000</td>\n",
       "      <td>0.000000</td>\n",
       "      <td>0.000000</td>\n",
       "      <td>104109.42000</td>\n",
       "    </tr>\n",
       "  </tbody>\n",
       "</table>\n",
       "<p>9972 rows × 15 columns</p>\n",
       "</div>"
      ],
      "text/plain": [
       "         recency  frequency  monetary_value  r_quartile  f_quartile  \\\n",
       "pk_cid                                                                \n",
       "1517456      161          6           910.0           1           4   \n",
       "1512063      178          6           900.0           1           4   \n",
       "1515010      169          6           900.0           1           4   \n",
       "1520203      148          6           840.0           1           4   \n",
       "1518210      157          6           810.0           1           4   \n",
       "...          ...        ...             ...         ...         ...   \n",
       "1401318      351         12           640.0           4           1   \n",
       "1397743      374         13           640.0           4           1   \n",
       "1397057      379         12           640.0           4           1   \n",
       "1399722      361         12           640.0           4           1   \n",
       "1382256      470         16           640.0           4           1   \n",
       "\n",
       "         m_quartile RFMScore  region_code        salary        age  gender  \\\n",
       "pk_cid                                                                       \n",
       "1517456           1      141         28.0  113652.32033  37.000000     2.0   \n",
       "1512063           1      141          8.0  113652.32033  32.833333     2.0   \n",
       "1515010           1      141         28.0  113652.32033  31.000000     1.0   \n",
       "1520203           1      141          8.0  113652.32033  34.500000     1.0   \n",
       "1518210           1      141         28.0  113652.32033  65.000000     2.0   \n",
       "...             ...      ...          ...           ...        ...     ...   \n",
       "1401318           1      411         28.0  152395.11000  31.333333     1.0   \n",
       "1397743           1      411         35.0   88566.72000  27.076923     1.0   \n",
       "1397057           1      411         28.0   84545.25000  45.000000     2.0   \n",
       "1399722           1      411         33.0   46825.86000  42.666667     2.0   \n",
       "1382256           1      411         28.0  104109.42000  33.250000     1.0   \n",
       "\n",
       "         unidades_vendidas_total  em_acount  debit_card        salary  \n",
       "pk_cid                                                                 \n",
       "1517456                 4.500000   0.166667    0.833333  113652.32033  \n",
       "1512063                 4.500000   0.000000    0.833333  113652.32033  \n",
       "1515010                 5.000000   0.000000    0.833333  113652.32033  \n",
       "1520203                 4.500000   0.833333    0.833333  113652.32033  \n",
       "1518210                 4.000000   0.166667    1.000000  113652.32033  \n",
       "...                          ...        ...         ...           ...  \n",
       "1401318                 1.916667   0.833333    0.583333  152395.11000  \n",
       "1397743                 2.461538   0.230769    0.076923   88566.72000  \n",
       "1397057                 2.333333   1.000000    0.000000   84545.25000  \n",
       "1399722                 2.750000   0.166667    0.166667   46825.86000  \n",
       "1382256                 1.000000   0.000000    0.000000  104109.42000  \n",
       "\n",
       "[9972 rows x 15 columns]"
      ]
     },
     "execution_count": 75,
     "metadata": {},
     "output_type": "execute_result"
    }
   ],
   "source": [
    "definitivo_10000clientes"
   ]
  },
  {
   "cell_type": "code",
   "execution_count": 76,
   "metadata": {},
   "outputs": [
    {
     "data": {
      "text/plain": [
       "pk_cid\n",
       "1517456    910.0\n",
       "1512063    900.0\n",
       "1515010    900.0\n",
       "1520203    840.0\n",
       "1518210    810.0\n",
       "           ...  \n",
       "1401318    640.0\n",
       "1397743    640.0\n",
       "1397057    640.0\n",
       "1399722    640.0\n",
       "1382256    640.0\n",
       "Name: monetary_value, Length: 9972, dtype: float64"
      ]
     },
     "execution_count": 76,
     "metadata": {},
     "output_type": "execute_result"
    }
   ],
   "source": [
    "definitivo_10000clientes['monetary_value']"
   ]
  },
  {
   "cell_type": "code",
   "execution_count": 77,
   "metadata": {},
   "outputs": [],
   "source": [
    "##estudio de la region"
   ]
  },
  {
   "cell_type": "code",
   "execution_count": 78,
   "metadata": {},
   "outputs": [],
   "source": [
    "df_best_unidades_vendidas = definitivo_10000clientes.groupby('region_code')['unidades_vendidas_total'].sum().reset_index()"
   ]
  },
  {
   "cell_type": "code",
   "execution_count": 79,
   "metadata": {},
   "outputs": [],
   "source": [
    "df_best_unidades_vendidas.sort_values(by = [\"unidades_vendidas_total\"], ascending = False, inplace = True)"
   ]
  },
  {
   "cell_type": "code",
   "execution_count": 80,
   "metadata": {},
   "outputs": [
    {
     "data": {
      "text/html": [
       "<div>\n",
       "<style scoped>\n",
       "    .dataframe tbody tr th:only-of-type {\n",
       "        vertical-align: middle;\n",
       "    }\n",
       "\n",
       "    .dataframe tbody tr th {\n",
       "        vertical-align: top;\n",
       "    }\n",
       "\n",
       "    .dataframe thead th {\n",
       "        text-align: right;\n",
       "    }\n",
       "</style>\n",
       "<table border=\"1\" class=\"dataframe\">\n",
       "  <thead>\n",
       "    <tr style=\"text-align: right;\">\n",
       "      <th></th>\n",
       "      <th>region_code</th>\n",
       "      <th>unidades_vendidas_total</th>\n",
       "    </tr>\n",
       "  </thead>\n",
       "  <tbody>\n",
       "    <tr>\n",
       "      <th>77</th>\n",
       "      <td>28.000000</td>\n",
       "      <td>7004.235935</td>\n",
       "    </tr>\n",
       "    <tr>\n",
       "      <th>14</th>\n",
       "      <td>8.000000</td>\n",
       "      <td>1639.218347</td>\n",
       "    </tr>\n",
       "    <tr>\n",
       "      <th>119</th>\n",
       "      <td>46.000000</td>\n",
       "      <td>1145.559417</td>\n",
       "    </tr>\n",
       "    <tr>\n",
       "      <th>114</th>\n",
       "      <td>41.000000</td>\n",
       "      <td>981.646288</td>\n",
       "    </tr>\n",
       "    <tr>\n",
       "      <th>3</th>\n",
       "      <td>3.000000</td>\n",
       "      <td>761.660102</td>\n",
       "    </tr>\n",
       "    <tr>\n",
       "      <th>...</th>\n",
       "      <td>...</td>\n",
       "      <td>...</td>\n",
       "    </tr>\n",
       "    <tr>\n",
       "      <th>33</th>\n",
       "      <td>14.800000</td>\n",
       "      <td>1.600000</td>\n",
       "    </tr>\n",
       "    <tr>\n",
       "      <th>46</th>\n",
       "      <td>18.823529</td>\n",
       "      <td>1.470588</td>\n",
       "    </tr>\n",
       "    <tr>\n",
       "      <th>48</th>\n",
       "      <td>19.166667</td>\n",
       "      <td>1.166667</td>\n",
       "    </tr>\n",
       "    <tr>\n",
       "      <th>8</th>\n",
       "      <td>5.500000</td>\n",
       "      <td>1.000000</td>\n",
       "    </tr>\n",
       "    <tr>\n",
       "      <th>70</th>\n",
       "      <td>25.933333</td>\n",
       "      <td>1.000000</td>\n",
       "    </tr>\n",
       "  </tbody>\n",
       "</table>\n",
       "<p>126 rows × 2 columns</p>\n",
       "</div>"
      ],
      "text/plain": [
       "     region_code  unidades_vendidas_total\n",
       "77     28.000000              7004.235935\n",
       "14      8.000000              1639.218347\n",
       "119    46.000000              1145.559417\n",
       "114    41.000000               981.646288\n",
       "3       3.000000               761.660102\n",
       "..           ...                      ...\n",
       "33     14.800000                 1.600000\n",
       "46     18.823529                 1.470588\n",
       "48     19.166667                 1.166667\n",
       "8       5.500000                 1.000000\n",
       "70     25.933333                 1.000000\n",
       "\n",
       "[126 rows x 2 columns]"
      ]
     },
     "execution_count": 80,
     "metadata": {},
     "output_type": "execute_result"
    }
   ],
   "source": [
    "df_best_unidades_vendidas"
   ]
  },
  {
   "cell_type": "code",
   "execution_count": 62,
   "metadata": {},
   "outputs": [
    {
     "data": {
      "application/vnd.plotly.v1+json": {
       "config": {
        "linkText": "Export to plot.ly",
        "plotlyServerURL": "https://plot.ly",
        "showLink": false
       },
       "data": [
        {
         "type": "bar",
         "x": [
          28,
          8,
          46,
          41,
          3,
          29,
          11,
          30,
          15,
          35,
          33,
          18,
          50,
          45,
          36,
          39,
          7,
          14,
          47,
          48,
          38,
          6,
          23,
          2,
          24,
          9,
          21,
          12,
          19,
          4,
          43,
          13,
          10,
          37,
          17,
          20,
          26,
          31,
          34,
          40,
          49,
          1,
          25,
          5,
          32,
          22,
          27,
          16,
          44,
          52,
          51,
          42,
          23.5,
          25.5,
          8.5,
          15.5,
          18.294117647058822,
          16.25,
          28.692307692307693,
          23.88235294117647,
          34.36363636363637,
          14.666666666666666,
          9.909090909090908,
          31.176470588235293,
          39.09090909090909,
          2.923076923076923,
          31.2,
          6.461538461538462,
          21.90909090909091,
          22.545454545454547,
          33.666666666666664,
          34.294117647058826,
          39.94117647058823,
          27.133333333333333,
          30.470588235294116,
          28.857142857142858,
          15.428571428571429,
          16.571428571428573,
          33.07692307692308,
          32.63636363636363,
          30.666666666666668,
          24.09090909090909,
          4.5,
          14.461538461538462,
          15.384615384615385,
          14.25,
          10.75,
          40.45454545454545,
          35.357142857142854,
          39.294117647058826,
          6.8,
          22.75,
          13.647058823529411,
          24.90909090909091,
          4.214285714285714,
          33.4,
          27.58823529411765,
          21.636363636363637,
          26.933333333333334,
          34.416666666666664,
          17.2,
          31.636363636363637,
          9.125,
          31.8,
          13.823529411764707,
          12.666666666666666,
          16.333333333333332,
          33.54545454545455,
          36.6,
          24.363636363636363,
          32.6875,
          36.4,
          24.571428571428573,
          25.545454545454547,
          20.142857142857142,
          24.153846153846153,
          10.866666666666667,
          26.5,
          22.8125,
          13.8,
          7.866666666666666,
          14.8,
          18.823529411764707,
          19.166666666666668,
          5.5,
          25.933333333333334
         ],
         "y": [
          7004.235935143338,
          1639.2183466043746,
          1145.5594172983874,
          981.6462877808477,
          761.6601016630424,
          668.8168503065561,
          593.1971016728369,
          534.4371750798222,
          481.01560082074775,
          469.4737581046405,
          444.7651649820769,
          443.0615289122645,
          406.7185153082211,
          401.6339121662651,
          350.3018706783411,
          339.56982968012375,
          312.7406813774462,
          293.88266708781407,
          283.35634708428836,
          256.1808625198331,
          255.21779568470745,
          221.41801948051946,
          219.46521933948412,
          190.18012502203675,
          187.43331325537204,
          180.1409703042056,
          173.47330879904405,
          167.9213656441598,
          166.37497575953458,
          165.69867363029124,
          160.76155633582098,
          159.77011591349822,
          156.00486939531055,
          141.17739197077435,
          131.00519039783742,
          117.59678605708018,
          110.68851760984114,
          91.21137759299525,
          90.033619811561,
          84.16845115668643,
          74.71029387279386,
          74.0154406867642,
          68.06537800434859,
          64.91027183600713,
          59.55696950108715,
          53.260459883253986,
          52.925765655912706,
          33.913636363636364,
          14.702156177156178,
          9.583333333333334,
          8.775641025641026,
          8.264260249554367,
          6.125,
          5.9375,
          5.25,
          4.75,
          4.176470588235294,
          4.166666666666667,
          3.923076923076923,
          3.8823529411764706,
          3.727272727272727,
          3.666666666666667,
          3.6363636363636362,
          3.588235294117647,
          3.5454545454545454,
          3.5384615384615383,
          3.533333333333333,
          3.4615384615384617,
          3.4545454545454546,
          3.4545454545454546,
          3.3333333333333335,
          3.2941176470588234,
          3.235294117647059,
          3.2,
          3.176470588235294,
          3.142857142857143,
          3.142857142857143,
          3.0714285714285716,
          3,
          3,
          3,
          2.909090909090909,
          2.8333333333333335,
          2.769230769230769,
          2.769230769230769,
          2.75,
          2.75,
          2.727272727272727,
          2.7142857142857144,
          2.7058823529411766,
          2.6,
          2.5833333333333335,
          2.4705882352941178,
          2.4545454545454546,
          2.4285714285714284,
          2.4,
          2.2941176470588234,
          2.272727272727273,
          2.2666666666666666,
          2.25,
          2.2,
          2.1818181818181817,
          2.125,
          2,
          1.9411764705882353,
          1.9333333333333333,
          1.9333333333333333,
          1.9090909090909092,
          1.8666666666666667,
          1.8181818181818181,
          1.8125,
          1.8,
          1.7857142857142858,
          1.7272727272727273,
          1.7142857142857142,
          1.6923076923076923,
          1.6666666666666667,
          1.6666666666666667,
          1.625,
          1.6,
          1.6,
          1.6,
          1.4705882352941178,
          1.1666666666666667,
          1,
          1
         ]
        }
       ],
       "layout": {
        "template": {
         "data": {
          "bar": [
           {
            "error_x": {
             "color": "#2a3f5f"
            },
            "error_y": {
             "color": "#2a3f5f"
            },
            "marker": {
             "line": {
              "color": "#E5ECF6",
              "width": 0.5
             }
            },
            "type": "bar"
           }
          ],
          "barpolar": [
           {
            "marker": {
             "line": {
              "color": "#E5ECF6",
              "width": 0.5
             }
            },
            "type": "barpolar"
           }
          ],
          "carpet": [
           {
            "aaxis": {
             "endlinecolor": "#2a3f5f",
             "gridcolor": "white",
             "linecolor": "white",
             "minorgridcolor": "white",
             "startlinecolor": "#2a3f5f"
            },
            "baxis": {
             "endlinecolor": "#2a3f5f",
             "gridcolor": "white",
             "linecolor": "white",
             "minorgridcolor": "white",
             "startlinecolor": "#2a3f5f"
            },
            "type": "carpet"
           }
          ],
          "choropleth": [
           {
            "colorbar": {
             "outlinewidth": 0,
             "ticks": ""
            },
            "type": "choropleth"
           }
          ],
          "contour": [
           {
            "colorbar": {
             "outlinewidth": 0,
             "ticks": ""
            },
            "colorscale": [
             [
              0,
              "#0d0887"
             ],
             [
              0.1111111111111111,
              "#46039f"
             ],
             [
              0.2222222222222222,
              "#7201a8"
             ],
             [
              0.3333333333333333,
              "#9c179e"
             ],
             [
              0.4444444444444444,
              "#bd3786"
             ],
             [
              0.5555555555555556,
              "#d8576b"
             ],
             [
              0.6666666666666666,
              "#ed7953"
             ],
             [
              0.7777777777777778,
              "#fb9f3a"
             ],
             [
              0.8888888888888888,
              "#fdca26"
             ],
             [
              1,
              "#f0f921"
             ]
            ],
            "type": "contour"
           }
          ],
          "contourcarpet": [
           {
            "colorbar": {
             "outlinewidth": 0,
             "ticks": ""
            },
            "type": "contourcarpet"
           }
          ],
          "heatmap": [
           {
            "colorbar": {
             "outlinewidth": 0,
             "ticks": ""
            },
            "colorscale": [
             [
              0,
              "#0d0887"
             ],
             [
              0.1111111111111111,
              "#46039f"
             ],
             [
              0.2222222222222222,
              "#7201a8"
             ],
             [
              0.3333333333333333,
              "#9c179e"
             ],
             [
              0.4444444444444444,
              "#bd3786"
             ],
             [
              0.5555555555555556,
              "#d8576b"
             ],
             [
              0.6666666666666666,
              "#ed7953"
             ],
             [
              0.7777777777777778,
              "#fb9f3a"
             ],
             [
              0.8888888888888888,
              "#fdca26"
             ],
             [
              1,
              "#f0f921"
             ]
            ],
            "type": "heatmap"
           }
          ],
          "heatmapgl": [
           {
            "colorbar": {
             "outlinewidth": 0,
             "ticks": ""
            },
            "colorscale": [
             [
              0,
              "#0d0887"
             ],
             [
              0.1111111111111111,
              "#46039f"
             ],
             [
              0.2222222222222222,
              "#7201a8"
             ],
             [
              0.3333333333333333,
              "#9c179e"
             ],
             [
              0.4444444444444444,
              "#bd3786"
             ],
             [
              0.5555555555555556,
              "#d8576b"
             ],
             [
              0.6666666666666666,
              "#ed7953"
             ],
             [
              0.7777777777777778,
              "#fb9f3a"
             ],
             [
              0.8888888888888888,
              "#fdca26"
             ],
             [
              1,
              "#f0f921"
             ]
            ],
            "type": "heatmapgl"
           }
          ],
          "histogram": [
           {
            "marker": {
             "colorbar": {
              "outlinewidth": 0,
              "ticks": ""
             }
            },
            "type": "histogram"
           }
          ],
          "histogram2d": [
           {
            "colorbar": {
             "outlinewidth": 0,
             "ticks": ""
            },
            "colorscale": [
             [
              0,
              "#0d0887"
             ],
             [
              0.1111111111111111,
              "#46039f"
             ],
             [
              0.2222222222222222,
              "#7201a8"
             ],
             [
              0.3333333333333333,
              "#9c179e"
             ],
             [
              0.4444444444444444,
              "#bd3786"
             ],
             [
              0.5555555555555556,
              "#d8576b"
             ],
             [
              0.6666666666666666,
              "#ed7953"
             ],
             [
              0.7777777777777778,
              "#fb9f3a"
             ],
             [
              0.8888888888888888,
              "#fdca26"
             ],
             [
              1,
              "#f0f921"
             ]
            ],
            "type": "histogram2d"
           }
          ],
          "histogram2dcontour": [
           {
            "colorbar": {
             "outlinewidth": 0,
             "ticks": ""
            },
            "colorscale": [
             [
              0,
              "#0d0887"
             ],
             [
              0.1111111111111111,
              "#46039f"
             ],
             [
              0.2222222222222222,
              "#7201a8"
             ],
             [
              0.3333333333333333,
              "#9c179e"
             ],
             [
              0.4444444444444444,
              "#bd3786"
             ],
             [
              0.5555555555555556,
              "#d8576b"
             ],
             [
              0.6666666666666666,
              "#ed7953"
             ],
             [
              0.7777777777777778,
              "#fb9f3a"
             ],
             [
              0.8888888888888888,
              "#fdca26"
             ],
             [
              1,
              "#f0f921"
             ]
            ],
            "type": "histogram2dcontour"
           }
          ],
          "mesh3d": [
           {
            "colorbar": {
             "outlinewidth": 0,
             "ticks": ""
            },
            "type": "mesh3d"
           }
          ],
          "parcoords": [
           {
            "line": {
             "colorbar": {
              "outlinewidth": 0,
              "ticks": ""
             }
            },
            "type": "parcoords"
           }
          ],
          "pie": [
           {
            "automargin": true,
            "type": "pie"
           }
          ],
          "scatter": [
           {
            "marker": {
             "colorbar": {
              "outlinewidth": 0,
              "ticks": ""
             }
            },
            "type": "scatter"
           }
          ],
          "scatter3d": [
           {
            "line": {
             "colorbar": {
              "outlinewidth": 0,
              "ticks": ""
             }
            },
            "marker": {
             "colorbar": {
              "outlinewidth": 0,
              "ticks": ""
             }
            },
            "type": "scatter3d"
           }
          ],
          "scattercarpet": [
           {
            "marker": {
             "colorbar": {
              "outlinewidth": 0,
              "ticks": ""
             }
            },
            "type": "scattercarpet"
           }
          ],
          "scattergeo": [
           {
            "marker": {
             "colorbar": {
              "outlinewidth": 0,
              "ticks": ""
             }
            },
            "type": "scattergeo"
           }
          ],
          "scattergl": [
           {
            "marker": {
             "colorbar": {
              "outlinewidth": 0,
              "ticks": ""
             }
            },
            "type": "scattergl"
           }
          ],
          "scattermapbox": [
           {
            "marker": {
             "colorbar": {
              "outlinewidth": 0,
              "ticks": ""
             }
            },
            "type": "scattermapbox"
           }
          ],
          "scatterpolar": [
           {
            "marker": {
             "colorbar": {
              "outlinewidth": 0,
              "ticks": ""
             }
            },
            "type": "scatterpolar"
           }
          ],
          "scatterpolargl": [
           {
            "marker": {
             "colorbar": {
              "outlinewidth": 0,
              "ticks": ""
             }
            },
            "type": "scatterpolargl"
           }
          ],
          "scatterternary": [
           {
            "marker": {
             "colorbar": {
              "outlinewidth": 0,
              "ticks": ""
             }
            },
            "type": "scatterternary"
           }
          ],
          "surface": [
           {
            "colorbar": {
             "outlinewidth": 0,
             "ticks": ""
            },
            "colorscale": [
             [
              0,
              "#0d0887"
             ],
             [
              0.1111111111111111,
              "#46039f"
             ],
             [
              0.2222222222222222,
              "#7201a8"
             ],
             [
              0.3333333333333333,
              "#9c179e"
             ],
             [
              0.4444444444444444,
              "#bd3786"
             ],
             [
              0.5555555555555556,
              "#d8576b"
             ],
             [
              0.6666666666666666,
              "#ed7953"
             ],
             [
              0.7777777777777778,
              "#fb9f3a"
             ],
             [
              0.8888888888888888,
              "#fdca26"
             ],
             [
              1,
              "#f0f921"
             ]
            ],
            "type": "surface"
           }
          ],
          "table": [
           {
            "cells": {
             "fill": {
              "color": "#EBF0F8"
             },
             "line": {
              "color": "white"
             }
            },
            "header": {
             "fill": {
              "color": "#C8D4E3"
             },
             "line": {
              "color": "white"
             }
            },
            "type": "table"
           }
          ]
         },
         "layout": {
          "annotationdefaults": {
           "arrowcolor": "#2a3f5f",
           "arrowhead": 0,
           "arrowwidth": 1
          },
          "coloraxis": {
           "colorbar": {
            "outlinewidth": 0,
            "ticks": ""
           }
          },
          "colorscale": {
           "diverging": [
            [
             0,
             "#8e0152"
            ],
            [
             0.1,
             "#c51b7d"
            ],
            [
             0.2,
             "#de77ae"
            ],
            [
             0.3,
             "#f1b6da"
            ],
            [
             0.4,
             "#fde0ef"
            ],
            [
             0.5,
             "#f7f7f7"
            ],
            [
             0.6,
             "#e6f5d0"
            ],
            [
             0.7,
             "#b8e186"
            ],
            [
             0.8,
             "#7fbc41"
            ],
            [
             0.9,
             "#4d9221"
            ],
            [
             1,
             "#276419"
            ]
           ],
           "sequential": [
            [
             0,
             "#0d0887"
            ],
            [
             0.1111111111111111,
             "#46039f"
            ],
            [
             0.2222222222222222,
             "#7201a8"
            ],
            [
             0.3333333333333333,
             "#9c179e"
            ],
            [
             0.4444444444444444,
             "#bd3786"
            ],
            [
             0.5555555555555556,
             "#d8576b"
            ],
            [
             0.6666666666666666,
             "#ed7953"
            ],
            [
             0.7777777777777778,
             "#fb9f3a"
            ],
            [
             0.8888888888888888,
             "#fdca26"
            ],
            [
             1,
             "#f0f921"
            ]
           ],
           "sequentialminus": [
            [
             0,
             "#0d0887"
            ],
            [
             0.1111111111111111,
             "#46039f"
            ],
            [
             0.2222222222222222,
             "#7201a8"
            ],
            [
             0.3333333333333333,
             "#9c179e"
            ],
            [
             0.4444444444444444,
             "#bd3786"
            ],
            [
             0.5555555555555556,
             "#d8576b"
            ],
            [
             0.6666666666666666,
             "#ed7953"
            ],
            [
             0.7777777777777778,
             "#fb9f3a"
            ],
            [
             0.8888888888888888,
             "#fdca26"
            ],
            [
             1,
             "#f0f921"
            ]
           ]
          },
          "colorway": [
           "#636efa",
           "#EF553B",
           "#00cc96",
           "#ab63fa",
           "#FFA15A",
           "#19d3f3",
           "#FF6692",
           "#B6E880",
           "#FF97FF",
           "#FECB52"
          ],
          "font": {
           "color": "#2a3f5f"
          },
          "geo": {
           "bgcolor": "white",
           "lakecolor": "white",
           "landcolor": "#E5ECF6",
           "showlakes": true,
           "showland": true,
           "subunitcolor": "white"
          },
          "hoverlabel": {
           "align": "left"
          },
          "hovermode": "closest",
          "mapbox": {
           "style": "light"
          },
          "paper_bgcolor": "white",
          "plot_bgcolor": "#E5ECF6",
          "polar": {
           "angularaxis": {
            "gridcolor": "white",
            "linecolor": "white",
            "ticks": ""
           },
           "bgcolor": "#E5ECF6",
           "radialaxis": {
            "gridcolor": "white",
            "linecolor": "white",
            "ticks": ""
           }
          },
          "scene": {
           "xaxis": {
            "backgroundcolor": "#E5ECF6",
            "gridcolor": "white",
            "gridwidth": 2,
            "linecolor": "white",
            "showbackground": true,
            "ticks": "",
            "zerolinecolor": "white"
           },
           "yaxis": {
            "backgroundcolor": "#E5ECF6",
            "gridcolor": "white",
            "gridwidth": 2,
            "linecolor": "white",
            "showbackground": true,
            "ticks": "",
            "zerolinecolor": "white"
           },
           "zaxis": {
            "backgroundcolor": "#E5ECF6",
            "gridcolor": "white",
            "gridwidth": 2,
            "linecolor": "white",
            "showbackground": true,
            "ticks": "",
            "zerolinecolor": "white"
           }
          },
          "shapedefaults": {
           "line": {
            "color": "#2a3f5f"
           }
          },
          "ternary": {
           "aaxis": {
            "gridcolor": "white",
            "linecolor": "white",
            "ticks": ""
           },
           "baxis": {
            "gridcolor": "white",
            "linecolor": "white",
            "ticks": ""
           },
           "bgcolor": "#E5ECF6",
           "caxis": {
            "gridcolor": "white",
            "linecolor": "white",
            "ticks": ""
           }
          },
          "title": {
           "x": 0.05
          },
          "xaxis": {
           "automargin": true,
           "gridcolor": "white",
           "linecolor": "white",
           "ticks": "",
           "title": {
            "standoff": 15
           },
           "zerolinecolor": "white",
           "zerolinewidth": 2
          },
          "yaxis": {
           "automargin": true,
           "gridcolor": "white",
           "linecolor": "white",
           "ticks": "",
           "title": {
            "standoff": 15
           },
           "zerolinecolor": "white",
           "zerolinewidth": 2
          }
         }
        },
        "title": {
         "text": "Unidades vendidas Best por Region"
        },
        "xaxis": {
         "type": "category"
        }
       }
      },
      "text/html": [
       "<div>\n",
       "        \n",
       "        \n",
       "            <div id=\"185e7a66-961f-40b5-ad79-75e550305732\" class=\"plotly-graph-div\" style=\"height:525px; width:100%;\"></div>\n",
       "            <script type=\"text/javascript\">\n",
       "                require([\"plotly\"], function(Plotly) {\n",
       "                    window.PLOTLYENV=window.PLOTLYENV || {};\n",
       "                    \n",
       "                if (document.getElementById(\"185e7a66-961f-40b5-ad79-75e550305732\")) {\n",
       "                    Plotly.newPlot(\n",
       "                        '185e7a66-961f-40b5-ad79-75e550305732',\n",
       "                        [{\"type\": \"bar\", \"x\": [28.0, 8.0, 46.0, 41.0, 3.0, 29.0, 11.0, 30.0, 15.0, 35.0, 33.0, 18.0, 50.0, 45.0, 36.0, 39.0, 7.0, 14.0, 47.0, 48.0, 38.0, 6.0, 23.0, 2.0, 24.0, 9.0, 21.0, 12.0, 19.0, 4.0, 43.0, 13.0, 10.0, 37.0, 17.0, 20.0, 26.0, 31.0, 34.0, 40.0, 49.0, 1.0, 25.0, 5.0, 32.0, 22.0, 27.0, 16.0, 44.0, 52.0, 51.0, 42.0, 23.5, 25.5, 8.5, 15.5, 18.294117647058822, 16.25, 28.692307692307693, 23.88235294117647, 34.36363636363637, 14.666666666666666, 9.909090909090908, 31.176470588235293, 39.09090909090909, 2.923076923076923, 31.2, 6.461538461538462, 21.90909090909091, 22.545454545454547, 33.666666666666664, 34.294117647058826, 39.94117647058823, 27.133333333333333, 30.470588235294116, 28.857142857142858, 15.428571428571429, 16.571428571428573, 33.07692307692308, 32.63636363636363, 30.666666666666668, 24.09090909090909, 4.5, 14.461538461538462, 15.384615384615385, 14.25, 10.75, 40.45454545454545, 35.357142857142854, 39.294117647058826, 6.8, 22.75, 13.647058823529411, 24.90909090909091, 4.214285714285714, 33.4, 27.58823529411765, 21.636363636363637, 26.933333333333334, 34.416666666666664, 17.2, 31.636363636363637, 9.125, 31.8, 13.823529411764707, 12.666666666666666, 16.333333333333332, 33.54545454545455, 36.6, 24.363636363636363, 32.6875, 36.4, 24.571428571428573, 25.545454545454547, 20.142857142857142, 24.153846153846153, 10.866666666666667, 26.5, 22.8125, 13.8, 7.866666666666666, 14.8, 18.823529411764707, 19.166666666666668, 5.5, 25.933333333333334], \"y\": [7004.235935143338, 1639.2183466043746, 1145.5594172983874, 981.6462877808477, 761.6601016630424, 668.8168503065561, 593.1971016728369, 534.4371750798222, 481.01560082074775, 469.4737581046405, 444.7651649820769, 443.0615289122645, 406.7185153082211, 401.6339121662651, 350.3018706783411, 339.56982968012375, 312.7406813774462, 293.88266708781407, 283.35634708428836, 256.1808625198331, 255.21779568470745, 221.41801948051946, 219.46521933948412, 190.18012502203675, 187.43331325537204, 180.1409703042056, 173.47330879904405, 167.9213656441598, 166.37497575953458, 165.69867363029124, 160.76155633582098, 159.77011591349822, 156.00486939531055, 141.17739197077435, 131.00519039783742, 117.59678605708018, 110.68851760984114, 91.21137759299525, 90.033619811561, 84.16845115668643, 74.71029387279386, 74.0154406867642, 68.06537800434859, 64.91027183600713, 59.55696950108715, 53.260459883253986, 52.925765655912706, 33.913636363636364, 14.702156177156178, 9.583333333333334, 8.775641025641026, 8.264260249554367, 6.125, 5.9375, 5.25, 4.75, 4.176470588235294, 4.166666666666667, 3.923076923076923, 3.8823529411764706, 3.727272727272727, 3.666666666666667, 3.6363636363636362, 3.588235294117647, 3.5454545454545454, 3.5384615384615383, 3.533333333333333, 3.4615384615384617, 3.4545454545454546, 3.4545454545454546, 3.3333333333333335, 3.2941176470588234, 3.235294117647059, 3.2, 3.176470588235294, 3.142857142857143, 3.142857142857143, 3.0714285714285716, 3.0, 3.0, 3.0, 2.909090909090909, 2.8333333333333335, 2.769230769230769, 2.769230769230769, 2.75, 2.75, 2.727272727272727, 2.7142857142857144, 2.7058823529411766, 2.6, 2.5833333333333335, 2.4705882352941178, 2.4545454545454546, 2.4285714285714284, 2.4, 2.2941176470588234, 2.272727272727273, 2.2666666666666666, 2.25, 2.2, 2.1818181818181817, 2.125, 2.0, 1.9411764705882353, 1.9333333333333333, 1.9333333333333333, 1.9090909090909092, 1.8666666666666667, 1.8181818181818181, 1.8125, 1.8, 1.7857142857142858, 1.7272727272727273, 1.7142857142857142, 1.6923076923076923, 1.6666666666666667, 1.6666666666666667, 1.625, 1.6, 1.6, 1.6, 1.4705882352941178, 1.1666666666666667, 1.0, 1.0]}],\n",
       "                        {\"template\": {\"data\": {\"bar\": [{\"error_x\": {\"color\": \"#2a3f5f\"}, \"error_y\": {\"color\": \"#2a3f5f\"}, \"marker\": {\"line\": {\"color\": \"#E5ECF6\", \"width\": 0.5}}, \"type\": \"bar\"}], \"barpolar\": [{\"marker\": {\"line\": {\"color\": \"#E5ECF6\", \"width\": 0.5}}, \"type\": \"barpolar\"}], \"carpet\": [{\"aaxis\": {\"endlinecolor\": \"#2a3f5f\", \"gridcolor\": \"white\", \"linecolor\": \"white\", \"minorgridcolor\": \"white\", \"startlinecolor\": \"#2a3f5f\"}, \"baxis\": {\"endlinecolor\": \"#2a3f5f\", \"gridcolor\": \"white\", \"linecolor\": \"white\", \"minorgridcolor\": \"white\", \"startlinecolor\": \"#2a3f5f\"}, \"type\": \"carpet\"}], \"choropleth\": [{\"colorbar\": {\"outlinewidth\": 0, \"ticks\": \"\"}, \"type\": \"choropleth\"}], \"contour\": [{\"colorbar\": {\"outlinewidth\": 0, \"ticks\": \"\"}, \"colorscale\": [[0.0, \"#0d0887\"], [0.1111111111111111, \"#46039f\"], [0.2222222222222222, \"#7201a8\"], [0.3333333333333333, \"#9c179e\"], [0.4444444444444444, \"#bd3786\"], [0.5555555555555556, \"#d8576b\"], [0.6666666666666666, \"#ed7953\"], [0.7777777777777778, \"#fb9f3a\"], [0.8888888888888888, \"#fdca26\"], [1.0, \"#f0f921\"]], \"type\": \"contour\"}], \"contourcarpet\": [{\"colorbar\": {\"outlinewidth\": 0, \"ticks\": \"\"}, \"type\": \"contourcarpet\"}], \"heatmap\": [{\"colorbar\": {\"outlinewidth\": 0, \"ticks\": \"\"}, \"colorscale\": [[0.0, \"#0d0887\"], [0.1111111111111111, \"#46039f\"], [0.2222222222222222, \"#7201a8\"], [0.3333333333333333, \"#9c179e\"], [0.4444444444444444, \"#bd3786\"], [0.5555555555555556, \"#d8576b\"], [0.6666666666666666, \"#ed7953\"], [0.7777777777777778, \"#fb9f3a\"], [0.8888888888888888, \"#fdca26\"], [1.0, \"#f0f921\"]], \"type\": \"heatmap\"}], \"heatmapgl\": [{\"colorbar\": {\"outlinewidth\": 0, \"ticks\": \"\"}, \"colorscale\": [[0.0, \"#0d0887\"], [0.1111111111111111, \"#46039f\"], [0.2222222222222222, \"#7201a8\"], [0.3333333333333333, \"#9c179e\"], [0.4444444444444444, \"#bd3786\"], [0.5555555555555556, \"#d8576b\"], [0.6666666666666666, \"#ed7953\"], [0.7777777777777778, \"#fb9f3a\"], [0.8888888888888888, \"#fdca26\"], [1.0, \"#f0f921\"]], \"type\": \"heatmapgl\"}], \"histogram\": [{\"marker\": {\"colorbar\": {\"outlinewidth\": 0, \"ticks\": \"\"}}, \"type\": \"histogram\"}], \"histogram2d\": [{\"colorbar\": {\"outlinewidth\": 0, \"ticks\": \"\"}, \"colorscale\": [[0.0, \"#0d0887\"], [0.1111111111111111, \"#46039f\"], [0.2222222222222222, \"#7201a8\"], [0.3333333333333333, \"#9c179e\"], [0.4444444444444444, \"#bd3786\"], [0.5555555555555556, \"#d8576b\"], [0.6666666666666666, \"#ed7953\"], [0.7777777777777778, \"#fb9f3a\"], [0.8888888888888888, \"#fdca26\"], [1.0, \"#f0f921\"]], \"type\": \"histogram2d\"}], \"histogram2dcontour\": [{\"colorbar\": {\"outlinewidth\": 0, \"ticks\": \"\"}, \"colorscale\": [[0.0, \"#0d0887\"], [0.1111111111111111, \"#46039f\"], [0.2222222222222222, \"#7201a8\"], [0.3333333333333333, \"#9c179e\"], [0.4444444444444444, \"#bd3786\"], [0.5555555555555556, \"#d8576b\"], [0.6666666666666666, \"#ed7953\"], [0.7777777777777778, \"#fb9f3a\"], [0.8888888888888888, \"#fdca26\"], [1.0, \"#f0f921\"]], \"type\": \"histogram2dcontour\"}], \"mesh3d\": [{\"colorbar\": {\"outlinewidth\": 0, \"ticks\": \"\"}, \"type\": \"mesh3d\"}], \"parcoords\": [{\"line\": {\"colorbar\": {\"outlinewidth\": 0, \"ticks\": \"\"}}, \"type\": \"parcoords\"}], \"pie\": [{\"automargin\": true, \"type\": \"pie\"}], \"scatter\": [{\"marker\": {\"colorbar\": {\"outlinewidth\": 0, \"ticks\": \"\"}}, \"type\": \"scatter\"}], \"scatter3d\": [{\"line\": {\"colorbar\": {\"outlinewidth\": 0, \"ticks\": \"\"}}, \"marker\": {\"colorbar\": {\"outlinewidth\": 0, \"ticks\": \"\"}}, \"type\": \"scatter3d\"}], \"scattercarpet\": [{\"marker\": {\"colorbar\": {\"outlinewidth\": 0, \"ticks\": \"\"}}, \"type\": \"scattercarpet\"}], \"scattergeo\": [{\"marker\": {\"colorbar\": {\"outlinewidth\": 0, \"ticks\": \"\"}}, \"type\": \"scattergeo\"}], \"scattergl\": [{\"marker\": {\"colorbar\": {\"outlinewidth\": 0, \"ticks\": \"\"}}, \"type\": \"scattergl\"}], \"scattermapbox\": [{\"marker\": {\"colorbar\": {\"outlinewidth\": 0, \"ticks\": \"\"}}, \"type\": \"scattermapbox\"}], \"scatterpolar\": [{\"marker\": {\"colorbar\": {\"outlinewidth\": 0, \"ticks\": \"\"}}, \"type\": \"scatterpolar\"}], \"scatterpolargl\": [{\"marker\": {\"colorbar\": {\"outlinewidth\": 0, \"ticks\": \"\"}}, \"type\": \"scatterpolargl\"}], \"scatterternary\": [{\"marker\": {\"colorbar\": {\"outlinewidth\": 0, \"ticks\": \"\"}}, \"type\": \"scatterternary\"}], \"surface\": [{\"colorbar\": {\"outlinewidth\": 0, \"ticks\": \"\"}, \"colorscale\": [[0.0, \"#0d0887\"], [0.1111111111111111, \"#46039f\"], [0.2222222222222222, \"#7201a8\"], [0.3333333333333333, \"#9c179e\"], [0.4444444444444444, \"#bd3786\"], [0.5555555555555556, \"#d8576b\"], [0.6666666666666666, \"#ed7953\"], [0.7777777777777778, \"#fb9f3a\"], [0.8888888888888888, \"#fdca26\"], [1.0, \"#f0f921\"]], \"type\": \"surface\"}], \"table\": [{\"cells\": {\"fill\": {\"color\": \"#EBF0F8\"}, \"line\": {\"color\": \"white\"}}, \"header\": {\"fill\": {\"color\": \"#C8D4E3\"}, \"line\": {\"color\": \"white\"}}, \"type\": \"table\"}]}, \"layout\": {\"annotationdefaults\": {\"arrowcolor\": \"#2a3f5f\", \"arrowhead\": 0, \"arrowwidth\": 1}, \"coloraxis\": {\"colorbar\": {\"outlinewidth\": 0, \"ticks\": \"\"}}, \"colorscale\": {\"diverging\": [[0, \"#8e0152\"], [0.1, \"#c51b7d\"], [0.2, \"#de77ae\"], [0.3, \"#f1b6da\"], [0.4, \"#fde0ef\"], [0.5, \"#f7f7f7\"], [0.6, \"#e6f5d0\"], [0.7, \"#b8e186\"], [0.8, \"#7fbc41\"], [0.9, \"#4d9221\"], [1, \"#276419\"]], \"sequential\": [[0.0, \"#0d0887\"], [0.1111111111111111, \"#46039f\"], [0.2222222222222222, \"#7201a8\"], [0.3333333333333333, \"#9c179e\"], [0.4444444444444444, \"#bd3786\"], [0.5555555555555556, \"#d8576b\"], [0.6666666666666666, \"#ed7953\"], [0.7777777777777778, \"#fb9f3a\"], [0.8888888888888888, \"#fdca26\"], [1.0, \"#f0f921\"]], \"sequentialminus\": [[0.0, \"#0d0887\"], [0.1111111111111111, \"#46039f\"], [0.2222222222222222, \"#7201a8\"], [0.3333333333333333, \"#9c179e\"], [0.4444444444444444, \"#bd3786\"], [0.5555555555555556, \"#d8576b\"], [0.6666666666666666, \"#ed7953\"], [0.7777777777777778, \"#fb9f3a\"], [0.8888888888888888, \"#fdca26\"], [1.0, \"#f0f921\"]]}, \"colorway\": [\"#636efa\", \"#EF553B\", \"#00cc96\", \"#ab63fa\", \"#FFA15A\", \"#19d3f3\", \"#FF6692\", \"#B6E880\", \"#FF97FF\", \"#FECB52\"], \"font\": {\"color\": \"#2a3f5f\"}, \"geo\": {\"bgcolor\": \"white\", \"lakecolor\": \"white\", \"landcolor\": \"#E5ECF6\", \"showlakes\": true, \"showland\": true, \"subunitcolor\": \"white\"}, \"hoverlabel\": {\"align\": \"left\"}, \"hovermode\": \"closest\", \"mapbox\": {\"style\": \"light\"}, \"paper_bgcolor\": \"white\", \"plot_bgcolor\": \"#E5ECF6\", \"polar\": {\"angularaxis\": {\"gridcolor\": \"white\", \"linecolor\": \"white\", \"ticks\": \"\"}, \"bgcolor\": \"#E5ECF6\", \"radialaxis\": {\"gridcolor\": \"white\", \"linecolor\": \"white\", \"ticks\": \"\"}}, \"scene\": {\"xaxis\": {\"backgroundcolor\": \"#E5ECF6\", \"gridcolor\": \"white\", \"gridwidth\": 2, \"linecolor\": \"white\", \"showbackground\": true, \"ticks\": \"\", \"zerolinecolor\": \"white\"}, \"yaxis\": {\"backgroundcolor\": \"#E5ECF6\", \"gridcolor\": \"white\", \"gridwidth\": 2, \"linecolor\": \"white\", \"showbackground\": true, \"ticks\": \"\", \"zerolinecolor\": \"white\"}, \"zaxis\": {\"backgroundcolor\": \"#E5ECF6\", \"gridcolor\": \"white\", \"gridwidth\": 2, \"linecolor\": \"white\", \"showbackground\": true, \"ticks\": \"\", \"zerolinecolor\": \"white\"}}, \"shapedefaults\": {\"line\": {\"color\": \"#2a3f5f\"}}, \"ternary\": {\"aaxis\": {\"gridcolor\": \"white\", \"linecolor\": \"white\", \"ticks\": \"\"}, \"baxis\": {\"gridcolor\": \"white\", \"linecolor\": \"white\", \"ticks\": \"\"}, \"bgcolor\": \"#E5ECF6\", \"caxis\": {\"gridcolor\": \"white\", \"linecolor\": \"white\", \"ticks\": \"\"}}, \"title\": {\"x\": 0.05}, \"xaxis\": {\"automargin\": true, \"gridcolor\": \"white\", \"linecolor\": \"white\", \"ticks\": \"\", \"title\": {\"standoff\": 15}, \"zerolinecolor\": \"white\", \"zerolinewidth\": 2}, \"yaxis\": {\"automargin\": true, \"gridcolor\": \"white\", \"linecolor\": \"white\", \"ticks\": \"\", \"title\": {\"standoff\": 15}, \"zerolinecolor\": \"white\", \"zerolinewidth\": 2}}}, \"title\": {\"text\": \"Unidades vendidas Best por Region\"}, \"xaxis\": {\"type\": \"category\"}},\n",
       "                        {\"responsive\": true}\n",
       "                    ).then(function(){\n",
       "                            \n",
       "var gd = document.getElementById('185e7a66-961f-40b5-ad79-75e550305732');\n",
       "var x = new MutationObserver(function (mutations, observer) {{\n",
       "        var display = window.getComputedStyle(gd).display;\n",
       "        if (!display || display === 'none') {{\n",
       "            console.log([gd, 'removed!']);\n",
       "            Plotly.purge(gd);\n",
       "            observer.disconnect();\n",
       "        }}\n",
       "}});\n",
       "\n",
       "// Listen for the removal of the full notebook cells\n",
       "var notebookContainer = gd.closest('#notebook-container');\n",
       "if (notebookContainer) {{\n",
       "    x.observe(notebookContainer, {childList: true});\n",
       "}}\n",
       "\n",
       "// Listen for the clearing of the current output cell\n",
       "var outputEl = gd.closest('.output');\n",
       "if (outputEl) {{\n",
       "    x.observe(outputEl, {childList: true});\n",
       "}}\n",
       "\n",
       "                        })\n",
       "                };\n",
       "                });\n",
       "            </script>\n",
       "        </div>"
      ]
     },
     "metadata": {},
     "output_type": "display_data"
    },
    {
     "data": {
      "text/plain": [
       "<Figure size 720x720 with 0 Axes>"
      ]
     },
     "metadata": {},
     "output_type": "display_data"
    }
   ],
   "source": [
    "plot_data = [\n",
    "    go.Bar(\n",
    "        x=df_best_unidades_vendidas['region_code'],\n",
    "        y=df_best_unidades_vendidas['unidades_vendidas_total']\n",
    "    )\n",
    "]\n",
    "\n",
    "plot_layout = go.Layout(\n",
    "        xaxis={\"type\": \"category\"},\n",
    "        title='Unidades vendidas Best por Region'\n",
    "    )\n",
    "plt.figure(figsize=(10,10))\n",
    "fig = go.Figure(data=plot_data, layout=plot_layout)\n",
    "fig.write_html('fig500.html')\n",
    "pyoff.iplot(fig)"
   ]
  },
  {
   "cell_type": "code",
   "execution_count": 63,
   "metadata": {},
   "outputs": [],
   "source": [
    "df_best_monetary_value = definitivo_10000clientes.groupby('region_code')['monetary_value'].sum().reset_index()"
   ]
  },
  {
   "cell_type": "code",
   "execution_count": 64,
   "metadata": {},
   "outputs": [],
   "source": [
    "df_best_monetary_value.sort_values(by = [\"monetary_value\"], ascending = False, inplace = True)"
   ]
  },
  {
   "cell_type": "code",
   "execution_count": 65,
   "metadata": {},
   "outputs": [
    {
     "data": {
      "application/vnd.plotly.v1+json": {
       "config": {
        "linkText": "Export to plot.ly",
        "plotlyServerURL": "https://plot.ly",
        "showLink": false
       },
       "data": [
        {
         "type": "bar",
         "x": [
          28,
          8,
          46,
          41,
          3,
          29,
          11,
          30,
          15,
          35,
          33,
          18,
          50,
          45,
          36,
          7,
          39,
          47,
          14,
          38,
          48,
          6,
          23,
          9,
          24,
          21,
          2,
          4,
          12,
          19,
          43,
          13,
          10,
          17,
          37,
          26,
          20,
          34,
          31,
          40,
          49,
          25,
          1,
          32,
          5,
          22,
          27,
          16,
          44,
          51,
          52,
          23.88235294117647,
          42,
          25.5,
          23.5,
          18.294117647058822,
          31.176470588235293,
          30.470588235294116,
          31.2,
          16.25,
          39.94117647058823,
          34.294117647058826,
          27.133333333333333,
          28.692307692307693,
          39.294117647058826,
          10.75,
          16.571428571428573,
          33.666666666666664,
          6.461538461538462,
          33.4,
          2.923076923076923,
          33.07692307692308,
          26.933333333333334,
          14.461538461538462,
          34.36363636363637,
          13.823529411764707,
          28.857142857142858,
          22.545454545454547,
          21.90909090909091,
          9.125,
          27.58823529411765,
          39.09090909090909,
          15.384615384615385,
          8.5,
          9.909090909090908,
          30.666666666666668,
          12.666666666666666,
          16.333333333333332,
          13.647058823529411,
          31.8,
          25.933333333333334,
          31.636363636363637,
          35.357142857142854,
          34.416666666666664,
          32.63636363636363,
          22.75,
          22.8125,
          10.866666666666667,
          15.428571428571429,
          24.153846153846153,
          33.54545454545455,
          40.45454545454545,
          18.823529411764707,
          7.866666666666666,
          21.636363636363637,
          4.5,
          24.09090909090909,
          20.142857142857142,
          32.6875,
          24.90909090909091,
          36.6,
          24.363636363636363,
          25.545454545454547,
          24.571428571428573,
          4.214285714285714,
          14.666666666666666,
          15.5,
          19.166666666666668,
          26.5,
          36.4,
          14.25,
          17.2,
          6.8,
          5.5,
          13.8,
          14.8
         ],
         "y": [
          2088270,
          504900,
          338940,
          289160,
          236620,
          211370,
          169090,
          162590,
          148620,
          145490,
          142230,
          138050,
          132260,
          111900,
          107450,
          105210,
          98860,
          89400,
          81560,
          78270,
          77230,
          69540,
          65410,
          58410,
          55410,
          55090,
          54440,
          53060,
          52710,
          50760,
          47040,
          43720,
          43400,
          39980,
          36090,
          35420,
          33950,
          30910,
          29240,
          22630,
          21550,
          21430,
          20420,
          19670,
          19210,
          15870,
          15130,
          9550,
          4250,
          3370,
          2790,
          2590,
          2560,
          2140,
          2070,
          1850,
          1720,
          1620,
          1590,
          1590,
          1590,
          1530,
          1470,
          1360,
          1350,
          1330,
          1320,
          1280,
          1280,
          1270,
          1270,
          1260,
          1150,
          1140,
          1140,
          1130,
          1110,
          1100,
          1100,
          1060,
          1040,
          1040,
          1010,
          1010,
          1010,
          990,
          990,
          990,
          950,
          920,
          900,
          890,
          880,
          870,
          840,
          830,
          810,
          750,
          740,
          720,
          710,
          700,
          700,
          690,
          670,
          670,
          670,
          670,
          670,
          660,
          650,
          650,
          640,
          640,
          640,
          480,
          440,
          320,
          300,
          290,
          270,
          270,
          250,
          240,
          230,
          200
         ]
        }
       ],
       "layout": {
        "template": {
         "data": {
          "bar": [
           {
            "error_x": {
             "color": "#2a3f5f"
            },
            "error_y": {
             "color": "#2a3f5f"
            },
            "marker": {
             "line": {
              "color": "#E5ECF6",
              "width": 0.5
             }
            },
            "type": "bar"
           }
          ],
          "barpolar": [
           {
            "marker": {
             "line": {
              "color": "#E5ECF6",
              "width": 0.5
             }
            },
            "type": "barpolar"
           }
          ],
          "carpet": [
           {
            "aaxis": {
             "endlinecolor": "#2a3f5f",
             "gridcolor": "white",
             "linecolor": "white",
             "minorgridcolor": "white",
             "startlinecolor": "#2a3f5f"
            },
            "baxis": {
             "endlinecolor": "#2a3f5f",
             "gridcolor": "white",
             "linecolor": "white",
             "minorgridcolor": "white",
             "startlinecolor": "#2a3f5f"
            },
            "type": "carpet"
           }
          ],
          "choropleth": [
           {
            "colorbar": {
             "outlinewidth": 0,
             "ticks": ""
            },
            "type": "choropleth"
           }
          ],
          "contour": [
           {
            "colorbar": {
             "outlinewidth": 0,
             "ticks": ""
            },
            "colorscale": [
             [
              0,
              "#0d0887"
             ],
             [
              0.1111111111111111,
              "#46039f"
             ],
             [
              0.2222222222222222,
              "#7201a8"
             ],
             [
              0.3333333333333333,
              "#9c179e"
             ],
             [
              0.4444444444444444,
              "#bd3786"
             ],
             [
              0.5555555555555556,
              "#d8576b"
             ],
             [
              0.6666666666666666,
              "#ed7953"
             ],
             [
              0.7777777777777778,
              "#fb9f3a"
             ],
             [
              0.8888888888888888,
              "#fdca26"
             ],
             [
              1,
              "#f0f921"
             ]
            ],
            "type": "contour"
           }
          ],
          "contourcarpet": [
           {
            "colorbar": {
             "outlinewidth": 0,
             "ticks": ""
            },
            "type": "contourcarpet"
           }
          ],
          "heatmap": [
           {
            "colorbar": {
             "outlinewidth": 0,
             "ticks": ""
            },
            "colorscale": [
             [
              0,
              "#0d0887"
             ],
             [
              0.1111111111111111,
              "#46039f"
             ],
             [
              0.2222222222222222,
              "#7201a8"
             ],
             [
              0.3333333333333333,
              "#9c179e"
             ],
             [
              0.4444444444444444,
              "#bd3786"
             ],
             [
              0.5555555555555556,
              "#d8576b"
             ],
             [
              0.6666666666666666,
              "#ed7953"
             ],
             [
              0.7777777777777778,
              "#fb9f3a"
             ],
             [
              0.8888888888888888,
              "#fdca26"
             ],
             [
              1,
              "#f0f921"
             ]
            ],
            "type": "heatmap"
           }
          ],
          "heatmapgl": [
           {
            "colorbar": {
             "outlinewidth": 0,
             "ticks": ""
            },
            "colorscale": [
             [
              0,
              "#0d0887"
             ],
             [
              0.1111111111111111,
              "#46039f"
             ],
             [
              0.2222222222222222,
              "#7201a8"
             ],
             [
              0.3333333333333333,
              "#9c179e"
             ],
             [
              0.4444444444444444,
              "#bd3786"
             ],
             [
              0.5555555555555556,
              "#d8576b"
             ],
             [
              0.6666666666666666,
              "#ed7953"
             ],
             [
              0.7777777777777778,
              "#fb9f3a"
             ],
             [
              0.8888888888888888,
              "#fdca26"
             ],
             [
              1,
              "#f0f921"
             ]
            ],
            "type": "heatmapgl"
           }
          ],
          "histogram": [
           {
            "marker": {
             "colorbar": {
              "outlinewidth": 0,
              "ticks": ""
             }
            },
            "type": "histogram"
           }
          ],
          "histogram2d": [
           {
            "colorbar": {
             "outlinewidth": 0,
             "ticks": ""
            },
            "colorscale": [
             [
              0,
              "#0d0887"
             ],
             [
              0.1111111111111111,
              "#46039f"
             ],
             [
              0.2222222222222222,
              "#7201a8"
             ],
             [
              0.3333333333333333,
              "#9c179e"
             ],
             [
              0.4444444444444444,
              "#bd3786"
             ],
             [
              0.5555555555555556,
              "#d8576b"
             ],
             [
              0.6666666666666666,
              "#ed7953"
             ],
             [
              0.7777777777777778,
              "#fb9f3a"
             ],
             [
              0.8888888888888888,
              "#fdca26"
             ],
             [
              1,
              "#f0f921"
             ]
            ],
            "type": "histogram2d"
           }
          ],
          "histogram2dcontour": [
           {
            "colorbar": {
             "outlinewidth": 0,
             "ticks": ""
            },
            "colorscale": [
             [
              0,
              "#0d0887"
             ],
             [
              0.1111111111111111,
              "#46039f"
             ],
             [
              0.2222222222222222,
              "#7201a8"
             ],
             [
              0.3333333333333333,
              "#9c179e"
             ],
             [
              0.4444444444444444,
              "#bd3786"
             ],
             [
              0.5555555555555556,
              "#d8576b"
             ],
             [
              0.6666666666666666,
              "#ed7953"
             ],
             [
              0.7777777777777778,
              "#fb9f3a"
             ],
             [
              0.8888888888888888,
              "#fdca26"
             ],
             [
              1,
              "#f0f921"
             ]
            ],
            "type": "histogram2dcontour"
           }
          ],
          "mesh3d": [
           {
            "colorbar": {
             "outlinewidth": 0,
             "ticks": ""
            },
            "type": "mesh3d"
           }
          ],
          "parcoords": [
           {
            "line": {
             "colorbar": {
              "outlinewidth": 0,
              "ticks": ""
             }
            },
            "type": "parcoords"
           }
          ],
          "pie": [
           {
            "automargin": true,
            "type": "pie"
           }
          ],
          "scatter": [
           {
            "marker": {
             "colorbar": {
              "outlinewidth": 0,
              "ticks": ""
             }
            },
            "type": "scatter"
           }
          ],
          "scatter3d": [
           {
            "line": {
             "colorbar": {
              "outlinewidth": 0,
              "ticks": ""
             }
            },
            "marker": {
             "colorbar": {
              "outlinewidth": 0,
              "ticks": ""
             }
            },
            "type": "scatter3d"
           }
          ],
          "scattercarpet": [
           {
            "marker": {
             "colorbar": {
              "outlinewidth": 0,
              "ticks": ""
             }
            },
            "type": "scattercarpet"
           }
          ],
          "scattergeo": [
           {
            "marker": {
             "colorbar": {
              "outlinewidth": 0,
              "ticks": ""
             }
            },
            "type": "scattergeo"
           }
          ],
          "scattergl": [
           {
            "marker": {
             "colorbar": {
              "outlinewidth": 0,
              "ticks": ""
             }
            },
            "type": "scattergl"
           }
          ],
          "scattermapbox": [
           {
            "marker": {
             "colorbar": {
              "outlinewidth": 0,
              "ticks": ""
             }
            },
            "type": "scattermapbox"
           }
          ],
          "scatterpolar": [
           {
            "marker": {
             "colorbar": {
              "outlinewidth": 0,
              "ticks": ""
             }
            },
            "type": "scatterpolar"
           }
          ],
          "scatterpolargl": [
           {
            "marker": {
             "colorbar": {
              "outlinewidth": 0,
              "ticks": ""
             }
            },
            "type": "scatterpolargl"
           }
          ],
          "scatterternary": [
           {
            "marker": {
             "colorbar": {
              "outlinewidth": 0,
              "ticks": ""
             }
            },
            "type": "scatterternary"
           }
          ],
          "surface": [
           {
            "colorbar": {
             "outlinewidth": 0,
             "ticks": ""
            },
            "colorscale": [
             [
              0,
              "#0d0887"
             ],
             [
              0.1111111111111111,
              "#46039f"
             ],
             [
              0.2222222222222222,
              "#7201a8"
             ],
             [
              0.3333333333333333,
              "#9c179e"
             ],
             [
              0.4444444444444444,
              "#bd3786"
             ],
             [
              0.5555555555555556,
              "#d8576b"
             ],
             [
              0.6666666666666666,
              "#ed7953"
             ],
             [
              0.7777777777777778,
              "#fb9f3a"
             ],
             [
              0.8888888888888888,
              "#fdca26"
             ],
             [
              1,
              "#f0f921"
             ]
            ],
            "type": "surface"
           }
          ],
          "table": [
           {
            "cells": {
             "fill": {
              "color": "#EBF0F8"
             },
             "line": {
              "color": "white"
             }
            },
            "header": {
             "fill": {
              "color": "#C8D4E3"
             },
             "line": {
              "color": "white"
             }
            },
            "type": "table"
           }
          ]
         },
         "layout": {
          "annotationdefaults": {
           "arrowcolor": "#2a3f5f",
           "arrowhead": 0,
           "arrowwidth": 1
          },
          "coloraxis": {
           "colorbar": {
            "outlinewidth": 0,
            "ticks": ""
           }
          },
          "colorscale": {
           "diverging": [
            [
             0,
             "#8e0152"
            ],
            [
             0.1,
             "#c51b7d"
            ],
            [
             0.2,
             "#de77ae"
            ],
            [
             0.3,
             "#f1b6da"
            ],
            [
             0.4,
             "#fde0ef"
            ],
            [
             0.5,
             "#f7f7f7"
            ],
            [
             0.6,
             "#e6f5d0"
            ],
            [
             0.7,
             "#b8e186"
            ],
            [
             0.8,
             "#7fbc41"
            ],
            [
             0.9,
             "#4d9221"
            ],
            [
             1,
             "#276419"
            ]
           ],
           "sequential": [
            [
             0,
             "#0d0887"
            ],
            [
             0.1111111111111111,
             "#46039f"
            ],
            [
             0.2222222222222222,
             "#7201a8"
            ],
            [
             0.3333333333333333,
             "#9c179e"
            ],
            [
             0.4444444444444444,
             "#bd3786"
            ],
            [
             0.5555555555555556,
             "#d8576b"
            ],
            [
             0.6666666666666666,
             "#ed7953"
            ],
            [
             0.7777777777777778,
             "#fb9f3a"
            ],
            [
             0.8888888888888888,
             "#fdca26"
            ],
            [
             1,
             "#f0f921"
            ]
           ],
           "sequentialminus": [
            [
             0,
             "#0d0887"
            ],
            [
             0.1111111111111111,
             "#46039f"
            ],
            [
             0.2222222222222222,
             "#7201a8"
            ],
            [
             0.3333333333333333,
             "#9c179e"
            ],
            [
             0.4444444444444444,
             "#bd3786"
            ],
            [
             0.5555555555555556,
             "#d8576b"
            ],
            [
             0.6666666666666666,
             "#ed7953"
            ],
            [
             0.7777777777777778,
             "#fb9f3a"
            ],
            [
             0.8888888888888888,
             "#fdca26"
            ],
            [
             1,
             "#f0f921"
            ]
           ]
          },
          "colorway": [
           "#636efa",
           "#EF553B",
           "#00cc96",
           "#ab63fa",
           "#FFA15A",
           "#19d3f3",
           "#FF6692",
           "#B6E880",
           "#FF97FF",
           "#FECB52"
          ],
          "font": {
           "color": "#2a3f5f"
          },
          "geo": {
           "bgcolor": "white",
           "lakecolor": "white",
           "landcolor": "#E5ECF6",
           "showlakes": true,
           "showland": true,
           "subunitcolor": "white"
          },
          "hoverlabel": {
           "align": "left"
          },
          "hovermode": "closest",
          "mapbox": {
           "style": "light"
          },
          "paper_bgcolor": "white",
          "plot_bgcolor": "#E5ECF6",
          "polar": {
           "angularaxis": {
            "gridcolor": "white",
            "linecolor": "white",
            "ticks": ""
           },
           "bgcolor": "#E5ECF6",
           "radialaxis": {
            "gridcolor": "white",
            "linecolor": "white",
            "ticks": ""
           }
          },
          "scene": {
           "xaxis": {
            "backgroundcolor": "#E5ECF6",
            "gridcolor": "white",
            "gridwidth": 2,
            "linecolor": "white",
            "showbackground": true,
            "ticks": "",
            "zerolinecolor": "white"
           },
           "yaxis": {
            "backgroundcolor": "#E5ECF6",
            "gridcolor": "white",
            "gridwidth": 2,
            "linecolor": "white",
            "showbackground": true,
            "ticks": "",
            "zerolinecolor": "white"
           },
           "zaxis": {
            "backgroundcolor": "#E5ECF6",
            "gridcolor": "white",
            "gridwidth": 2,
            "linecolor": "white",
            "showbackground": true,
            "ticks": "",
            "zerolinecolor": "white"
           }
          },
          "shapedefaults": {
           "line": {
            "color": "#2a3f5f"
           }
          },
          "ternary": {
           "aaxis": {
            "gridcolor": "white",
            "linecolor": "white",
            "ticks": ""
           },
           "baxis": {
            "gridcolor": "white",
            "linecolor": "white",
            "ticks": ""
           },
           "bgcolor": "#E5ECF6",
           "caxis": {
            "gridcolor": "white",
            "linecolor": "white",
            "ticks": ""
           }
          },
          "title": {
           "x": 0.05
          },
          "xaxis": {
           "automargin": true,
           "gridcolor": "white",
           "linecolor": "white",
           "ticks": "",
           "title": {
            "standoff": 15
           },
           "zerolinecolor": "white",
           "zerolinewidth": 2
          },
          "yaxis": {
           "automargin": true,
           "gridcolor": "white",
           "linecolor": "white",
           "ticks": "",
           "title": {
            "standoff": 15
           },
           "zerolinecolor": "white",
           "zerolinewidth": 2
          }
         }
        },
        "title": {
         "text": "Ventas Best por Region"
        },
        "xaxis": {
         "type": "category"
        }
       }
      },
      "text/html": [
       "<div>\n",
       "        \n",
       "        \n",
       "            <div id=\"99eca4b2-649c-493f-867d-0a51dfb2fefa\" class=\"plotly-graph-div\" style=\"height:525px; width:100%;\"></div>\n",
       "            <script type=\"text/javascript\">\n",
       "                require([\"plotly\"], function(Plotly) {\n",
       "                    window.PLOTLYENV=window.PLOTLYENV || {};\n",
       "                    \n",
       "                if (document.getElementById(\"99eca4b2-649c-493f-867d-0a51dfb2fefa\")) {\n",
       "                    Plotly.newPlot(\n",
       "                        '99eca4b2-649c-493f-867d-0a51dfb2fefa',\n",
       "                        [{\"type\": \"bar\", \"x\": [28.0, 8.0, 46.0, 41.0, 3.0, 29.0, 11.0, 30.0, 15.0, 35.0, 33.0, 18.0, 50.0, 45.0, 36.0, 7.0, 39.0, 47.0, 14.0, 38.0, 48.0, 6.0, 23.0, 9.0, 24.0, 21.0, 2.0, 4.0, 12.0, 19.0, 43.0, 13.0, 10.0, 17.0, 37.0, 26.0, 20.0, 34.0, 31.0, 40.0, 49.0, 25.0, 1.0, 32.0, 5.0, 22.0, 27.0, 16.0, 44.0, 51.0, 52.0, 23.88235294117647, 42.0, 25.5, 23.5, 18.294117647058822, 31.176470588235293, 30.470588235294116, 31.2, 16.25, 39.94117647058823, 34.294117647058826, 27.133333333333333, 28.692307692307693, 39.294117647058826, 10.75, 16.571428571428573, 33.666666666666664, 6.461538461538462, 33.4, 2.923076923076923, 33.07692307692308, 26.933333333333334, 14.461538461538462, 34.36363636363637, 13.823529411764707, 28.857142857142858, 22.545454545454547, 21.90909090909091, 9.125, 27.58823529411765, 39.09090909090909, 15.384615384615385, 8.5, 9.909090909090908, 30.666666666666668, 12.666666666666666, 16.333333333333332, 13.647058823529411, 31.8, 25.933333333333334, 31.636363636363637, 35.357142857142854, 34.416666666666664, 32.63636363636363, 22.75, 22.8125, 10.866666666666667, 15.428571428571429, 24.153846153846153, 33.54545454545455, 40.45454545454545, 18.823529411764707, 7.866666666666666, 21.636363636363637, 4.5, 24.09090909090909, 20.142857142857142, 32.6875, 24.90909090909091, 36.6, 24.363636363636363, 25.545454545454547, 24.571428571428573, 4.214285714285714, 14.666666666666666, 15.5, 19.166666666666668, 26.5, 36.4, 14.25, 17.2, 6.8, 5.5, 13.8, 14.8], \"y\": [2088270.0, 504900.0, 338940.0, 289160.0, 236620.0, 211370.0, 169090.0, 162590.0, 148620.0, 145490.0, 142230.0, 138050.0, 132260.0, 111900.0, 107450.0, 105210.0, 98860.0, 89400.0, 81560.0, 78270.0, 77230.0, 69540.0, 65410.0, 58410.0, 55410.0, 55090.0, 54440.0, 53060.0, 52710.0, 50760.0, 47040.0, 43720.0, 43400.0, 39980.0, 36090.0, 35420.0, 33950.0, 30910.0, 29240.0, 22630.0, 21550.0, 21430.0, 20420.0, 19670.0, 19210.0, 15870.0, 15130.0, 9550.0, 4250.0, 3370.0, 2790.0, 2590.0, 2560.0, 2140.0, 2070.0, 1850.0, 1720.0, 1620.0, 1590.0, 1590.0, 1590.0, 1530.0, 1470.0, 1360.0, 1350.0, 1330.0, 1320.0, 1280.0, 1280.0, 1270.0, 1270.0, 1260.0, 1150.0, 1140.0, 1140.0, 1130.0, 1110.0, 1100.0, 1100.0, 1060.0, 1040.0, 1040.0, 1010.0, 1010.0, 1010.0, 990.0, 990.0, 990.0, 950.0, 920.0, 900.0, 890.0, 880.0, 870.0, 840.0, 830.0, 810.0, 750.0, 740.0, 720.0, 710.0, 700.0, 700.0, 690.0, 670.0, 670.0, 670.0, 670.0, 670.0, 660.0, 650.0, 650.0, 640.0, 640.0, 640.0, 480.0, 440.0, 320.0, 300.0, 290.0, 270.0, 270.0, 250.0, 240.0, 230.0, 200.0]}],\n",
       "                        {\"template\": {\"data\": {\"bar\": [{\"error_x\": {\"color\": \"#2a3f5f\"}, \"error_y\": {\"color\": \"#2a3f5f\"}, \"marker\": {\"line\": {\"color\": \"#E5ECF6\", \"width\": 0.5}}, \"type\": \"bar\"}], \"barpolar\": [{\"marker\": {\"line\": {\"color\": \"#E5ECF6\", \"width\": 0.5}}, \"type\": \"barpolar\"}], \"carpet\": [{\"aaxis\": {\"endlinecolor\": \"#2a3f5f\", \"gridcolor\": \"white\", \"linecolor\": \"white\", \"minorgridcolor\": \"white\", \"startlinecolor\": \"#2a3f5f\"}, \"baxis\": {\"endlinecolor\": \"#2a3f5f\", \"gridcolor\": \"white\", \"linecolor\": \"white\", \"minorgridcolor\": \"white\", \"startlinecolor\": \"#2a3f5f\"}, \"type\": \"carpet\"}], \"choropleth\": [{\"colorbar\": {\"outlinewidth\": 0, \"ticks\": \"\"}, \"type\": \"choropleth\"}], \"contour\": [{\"colorbar\": {\"outlinewidth\": 0, \"ticks\": \"\"}, \"colorscale\": [[0.0, \"#0d0887\"], [0.1111111111111111, \"#46039f\"], [0.2222222222222222, \"#7201a8\"], [0.3333333333333333, \"#9c179e\"], [0.4444444444444444, \"#bd3786\"], [0.5555555555555556, \"#d8576b\"], [0.6666666666666666, \"#ed7953\"], [0.7777777777777778, \"#fb9f3a\"], [0.8888888888888888, \"#fdca26\"], [1.0, \"#f0f921\"]], \"type\": \"contour\"}], \"contourcarpet\": [{\"colorbar\": {\"outlinewidth\": 0, \"ticks\": \"\"}, \"type\": \"contourcarpet\"}], \"heatmap\": [{\"colorbar\": {\"outlinewidth\": 0, \"ticks\": \"\"}, \"colorscale\": [[0.0, \"#0d0887\"], [0.1111111111111111, \"#46039f\"], [0.2222222222222222, \"#7201a8\"], [0.3333333333333333, \"#9c179e\"], [0.4444444444444444, \"#bd3786\"], [0.5555555555555556, \"#d8576b\"], [0.6666666666666666, \"#ed7953\"], [0.7777777777777778, \"#fb9f3a\"], [0.8888888888888888, \"#fdca26\"], [1.0, \"#f0f921\"]], \"type\": \"heatmap\"}], \"heatmapgl\": [{\"colorbar\": {\"outlinewidth\": 0, \"ticks\": \"\"}, \"colorscale\": [[0.0, \"#0d0887\"], [0.1111111111111111, \"#46039f\"], [0.2222222222222222, \"#7201a8\"], [0.3333333333333333, \"#9c179e\"], [0.4444444444444444, \"#bd3786\"], [0.5555555555555556, \"#d8576b\"], [0.6666666666666666, \"#ed7953\"], [0.7777777777777778, \"#fb9f3a\"], [0.8888888888888888, \"#fdca26\"], [1.0, \"#f0f921\"]], \"type\": \"heatmapgl\"}], \"histogram\": [{\"marker\": {\"colorbar\": {\"outlinewidth\": 0, \"ticks\": \"\"}}, \"type\": \"histogram\"}], \"histogram2d\": [{\"colorbar\": {\"outlinewidth\": 0, \"ticks\": \"\"}, \"colorscale\": [[0.0, \"#0d0887\"], [0.1111111111111111, \"#46039f\"], [0.2222222222222222, \"#7201a8\"], [0.3333333333333333, \"#9c179e\"], [0.4444444444444444, \"#bd3786\"], [0.5555555555555556, \"#d8576b\"], [0.6666666666666666, \"#ed7953\"], [0.7777777777777778, \"#fb9f3a\"], [0.8888888888888888, \"#fdca26\"], [1.0, \"#f0f921\"]], \"type\": \"histogram2d\"}], \"histogram2dcontour\": [{\"colorbar\": {\"outlinewidth\": 0, \"ticks\": \"\"}, \"colorscale\": [[0.0, \"#0d0887\"], [0.1111111111111111, \"#46039f\"], [0.2222222222222222, \"#7201a8\"], [0.3333333333333333, \"#9c179e\"], [0.4444444444444444, \"#bd3786\"], [0.5555555555555556, \"#d8576b\"], [0.6666666666666666, \"#ed7953\"], [0.7777777777777778, \"#fb9f3a\"], [0.8888888888888888, \"#fdca26\"], [1.0, \"#f0f921\"]], \"type\": \"histogram2dcontour\"}], \"mesh3d\": [{\"colorbar\": {\"outlinewidth\": 0, \"ticks\": \"\"}, \"type\": \"mesh3d\"}], \"parcoords\": [{\"line\": {\"colorbar\": {\"outlinewidth\": 0, \"ticks\": \"\"}}, \"type\": \"parcoords\"}], \"pie\": [{\"automargin\": true, \"type\": \"pie\"}], \"scatter\": [{\"marker\": {\"colorbar\": {\"outlinewidth\": 0, \"ticks\": \"\"}}, \"type\": \"scatter\"}], \"scatter3d\": [{\"line\": {\"colorbar\": {\"outlinewidth\": 0, \"ticks\": \"\"}}, \"marker\": {\"colorbar\": {\"outlinewidth\": 0, \"ticks\": \"\"}}, \"type\": \"scatter3d\"}], \"scattercarpet\": [{\"marker\": {\"colorbar\": {\"outlinewidth\": 0, \"ticks\": \"\"}}, \"type\": \"scattercarpet\"}], \"scattergeo\": [{\"marker\": {\"colorbar\": {\"outlinewidth\": 0, \"ticks\": \"\"}}, \"type\": \"scattergeo\"}], \"scattergl\": [{\"marker\": {\"colorbar\": {\"outlinewidth\": 0, \"ticks\": \"\"}}, \"type\": \"scattergl\"}], \"scattermapbox\": [{\"marker\": {\"colorbar\": {\"outlinewidth\": 0, \"ticks\": \"\"}}, \"type\": \"scattermapbox\"}], \"scatterpolar\": [{\"marker\": {\"colorbar\": {\"outlinewidth\": 0, \"ticks\": \"\"}}, \"type\": \"scatterpolar\"}], \"scatterpolargl\": [{\"marker\": {\"colorbar\": {\"outlinewidth\": 0, \"ticks\": \"\"}}, \"type\": \"scatterpolargl\"}], \"scatterternary\": [{\"marker\": {\"colorbar\": {\"outlinewidth\": 0, \"ticks\": \"\"}}, \"type\": \"scatterternary\"}], \"surface\": [{\"colorbar\": {\"outlinewidth\": 0, \"ticks\": \"\"}, \"colorscale\": [[0.0, \"#0d0887\"], [0.1111111111111111, \"#46039f\"], [0.2222222222222222, \"#7201a8\"], [0.3333333333333333, \"#9c179e\"], [0.4444444444444444, \"#bd3786\"], [0.5555555555555556, \"#d8576b\"], [0.6666666666666666, \"#ed7953\"], [0.7777777777777778, \"#fb9f3a\"], [0.8888888888888888, \"#fdca26\"], [1.0, \"#f0f921\"]], \"type\": \"surface\"}], \"table\": [{\"cells\": {\"fill\": {\"color\": \"#EBF0F8\"}, \"line\": {\"color\": \"white\"}}, \"header\": {\"fill\": {\"color\": \"#C8D4E3\"}, \"line\": {\"color\": \"white\"}}, \"type\": \"table\"}]}, \"layout\": {\"annotationdefaults\": {\"arrowcolor\": \"#2a3f5f\", \"arrowhead\": 0, \"arrowwidth\": 1}, \"coloraxis\": {\"colorbar\": {\"outlinewidth\": 0, \"ticks\": \"\"}}, \"colorscale\": {\"diverging\": [[0, \"#8e0152\"], [0.1, \"#c51b7d\"], [0.2, \"#de77ae\"], [0.3, \"#f1b6da\"], [0.4, \"#fde0ef\"], [0.5, \"#f7f7f7\"], [0.6, \"#e6f5d0\"], [0.7, \"#b8e186\"], [0.8, \"#7fbc41\"], [0.9, \"#4d9221\"], [1, \"#276419\"]], \"sequential\": [[0.0, \"#0d0887\"], [0.1111111111111111, \"#46039f\"], [0.2222222222222222, \"#7201a8\"], [0.3333333333333333, \"#9c179e\"], [0.4444444444444444, \"#bd3786\"], [0.5555555555555556, \"#d8576b\"], [0.6666666666666666, \"#ed7953\"], [0.7777777777777778, \"#fb9f3a\"], [0.8888888888888888, \"#fdca26\"], [1.0, \"#f0f921\"]], \"sequentialminus\": [[0.0, \"#0d0887\"], [0.1111111111111111, \"#46039f\"], [0.2222222222222222, \"#7201a8\"], [0.3333333333333333, \"#9c179e\"], [0.4444444444444444, \"#bd3786\"], [0.5555555555555556, \"#d8576b\"], [0.6666666666666666, \"#ed7953\"], [0.7777777777777778, \"#fb9f3a\"], [0.8888888888888888, \"#fdca26\"], [1.0, \"#f0f921\"]]}, \"colorway\": [\"#636efa\", \"#EF553B\", \"#00cc96\", \"#ab63fa\", \"#FFA15A\", \"#19d3f3\", \"#FF6692\", \"#B6E880\", \"#FF97FF\", \"#FECB52\"], \"font\": {\"color\": \"#2a3f5f\"}, \"geo\": {\"bgcolor\": \"white\", \"lakecolor\": \"white\", \"landcolor\": \"#E5ECF6\", \"showlakes\": true, \"showland\": true, \"subunitcolor\": \"white\"}, \"hoverlabel\": {\"align\": \"left\"}, \"hovermode\": \"closest\", \"mapbox\": {\"style\": \"light\"}, \"paper_bgcolor\": \"white\", \"plot_bgcolor\": \"#E5ECF6\", \"polar\": {\"angularaxis\": {\"gridcolor\": \"white\", \"linecolor\": \"white\", \"ticks\": \"\"}, \"bgcolor\": \"#E5ECF6\", \"radialaxis\": {\"gridcolor\": \"white\", \"linecolor\": \"white\", \"ticks\": \"\"}}, \"scene\": {\"xaxis\": {\"backgroundcolor\": \"#E5ECF6\", \"gridcolor\": \"white\", \"gridwidth\": 2, \"linecolor\": \"white\", \"showbackground\": true, \"ticks\": \"\", \"zerolinecolor\": \"white\"}, \"yaxis\": {\"backgroundcolor\": \"#E5ECF6\", \"gridcolor\": \"white\", \"gridwidth\": 2, \"linecolor\": \"white\", \"showbackground\": true, \"ticks\": \"\", \"zerolinecolor\": \"white\"}, \"zaxis\": {\"backgroundcolor\": \"#E5ECF6\", \"gridcolor\": \"white\", \"gridwidth\": 2, \"linecolor\": \"white\", \"showbackground\": true, \"ticks\": \"\", \"zerolinecolor\": \"white\"}}, \"shapedefaults\": {\"line\": {\"color\": \"#2a3f5f\"}}, \"ternary\": {\"aaxis\": {\"gridcolor\": \"white\", \"linecolor\": \"white\", \"ticks\": \"\"}, \"baxis\": {\"gridcolor\": \"white\", \"linecolor\": \"white\", \"ticks\": \"\"}, \"bgcolor\": \"#E5ECF6\", \"caxis\": {\"gridcolor\": \"white\", \"linecolor\": \"white\", \"ticks\": \"\"}}, \"title\": {\"x\": 0.05}, \"xaxis\": {\"automargin\": true, \"gridcolor\": \"white\", \"linecolor\": \"white\", \"ticks\": \"\", \"title\": {\"standoff\": 15}, \"zerolinecolor\": \"white\", \"zerolinewidth\": 2}, \"yaxis\": {\"automargin\": true, \"gridcolor\": \"white\", \"linecolor\": \"white\", \"ticks\": \"\", \"title\": {\"standoff\": 15}, \"zerolinecolor\": \"white\", \"zerolinewidth\": 2}}}, \"title\": {\"text\": \"Ventas Best por Region\"}, \"xaxis\": {\"type\": \"category\"}},\n",
       "                        {\"responsive\": true}\n",
       "                    ).then(function(){\n",
       "                            \n",
       "var gd = document.getElementById('99eca4b2-649c-493f-867d-0a51dfb2fefa');\n",
       "var x = new MutationObserver(function (mutations, observer) {{\n",
       "        var display = window.getComputedStyle(gd).display;\n",
       "        if (!display || display === 'none') {{\n",
       "            console.log([gd, 'removed!']);\n",
       "            Plotly.purge(gd);\n",
       "            observer.disconnect();\n",
       "        }}\n",
       "}});\n",
       "\n",
       "// Listen for the removal of the full notebook cells\n",
       "var notebookContainer = gd.closest('#notebook-container');\n",
       "if (notebookContainer) {{\n",
       "    x.observe(notebookContainer, {childList: true});\n",
       "}}\n",
       "\n",
       "// Listen for the clearing of the current output cell\n",
       "var outputEl = gd.closest('.output');\n",
       "if (outputEl) {{\n",
       "    x.observe(outputEl, {childList: true});\n",
       "}}\n",
       "\n",
       "                        })\n",
       "                };\n",
       "                });\n",
       "            </script>\n",
       "        </div>"
      ]
     },
     "metadata": {},
     "output_type": "display_data"
    },
    {
     "data": {
      "text/plain": [
       "<Figure size 1152x1152 with 0 Axes>"
      ]
     },
     "metadata": {},
     "output_type": "display_data"
    }
   ],
   "source": [
    "plot_data = [\n",
    "    go.Bar(\n",
    "        x=df_best_monetary_value['region_code'],\n",
    "        y=df_best_monetary_value['monetary_value']\n",
    "    )\n",
    "]\n",
    "\n",
    "plot_layout = go.Layout(\n",
    "        xaxis={\"type\": \"category\"},\n",
    "        title='Ventas Best por Region'\n",
    "    )\n",
    "plt.figure(figsize=(16,16))\n",
    "fig = go.Figure(data=plot_data, layout=plot_layout)\n",
    "fig.write_html('fig501.html')\n",
    "pyoff.iplot(fig)"
   ]
  },
  {
   "cell_type": "code",
   "execution_count": 81,
   "metadata": {},
   "outputs": [],
   "source": [
    "definitivo_10000clientes.to_csv('definitivo_10000clientes1.csv', index=True)\n"
   ]
  },
  {
   "cell_type": "code",
   "execution_count": null,
   "metadata": {},
   "outputs": [],
   "source": []
  }
 ],
 "metadata": {
  "kernelspec": {
   "display_name": "Python 3",
   "language": "python",
   "name": "python3"
  },
  "language_info": {
   "codemirror_mode": {
    "name": "ipython",
    "version": 3
   },
   "file_extension": ".py",
   "mimetype": "text/x-python",
   "name": "python",
   "nbconvert_exporter": "python",
   "pygments_lexer": "ipython3",
   "version": "3.7.6"
  }
 },
 "nbformat": 4,
 "nbformat_minor": 4
}
