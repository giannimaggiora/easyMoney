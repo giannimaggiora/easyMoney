{
 "cells": [
  {
   "cell_type": "code",
   "execution_count": 1,
   "metadata": {},
   "outputs": [],
   "source": [
    "import numpy as np # linear algebra\n",
    "import pandas as pd # data processing, CSV file I/O (e.g. pd.read_csv)\n",
    "\n",
    "# import libraries for plotting\n",
    "import matplotlib.pyplot as plt\n",
    "import seaborn as sns\n",
    "# from matplotlib import pyplot as plt\n",
    "%matplotlib inline\n",
    "plt.style.use('ggplot')\n",
    "pd.set_option('display.max_rows', 500)\n",
    "pd.options.display.float_format = '{:,.2f}'.format\n",
    "RANDOM_STATE = 42\n",
    "from datetime import date"
   ]
  },
  {
   "cell_type": "code",
   "execution_count": 2,
   "metadata": {},
   "outputs": [],
   "source": [
    "###Products"
   ]
  },
  {
   "cell_type": "code",
   "execution_count": 3,
   "metadata": {},
   "outputs": [],
   "source": [
    "df_products = pd.read_csv('products_df.csv')"
   ]
  },
  {
   "cell_type": "code",
   "execution_count": 4,
   "metadata": {},
   "outputs": [
    {
     "data": {
      "text/html": [
       "<div>\n",
       "<style scoped>\n",
       "    .dataframe tbody tr th:only-of-type {\n",
       "        vertical-align: middle;\n",
       "    }\n",
       "\n",
       "    .dataframe tbody tr th {\n",
       "        vertical-align: top;\n",
       "    }\n",
       "\n",
       "    .dataframe thead th {\n",
       "        text-align: right;\n",
       "    }\n",
       "</style>\n",
       "<table border=\"1\" class=\"dataframe\">\n",
       "  <thead>\n",
       "    <tr style=\"text-align: right;\">\n",
       "      <th></th>\n",
       "      <th>0</th>\n",
       "      <th>1</th>\n",
       "      <th>2</th>\n",
       "      <th>3</th>\n",
       "      <th>4</th>\n",
       "    </tr>\n",
       "  </thead>\n",
       "  <tbody>\n",
       "    <tr>\n",
       "      <th>Unnamed: 0</th>\n",
       "      <td>0</td>\n",
       "      <td>1</td>\n",
       "      <td>2</td>\n",
       "      <td>3</td>\n",
       "      <td>4</td>\n",
       "    </tr>\n",
       "    <tr>\n",
       "      <th>pk_cid</th>\n",
       "      <td>1375586</td>\n",
       "      <td>1050611</td>\n",
       "      <td>1050612</td>\n",
       "      <td>1050613</td>\n",
       "      <td>1050614</td>\n",
       "    </tr>\n",
       "    <tr>\n",
       "      <th>pk_partition</th>\n",
       "      <td>2018-01-28</td>\n",
       "      <td>2018-01-28</td>\n",
       "      <td>2018-01-28</td>\n",
       "      <td>2018-01-28</td>\n",
       "      <td>2018-01-28</td>\n",
       "    </tr>\n",
       "    <tr>\n",
       "      <th>short_term_deposit</th>\n",
       "      <td>0</td>\n",
       "      <td>0</td>\n",
       "      <td>0</td>\n",
       "      <td>1</td>\n",
       "      <td>0</td>\n",
       "    </tr>\n",
       "    <tr>\n",
       "      <th>loans</th>\n",
       "      <td>0</td>\n",
       "      <td>0</td>\n",
       "      <td>0</td>\n",
       "      <td>0</td>\n",
       "      <td>0</td>\n",
       "    </tr>\n",
       "    <tr>\n",
       "      <th>mortgage</th>\n",
       "      <td>0</td>\n",
       "      <td>0</td>\n",
       "      <td>0</td>\n",
       "      <td>0</td>\n",
       "      <td>0</td>\n",
       "    </tr>\n",
       "    <tr>\n",
       "      <th>funds</th>\n",
       "      <td>0</td>\n",
       "      <td>0</td>\n",
       "      <td>0</td>\n",
       "      <td>0</td>\n",
       "      <td>0</td>\n",
       "    </tr>\n",
       "    <tr>\n",
       "      <th>securities</th>\n",
       "      <td>0</td>\n",
       "      <td>0</td>\n",
       "      <td>0</td>\n",
       "      <td>0</td>\n",
       "      <td>0</td>\n",
       "    </tr>\n",
       "    <tr>\n",
       "      <th>long_term_deposit</th>\n",
       "      <td>0</td>\n",
       "      <td>0</td>\n",
       "      <td>0</td>\n",
       "      <td>0</td>\n",
       "      <td>0</td>\n",
       "    </tr>\n",
       "    <tr>\n",
       "      <th>em_account_pp</th>\n",
       "      <td>0</td>\n",
       "      <td>0</td>\n",
       "      <td>0</td>\n",
       "      <td>0</td>\n",
       "      <td>0</td>\n",
       "    </tr>\n",
       "    <tr>\n",
       "      <th>credit_card</th>\n",
       "      <td>0</td>\n",
       "      <td>0</td>\n",
       "      <td>0</td>\n",
       "      <td>0</td>\n",
       "      <td>0</td>\n",
       "    </tr>\n",
       "    <tr>\n",
       "      <th>payroll</th>\n",
       "      <td>0.00</td>\n",
       "      <td>0.00</td>\n",
       "      <td>0.00</td>\n",
       "      <td>0.00</td>\n",
       "      <td>0.00</td>\n",
       "    </tr>\n",
       "    <tr>\n",
       "      <th>pension_plan</th>\n",
       "      <td>0.00</td>\n",
       "      <td>0.00</td>\n",
       "      <td>0.00</td>\n",
       "      <td>0.00</td>\n",
       "      <td>0.00</td>\n",
       "    </tr>\n",
       "    <tr>\n",
       "      <th>payroll_account</th>\n",
       "      <td>0</td>\n",
       "      <td>0</td>\n",
       "      <td>0</td>\n",
       "      <td>0</td>\n",
       "      <td>0</td>\n",
       "    </tr>\n",
       "    <tr>\n",
       "      <th>emc_account</th>\n",
       "      <td>0</td>\n",
       "      <td>0</td>\n",
       "      <td>0</td>\n",
       "      <td>0</td>\n",
       "      <td>0</td>\n",
       "    </tr>\n",
       "    <tr>\n",
       "      <th>debit_card</th>\n",
       "      <td>0</td>\n",
       "      <td>0</td>\n",
       "      <td>0</td>\n",
       "      <td>0</td>\n",
       "      <td>0</td>\n",
       "    </tr>\n",
       "    <tr>\n",
       "      <th>em_account_p</th>\n",
       "      <td>0</td>\n",
       "      <td>0</td>\n",
       "      <td>0</td>\n",
       "      <td>0</td>\n",
       "      <td>0</td>\n",
       "    </tr>\n",
       "    <tr>\n",
       "      <th>em_acount</th>\n",
       "      <td>1</td>\n",
       "      <td>1</td>\n",
       "      <td>1</td>\n",
       "      <td>0</td>\n",
       "      <td>1</td>\n",
       "    </tr>\n",
       "  </tbody>\n",
       "</table>\n",
       "</div>"
      ],
      "text/plain": [
       "                             0           1           2           3           4\n",
       "Unnamed: 0                   0           1           2           3           4\n",
       "pk_cid                 1375586     1050611     1050612     1050613     1050614\n",
       "pk_partition        2018-01-28  2018-01-28  2018-01-28  2018-01-28  2018-01-28\n",
       "short_term_deposit           0           0           0           1           0\n",
       "loans                        0           0           0           0           0\n",
       "mortgage                     0           0           0           0           0\n",
       "funds                        0           0           0           0           0\n",
       "securities                   0           0           0           0           0\n",
       "long_term_deposit            0           0           0           0           0\n",
       "em_account_pp                0           0           0           0           0\n",
       "credit_card                  0           0           0           0           0\n",
       "payroll                   0.00        0.00        0.00        0.00        0.00\n",
       "pension_plan              0.00        0.00        0.00        0.00        0.00\n",
       "payroll_account              0           0           0           0           0\n",
       "emc_account                  0           0           0           0           0\n",
       "debit_card                   0           0           0           0           0\n",
       "em_account_p                 0           0           0           0           0\n",
       "em_acount                    1           1           1           0           1"
      ]
     },
     "execution_count": 4,
     "metadata": {},
     "output_type": "execute_result"
    }
   ],
   "source": [
    "df_products.head().T"
   ]
  },
  {
   "cell_type": "code",
   "execution_count": 5,
   "metadata": {
    "scrolled": true
   },
   "outputs": [
    {
     "name": "stdout",
     "output_type": "stream",
     "text": [
      "<class 'pandas.core.frame.DataFrame'>\n",
      "RangeIndex: 5962924 entries, 0 to 5962923\n",
      "Data columns (total 18 columns):\n",
      " #   Column              Dtype  \n",
      "---  ------              -----  \n",
      " 0   Unnamed: 0          int64  \n",
      " 1   pk_cid              int64  \n",
      " 2   pk_partition        object \n",
      " 3   short_term_deposit  int64  \n",
      " 4   loans               int64  \n",
      " 5   mortgage            int64  \n",
      " 6   funds               int64  \n",
      " 7   securities          int64  \n",
      " 8   long_term_deposit   int64  \n",
      " 9   em_account_pp       int64  \n",
      " 10  credit_card         int64  \n",
      " 11  payroll             float64\n",
      " 12  pension_plan        float64\n",
      " 13  payroll_account     int64  \n",
      " 14  emc_account         int64  \n",
      " 15  debit_card          int64  \n",
      " 16  em_account_p        int64  \n",
      " 17  em_acount           int64  \n",
      "dtypes: float64(2), int64(15), object(1)\n",
      "memory usage: 818.9+ MB\n"
     ]
    }
   ],
   "source": [
    "df_products.info(verbose=True)"
   ]
  },
  {
   "cell_type": "code",
   "execution_count": 6,
   "metadata": {
    "scrolled": true
   },
   "outputs": [
    {
     "data": {
      "text/plain": [
       "896586     17\n",
       "1293253    17\n",
       "1194997    17\n",
       "1186801    17\n",
       "1335662    17\n",
       "           ..\n",
       "1552970     1\n",
       "1544782     1\n",
       "1540166     1\n",
       "1548557     1\n",
       "1542575     1\n",
       "Name: pk_cid, Length: 456373, dtype: int64"
      ]
     },
     "execution_count": 6,
     "metadata": {},
     "output_type": "execute_result"
    }
   ],
   "source": [
    "df_products['pk_cid'].value_counts()"
   ]
  },
  {
   "cell_type": "code",
   "execution_count": 7,
   "metadata": {},
   "outputs": [
    {
     "data": {
      "text/plain": [
       "2019-05-28    442995\n",
       "2019-04-28    439627\n",
       "2019-03-28    436183\n",
       "2019-02-28    431727\n",
       "2019-01-28    426875\n",
       "2018-12-28    422481\n",
       "2018-11-28    416387\n",
       "2018-10-28    402300\n",
       "2018-09-28    375323\n",
       "2018-08-28    352922\n",
       "2018-07-28    339339\n",
       "2018-06-28    252104\n",
       "2018-05-28    249926\n",
       "2018-04-28    247463\n",
       "2018-03-28    245258\n",
       "2018-02-28    242521\n",
       "2018-01-28    239493\n",
       "Name: pk_partition, dtype: int64"
      ]
     },
     "execution_count": 7,
     "metadata": {},
     "output_type": "execute_result"
    }
   ],
   "source": [
    "df_products['pk_partition'].value_counts()"
   ]
  },
  {
   "cell_type": "code",
   "execution_count": 8,
   "metadata": {},
   "outputs": [],
   "source": [
    "columnas= df_products"
   ]
  },
  {
   "cell_type": "code",
   "execution_count": 9,
   "metadata": {},
   "outputs": [
    {
     "name": "stdout",
     "output_type": "stream",
     "text": [
      "\n",
      " Unnamed: 0 [       0        1        2 ... 13647306 13647307 13647308] \n",
      "\n",
      "\n",
      " pk_cid [1375586 1050611 1050612 ... 1173729 1164094 1550586] \n",
      "\n",
      "\n",
      " pk_partition ['2018-01-28' '2018-02-28' '2018-03-28' '2018-04-28' '2018-05-28'\n",
      " '2018-06-28' '2018-07-28' '2018-08-28' '2018-09-28' '2018-10-28'\n",
      " '2018-11-28' '2018-12-28' '2019-01-28' '2019-02-28' '2019-03-28'\n",
      " '2019-04-28' '2019-05-28'] \n",
      "\n",
      "\n",
      " short_term_deposit [0 1] \n",
      "\n",
      "\n",
      " loans [0 1] \n",
      "\n",
      "\n",
      " mortgage [0 1] \n",
      "\n",
      "\n",
      " funds [0 1] \n",
      "\n",
      "\n",
      " securities [0 1] \n",
      "\n",
      "\n",
      " long_term_deposit [0 1] \n",
      "\n",
      "\n",
      " em_account_pp [0] \n",
      "\n",
      "\n",
      " credit_card [0 1] \n",
      "\n",
      "\n",
      " payroll [ 0.  1. nan] \n",
      "\n",
      "\n",
      " pension_plan [ 0.  1. nan] \n",
      "\n",
      "\n",
      " payroll_account [0 1] \n",
      "\n",
      "\n",
      " emc_account [0 1] \n",
      "\n",
      "\n",
      " debit_card [0 1] \n",
      "\n",
      "\n",
      " em_account_p [0 1] \n",
      "\n",
      "\n",
      " em_acount [1 0] \n",
      "\n"
     ]
    }
   ],
   "source": [
    "for i in columnas:\n",
    "    print('\\n',i,df_products[i].unique(),'\\n')"
   ]
  },
  {
   "cell_type": "code",
   "execution_count": 10,
   "metadata": {},
   "outputs": [],
   "source": [
    "###Sociodemographic"
   ]
  },
  {
   "cell_type": "code",
   "execution_count": 11,
   "metadata": {},
   "outputs": [],
   "source": [
    "df_socio=df_products = pd.read_csv('sociodemographic_df.csv')"
   ]
  },
  {
   "cell_type": "code",
   "execution_count": 12,
   "metadata": {},
   "outputs": [
    {
     "data": {
      "text/html": [
       "<div>\n",
       "<style scoped>\n",
       "    .dataframe tbody tr th:only-of-type {\n",
       "        vertical-align: middle;\n",
       "    }\n",
       "\n",
       "    .dataframe tbody tr th {\n",
       "        vertical-align: top;\n",
       "    }\n",
       "\n",
       "    .dataframe thead th {\n",
       "        text-align: right;\n",
       "    }\n",
       "</style>\n",
       "<table border=\"1\" class=\"dataframe\">\n",
       "  <thead>\n",
       "    <tr style=\"text-align: right;\">\n",
       "      <th></th>\n",
       "      <th>0</th>\n",
       "      <th>1</th>\n",
       "      <th>2</th>\n",
       "      <th>3</th>\n",
       "      <th>4</th>\n",
       "    </tr>\n",
       "  </thead>\n",
       "  <tbody>\n",
       "    <tr>\n",
       "      <th>Unnamed: 0</th>\n",
       "      <td>0</td>\n",
       "      <td>1</td>\n",
       "      <td>2</td>\n",
       "      <td>3</td>\n",
       "      <td>4</td>\n",
       "    </tr>\n",
       "    <tr>\n",
       "      <th>pk_cid</th>\n",
       "      <td>1375586</td>\n",
       "      <td>1050611</td>\n",
       "      <td>1050612</td>\n",
       "      <td>1050613</td>\n",
       "      <td>1050614</td>\n",
       "    </tr>\n",
       "    <tr>\n",
       "      <th>pk_partition</th>\n",
       "      <td>2018-01-28</td>\n",
       "      <td>2018-01-28</td>\n",
       "      <td>2018-01-28</td>\n",
       "      <td>2018-01-28</td>\n",
       "      <td>2018-01-28</td>\n",
       "    </tr>\n",
       "    <tr>\n",
       "      <th>country_id</th>\n",
       "      <td>ES</td>\n",
       "      <td>ES</td>\n",
       "      <td>ES</td>\n",
       "      <td>ES</td>\n",
       "      <td>ES</td>\n",
       "    </tr>\n",
       "    <tr>\n",
       "      <th>region_code</th>\n",
       "      <td>29.00</td>\n",
       "      <td>13.00</td>\n",
       "      <td>13.00</td>\n",
       "      <td>50.00</td>\n",
       "      <td>50.00</td>\n",
       "    </tr>\n",
       "    <tr>\n",
       "      <th>gender</th>\n",
       "      <td>H</td>\n",
       "      <td>V</td>\n",
       "      <td>V</td>\n",
       "      <td>H</td>\n",
       "      <td>V</td>\n",
       "    </tr>\n",
       "    <tr>\n",
       "      <th>age</th>\n",
       "      <td>35</td>\n",
       "      <td>23</td>\n",
       "      <td>23</td>\n",
       "      <td>22</td>\n",
       "      <td>23</td>\n",
       "    </tr>\n",
       "    <tr>\n",
       "      <th>deceased</th>\n",
       "      <td>N</td>\n",
       "      <td>N</td>\n",
       "      <td>N</td>\n",
       "      <td>N</td>\n",
       "      <td>N</td>\n",
       "    </tr>\n",
       "    <tr>\n",
       "      <th>salary</th>\n",
       "      <td>87,218.10</td>\n",
       "      <td>35,548.74</td>\n",
       "      <td>122,179.11</td>\n",
       "      <td>119,775.54</td>\n",
       "      <td>NaN</td>\n",
       "    </tr>\n",
       "  </tbody>\n",
       "</table>\n",
       "</div>"
      ],
      "text/plain": [
       "                       0           1           2           3           4\n",
       "Unnamed: 0             0           1           2           3           4\n",
       "pk_cid           1375586     1050611     1050612     1050613     1050614\n",
       "pk_partition  2018-01-28  2018-01-28  2018-01-28  2018-01-28  2018-01-28\n",
       "country_id            ES          ES          ES          ES          ES\n",
       "region_code        29.00       13.00       13.00       50.00       50.00\n",
       "gender                 H           V           V           H           V\n",
       "age                   35          23          23          22          23\n",
       "deceased               N           N           N           N           N\n",
       "salary         87,218.10   35,548.74  122,179.11  119,775.54         NaN"
      ]
     },
     "execution_count": 12,
     "metadata": {},
     "output_type": "execute_result"
    }
   ],
   "source": [
    "df_socio.head().T"
   ]
  },
  {
   "cell_type": "code",
   "execution_count": 13,
   "metadata": {},
   "outputs": [
    {
     "name": "stdout",
     "output_type": "stream",
     "text": [
      "<class 'pandas.core.frame.DataFrame'>\n",
      "RangeIndex: 5962924 entries, 0 to 5962923\n",
      "Data columns (total 9 columns):\n",
      " #   Column        Dtype  \n",
      "---  ------        -----  \n",
      " 0   Unnamed: 0    int64  \n",
      " 1   pk_cid        int64  \n",
      " 2   pk_partition  object \n",
      " 3   country_id    object \n",
      " 4   region_code   float64\n",
      " 5   gender        object \n",
      " 6   age           int64  \n",
      " 7   deceased      object \n",
      " 8   salary        float64\n",
      "dtypes: float64(2), int64(3), object(4)\n",
      "memory usage: 409.4+ MB\n"
     ]
    }
   ],
   "source": [
    "df_socio.info(verbose=True)"
   ]
  },
  {
   "cell_type": "code",
   "execution_count": 14,
   "metadata": {},
   "outputs": [],
   "source": [
    "columnas= df_socio"
   ]
  },
  {
   "cell_type": "code",
   "execution_count": 15,
   "metadata": {},
   "outputs": [
    {
     "name": "stdout",
     "output_type": "stream",
     "text": [
      "\n",
      " Unnamed: 0 [       0        1        2 ... 13647306 13647307 13647308] \n",
      "\n",
      "\n",
      " pk_cid [1375586 1050611 1050612 ... 1173729 1164094 1550586] \n",
      "\n",
      "\n",
      " pk_partition ['2018-01-28' '2018-02-28' '2018-03-28' '2018-04-28' '2018-05-28'\n",
      " '2018-06-28' '2018-07-28' '2018-08-28' '2018-09-28' '2018-10-28'\n",
      " '2018-11-28' '2018-12-28' '2019-01-28' '2019-02-28' '2019-03-28'\n",
      " '2019-04-28' '2019-05-28'] \n",
      "\n",
      "\n",
      " country_id ['ES' 'CA' 'CH' 'CL' 'IE' 'AT' 'FR' 'GB' 'DE' 'DO' 'BE' 'AR' 'VE' 'US'\n",
      " 'MX' 'PL' 'MA' 'GT' 'GA' 'CO' 'BR' 'RU' 'IT' 'NO' 'SN' 'MR' 'ET' 'CN'\n",
      " 'CM' 'SA' 'CI' 'QA' 'LU' 'SE' 'DJ' 'PT' 'JM' 'RO' 'HU' 'DZ' 'PE'] \n",
      "\n",
      "\n",
      " region_code [29. 13. 50. 45. 24. 20. 10. 17. 49.  8. 37.  9. 22. 31.  5. 40. 27. 25.\n",
      " 28.  3. 42. 41. 39.  7. 47. 36. 46. 44. 15. 32. 23. 16. 48. 12. 26.  2.\n",
      "  6. 30. 11.  4. 19. 34. 35. 14. 21. 18. 33. 38. 52. 43.  1. nan 51.] \n",
      "\n",
      "\n",
      " gender ['H' 'V' nan] \n",
      "\n",
      "\n",
      " age [ 35  23  22  24  65  28  25  26  53  27  32  37  31  39  63  33  55  42\n",
      "  58  38  50  30  45  44  36  29  60  57  67  47  34  48  46  54  84  15\n",
      "  12   8   6  83  40  77  69  52  59  43  10   9  49  41  51  78  16  11\n",
      "  73  62  66  17  68  82  95  96  56  61  79  72  14  19  13  86  64  20\n",
      "  89  71   7  70  74  21  18  75   4  80  81   5  76  92  93  85  91  87\n",
      "  90  94  99  98  88  97 100 101   3   2 102 104 103 105] \n",
      "\n",
      "\n",
      " deceased ['N' 'S'] \n",
      "\n",
      "\n",
      " salary [ 87218.1   35548.74 122179.11 ...  63867.66  34341.18  89018.37] \n",
      "\n"
     ]
    }
   ],
   "source": [
    "for i in columnas:\n",
    "    print('\\n',i,df_socio[i].unique(),'\\n')"
   ]
  },
  {
   "cell_type": "code",
   "execution_count": 16,
   "metadata": {
    "scrolled": true
   },
   "outputs": [
    {
     "data": {
      "text/plain": [
       "896586     17\n",
       "1293253    17\n",
       "1194997    17\n",
       "1186801    17\n",
       "1335662    17\n",
       "           ..\n",
       "1552970     1\n",
       "1544782     1\n",
       "1540166     1\n",
       "1548557     1\n",
       "1542575     1\n",
       "Name: pk_cid, Length: 456373, dtype: int64"
      ]
     },
     "execution_count": 16,
     "metadata": {},
     "output_type": "execute_result"
    }
   ],
   "source": [
    "df_socio['pk_cid'].value_counts()"
   ]
  },
  {
   "cell_type": "code",
   "execution_count": 17,
   "metadata": {},
   "outputs": [],
   "source": [
    "##Actividad comercial"
   ]
  },
  {
   "cell_type": "code",
   "execution_count": 18,
   "metadata": {},
   "outputs": [],
   "source": [
    "df_sales=df_products = pd.read_csv('commercial_activity_df.csv')"
   ]
  },
  {
   "cell_type": "code",
   "execution_count": 19,
   "metadata": {},
   "outputs": [
    {
     "data": {
      "text/html": [
       "<div>\n",
       "<style scoped>\n",
       "    .dataframe tbody tr th:only-of-type {\n",
       "        vertical-align: middle;\n",
       "    }\n",
       "\n",
       "    .dataframe tbody tr th {\n",
       "        vertical-align: top;\n",
       "    }\n",
       "\n",
       "    .dataframe thead th {\n",
       "        text-align: right;\n",
       "    }\n",
       "</style>\n",
       "<table border=\"1\" class=\"dataframe\">\n",
       "  <thead>\n",
       "    <tr style=\"text-align: right;\">\n",
       "      <th></th>\n",
       "      <th>0</th>\n",
       "      <th>1</th>\n",
       "      <th>2</th>\n",
       "      <th>3</th>\n",
       "      <th>4</th>\n",
       "    </tr>\n",
       "  </thead>\n",
       "  <tbody>\n",
       "    <tr>\n",
       "      <th>Unnamed: 0</th>\n",
       "      <td>0</td>\n",
       "      <td>1</td>\n",
       "      <td>2</td>\n",
       "      <td>3</td>\n",
       "      <td>4</td>\n",
       "    </tr>\n",
       "    <tr>\n",
       "      <th>pk_cid</th>\n",
       "      <td>1375586</td>\n",
       "      <td>1050611</td>\n",
       "      <td>1050612</td>\n",
       "      <td>1050613</td>\n",
       "      <td>1050614</td>\n",
       "    </tr>\n",
       "    <tr>\n",
       "      <th>pk_partition</th>\n",
       "      <td>2018-01-28</td>\n",
       "      <td>2018-01-28</td>\n",
       "      <td>2018-01-28</td>\n",
       "      <td>2018-01-28</td>\n",
       "      <td>2018-01-28</td>\n",
       "    </tr>\n",
       "    <tr>\n",
       "      <th>entry_date</th>\n",
       "      <td>2018-01-12</td>\n",
       "      <td>2015-08-10</td>\n",
       "      <td>2015-08-10</td>\n",
       "      <td>2015-08-10</td>\n",
       "      <td>2015-08-10</td>\n",
       "    </tr>\n",
       "    <tr>\n",
       "      <th>entry_channel</th>\n",
       "      <td>KHL</td>\n",
       "      <td>KHE</td>\n",
       "      <td>KHE</td>\n",
       "      <td>KHD</td>\n",
       "      <td>KHE</td>\n",
       "    </tr>\n",
       "    <tr>\n",
       "      <th>active_customer</th>\n",
       "      <td>1.00</td>\n",
       "      <td>0.00</td>\n",
       "      <td>0.00</td>\n",
       "      <td>0.00</td>\n",
       "      <td>1.00</td>\n",
       "    </tr>\n",
       "    <tr>\n",
       "      <th>segment</th>\n",
       "      <td>02 - PARTICULARES</td>\n",
       "      <td>03 - UNIVERSITARIO</td>\n",
       "      <td>03 - UNIVERSITARIO</td>\n",
       "      <td>03 - UNIVERSITARIO</td>\n",
       "      <td>03 - UNIVERSITARIO</td>\n",
       "    </tr>\n",
       "  </tbody>\n",
       "</table>\n",
       "</div>"
      ],
      "text/plain": [
       "                                 0                   1                   2  \\\n",
       "Unnamed: 0                       0                   1                   2   \n",
       "pk_cid                     1375586             1050611             1050612   \n",
       "pk_partition            2018-01-28          2018-01-28          2018-01-28   \n",
       "entry_date              2018-01-12          2015-08-10          2015-08-10   \n",
       "entry_channel                  KHL                 KHE                 KHE   \n",
       "active_customer               1.00                0.00                0.00   \n",
       "segment          02 - PARTICULARES  03 - UNIVERSITARIO  03 - UNIVERSITARIO   \n",
       "\n",
       "                                  3                   4  \n",
       "Unnamed: 0                        3                   4  \n",
       "pk_cid                      1050613             1050614  \n",
       "pk_partition             2018-01-28          2018-01-28  \n",
       "entry_date               2015-08-10          2015-08-10  \n",
       "entry_channel                   KHD                 KHE  \n",
       "active_customer                0.00                1.00  \n",
       "segment          03 - UNIVERSITARIO  03 - UNIVERSITARIO  "
      ]
     },
     "execution_count": 19,
     "metadata": {},
     "output_type": "execute_result"
    }
   ],
   "source": [
    "df_sales.head().T"
   ]
  },
  {
   "cell_type": "code",
   "execution_count": 20,
   "metadata": {},
   "outputs": [
    {
     "name": "stdout",
     "output_type": "stream",
     "text": [
      "<class 'pandas.core.frame.DataFrame'>\n",
      "RangeIndex: 5962924 entries, 0 to 5962923\n",
      "Data columns (total 7 columns):\n",
      " #   Column           Dtype  \n",
      "---  ------           -----  \n",
      " 0   Unnamed: 0       int64  \n",
      " 1   pk_cid           int64  \n",
      " 2   pk_partition     object \n",
      " 3   entry_date       object \n",
      " 4   entry_channel    object \n",
      " 5   active_customer  float64\n",
      " 6   segment          object \n",
      "dtypes: float64(1), int64(2), object(4)\n",
      "memory usage: 318.5+ MB\n"
     ]
    }
   ],
   "source": [
    "df_sales.info(verbose=True)"
   ]
  },
  {
   "cell_type": "code",
   "execution_count": 21,
   "metadata": {},
   "outputs": [],
   "source": [
    "columnas= df_sales"
   ]
  },
  {
   "cell_type": "code",
   "execution_count": 22,
   "metadata": {},
   "outputs": [
    {
     "name": "stdout",
     "output_type": "stream",
     "text": [
      "\n",
      " Unnamed: 0 [       0        1        2 ... 13647306 13647307 13647308] \n",
      "\n",
      "\n",
      " pk_cid [1375586 1050611 1050612 ... 1173729 1164094 1550586] \n",
      "\n",
      "\n",
      " pk_partition ['2018-01-28' '2018-02-28' '2018-03-28' '2018-04-28' '2018-05-28'\n",
      " '2018-06-28' '2018-07-28' '2018-08-28' '2018-09-28' '2018-10-28'\n",
      " '2018-11-28' '2018-12-28' '2019-01-28' '2019-02-28' '2019-03-28'\n",
      " '2019-04-28' '2019-05-28'] \n",
      "\n",
      "\n",
      " entry_date ['2018-01-12' '2015-08-10' '2015-08-16' ... '2019-05-25' '2019-05-01'\n",
      " '2019-05-15'] \n",
      "\n",
      "\n",
      " entry_channel ['KHL' 'KHE' 'KHD' 'KFA' 'KFC' 'KAT' 'KAZ' 'RED' 'KHC' 'KHK' 'KGN' 'KHM'\n",
      " 'KHO' 'KDH' 'KEH' 'KAD' 'KBG' nan 'KGC' 'KHF' 'KFK' 'KHN' 'KAB' 'KAG'\n",
      " 'KAA' 'KGX' 'KAR' 'KAK' 'KBZ' '007' 'KBO' 'KCB' '013' 'KAY' 'KBE' 'KAS'\n",
      " 'KCL' '004' 'KAF' 'KCC' 'KEY' 'KDT' 'KAQ' 'KAH' 'KAM' 'KAJ' 'KFD' 'KCH'\n",
      " 'KFS' 'KAW' 'KAE' 'KBH' 'KDR' 'KHQ' 'KBW' 'KBY' 'KCI' 'KEJ' 'KFF' 'KBU'\n",
      " 'KAI' 'KCK' 'KDA' 'KES' 'KHP' 'KFL' 'KDS' 'KFP' 'KHS'] \n",
      "\n",
      "\n",
      " active_customer [1. 0.] \n",
      "\n",
      "\n",
      " segment ['02 - PARTICULARES' '03 - UNIVERSITARIO' '01 - TOP' nan] \n",
      "\n"
     ]
    }
   ],
   "source": [
    "for i in columnas:\n",
    "    print('\\n',i,df_sales[i].unique(),'\\n')"
   ]
  },
  {
   "cell_type": "code",
   "execution_count": 23,
   "metadata": {
    "scrolled": true
   },
   "outputs": [
    {
     "data": {
      "text/plain": [
       "896586     17\n",
       "1293253    17\n",
       "1194997    17\n",
       "1186801    17\n",
       "1335662    17\n",
       "           ..\n",
       "1552970     1\n",
       "1544782     1\n",
       "1540166     1\n",
       "1548557     1\n",
       "1542575     1\n",
       "Name: pk_cid, Length: 456373, dtype: int64"
      ]
     },
     "execution_count": 23,
     "metadata": {},
     "output_type": "execute_result"
    }
   ],
   "source": [
    "df_sales['pk_cid'].value_counts()"
   ]
  },
  {
   "cell_type": "code",
   "execution_count": 24,
   "metadata": {},
   "outputs": [],
   "source": [
    "###Viendo el valor, que adopta cada variable, es posible que haya outliers en el salary"
   ]
  },
  {
   "cell_type": "code",
   "execution_count": 25,
   "metadata": {},
   "outputs": [],
   "source": [
    "####Como las 3 bases de datos, incluyen la misma informacion, en tamaño y contenido ,tanto del pk_cid (es el id de cada\n",
    "### cliente) y del pk_partition, vamos a trabajar con un dataset que incluya , las 3 bases de datos facilitadas, para \n",
    "###poder realizar un analisis más eficiente. A posteriori, cambiaremos el pk_partition y el entry_date, que son un date,\n",
    "###a un formato,Datetime\n"
   ]
  },
  {
   "cell_type": "code",
   "execution_count": 26,
   "metadata": {},
   "outputs": [],
   "source": [
    "df_products = pd.read_csv('products_df.csv')\n",
    "df_socio = pd.read_csv('sociodemographic_df.csv')\n",
    "df_sales = pd.read_csv('commercial_activity_df.csv')"
   ]
  },
  {
   "cell_type": "code",
   "execution_count": 27,
   "metadata": {},
   "outputs": [],
   "source": [
    "df2 = pd.merge(df_products, df_socio, on = [\"pk_cid\",\"pk_partition\"],how =\"inner\")"
   ]
  },
  {
   "cell_type": "code",
   "execution_count": 28,
   "metadata": {},
   "outputs": [
    {
     "data": {
      "text/plain": [
       "(5962924, 25)"
      ]
     },
     "execution_count": 28,
     "metadata": {},
     "output_type": "execute_result"
    }
   ],
   "source": [
    "df2.shape"
   ]
  },
  {
   "cell_type": "code",
   "execution_count": 29,
   "metadata": {},
   "outputs": [],
   "source": [
    "df = pd.merge(df_sales,df2, on=['pk_cid', 'pk_partition'], how ='inner')"
   ]
  },
  {
   "cell_type": "code",
   "execution_count": 30,
   "metadata": {},
   "outputs": [
    {
     "data": {
      "text/plain": [
       "(5962924, 30)"
      ]
     },
     "execution_count": 30,
     "metadata": {},
     "output_type": "execute_result"
    }
   ],
   "source": [
    "df.shape"
   ]
  },
  {
   "cell_type": "code",
   "execution_count": 31,
   "metadata": {},
   "outputs": [],
   "source": [
    "df.sort_values(by = [\"pk_cid\"], ascending = True, inplace = True)"
   ]
  },
  {
   "cell_type": "code",
   "execution_count": 32,
   "metadata": {},
   "outputs": [
    {
     "name": "stdout",
     "output_type": "stream",
     "text": [
      "<class 'pandas.core.frame.DataFrame'>\n",
      "Int64Index: 5962924 entries, 2168122 to 5679912\n",
      "Data columns (total 30 columns):\n",
      " #   Column              Dtype  \n",
      "---  ------              -----  \n",
      " 0   Unnamed: 0          int64  \n",
      " 1   pk_cid              int64  \n",
      " 2   pk_partition        object \n",
      " 3   entry_date          object \n",
      " 4   entry_channel       object \n",
      " 5   active_customer     float64\n",
      " 6   segment             object \n",
      " 7   Unnamed: 0_x        int64  \n",
      " 8   short_term_deposit  int64  \n",
      " 9   loans               int64  \n",
      " 10  mortgage            int64  \n",
      " 11  funds               int64  \n",
      " 12  securities          int64  \n",
      " 13  long_term_deposit   int64  \n",
      " 14  em_account_pp       int64  \n",
      " 15  credit_card         int64  \n",
      " 16  payroll             float64\n",
      " 17  pension_plan        float64\n",
      " 18  payroll_account     int64  \n",
      " 19  emc_account         int64  \n",
      " 20  debit_card          int64  \n",
      " 21  em_account_p        int64  \n",
      " 22  em_acount           int64  \n",
      " 23  Unnamed: 0_y        int64  \n",
      " 24  country_id          object \n",
      " 25  region_code         float64\n",
      " 26  gender              object \n",
      " 27  age                 int64  \n",
      " 28  deceased            object \n",
      " 29  salary              float64\n",
      "dtypes: float64(5), int64(18), object(7)\n",
      "memory usage: 1.4+ GB\n"
     ]
    }
   ],
   "source": [
    "df.info()"
   ]
  },
  {
   "cell_type": "code",
   "execution_count": 33,
   "metadata": {},
   "outputs": [
    {
     "data": {
      "text/html": [
       "<div>\n",
       "<style scoped>\n",
       "    .dataframe tbody tr th:only-of-type {\n",
       "        vertical-align: middle;\n",
       "    }\n",
       "\n",
       "    .dataframe tbody tr th {\n",
       "        vertical-align: top;\n",
       "    }\n",
       "\n",
       "    .dataframe thead th {\n",
       "        text-align: right;\n",
       "    }\n",
       "</style>\n",
       "<table border=\"1\" class=\"dataframe\">\n",
       "  <thead>\n",
       "    <tr style=\"text-align: right;\">\n",
       "      <th></th>\n",
       "      <th>2168122</th>\n",
       "      <th>1479563</th>\n",
       "      <th>5134317</th>\n",
       "      <th>2962973</th>\n",
       "      <th>4028169</th>\n",
       "      <th>5523397</th>\n",
       "      <th>4876040</th>\n",
       "      <th>3628236</th>\n",
       "      <th>4480637</th>\n",
       "      <th>5134321</th>\n",
       "    </tr>\n",
       "  </thead>\n",
       "  <tbody>\n",
       "    <tr>\n",
       "      <th>Unnamed: 0</th>\n",
       "      <td>5319232</td>\n",
       "      <td>4078994</td>\n",
       "      <td>12220930</td>\n",
       "      <td>7451107</td>\n",
       "      <td>9401149</td>\n",
       "      <td>13026461</td>\n",
       "      <td>11171013</td>\n",
       "      <td>8617948</td>\n",
       "      <td>10426151</td>\n",
       "      <td>12221208</td>\n",
       "    </tr>\n",
       "    <tr>\n",
       "      <th>pk_cid</th>\n",
       "      <td>15891</td>\n",
       "      <td>15891</td>\n",
       "      <td>16063</td>\n",
       "      <td>16063</td>\n",
       "      <td>16063</td>\n",
       "      <td>16063</td>\n",
       "      <td>16063</td>\n",
       "      <td>16063</td>\n",
       "      <td>16063</td>\n",
       "      <td>16203</td>\n",
       "    </tr>\n",
       "    <tr>\n",
       "      <th>pk_partition</th>\n",
       "      <td>2018-08-28</td>\n",
       "      <td>2018-07-28</td>\n",
       "      <td>2019-04-28</td>\n",
       "      <td>2018-11-28</td>\n",
       "      <td>2019-01-28</td>\n",
       "      <td>2019-05-28</td>\n",
       "      <td>2019-03-28</td>\n",
       "      <td>2018-12-28</td>\n",
       "      <td>2019-02-28</td>\n",
       "      <td>2019-04-28</td>\n",
       "    </tr>\n",
       "    <tr>\n",
       "      <th>entry_date</th>\n",
       "      <td>2018-07-28</td>\n",
       "      <td>2018-07-28</td>\n",
       "      <td>2018-11-19</td>\n",
       "      <td>2018-11-19</td>\n",
       "      <td>2018-11-19</td>\n",
       "      <td>2018-11-19</td>\n",
       "      <td>2018-11-19</td>\n",
       "      <td>2018-11-19</td>\n",
       "      <td>2018-11-19</td>\n",
       "      <td>2018-12-23</td>\n",
       "    </tr>\n",
       "    <tr>\n",
       "      <th>entry_channel</th>\n",
       "      <td>KAT</td>\n",
       "      <td>KAT</td>\n",
       "      <td>KAT</td>\n",
       "      <td>KAT</td>\n",
       "      <td>KAT</td>\n",
       "      <td>KAT</td>\n",
       "      <td>KAT</td>\n",
       "      <td>KAT</td>\n",
       "      <td>KAT</td>\n",
       "      <td>KAT</td>\n",
       "    </tr>\n",
       "    <tr>\n",
       "      <th>active_customer</th>\n",
       "      <td>0.00</td>\n",
       "      <td>1.00</td>\n",
       "      <td>1.00</td>\n",
       "      <td>1.00</td>\n",
       "      <td>1.00</td>\n",
       "      <td>0.00</td>\n",
       "      <td>0.00</td>\n",
       "      <td>1.00</td>\n",
       "      <td>1.00</td>\n",
       "      <td>1.00</td>\n",
       "    </tr>\n",
       "    <tr>\n",
       "      <th>segment</th>\n",
       "      <td>02 - PARTICULARES</td>\n",
       "      <td>NaN</td>\n",
       "      <td>02 - PARTICULARES</td>\n",
       "      <td>NaN</td>\n",
       "      <td>02 - PARTICULARES</td>\n",
       "      <td>02 - PARTICULARES</td>\n",
       "      <td>02 - PARTICULARES</td>\n",
       "      <td>02 - PARTICULARES</td>\n",
       "      <td>02 - PARTICULARES</td>\n",
       "      <td>01 - TOP</td>\n",
       "    </tr>\n",
       "    <tr>\n",
       "      <th>Unnamed: 0_x</th>\n",
       "      <td>5319232</td>\n",
       "      <td>4078994</td>\n",
       "      <td>12220930</td>\n",
       "      <td>7451107</td>\n",
       "      <td>9401149</td>\n",
       "      <td>13026461</td>\n",
       "      <td>11171013</td>\n",
       "      <td>8617948</td>\n",
       "      <td>10426151</td>\n",
       "      <td>12221208</td>\n",
       "    </tr>\n",
       "    <tr>\n",
       "      <th>short_term_deposit</th>\n",
       "      <td>0</td>\n",
       "      <td>0</td>\n",
       "      <td>0</td>\n",
       "      <td>0</td>\n",
       "      <td>0</td>\n",
       "      <td>0</td>\n",
       "      <td>0</td>\n",
       "      <td>0</td>\n",
       "      <td>0</td>\n",
       "      <td>0</td>\n",
       "    </tr>\n",
       "    <tr>\n",
       "      <th>loans</th>\n",
       "      <td>0</td>\n",
       "      <td>0</td>\n",
       "      <td>0</td>\n",
       "      <td>0</td>\n",
       "      <td>0</td>\n",
       "      <td>0</td>\n",
       "      <td>0</td>\n",
       "      <td>0</td>\n",
       "      <td>0</td>\n",
       "      <td>0</td>\n",
       "    </tr>\n",
       "    <tr>\n",
       "      <th>mortgage</th>\n",
       "      <td>0</td>\n",
       "      <td>0</td>\n",
       "      <td>0</td>\n",
       "      <td>0</td>\n",
       "      <td>0</td>\n",
       "      <td>0</td>\n",
       "      <td>0</td>\n",
       "      <td>0</td>\n",
       "      <td>0</td>\n",
       "      <td>0</td>\n",
       "    </tr>\n",
       "    <tr>\n",
       "      <th>funds</th>\n",
       "      <td>0</td>\n",
       "      <td>0</td>\n",
       "      <td>0</td>\n",
       "      <td>0</td>\n",
       "      <td>0</td>\n",
       "      <td>0</td>\n",
       "      <td>0</td>\n",
       "      <td>0</td>\n",
       "      <td>0</td>\n",
       "      <td>0</td>\n",
       "    </tr>\n",
       "    <tr>\n",
       "      <th>securities</th>\n",
       "      <td>0</td>\n",
       "      <td>0</td>\n",
       "      <td>0</td>\n",
       "      <td>0</td>\n",
       "      <td>0</td>\n",
       "      <td>0</td>\n",
       "      <td>0</td>\n",
       "      <td>0</td>\n",
       "      <td>0</td>\n",
       "      <td>0</td>\n",
       "    </tr>\n",
       "    <tr>\n",
       "      <th>long_term_deposit</th>\n",
       "      <td>0</td>\n",
       "      <td>0</td>\n",
       "      <td>0</td>\n",
       "      <td>0</td>\n",
       "      <td>0</td>\n",
       "      <td>0</td>\n",
       "      <td>0</td>\n",
       "      <td>0</td>\n",
       "      <td>0</td>\n",
       "      <td>0</td>\n",
       "    </tr>\n",
       "    <tr>\n",
       "      <th>em_account_pp</th>\n",
       "      <td>0</td>\n",
       "      <td>0</td>\n",
       "      <td>0</td>\n",
       "      <td>0</td>\n",
       "      <td>0</td>\n",
       "      <td>0</td>\n",
       "      <td>0</td>\n",
       "      <td>0</td>\n",
       "      <td>0</td>\n",
       "      <td>0</td>\n",
       "    </tr>\n",
       "    <tr>\n",
       "      <th>credit_card</th>\n",
       "      <td>0</td>\n",
       "      <td>0</td>\n",
       "      <td>0</td>\n",
       "      <td>0</td>\n",
       "      <td>0</td>\n",
       "      <td>0</td>\n",
       "      <td>0</td>\n",
       "      <td>0</td>\n",
       "      <td>0</td>\n",
       "      <td>0</td>\n",
       "    </tr>\n",
       "    <tr>\n",
       "      <th>payroll</th>\n",
       "      <td>0.00</td>\n",
       "      <td>0.00</td>\n",
       "      <td>0.00</td>\n",
       "      <td>0.00</td>\n",
       "      <td>0.00</td>\n",
       "      <td>0.00</td>\n",
       "      <td>0.00</td>\n",
       "      <td>0.00</td>\n",
       "      <td>0.00</td>\n",
       "      <td>0.00</td>\n",
       "    </tr>\n",
       "    <tr>\n",
       "      <th>pension_plan</th>\n",
       "      <td>0.00</td>\n",
       "      <td>0.00</td>\n",
       "      <td>0.00</td>\n",
       "      <td>0.00</td>\n",
       "      <td>0.00</td>\n",
       "      <td>0.00</td>\n",
       "      <td>0.00</td>\n",
       "      <td>0.00</td>\n",
       "      <td>0.00</td>\n",
       "      <td>0.00</td>\n",
       "    </tr>\n",
       "    <tr>\n",
       "      <th>payroll_account</th>\n",
       "      <td>0</td>\n",
       "      <td>0</td>\n",
       "      <td>0</td>\n",
       "      <td>0</td>\n",
       "      <td>0</td>\n",
       "      <td>0</td>\n",
       "      <td>0</td>\n",
       "      <td>0</td>\n",
       "      <td>0</td>\n",
       "      <td>0</td>\n",
       "    </tr>\n",
       "    <tr>\n",
       "      <th>emc_account</th>\n",
       "      <td>0</td>\n",
       "      <td>0</td>\n",
       "      <td>0</td>\n",
       "      <td>0</td>\n",
       "      <td>0</td>\n",
       "      <td>0</td>\n",
       "      <td>0</td>\n",
       "      <td>0</td>\n",
       "      <td>0</td>\n",
       "      <td>0</td>\n",
       "    </tr>\n",
       "    <tr>\n",
       "      <th>debit_card</th>\n",
       "      <td>0</td>\n",
       "      <td>0</td>\n",
       "      <td>0</td>\n",
       "      <td>0</td>\n",
       "      <td>0</td>\n",
       "      <td>0</td>\n",
       "      <td>0</td>\n",
       "      <td>0</td>\n",
       "      <td>0</td>\n",
       "      <td>0</td>\n",
       "    </tr>\n",
       "    <tr>\n",
       "      <th>em_account_p</th>\n",
       "      <td>0</td>\n",
       "      <td>0</td>\n",
       "      <td>0</td>\n",
       "      <td>0</td>\n",
       "      <td>0</td>\n",
       "      <td>0</td>\n",
       "      <td>0</td>\n",
       "      <td>0</td>\n",
       "      <td>0</td>\n",
       "      <td>0</td>\n",
       "    </tr>\n",
       "    <tr>\n",
       "      <th>em_acount</th>\n",
       "      <td>0</td>\n",
       "      <td>1</td>\n",
       "      <td>0</td>\n",
       "      <td>0</td>\n",
       "      <td>0</td>\n",
       "      <td>0</td>\n",
       "      <td>0</td>\n",
       "      <td>0</td>\n",
       "      <td>0</td>\n",
       "      <td>1</td>\n",
       "    </tr>\n",
       "    <tr>\n",
       "      <th>Unnamed: 0_y</th>\n",
       "      <td>5319232</td>\n",
       "      <td>4078994</td>\n",
       "      <td>12220930</td>\n",
       "      <td>7451107</td>\n",
       "      <td>9401149</td>\n",
       "      <td>13026461</td>\n",
       "      <td>11171013</td>\n",
       "      <td>8617948</td>\n",
       "      <td>10426151</td>\n",
       "      <td>12221208</td>\n",
       "    </tr>\n",
       "    <tr>\n",
       "      <th>country_id</th>\n",
       "      <td>ES</td>\n",
       "      <td>ES</td>\n",
       "      <td>ES</td>\n",
       "      <td>ES</td>\n",
       "      <td>ES</td>\n",
       "      <td>ES</td>\n",
       "      <td>ES</td>\n",
       "      <td>ES</td>\n",
       "      <td>ES</td>\n",
       "      <td>ES</td>\n",
       "    </tr>\n",
       "    <tr>\n",
       "      <th>region_code</th>\n",
       "      <td>28.00</td>\n",
       "      <td>28.00</td>\n",
       "      <td>28.00</td>\n",
       "      <td>28.00</td>\n",
       "      <td>28.00</td>\n",
       "      <td>28.00</td>\n",
       "      <td>28.00</td>\n",
       "      <td>28.00</td>\n",
       "      <td>28.00</td>\n",
       "      <td>8.00</td>\n",
       "    </tr>\n",
       "    <tr>\n",
       "      <th>gender</th>\n",
       "      <td>H</td>\n",
       "      <td>H</td>\n",
       "      <td>H</td>\n",
       "      <td>H</td>\n",
       "      <td>H</td>\n",
       "      <td>H</td>\n",
       "      <td>H</td>\n",
       "      <td>H</td>\n",
       "      <td>H</td>\n",
       "      <td>V</td>\n",
       "    </tr>\n",
       "    <tr>\n",
       "      <th>age</th>\n",
       "      <td>59</td>\n",
       "      <td>59</td>\n",
       "      <td>62</td>\n",
       "      <td>62</td>\n",
       "      <td>62</td>\n",
       "      <td>62</td>\n",
       "      <td>62</td>\n",
       "      <td>62</td>\n",
       "      <td>62</td>\n",
       "      <td>70</td>\n",
       "    </tr>\n",
       "    <tr>\n",
       "      <th>deceased</th>\n",
       "      <td>N</td>\n",
       "      <td>N</td>\n",
       "      <td>N</td>\n",
       "      <td>N</td>\n",
       "      <td>N</td>\n",
       "      <td>N</td>\n",
       "      <td>N</td>\n",
       "      <td>N</td>\n",
       "      <td>N</td>\n",
       "      <td>N</td>\n",
       "    </tr>\n",
       "    <tr>\n",
       "      <th>salary</th>\n",
       "      <td>NaN</td>\n",
       "      <td>NaN</td>\n",
       "      <td>NaN</td>\n",
       "      <td>NaN</td>\n",
       "      <td>NaN</td>\n",
       "      <td>NaN</td>\n",
       "      <td>NaN</td>\n",
       "      <td>NaN</td>\n",
       "      <td>NaN</td>\n",
       "      <td>NaN</td>\n",
       "    </tr>\n",
       "  </tbody>\n",
       "</table>\n",
       "</div>"
      ],
      "text/plain": [
       "                              2168122     1479563            5134317  \\\n",
       "Unnamed: 0                    5319232     4078994           12220930   \n",
       "pk_cid                          15891       15891              16063   \n",
       "pk_partition               2018-08-28  2018-07-28         2019-04-28   \n",
       "entry_date                 2018-07-28  2018-07-28         2018-11-19   \n",
       "entry_channel                     KAT         KAT                KAT   \n",
       "active_customer                  0.00        1.00               1.00   \n",
       "segment             02 - PARTICULARES         NaN  02 - PARTICULARES   \n",
       "Unnamed: 0_x                  5319232     4078994           12220930   \n",
       "short_term_deposit                  0           0                  0   \n",
       "loans                               0           0                  0   \n",
       "mortgage                            0           0                  0   \n",
       "funds                               0           0                  0   \n",
       "securities                          0           0                  0   \n",
       "long_term_deposit                   0           0                  0   \n",
       "em_account_pp                       0           0                  0   \n",
       "credit_card                         0           0                  0   \n",
       "payroll                          0.00        0.00               0.00   \n",
       "pension_plan                     0.00        0.00               0.00   \n",
       "payroll_account                     0           0                  0   \n",
       "emc_account                         0           0                  0   \n",
       "debit_card                          0           0                  0   \n",
       "em_account_p                        0           0                  0   \n",
       "em_acount                           0           1                  0   \n",
       "Unnamed: 0_y                  5319232     4078994           12220930   \n",
       "country_id                         ES          ES                 ES   \n",
       "region_code                     28.00       28.00              28.00   \n",
       "gender                              H           H                  H   \n",
       "age                                59          59                 62   \n",
       "deceased                            N           N                  N   \n",
       "salary                            NaN         NaN                NaN   \n",
       "\n",
       "                       2962973            4028169            5523397  \\\n",
       "Unnamed: 0             7451107            9401149           13026461   \n",
       "pk_cid                   16063              16063              16063   \n",
       "pk_partition        2018-11-28         2019-01-28         2019-05-28   \n",
       "entry_date          2018-11-19         2018-11-19         2018-11-19   \n",
       "entry_channel              KAT                KAT                KAT   \n",
       "active_customer           1.00               1.00               0.00   \n",
       "segment                    NaN  02 - PARTICULARES  02 - PARTICULARES   \n",
       "Unnamed: 0_x           7451107            9401149           13026461   \n",
       "short_term_deposit           0                  0                  0   \n",
       "loans                        0                  0                  0   \n",
       "mortgage                     0                  0                  0   \n",
       "funds                        0                  0                  0   \n",
       "securities                   0                  0                  0   \n",
       "long_term_deposit            0                  0                  0   \n",
       "em_account_pp                0                  0                  0   \n",
       "credit_card                  0                  0                  0   \n",
       "payroll                   0.00               0.00               0.00   \n",
       "pension_plan              0.00               0.00               0.00   \n",
       "payroll_account              0                  0                  0   \n",
       "emc_account                  0                  0                  0   \n",
       "debit_card                   0                  0                  0   \n",
       "em_account_p                 0                  0                  0   \n",
       "em_acount                    0                  0                  0   \n",
       "Unnamed: 0_y           7451107            9401149           13026461   \n",
       "country_id                  ES                 ES                 ES   \n",
       "region_code              28.00              28.00              28.00   \n",
       "gender                       H                  H                  H   \n",
       "age                         62                 62                 62   \n",
       "deceased                     N                  N                  N   \n",
       "salary                     NaN                NaN                NaN   \n",
       "\n",
       "                              4876040            3628236            4480637  \\\n",
       "Unnamed: 0                   11171013            8617948           10426151   \n",
       "pk_cid                          16063              16063              16063   \n",
       "pk_partition               2019-03-28         2018-12-28         2019-02-28   \n",
       "entry_date                 2018-11-19         2018-11-19         2018-11-19   \n",
       "entry_channel                     KAT                KAT                KAT   \n",
       "active_customer                  0.00               1.00               1.00   \n",
       "segment             02 - PARTICULARES  02 - PARTICULARES  02 - PARTICULARES   \n",
       "Unnamed: 0_x                 11171013            8617948           10426151   \n",
       "short_term_deposit                  0                  0                  0   \n",
       "loans                               0                  0                  0   \n",
       "mortgage                            0                  0                  0   \n",
       "funds                               0                  0                  0   \n",
       "securities                          0                  0                  0   \n",
       "long_term_deposit                   0                  0                  0   \n",
       "em_account_pp                       0                  0                  0   \n",
       "credit_card                         0                  0                  0   \n",
       "payroll                          0.00               0.00               0.00   \n",
       "pension_plan                     0.00               0.00               0.00   \n",
       "payroll_account                     0                  0                  0   \n",
       "emc_account                         0                  0                  0   \n",
       "debit_card                          0                  0                  0   \n",
       "em_account_p                        0                  0                  0   \n",
       "em_acount                           0                  0                  0   \n",
       "Unnamed: 0_y                 11171013            8617948           10426151   \n",
       "country_id                         ES                 ES                 ES   \n",
       "region_code                     28.00              28.00              28.00   \n",
       "gender                              H                  H                  H   \n",
       "age                                62                 62                 62   \n",
       "deceased                            N                  N                  N   \n",
       "salary                            NaN                NaN                NaN   \n",
       "\n",
       "                       5134321  \n",
       "Unnamed: 0            12221208  \n",
       "pk_cid                   16203  \n",
       "pk_partition        2019-04-28  \n",
       "entry_date          2018-12-23  \n",
       "entry_channel              KAT  \n",
       "active_customer           1.00  \n",
       "segment               01 - TOP  \n",
       "Unnamed: 0_x          12221208  \n",
       "short_term_deposit           0  \n",
       "loans                        0  \n",
       "mortgage                     0  \n",
       "funds                        0  \n",
       "securities                   0  \n",
       "long_term_deposit            0  \n",
       "em_account_pp                0  \n",
       "credit_card                  0  \n",
       "payroll                   0.00  \n",
       "pension_plan              0.00  \n",
       "payroll_account              0  \n",
       "emc_account                  0  \n",
       "debit_card                   0  \n",
       "em_account_p                 0  \n",
       "em_acount                    1  \n",
       "Unnamed: 0_y          12221208  \n",
       "country_id                  ES  \n",
       "region_code               8.00  \n",
       "gender                       V  \n",
       "age                         70  \n",
       "deceased                     N  \n",
       "salary                     NaN  "
      ]
     },
     "execution_count": 33,
     "metadata": {},
     "output_type": "execute_result"
    }
   ],
   "source": [
    "df.head(10).T"
   ]
  },
  {
   "cell_type": "code",
   "execution_count": 34,
   "metadata": {},
   "outputs": [],
   "source": [
    "###ahora vamos a suprimir las variables repetidas Unnamed: 0_x Y Unnamed: 0_y"
   ]
  },
  {
   "cell_type": "code",
   "execution_count": 35,
   "metadata": {},
   "outputs": [],
   "source": [
    "df.drop(columns=[\"Unnamed: 0_y\"], inplace=True)"
   ]
  },
  {
   "cell_type": "code",
   "execution_count": 36,
   "metadata": {},
   "outputs": [],
   "source": [
    "df.drop(columns=[\"Unnamed: 0_x\"], inplace=True)"
   ]
  },
  {
   "cell_type": "code",
   "execution_count": 37,
   "metadata": {},
   "outputs": [],
   "source": [
    "df.drop(columns=['Unnamed: 0'],inplace=True)"
   ]
  },
  {
   "cell_type": "code",
   "execution_count": 38,
   "metadata": {},
   "outputs": [
    {
     "data": {
      "text/html": [
       "<div>\n",
       "<style scoped>\n",
       "    .dataframe tbody tr th:only-of-type {\n",
       "        vertical-align: middle;\n",
       "    }\n",
       "\n",
       "    .dataframe tbody tr th {\n",
       "        vertical-align: top;\n",
       "    }\n",
       "\n",
       "    .dataframe thead th {\n",
       "        text-align: right;\n",
       "    }\n",
       "</style>\n",
       "<table border=\"1\" class=\"dataframe\">\n",
       "  <thead>\n",
       "    <tr style=\"text-align: right;\">\n",
       "      <th></th>\n",
       "      <th>2168122</th>\n",
       "      <th>1479563</th>\n",
       "      <th>5134317</th>\n",
       "      <th>2962973</th>\n",
       "      <th>4028169</th>\n",
       "      <th>5523397</th>\n",
       "      <th>4876040</th>\n",
       "      <th>3628236</th>\n",
       "      <th>4480637</th>\n",
       "      <th>5134321</th>\n",
       "    </tr>\n",
       "  </thead>\n",
       "  <tbody>\n",
       "    <tr>\n",
       "      <th>pk_cid</th>\n",
       "      <td>15891</td>\n",
       "      <td>15891</td>\n",
       "      <td>16063</td>\n",
       "      <td>16063</td>\n",
       "      <td>16063</td>\n",
       "      <td>16063</td>\n",
       "      <td>16063</td>\n",
       "      <td>16063</td>\n",
       "      <td>16063</td>\n",
       "      <td>16203</td>\n",
       "    </tr>\n",
       "    <tr>\n",
       "      <th>pk_partition</th>\n",
       "      <td>2018-08-28</td>\n",
       "      <td>2018-07-28</td>\n",
       "      <td>2019-04-28</td>\n",
       "      <td>2018-11-28</td>\n",
       "      <td>2019-01-28</td>\n",
       "      <td>2019-05-28</td>\n",
       "      <td>2019-03-28</td>\n",
       "      <td>2018-12-28</td>\n",
       "      <td>2019-02-28</td>\n",
       "      <td>2019-04-28</td>\n",
       "    </tr>\n",
       "    <tr>\n",
       "      <th>entry_date</th>\n",
       "      <td>2018-07-28</td>\n",
       "      <td>2018-07-28</td>\n",
       "      <td>2018-11-19</td>\n",
       "      <td>2018-11-19</td>\n",
       "      <td>2018-11-19</td>\n",
       "      <td>2018-11-19</td>\n",
       "      <td>2018-11-19</td>\n",
       "      <td>2018-11-19</td>\n",
       "      <td>2018-11-19</td>\n",
       "      <td>2018-12-23</td>\n",
       "    </tr>\n",
       "    <tr>\n",
       "      <th>entry_channel</th>\n",
       "      <td>KAT</td>\n",
       "      <td>KAT</td>\n",
       "      <td>KAT</td>\n",
       "      <td>KAT</td>\n",
       "      <td>KAT</td>\n",
       "      <td>KAT</td>\n",
       "      <td>KAT</td>\n",
       "      <td>KAT</td>\n",
       "      <td>KAT</td>\n",
       "      <td>KAT</td>\n",
       "    </tr>\n",
       "    <tr>\n",
       "      <th>active_customer</th>\n",
       "      <td>0.00</td>\n",
       "      <td>1.00</td>\n",
       "      <td>1.00</td>\n",
       "      <td>1.00</td>\n",
       "      <td>1.00</td>\n",
       "      <td>0.00</td>\n",
       "      <td>0.00</td>\n",
       "      <td>1.00</td>\n",
       "      <td>1.00</td>\n",
       "      <td>1.00</td>\n",
       "    </tr>\n",
       "    <tr>\n",
       "      <th>segment</th>\n",
       "      <td>02 - PARTICULARES</td>\n",
       "      <td>NaN</td>\n",
       "      <td>02 - PARTICULARES</td>\n",
       "      <td>NaN</td>\n",
       "      <td>02 - PARTICULARES</td>\n",
       "      <td>02 - PARTICULARES</td>\n",
       "      <td>02 - PARTICULARES</td>\n",
       "      <td>02 - PARTICULARES</td>\n",
       "      <td>02 - PARTICULARES</td>\n",
       "      <td>01 - TOP</td>\n",
       "    </tr>\n",
       "    <tr>\n",
       "      <th>short_term_deposit</th>\n",
       "      <td>0</td>\n",
       "      <td>0</td>\n",
       "      <td>0</td>\n",
       "      <td>0</td>\n",
       "      <td>0</td>\n",
       "      <td>0</td>\n",
       "      <td>0</td>\n",
       "      <td>0</td>\n",
       "      <td>0</td>\n",
       "      <td>0</td>\n",
       "    </tr>\n",
       "    <tr>\n",
       "      <th>loans</th>\n",
       "      <td>0</td>\n",
       "      <td>0</td>\n",
       "      <td>0</td>\n",
       "      <td>0</td>\n",
       "      <td>0</td>\n",
       "      <td>0</td>\n",
       "      <td>0</td>\n",
       "      <td>0</td>\n",
       "      <td>0</td>\n",
       "      <td>0</td>\n",
       "    </tr>\n",
       "    <tr>\n",
       "      <th>mortgage</th>\n",
       "      <td>0</td>\n",
       "      <td>0</td>\n",
       "      <td>0</td>\n",
       "      <td>0</td>\n",
       "      <td>0</td>\n",
       "      <td>0</td>\n",
       "      <td>0</td>\n",
       "      <td>0</td>\n",
       "      <td>0</td>\n",
       "      <td>0</td>\n",
       "    </tr>\n",
       "    <tr>\n",
       "      <th>funds</th>\n",
       "      <td>0</td>\n",
       "      <td>0</td>\n",
       "      <td>0</td>\n",
       "      <td>0</td>\n",
       "      <td>0</td>\n",
       "      <td>0</td>\n",
       "      <td>0</td>\n",
       "      <td>0</td>\n",
       "      <td>0</td>\n",
       "      <td>0</td>\n",
       "    </tr>\n",
       "    <tr>\n",
       "      <th>securities</th>\n",
       "      <td>0</td>\n",
       "      <td>0</td>\n",
       "      <td>0</td>\n",
       "      <td>0</td>\n",
       "      <td>0</td>\n",
       "      <td>0</td>\n",
       "      <td>0</td>\n",
       "      <td>0</td>\n",
       "      <td>0</td>\n",
       "      <td>0</td>\n",
       "    </tr>\n",
       "    <tr>\n",
       "      <th>long_term_deposit</th>\n",
       "      <td>0</td>\n",
       "      <td>0</td>\n",
       "      <td>0</td>\n",
       "      <td>0</td>\n",
       "      <td>0</td>\n",
       "      <td>0</td>\n",
       "      <td>0</td>\n",
       "      <td>0</td>\n",
       "      <td>0</td>\n",
       "      <td>0</td>\n",
       "    </tr>\n",
       "    <tr>\n",
       "      <th>em_account_pp</th>\n",
       "      <td>0</td>\n",
       "      <td>0</td>\n",
       "      <td>0</td>\n",
       "      <td>0</td>\n",
       "      <td>0</td>\n",
       "      <td>0</td>\n",
       "      <td>0</td>\n",
       "      <td>0</td>\n",
       "      <td>0</td>\n",
       "      <td>0</td>\n",
       "    </tr>\n",
       "    <tr>\n",
       "      <th>credit_card</th>\n",
       "      <td>0</td>\n",
       "      <td>0</td>\n",
       "      <td>0</td>\n",
       "      <td>0</td>\n",
       "      <td>0</td>\n",
       "      <td>0</td>\n",
       "      <td>0</td>\n",
       "      <td>0</td>\n",
       "      <td>0</td>\n",
       "      <td>0</td>\n",
       "    </tr>\n",
       "    <tr>\n",
       "      <th>payroll</th>\n",
       "      <td>0.00</td>\n",
       "      <td>0.00</td>\n",
       "      <td>0.00</td>\n",
       "      <td>0.00</td>\n",
       "      <td>0.00</td>\n",
       "      <td>0.00</td>\n",
       "      <td>0.00</td>\n",
       "      <td>0.00</td>\n",
       "      <td>0.00</td>\n",
       "      <td>0.00</td>\n",
       "    </tr>\n",
       "    <tr>\n",
       "      <th>pension_plan</th>\n",
       "      <td>0.00</td>\n",
       "      <td>0.00</td>\n",
       "      <td>0.00</td>\n",
       "      <td>0.00</td>\n",
       "      <td>0.00</td>\n",
       "      <td>0.00</td>\n",
       "      <td>0.00</td>\n",
       "      <td>0.00</td>\n",
       "      <td>0.00</td>\n",
       "      <td>0.00</td>\n",
       "    </tr>\n",
       "    <tr>\n",
       "      <th>payroll_account</th>\n",
       "      <td>0</td>\n",
       "      <td>0</td>\n",
       "      <td>0</td>\n",
       "      <td>0</td>\n",
       "      <td>0</td>\n",
       "      <td>0</td>\n",
       "      <td>0</td>\n",
       "      <td>0</td>\n",
       "      <td>0</td>\n",
       "      <td>0</td>\n",
       "    </tr>\n",
       "    <tr>\n",
       "      <th>emc_account</th>\n",
       "      <td>0</td>\n",
       "      <td>0</td>\n",
       "      <td>0</td>\n",
       "      <td>0</td>\n",
       "      <td>0</td>\n",
       "      <td>0</td>\n",
       "      <td>0</td>\n",
       "      <td>0</td>\n",
       "      <td>0</td>\n",
       "      <td>0</td>\n",
       "    </tr>\n",
       "    <tr>\n",
       "      <th>debit_card</th>\n",
       "      <td>0</td>\n",
       "      <td>0</td>\n",
       "      <td>0</td>\n",
       "      <td>0</td>\n",
       "      <td>0</td>\n",
       "      <td>0</td>\n",
       "      <td>0</td>\n",
       "      <td>0</td>\n",
       "      <td>0</td>\n",
       "      <td>0</td>\n",
       "    </tr>\n",
       "    <tr>\n",
       "      <th>em_account_p</th>\n",
       "      <td>0</td>\n",
       "      <td>0</td>\n",
       "      <td>0</td>\n",
       "      <td>0</td>\n",
       "      <td>0</td>\n",
       "      <td>0</td>\n",
       "      <td>0</td>\n",
       "      <td>0</td>\n",
       "      <td>0</td>\n",
       "      <td>0</td>\n",
       "    </tr>\n",
       "    <tr>\n",
       "      <th>em_acount</th>\n",
       "      <td>0</td>\n",
       "      <td>1</td>\n",
       "      <td>0</td>\n",
       "      <td>0</td>\n",
       "      <td>0</td>\n",
       "      <td>0</td>\n",
       "      <td>0</td>\n",
       "      <td>0</td>\n",
       "      <td>0</td>\n",
       "      <td>1</td>\n",
       "    </tr>\n",
       "    <tr>\n",
       "      <th>country_id</th>\n",
       "      <td>ES</td>\n",
       "      <td>ES</td>\n",
       "      <td>ES</td>\n",
       "      <td>ES</td>\n",
       "      <td>ES</td>\n",
       "      <td>ES</td>\n",
       "      <td>ES</td>\n",
       "      <td>ES</td>\n",
       "      <td>ES</td>\n",
       "      <td>ES</td>\n",
       "    </tr>\n",
       "    <tr>\n",
       "      <th>region_code</th>\n",
       "      <td>28.00</td>\n",
       "      <td>28.00</td>\n",
       "      <td>28.00</td>\n",
       "      <td>28.00</td>\n",
       "      <td>28.00</td>\n",
       "      <td>28.00</td>\n",
       "      <td>28.00</td>\n",
       "      <td>28.00</td>\n",
       "      <td>28.00</td>\n",
       "      <td>8.00</td>\n",
       "    </tr>\n",
       "    <tr>\n",
       "      <th>gender</th>\n",
       "      <td>H</td>\n",
       "      <td>H</td>\n",
       "      <td>H</td>\n",
       "      <td>H</td>\n",
       "      <td>H</td>\n",
       "      <td>H</td>\n",
       "      <td>H</td>\n",
       "      <td>H</td>\n",
       "      <td>H</td>\n",
       "      <td>V</td>\n",
       "    </tr>\n",
       "    <tr>\n",
       "      <th>age</th>\n",
       "      <td>59</td>\n",
       "      <td>59</td>\n",
       "      <td>62</td>\n",
       "      <td>62</td>\n",
       "      <td>62</td>\n",
       "      <td>62</td>\n",
       "      <td>62</td>\n",
       "      <td>62</td>\n",
       "      <td>62</td>\n",
       "      <td>70</td>\n",
       "    </tr>\n",
       "    <tr>\n",
       "      <th>deceased</th>\n",
       "      <td>N</td>\n",
       "      <td>N</td>\n",
       "      <td>N</td>\n",
       "      <td>N</td>\n",
       "      <td>N</td>\n",
       "      <td>N</td>\n",
       "      <td>N</td>\n",
       "      <td>N</td>\n",
       "      <td>N</td>\n",
       "      <td>N</td>\n",
       "    </tr>\n",
       "    <tr>\n",
       "      <th>salary</th>\n",
       "      <td>NaN</td>\n",
       "      <td>NaN</td>\n",
       "      <td>NaN</td>\n",
       "      <td>NaN</td>\n",
       "      <td>NaN</td>\n",
       "      <td>NaN</td>\n",
       "      <td>NaN</td>\n",
       "      <td>NaN</td>\n",
       "      <td>NaN</td>\n",
       "      <td>NaN</td>\n",
       "    </tr>\n",
       "  </tbody>\n",
       "</table>\n",
       "</div>"
      ],
      "text/plain": [
       "                              2168122     1479563            5134317  \\\n",
       "pk_cid                          15891       15891              16063   \n",
       "pk_partition               2018-08-28  2018-07-28         2019-04-28   \n",
       "entry_date                 2018-07-28  2018-07-28         2018-11-19   \n",
       "entry_channel                     KAT         KAT                KAT   \n",
       "active_customer                  0.00        1.00               1.00   \n",
       "segment             02 - PARTICULARES         NaN  02 - PARTICULARES   \n",
       "short_term_deposit                  0           0                  0   \n",
       "loans                               0           0                  0   \n",
       "mortgage                            0           0                  0   \n",
       "funds                               0           0                  0   \n",
       "securities                          0           0                  0   \n",
       "long_term_deposit                   0           0                  0   \n",
       "em_account_pp                       0           0                  0   \n",
       "credit_card                         0           0                  0   \n",
       "payroll                          0.00        0.00               0.00   \n",
       "pension_plan                     0.00        0.00               0.00   \n",
       "payroll_account                     0           0                  0   \n",
       "emc_account                         0           0                  0   \n",
       "debit_card                          0           0                  0   \n",
       "em_account_p                        0           0                  0   \n",
       "em_acount                           0           1                  0   \n",
       "country_id                         ES          ES                 ES   \n",
       "region_code                     28.00       28.00              28.00   \n",
       "gender                              H           H                  H   \n",
       "age                                59          59                 62   \n",
       "deceased                            N           N                  N   \n",
       "salary                            NaN         NaN                NaN   \n",
       "\n",
       "                       2962973            4028169            5523397  \\\n",
       "pk_cid                   16063              16063              16063   \n",
       "pk_partition        2018-11-28         2019-01-28         2019-05-28   \n",
       "entry_date          2018-11-19         2018-11-19         2018-11-19   \n",
       "entry_channel              KAT                KAT                KAT   \n",
       "active_customer           1.00               1.00               0.00   \n",
       "segment                    NaN  02 - PARTICULARES  02 - PARTICULARES   \n",
       "short_term_deposit           0                  0                  0   \n",
       "loans                        0                  0                  0   \n",
       "mortgage                     0                  0                  0   \n",
       "funds                        0                  0                  0   \n",
       "securities                   0                  0                  0   \n",
       "long_term_deposit            0                  0                  0   \n",
       "em_account_pp                0                  0                  0   \n",
       "credit_card                  0                  0                  0   \n",
       "payroll                   0.00               0.00               0.00   \n",
       "pension_plan              0.00               0.00               0.00   \n",
       "payroll_account              0                  0                  0   \n",
       "emc_account                  0                  0                  0   \n",
       "debit_card                   0                  0                  0   \n",
       "em_account_p                 0                  0                  0   \n",
       "em_acount                    0                  0                  0   \n",
       "country_id                  ES                 ES                 ES   \n",
       "region_code              28.00              28.00              28.00   \n",
       "gender                       H                  H                  H   \n",
       "age                         62                 62                 62   \n",
       "deceased                     N                  N                  N   \n",
       "salary                     NaN                NaN                NaN   \n",
       "\n",
       "                              4876040            3628236            4480637  \\\n",
       "pk_cid                          16063              16063              16063   \n",
       "pk_partition               2019-03-28         2018-12-28         2019-02-28   \n",
       "entry_date                 2018-11-19         2018-11-19         2018-11-19   \n",
       "entry_channel                     KAT                KAT                KAT   \n",
       "active_customer                  0.00               1.00               1.00   \n",
       "segment             02 - PARTICULARES  02 - PARTICULARES  02 - PARTICULARES   \n",
       "short_term_deposit                  0                  0                  0   \n",
       "loans                               0                  0                  0   \n",
       "mortgage                            0                  0                  0   \n",
       "funds                               0                  0                  0   \n",
       "securities                          0                  0                  0   \n",
       "long_term_deposit                   0                  0                  0   \n",
       "em_account_pp                       0                  0                  0   \n",
       "credit_card                         0                  0                  0   \n",
       "payroll                          0.00               0.00               0.00   \n",
       "pension_plan                     0.00               0.00               0.00   \n",
       "payroll_account                     0                  0                  0   \n",
       "emc_account                         0                  0                  0   \n",
       "debit_card                          0                  0                  0   \n",
       "em_account_p                        0                  0                  0   \n",
       "em_acount                           0                  0                  0   \n",
       "country_id                         ES                 ES                 ES   \n",
       "region_code                     28.00              28.00              28.00   \n",
       "gender                              H                  H                  H   \n",
       "age                                62                 62                 62   \n",
       "deceased                            N                  N                  N   \n",
       "salary                            NaN                NaN                NaN   \n",
       "\n",
       "                       5134321  \n",
       "pk_cid                   16203  \n",
       "pk_partition        2019-04-28  \n",
       "entry_date          2018-12-23  \n",
       "entry_channel              KAT  \n",
       "active_customer           1.00  \n",
       "segment               01 - TOP  \n",
       "short_term_deposit           0  \n",
       "loans                        0  \n",
       "mortgage                     0  \n",
       "funds                        0  \n",
       "securities                   0  \n",
       "long_term_deposit            0  \n",
       "em_account_pp                0  \n",
       "credit_card                  0  \n",
       "payroll                   0.00  \n",
       "pension_plan              0.00  \n",
       "payroll_account              0  \n",
       "emc_account                  0  \n",
       "debit_card                   0  \n",
       "em_account_p                 0  \n",
       "em_acount                    1  \n",
       "country_id                  ES  \n",
       "region_code               8.00  \n",
       "gender                       V  \n",
       "age                         70  \n",
       "deceased                     N  \n",
       "salary                     NaN  "
      ]
     },
     "execution_count": 38,
     "metadata": {},
     "output_type": "execute_result"
    }
   ],
   "source": [
    "df.head(10).T"
   ]
  },
  {
   "cell_type": "code",
   "execution_count": 39,
   "metadata": {},
   "outputs": [],
   "source": [
    "###Ya tenemos el dataframe, para empezar a trabajar"
   ]
  },
  {
   "cell_type": "code",
   "execution_count": 40,
   "metadata": {},
   "outputs": [],
   "source": [
    "columnas= df"
   ]
  },
  {
   "cell_type": "code",
   "execution_count": 41,
   "metadata": {},
   "outputs": [
    {
     "name": "stdout",
     "output_type": "stream",
     "text": [
      "\n",
      " pk_cid [  15891   16063   16203 ... 1553687 1553688 1553689] \n",
      "\n",
      "\n",
      " pk_partition ['2018-08-28' '2018-07-28' '2019-04-28' '2018-11-28' '2019-01-28'\n",
      " '2019-05-28' '2019-03-28' '2018-12-28' '2019-02-28' '2018-09-28'\n",
      " '2018-10-28' '2018-05-28' '2018-02-28' '2018-04-28' '2018-03-28'\n",
      " '2018-06-28' '2018-01-28'] \n",
      "\n",
      "\n",
      " entry_date ['2018-07-28' '2018-11-19' '2018-12-23' ... '2019-05-15' '2019-03-26'\n",
      " '2019-04-24'] \n",
      "\n",
      "\n",
      " entry_channel ['KAT' 'KHN' nan 'KFA' '007' 'KHM' 'KHC' 'RED' 'KFC' 'KHK' 'KBG' 'KHO'\n",
      " 'KHL' 'KHQ' '013' 'KHE' 'KAS' 'KBZ' 'KAY' 'KBE' 'KBO' 'KBW' 'KAB' 'KDS'\n",
      " 'KBU' 'KES' 'KCB' 'KCL' 'KAG' 'KDR' 'KCK' 'KDA' 'KDT' 'KCC' 'KAD' 'KAF'\n",
      " '004' 'KAA' 'KAH' 'KAI' 'KEY' 'KAW' 'KAE' 'KFD' 'KHD' 'KAM' 'KBY' 'KBH'\n",
      " 'KEJ' 'KAZ' 'KCH' 'KCI' 'KAR' 'KAQ' 'KAJ' 'KFP' 'KFL' 'KFS' 'KFF' 'KGX'\n",
      " 'KDH' 'KEH' 'KGC' 'KGN' 'KHF' 'KFK' 'KAK' 'KHP' 'KHS'] \n",
      "\n",
      "\n",
      " active_customer [0. 1.] \n",
      "\n",
      "\n",
      " segment ['02 - PARTICULARES' nan '01 - TOP' '03 - UNIVERSITARIO'] \n",
      "\n",
      "\n",
      " short_term_deposit [0 1] \n",
      "\n",
      "\n",
      " loans [0 1] \n",
      "\n",
      "\n",
      " mortgage [0 1] \n",
      "\n",
      "\n",
      " funds [0 1] \n",
      "\n",
      "\n",
      " securities [0 1] \n",
      "\n",
      "\n",
      " long_term_deposit [0 1] \n",
      "\n",
      "\n",
      " em_account_pp [0] \n",
      "\n",
      "\n",
      " credit_card [0 1] \n",
      "\n",
      "\n",
      " payroll [ 0.  1. nan] \n",
      "\n",
      "\n",
      " pension_plan [ 0.  1. nan] \n",
      "\n",
      "\n",
      " payroll_account [0 1] \n",
      "\n",
      "\n",
      " emc_account [0 1] \n",
      "\n",
      "\n",
      " debit_card [0 1] \n",
      "\n",
      "\n",
      " em_account_p [0 1] \n",
      "\n",
      "\n",
      " em_acount [0 1] \n",
      "\n",
      "\n",
      " country_id ['ES' 'US' 'DE' 'CH' 'FR' 'GB' 'VE' 'GT' 'GA' 'CO' 'BR' 'RU' 'MA' 'AR'\n",
      " 'IT' 'NO' 'PL' 'BE' 'MX' 'SN' 'MR' 'CL' 'IE' 'CA' 'AT' 'SE' 'DO' 'QA'\n",
      " 'DJ' 'CN' 'LU' 'RO' 'PT' 'CM' 'ET' 'SA' 'CI' 'HU' 'PE' 'JM' 'DZ'] \n",
      "\n",
      "\n",
      " region_code [28.  8. 41. 46. 24. 39.  3. 31. 15.  2. 45. 40. 30. 50. 35. 13. 21. 27.\n",
      " 47.  6. 36. 37. 29. 14. 12. 18. 16. 19. 33.  9. 48. 25. 11.  7. 42. 10.\n",
      " 17. 52. nan 23.  4. 43. 26. 38. 44. 49. 20. 32.  1.  5. 22. 34. 51.] \n",
      "\n",
      "\n",
      " gender ['H' 'V' nan] \n",
      "\n",
      "\n",
      " age [ 59  62  70  58  57  53  54  55  46  47  75  76  77  78  65  56  73  74\n",
      "  64  63  52  48  49  51  50  71  72  45  66  83  84  85  81  82  89  88\n",
      "  86  87  69  68  67  91  92  41  42  60  61  44  43  80  90  40  95  94\n",
      "  27  28  39  38  37  79  36  17  34  35  98  96  97  93  32  33  21  20\n",
      "  31   2   3  30  99 100  29  13  24  25 101  22  18  19   9   8  26  23\n",
      "  16   7   6  14  10  15   5  12  11   4 102 104 105 103] \n",
      "\n",
      "\n",
      " deceased ['N' 'S'] \n",
      "\n",
      "\n",
      " salary [      nan 102405.75 407281.11 ...  75904.5  108875.73  52924.44] \n",
      "\n"
     ]
    }
   ],
   "source": [
    "for i in columnas:\n",
    "    print('\\n',i,df[i].unique(),'\\n')"
   ]
  },
  {
   "cell_type": "code",
   "execution_count": 42,
   "metadata": {
    "scrolled": false
   },
   "outputs": [
    {
     "data": {
      "text/plain": [
       "pk_cid                      0\n",
       "pk_partition                0\n",
       "entry_date                  0\n",
       "entry_channel          133033\n",
       "active_customer             0\n",
       "segment                133944\n",
       "short_term_deposit          0\n",
       "loans                       0\n",
       "mortgage                    0\n",
       "funds                       0\n",
       "securities                  0\n",
       "long_term_deposit           0\n",
       "em_account_pp               0\n",
       "credit_card                 0\n",
       "payroll                    61\n",
       "pension_plan               61\n",
       "payroll_account             0\n",
       "emc_account                 0\n",
       "debit_card                  0\n",
       "em_account_p                0\n",
       "em_acount                   0\n",
       "country_id                  0\n",
       "region_code              2264\n",
       "gender                     25\n",
       "age                         0\n",
       "deceased                    0\n",
       "salary                1512103\n",
       "dtype: int64"
      ]
     },
     "execution_count": 42,
     "metadata": {},
     "output_type": "execute_result"
    }
   ],
   "source": [
    "df.isnull().sum()"
   ]
  },
  {
   "cell_type": "code",
   "execution_count": 43,
   "metadata": {
    "scrolled": true
   },
   "outputs": [
    {
     "name": "stdout",
     "output_type": "stream",
     "text": [
      "==================================================\n",
      "col :  pk_partition\n"
     ]
    },
    {
     "data": {
      "image/png": "[encoded data removed]",
      "text/plain": [
       "<Figure size 2160x1800 with 1 Axes>"
      ]
     },
     "metadata": {},
     "output_type": "display_data"
    },
    {
     "name": "stdout",
     "output_type": "stream",
     "text": [
      "==================================================\n",
      "col :  entry_date\n"
     ]
    },
    {
     "data": {
      "image/png": "[encoded data removed]",
      "text/plain": [
       "<Figure size 2160x1800 with 1 Axes>"
      ]
     },
     "metadata": {},
     "output_type": "display_data"
    },
    {
     "name": "stdout",
     "output_type": "stream",
     "text": [
      "==================================================\n",
      "col :  entry_channel\n"
     ]
    },
    {
     "data": {
      "image/png": "[encoded data removed]",
      "text/plain": [
       "<Figure size 2160x1800 with 1 Axes>"
      ]
     },
     "metadata": {},
     "output_type": "display_data"
    },
    {
     "name": "stdout",
     "output_type": "stream",
     "text": [
      "==================================================\n",
      "col :  active_customer\n"
     ]
    },
    {
     "data": {
      "image/png": "[encoded data removed]",
      "text/plain": [
       "<Figure size 2160x1800 with 1 Axes>"
      ]
     },
     "metadata": {},
     "output_type": "display_data"
    },
    {
     "name": "stdout",
     "output_type": "stream",
     "text": [
      "==================================================\n",
      "col :  segment\n"
     ]
    },
    {
     "data": {
      "image/png": "[encoded data removed]",
      "text/plain": [
       "<Figure size 2160x1800 with 1 Axes>"
      ]
     },
     "metadata": {},
     "output_type": "display_data"
    },
    {
     "name": "stdout",
     "output_type": "stream",
     "text": [
      "==================================================\n",
      "col :  short_term_deposit\n"
     ]
    },
    {
     "data": {
      "image/png": "[encoded data removed]",
      "text/plain": [
       "<Figure size 2160x1800 with 1 Axes>"
      ]
     },
     "metadata": {},
     "output_type": "display_data"
    },
    {
     "name": "stdout",
     "output_type": "stream",
     "text": [
      "==================================================\n",
      "col :  loans\n"
     ]
    },
    {
     "data": {
      "image/png": "[encoded data removed]",
      "text/plain": [
       "<Figure size 2160x1800 with 1 Axes>"
      ]
     },
     "metadata": {},
     "output_type": "display_data"
    },
    {
     "name": "stdout",
     "output_type": "stream",
     "text": [
      "==================================================\n",
      "col :  mortgage\n"
     ]
    },
    {
     "data": {
      "image/png": "[encoded data removed]",
      "text/plain": [
       "<Figure size 2160x1800 with 1 Axes>"
      ]
     },
     "metadata": {},
     "output_type": "display_data"
    },
    {
     "name": "stdout",
     "output_type": "stream",
     "text": [
      "==================================================\n",
      "col :  funds\n"
     ]
    },
    {
     "data": {
      "image/png": "[encoded data removed]",
      "text/plain": [
       "<Figure size 2160x1800 with 1 Axes>"
      ]
     },
     "metadata": {},
     "output_type": "display_data"
    },
    {
     "name": "stdout",
     "output_type": "stream",
     "text": [
      "==================================================\n",
      "col :  securities\n"
     ]
    },
    {
     "data": {
      "image/png": "[encoded data removed]",
      "text/plain": [
       "<Figure size 2160x1800 with 1 Axes>"
      ]
     },
     "metadata": {},
     "output_type": "display_data"
    },
    {
     "name": "stdout",
     "output_type": "stream",
     "text": [
      "==================================================\n",
      "col :  long_term_deposit\n"
     ]
    },
    {
     "data": {
      "image/png": "[encoded data removed]",
      "text/plain": [
       "<Figure size 2160x1800 with 1 Axes>"
      ]
     },
     "metadata": {},
     "output_type": "display_data"
    },
    {
     "name": "stdout",
     "output_type": "stream",
     "text": [
      "==================================================\n",
      "col :  em_account_pp\n"
     ]
    },
    {
     "data": {
      "image/png": "[encoded data removed]",
      "text/plain": [
       "<Figure size 2160x1800 with 1 Axes>"
      ]
     },
     "metadata": {},
     "output_type": "display_data"
    },
    {
     "name": "stdout",
     "output_type": "stream",
     "text": [
      "==================================================\n",
      "col :  credit_card\n"
     ]
    },
    {
     "data": {
      "image/png": "[encoded data removed]",
      "text/plain": [
       "<Figure size 2160x1800 with 1 Axes>"
      ]
     },
     "metadata": {},
     "output_type": "display_data"
    },
    {
     "name": "stdout",
     "output_type": "stream",
     "text": [
      "==================================================\n",
      "col :  payroll\n"
     ]
    },
    {
     "data": {
      "image/png": "[encoded data removed]",
      "text/plain": [
       "<Figure size 2160x1800 with 1 Axes>"
      ]
     },
     "metadata": {},
     "output_type": "display_data"
    },
    {
     "name": "stdout",
     "output_type": "stream",
     "text": [
      "==================================================\n",
      "col :  pension_plan\n"
     ]
    },
    {
     "data": {
      "image/png": "[encoded data removed]",
      "text/plain": [
       "<Figure size 2160x1800 with 1 Axes>"
      ]
     },
     "metadata": {},
     "output_type": "display_data"
    },
    {
     "name": "stdout",
     "output_type": "stream",
     "text": [
      "==================================================\n",
      "col :  payroll_account\n"
     ]
    },
    {
     "data": {
      "image/png": "[encoded data removed]",
      "text/plain": [
       "<Figure size 2160x1800 with 1 Axes>"
      ]
     },
     "metadata": {},
     "output_type": "display_data"
    },
    {
     "name": "stdout",
     "output_type": "stream",
     "text": [
      "==================================================\n",
      "col :  emc_account\n"
     ]
    },
    {
     "data": {
      "image/png": "[encoded data removed]",
      "text/plain": [
       "<Figure size 2160x1800 with 1 Axes>"
      ]
     },
     "metadata": {},
     "output_type": "display_data"
    },
    {
     "name": "stdout",
     "output_type": "stream",
     "text": [
      "==================================================\n",
      "col :  debit_card\n"
     ]
    },
    {
     "data": {
      "image/png": "[encoded data removed]",
      "text/plain": [
       "<Figure size 2160x1800 with 1 Axes>"
      ]
     },
     "metadata": {},
     "output_type": "display_data"
    },
    {
     "name": "stdout",
     "output_type": "stream",
     "text": [
      "==================================================\n",
      "col :  em_account_p\n"
     ]
    },
    {
     "data": {
      "image/png": "[encoded data removed]",
      "text/plain": [
       "<Figure size 2160x1800 with 1 Axes>"
      ]
     },
     "metadata": {},
     "output_type": "display_data"
    },
    {
     "name": "stdout",
     "output_type": "stream",
     "text": [
      "==================================================\n",
      "col :  em_acount\n"
     ]
    },
    {
     "data": {
      "image/png": "[encoded data removed]",
      "text/plain": [
       "<Figure size 2160x1800 with 1 Axes>"
      ]
     },
     "metadata": {},
     "output_type": "display_data"
    },
    {
     "name": "stdout",
     "output_type": "stream",
     "text": [
      "==================================================\n",
      "col :  country_id\n"
     ]
    },
    {
     "data": {
      "image/png": "[encoded data removed]",
      "text/plain": [
       "<Figure size 2160x1800 with 1 Axes>"
      ]
     },
     "metadata": {},
     "output_type": "display_data"
    },
    {
     "name": "stdout",
     "output_type": "stream",
     "text": [
      "==================================================\n",
      "col :  region_code\n"
     ]
    },
    {
     "data": {
      "image/png": "[encoded data removed]",
      "text/plain": [
       "<Figure size 2160x1800 with 1 Axes>"
      ]
     },
     "metadata": {},
     "output_type": "display_data"
    },
    {
     "name": "stdout",
     "output_type": "stream",
     "text": [
      "==================================================\n",
      "col :  gender\n"
     ]
    },
    {
     "data": {
      "image/png": "[encoded data removed]",
      "text/plain": [
       "<Figure size 2160x1800 with 1 Axes>"
      ]
     },
     "metadata": {},
     "output_type": "display_data"
    },
    {
     "name": "stdout",
     "output_type": "stream",
     "text": [
      "==================================================\n",
      "col :  age\n"
     ]
    },
    {
     "data": {
      "image/png": "[encoded data removed]",
      "text/plain": [
       "<Figure size 2160x1800 with 1 Axes>"
      ]
     },
     "metadata": {},
     "output_type": "display_data"
    },
    {
     "name": "stdout",
     "output_type": "stream",
     "text": [
      "==================================================\n",
      "col :  deceased\n"
     ]
    },
    {
     "data": {
      "image/png": "[encoded data removed]",
      "text/plain": [
       "<Figure size 2160x1800 with 1 Axes>"
      ]
     },
     "metadata": {},
     "output_type": "display_data"
    }
   ],
   "source": [
    "skip_cols = ['pk_cid']\n",
    "for col in df.columns:\n",
    "    if col == 'salary':\n",
    "        break\n",
    "    if col in skip_cols:\n",
    "        continue\n",
    "    print('='*50)\n",
    "    print('col : ', col)\n",
    "    f, ax = plt.subplots(figsize=(30, 25))\n",
    "    sns.countplot(x=col, data=df, alpha=0.8)\n",
    "    plt.show()"
   ]
  },
  {
   "cell_type": "code",
   "execution_count": 44,
   "metadata": {},
   "outputs": [],
   "source": [
    "###la grafica de salary, me ha bloqueado el ordenador, y por eso, he indicado la instruccion, break"
   ]
  },
  {
   "cell_type": "code",
   "execution_count": 45,
   "metadata": {},
   "outputs": [],
   "source": [
    "###analizamos variables con nulos"
   ]
  },
  {
   "cell_type": "code",
   "execution_count": 46,
   "metadata": {},
   "outputs": [],
   "source": [
    "df_gb = df.groupby(\"segment\").size().to_frame()"
   ]
  },
  {
   "cell_type": "code",
   "execution_count": 47,
   "metadata": {},
   "outputs": [
    {
     "data": {
      "text/html": [
       "<div>\n",
       "<style scoped>\n",
       "    .dataframe tbody tr th:only-of-type {\n",
       "        vertical-align: middle;\n",
       "    }\n",
       "\n",
       "    .dataframe tbody tr th {\n",
       "        vertical-align: top;\n",
       "    }\n",
       "\n",
       "    .dataframe thead th {\n",
       "        text-align: right;\n",
       "    }\n",
       "</style>\n",
       "<table border=\"1\" class=\"dataframe\">\n",
       "  <thead>\n",
       "    <tr style=\"text-align: right;\">\n",
       "      <th></th>\n",
       "      <th>0</th>\n",
       "    </tr>\n",
       "    <tr>\n",
       "      <th>segment</th>\n",
       "      <th></th>\n",
       "    </tr>\n",
       "  </thead>\n",
       "  <tbody>\n",
       "    <tr>\n",
       "      <th>01 - TOP</th>\n",
       "      <td>97939</td>\n",
       "    </tr>\n",
       "    <tr>\n",
       "      <th>02 - PARTICULARES</th>\n",
       "      <td>1830875</td>\n",
       "    </tr>\n",
       "    <tr>\n",
       "      <th>03 - UNIVERSITARIO</th>\n",
       "      <td>3900166</td>\n",
       "    </tr>\n",
       "  </tbody>\n",
       "</table>\n",
       "</div>"
      ],
      "text/plain": [
       "                          0\n",
       "segment                    \n",
       "01 - TOP              97939\n",
       "02 - PARTICULARES   1830875\n",
       "03 - UNIVERSITARIO  3900166"
      ]
     },
     "execution_count": 47,
     "metadata": {},
     "output_type": "execute_result"
    }
   ],
   "source": [
    "df_gb"
   ]
  },
  {
   "cell_type": "code",
   "execution_count": 48,
   "metadata": {},
   "outputs": [],
   "source": [
    "###Los nulos hasta 5962924, los sustituiremos por un valor extremo que el modelo, no lo contemple, como es -999"
   ]
  },
  {
   "cell_type": "code",
   "execution_count": 49,
   "metadata": {},
   "outputs": [],
   "source": [
    "df_gb = df.groupby(\"payroll\").size().to_frame()"
   ]
  },
  {
   "cell_type": "code",
   "execution_count": 50,
   "metadata": {},
   "outputs": [
    {
     "data": {
      "text/html": [
       "<div>\n",
       "<style scoped>\n",
       "    .dataframe tbody tr th:only-of-type {\n",
       "        vertical-align: middle;\n",
       "    }\n",
       "\n",
       "    .dataframe tbody tr th {\n",
       "        vertical-align: top;\n",
       "    }\n",
       "\n",
       "    .dataframe thead th {\n",
       "        text-align: right;\n",
       "    }\n",
       "</style>\n",
       "<table border=\"1\" class=\"dataframe\">\n",
       "  <thead>\n",
       "    <tr style=\"text-align: right;\">\n",
       "      <th></th>\n",
       "      <th>0</th>\n",
       "    </tr>\n",
       "    <tr>\n",
       "      <th>payroll</th>\n",
       "      <th></th>\n",
       "    </tr>\n",
       "  </thead>\n",
       "  <tbody>\n",
       "    <tr>\n",
       "      <th>0.00</th>\n",
       "      <td>5757076</td>\n",
       "    </tr>\n",
       "    <tr>\n",
       "      <th>1.00</th>\n",
       "      <td>205787</td>\n",
       "    </tr>\n",
       "  </tbody>\n",
       "</table>\n",
       "</div>"
      ],
      "text/plain": [
       "               0\n",
       "payroll         \n",
       "0.00     5757076\n",
       "1.00      205787"
      ]
     },
     "execution_count": 50,
     "metadata": {},
     "output_type": "execute_result"
    }
   ],
   "source": [
    "df_gb"
   ]
  },
  {
   "cell_type": "code",
   "execution_count": 51,
   "metadata": {},
   "outputs": [],
   "source": [
    "###Los pocos nulos, los sustituimos por el valor extremo -999"
   ]
  },
  {
   "cell_type": "code",
   "execution_count": 52,
   "metadata": {},
   "outputs": [],
   "source": [
    "df_gb = df.groupby(\"pension_plan\").size().to_frame()"
   ]
  },
  {
   "cell_type": "code",
   "execution_count": 53,
   "metadata": {},
   "outputs": [
    {
     "data": {
      "text/html": [
       "<div>\n",
       "<style scoped>\n",
       "    .dataframe tbody tr th:only-of-type {\n",
       "        vertical-align: middle;\n",
       "    }\n",
       "\n",
       "    .dataframe tbody tr th {\n",
       "        vertical-align: top;\n",
       "    }\n",
       "\n",
       "    .dataframe thead th {\n",
       "        text-align: right;\n",
       "    }\n",
       "</style>\n",
       "<table border=\"1\" class=\"dataframe\">\n",
       "  <thead>\n",
       "    <tr style=\"text-align: right;\">\n",
       "      <th></th>\n",
       "      <th>0</th>\n",
       "    </tr>\n",
       "    <tr>\n",
       "      <th>pension_plan</th>\n",
       "      <th></th>\n",
       "    </tr>\n",
       "  </thead>\n",
       "  <tbody>\n",
       "    <tr>\n",
       "      <th>0.00</th>\n",
       "      <td>5745061</td>\n",
       "    </tr>\n",
       "    <tr>\n",
       "      <th>1.00</th>\n",
       "      <td>217802</td>\n",
       "    </tr>\n",
       "  </tbody>\n",
       "</table>\n",
       "</div>"
      ],
      "text/plain": [
       "                    0\n",
       "pension_plan         \n",
       "0.00          5745061\n",
       "1.00           217802"
      ]
     },
     "execution_count": 53,
     "metadata": {},
     "output_type": "execute_result"
    }
   ],
   "source": [
    "df_gb"
   ]
  },
  {
   "cell_type": "code",
   "execution_count": 54,
   "metadata": {},
   "outputs": [],
   "source": [
    "###Los pocos nulos, los sustituimos por el valor extremo -999"
   ]
  },
  {
   "cell_type": "code",
   "execution_count": 55,
   "metadata": {},
   "outputs": [],
   "source": [
    "df_gb = df.groupby(\"gender\").size().to_frame()"
   ]
  },
  {
   "cell_type": "code",
   "execution_count": 56,
   "metadata": {},
   "outputs": [
    {
     "data": {
      "text/html": [
       "<div>\n",
       "<style scoped>\n",
       "    .dataframe tbody tr th:only-of-type {\n",
       "        vertical-align: middle;\n",
       "    }\n",
       "\n",
       "    .dataframe tbody tr th {\n",
       "        vertical-align: top;\n",
       "    }\n",
       "\n",
       "    .dataframe thead th {\n",
       "        text-align: right;\n",
       "    }\n",
       "</style>\n",
       "<table border=\"1\" class=\"dataframe\">\n",
       "  <thead>\n",
       "    <tr style=\"text-align: right;\">\n",
       "      <th></th>\n",
       "      <th>0</th>\n",
       "    </tr>\n",
       "    <tr>\n",
       "      <th>gender</th>\n",
       "      <th></th>\n",
       "    </tr>\n",
       "  </thead>\n",
       "  <tbody>\n",
       "    <tr>\n",
       "      <th>H</th>\n",
       "      <td>3087502</td>\n",
       "    </tr>\n",
       "    <tr>\n",
       "      <th>V</th>\n",
       "      <td>2875397</td>\n",
       "    </tr>\n",
       "  </tbody>\n",
       "</table>\n",
       "</div>"
      ],
      "text/plain": [
       "              0\n",
       "gender         \n",
       "H       3087502\n",
       "V       2875397"
      ]
     },
     "execution_count": 56,
     "metadata": {},
     "output_type": "execute_result"
    }
   ],
   "source": [
    "df_gb"
   ]
  },
  {
   "cell_type": "code",
   "execution_count": 57,
   "metadata": {},
   "outputs": [],
   "source": [
    "###Los nulos los sustituimos por un valor extremo -999"
   ]
  },
  {
   "cell_type": "code",
   "execution_count": 58,
   "metadata": {},
   "outputs": [],
   "source": [
    "df_gb = df.groupby(\"salary\").size().to_frame()"
   ]
  },
  {
   "cell_type": "code",
   "execution_count": 59,
   "metadata": {},
   "outputs": [
    {
     "data": {
      "text/html": [
       "<div>\n",
       "<style scoped>\n",
       "    .dataframe tbody tr th:only-of-type {\n",
       "        vertical-align: middle;\n",
       "    }\n",
       "\n",
       "    .dataframe tbody tr th {\n",
       "        vertical-align: top;\n",
       "    }\n",
       "\n",
       "    .dataframe thead th {\n",
       "        text-align: right;\n",
       "    }\n",
       "</style>\n",
       "<table border=\"1\" class=\"dataframe\">\n",
       "  <thead>\n",
       "    <tr style=\"text-align: right;\">\n",
       "      <th></th>\n",
       "      <th>0</th>\n",
       "    </tr>\n",
       "    <tr>\n",
       "      <th>salary</th>\n",
       "      <th></th>\n",
       "    </tr>\n",
       "  </thead>\n",
       "  <tbody>\n",
       "    <tr>\n",
       "      <th>1,202.73</th>\n",
       "      <td>17</td>\n",
       "    </tr>\n",
       "    <tr>\n",
       "      <th>3,731.79</th>\n",
       "      <td>10</td>\n",
       "    </tr>\n",
       "    <tr>\n",
       "      <th>3,796.86</th>\n",
       "      <td>16</td>\n",
       "    </tr>\n",
       "    <tr>\n",
       "      <th>4,559.55</th>\n",
       "      <td>17</td>\n",
       "    </tr>\n",
       "    <tr>\n",
       "      <th>5,130.00</th>\n",
       "      <td>17</td>\n",
       "    </tr>\n",
       "    <tr>\n",
       "      <th>...</th>\n",
       "      <td>...</td>\n",
       "    </tr>\n",
       "    <tr>\n",
       "      <th>21,724,186.50</th>\n",
       "      <td>11</td>\n",
       "    </tr>\n",
       "    <tr>\n",
       "      <th>22,034,738.76</th>\n",
       "      <td>17</td>\n",
       "    </tr>\n",
       "    <tr>\n",
       "      <th>23,720,066.55</th>\n",
       "      <td>11</td>\n",
       "    </tr>\n",
       "    <tr>\n",
       "      <th>24,253,236.93</th>\n",
       "      <td>17</td>\n",
       "    </tr>\n",
       "    <tr>\n",
       "      <th>28,894,395.51</th>\n",
       "      <td>24</td>\n",
       "    </tr>\n",
       "  </tbody>\n",
       "</table>\n",
       "<p>258629 rows × 1 columns</p>\n",
       "</div>"
      ],
      "text/plain": [
       "                0\n",
       "salary           \n",
       "1,202.73       17\n",
       "3,731.79       10\n",
       "3,796.86       16\n",
       "4,559.55       17\n",
       "5,130.00       17\n",
       "...            ..\n",
       "21,724,186.50  11\n",
       "22,034,738.76  17\n",
       "23,720,066.55  11\n",
       "24,253,236.93  17\n",
       "28,894,395.51  24\n",
       "\n",
       "[258629 rows x 1 columns]"
      ]
     },
     "execution_count": 59,
     "metadata": {},
     "output_type": "execute_result"
    }
   ],
   "source": [
    "df_gb"
   ]
  },
  {
   "cell_type": "code",
   "execution_count": 60,
   "metadata": {},
   "outputs": [
    {
     "data": {
      "text/plain": [
       "count    4,450,821.00\n",
       "mean       115,816.72\n",
       "std        199,551.89\n",
       "min          1,202.73\n",
       "25%         61,500.63\n",
       "50%         88,654.65\n",
       "75%        131,669.91\n",
       "max     28,894,395.51\n",
       "Name: salary, dtype: float64"
      ]
     },
     "execution_count": 60,
     "metadata": {},
     "output_type": "execute_result"
    }
   ],
   "source": [
    "df['salary'].describe()"
   ]
  },
  {
   "cell_type": "code",
   "execution_count": 61,
   "metadata": {},
   "outputs": [
    {
     "data": {
      "text/plain": [
       "28894395.51"
      ]
     },
     "execution_count": 61,
     "metadata": {},
     "output_type": "execute_result"
    }
   ],
   "source": [
    "df['salary'].max()"
   ]
  },
  {
   "cell_type": "code",
   "execution_count": 62,
   "metadata": {},
   "outputs": [
    {
     "data": {
      "text/plain": [
       "115816.723704467"
      ]
     },
     "execution_count": 62,
     "metadata": {},
     "output_type": "execute_result"
    }
   ],
   "source": [
    "df['salary'].mean()"
   ]
  },
  {
   "cell_type": "code",
   "execution_count": 63,
   "metadata": {},
   "outputs": [
    {
     "data": {
      "text/plain": [
       "array([[<matplotlib.axes._subplots.AxesSubplot object at 0x00000218A4DEF708>]],\n",
       "      dtype=object)"
      ]
     },
     "execution_count": 63,
     "metadata": {},
     "output_type": "execute_result"
    },
    {
     "data": {
      "image/png": "[encoded data removed]",
      "text/plain": [
       "<Figure size 432x288 with 1 Axes>"
      ]
     },
     "metadata": {},
     "output_type": "display_data"
    }
   ],
   "source": [
    "df.hist(column=\"salary\")"
   ]
  },
  {
   "cell_type": "code",
   "execution_count": 64,
   "metadata": {},
   "outputs": [],
   "source": [
    "def outliers(Serie):\n",
    "    serie_mean = Serie.mean()\n",
    "    serie_std  = Serie.std()\n",
    "    margin = 3 * serie_std\n",
    "    lower_bound = serie_mean - margin\n",
    "    upper_bound = serie_mean + margin\n",
    "    outliers_lower = [x for x in Serie if x < lower_bound]\n",
    "    outliers_upper = [x for x in Serie if x > upper_bound]\n",
    "    print('Lower Bound Outliers: {}'.format(len(outliers_lower)))\n",
    "    print('Upper Bound Outliers: {}'.format(np.mean(outliers_upper)))"
   ]
  },
  {
   "cell_type": "code",
   "execution_count": 65,
   "metadata": {
    "scrolled": true
   },
   "outputs": [
    {
     "name": "stdout",
     "output_type": "stream",
     "text": [
      "Lower Bound Outliers: 0\n",
      "Upper Bound Outliers: 1651819.4126041497\n"
     ]
    }
   ],
   "source": [
    "outliers(df[\"salary\"])"
   ]
  },
  {
   "cell_type": "code",
   "execution_count": 66,
   "metadata": {},
   "outputs": [],
   "source": [
    "##age"
   ]
  },
  {
   "cell_type": "code",
   "execution_count": 67,
   "metadata": {},
   "outputs": [
    {
     "data": {
      "text/plain": [
       "22     727134\n",
       "23     702127\n",
       "21     667762\n",
       "20     413568\n",
       "24     408569\n",
       "25     305028\n",
       "26     237454\n",
       "27     186277\n",
       "28     156142\n",
       "29     134814\n",
       "30     121856\n",
       "31     107373\n",
       "32     103206\n",
       "33      99041\n",
       "34      94026\n",
       "35      90366\n",
       "36      87528\n",
       "37      83133\n",
       "39      78805\n",
       "38      78510\n",
       "40      75021\n",
       "41      71271\n",
       "42      66056\n",
       "43      59418\n",
       "44      54804\n",
       "45      50980\n",
       "46      46566\n",
       "47      44665\n",
       "48      41342\n",
       "49      39766\n",
       "50      38463\n",
       "51      34482\n",
       "52      32664\n",
       "53      30827\n",
       "54      28117\n",
       "55      24372\n",
       "56      22997\n",
       "57      22059\n",
       "58      20376\n",
       "59      18940\n",
       "60      17943\n",
       "61      16068\n",
       "62      15604\n",
       "63      13235\n",
       "19      12203\n",
       "64      11989\n",
       "65      11301\n",
       "66      10076\n",
       "67       9514\n",
       "68       9175\n",
       "69       8774\n",
       "70       7440\n",
       "71       6285\n",
       "73       6256\n",
       "72       6200\n",
       "74       5191\n",
       "77       4542\n",
       "76       4431\n",
       "75       4208\n",
       "81       3511\n",
       "78       3184\n",
       "6        3043\n",
       "82       3019\n",
       "79       2992\n",
       "84       2924\n",
       "5        2920\n",
       "80       2875\n",
       "83       2684\n",
       "85       2656\n",
       "12       2638\n",
       "86       2566\n",
       "13       2557\n",
       "9        2470\n",
       "14       2465\n",
       "15       2370\n",
       "87       2346\n",
       "11       2254\n",
       "10       2247\n",
       "8        2216\n",
       "4        2210\n",
       "7        2191\n",
       "16       2159\n",
       "17       1911\n",
       "88       1870\n",
       "18       1843\n",
       "89       1720\n",
       "90       1565\n",
       "3        1534\n",
       "91       1188\n",
       "92        890\n",
       "2         688\n",
       "93        615\n",
       "94        542\n",
       "95        484\n",
       "96        346\n",
       "97        300\n",
       "98        184\n",
       "100       112\n",
       "99         94\n",
       "101        91\n",
       "102        65\n",
       "103        25\n",
       "104        12\n",
       "105         8\n",
       "Name: age, dtype: int64"
      ]
     },
     "execution_count": 67,
     "metadata": {},
     "output_type": "execute_result"
    }
   ],
   "source": [
    "df['age'].value_counts()"
   ]
  },
  {
   "cell_type": "code",
   "execution_count": 68,
   "metadata": {},
   "outputs": [],
   "source": [
    "df['age'] = df_socio['age'][df_socio.age > 17]\n",
    "df['age'] = df_socio['age'][df_socio.age < 99]"
   ]
  },
  {
   "cell_type": "code",
   "execution_count": 69,
   "metadata": {},
   "outputs": [
    {
     "data": {
      "text/plain": [
       "2.0"
      ]
     },
     "execution_count": 69,
     "metadata": {},
     "output_type": "execute_result"
    }
   ],
   "source": [
    "df['age'].min()"
   ]
  },
  {
   "cell_type": "code",
   "execution_count": 70,
   "metadata": {
    "scrolled": true
   },
   "outputs": [
    {
     "data": {
      "text/plain": [
       "98.0"
      ]
     },
     "execution_count": 70,
     "metadata": {},
     "output_type": "execute_result"
    }
   ],
   "source": [
    "df['age'].max()"
   ]
  },
  {
   "cell_type": "code",
   "execution_count": 71,
   "metadata": {},
   "outputs": [],
   "source": [
    "###Hemos eliminado, los pocos valores que habian que correspondian a mayores de 99 años y menores de 17"
   ]
  },
  {
   "cell_type": "code",
   "execution_count": 72,
   "metadata": {},
   "outputs": [],
   "source": [
    "###Region Code"
   ]
  },
  {
   "cell_type": "code",
   "execution_count": 73,
   "metadata": {},
   "outputs": [],
   "source": [
    "df_gb = df.groupby(\"region_code\").size().to_frame()"
   ]
  },
  {
   "cell_type": "code",
   "execution_count": 74,
   "metadata": {},
   "outputs": [
    {
     "data": {
      "text/html": [
       "<div>\n",
       "<style scoped>\n",
       "    .dataframe tbody tr th:only-of-type {\n",
       "        vertical-align: middle;\n",
       "    }\n",
       "\n",
       "    .dataframe tbody tr th {\n",
       "        vertical-align: top;\n",
       "    }\n",
       "\n",
       "    .dataframe thead th {\n",
       "        text-align: right;\n",
       "    }\n",
       "</style>\n",
       "<table border=\"1\" class=\"dataframe\">\n",
       "  <thead>\n",
       "    <tr style=\"text-align: right;\">\n",
       "      <th></th>\n",
       "      <th>0</th>\n",
       "    </tr>\n",
       "    <tr>\n",
       "      <th>region_code</th>\n",
       "      <th></th>\n",
       "    </tr>\n",
       "  </thead>\n",
       "  <tbody>\n",
       "    <tr>\n",
       "      <th>1.00</th>\n",
       "      <td>12999</td>\n",
       "    </tr>\n",
       "    <tr>\n",
       "      <th>2.00</th>\n",
       "      <td>72071</td>\n",
       "    </tr>\n",
       "    <tr>\n",
       "      <th>3.00</th>\n",
       "      <td>171358</td>\n",
       "    </tr>\n",
       "    <tr>\n",
       "      <th>4.00</th>\n",
       "      <td>32680</td>\n",
       "    </tr>\n",
       "    <tr>\n",
       "      <th>5.00</th>\n",
       "      <td>21300</td>\n",
       "    </tr>\n",
       "    <tr>\n",
       "      <th>6.00</th>\n",
       "      <td>122587</td>\n",
       "    </tr>\n",
       "    <tr>\n",
       "      <th>7.00</th>\n",
       "      <td>62436</td>\n",
       "    </tr>\n",
       "    <tr>\n",
       "      <th>8.00</th>\n",
       "      <td>600362</td>\n",
       "    </tr>\n",
       "    <tr>\n",
       "      <th>9.00</th>\n",
       "      <td>47746</td>\n",
       "    </tr>\n",
       "    <tr>\n",
       "      <th>10.00</th>\n",
       "      <td>83283</td>\n",
       "    </tr>\n",
       "    <tr>\n",
       "      <th>11.00</th>\n",
       "      <td>160894</td>\n",
       "    </tr>\n",
       "    <tr>\n",
       "      <th>12.00</th>\n",
       "      <td>68709</td>\n",
       "    </tr>\n",
       "    <tr>\n",
       "      <th>13.00</th>\n",
       "      <td>70092</td>\n",
       "    </tr>\n",
       "    <tr>\n",
       "      <th>14.00</th>\n",
       "      <td>75405</td>\n",
       "    </tr>\n",
       "    <tr>\n",
       "      <th>15.00</th>\n",
       "      <td>254891</td>\n",
       "    </tr>\n",
       "    <tr>\n",
       "      <th>16.00</th>\n",
       "      <td>36094</td>\n",
       "    </tr>\n",
       "    <tr>\n",
       "      <th>17.00</th>\n",
       "      <td>50749</td>\n",
       "    </tr>\n",
       "    <tr>\n",
       "      <th>18.00</th>\n",
       "      <td>102789</td>\n",
       "    </tr>\n",
       "    <tr>\n",
       "      <th>19.00</th>\n",
       "      <td>26762</td>\n",
       "    </tr>\n",
       "    <tr>\n",
       "      <th>20.00</th>\n",
       "      <td>18833</td>\n",
       "    </tr>\n",
       "    <tr>\n",
       "      <th>21.00</th>\n",
       "      <td>72037</td>\n",
       "    </tr>\n",
       "    <tr>\n",
       "      <th>22.00</th>\n",
       "      <td>21112</td>\n",
       "    </tr>\n",
       "    <tr>\n",
       "      <th>23.00</th>\n",
       "      <td>30955</td>\n",
       "    </tr>\n",
       "    <tr>\n",
       "      <th>24.00</th>\n",
       "      <td>35426</td>\n",
       "    </tr>\n",
       "    <tr>\n",
       "      <th>25.00</th>\n",
       "      <td>46887</td>\n",
       "    </tr>\n",
       "    <tr>\n",
       "      <th>26.00</th>\n",
       "      <td>34790</td>\n",
       "    </tr>\n",
       "    <tr>\n",
       "      <th>27.00</th>\n",
       "      <td>52783</td>\n",
       "    </tr>\n",
       "    <tr>\n",
       "      <th>28.00</th>\n",
       "      <td>1185757</td>\n",
       "    </tr>\n",
       "    <tr>\n",
       "      <th>29.00</th>\n",
       "      <td>187911</td>\n",
       "    </tr>\n",
       "    <tr>\n",
       "      <th>30.00</th>\n",
       "      <td>296856</td>\n",
       "    </tr>\n",
       "    <tr>\n",
       "      <th>31.00</th>\n",
       "      <td>31241</td>\n",
       "    </tr>\n",
       "    <tr>\n",
       "      <th>32.00</th>\n",
       "      <td>54639</td>\n",
       "    </tr>\n",
       "    <tr>\n",
       "      <th>33.00</th>\n",
       "      <td>134562</td>\n",
       "    </tr>\n",
       "    <tr>\n",
       "      <th>34.00</th>\n",
       "      <td>27545</td>\n",
       "    </tr>\n",
       "    <tr>\n",
       "      <th>35.00</th>\n",
       "      <td>121982</td>\n",
       "    </tr>\n",
       "    <tr>\n",
       "      <th>36.00</th>\n",
       "      <td>175850</td>\n",
       "    </tr>\n",
       "    <tr>\n",
       "      <th>37.00</th>\n",
       "      <td>92538</td>\n",
       "    </tr>\n",
       "    <tr>\n",
       "      <th>38.00</th>\n",
       "      <td>29001</td>\n",
       "    </tr>\n",
       "    <tr>\n",
       "      <th>39.00</th>\n",
       "      <td>69589</td>\n",
       "    </tr>\n",
       "    <tr>\n",
       "      <th>40.00</th>\n",
       "      <td>21658</td>\n",
       "    </tr>\n",
       "    <tr>\n",
       "      <th>41.00</th>\n",
       "      <td>290447</td>\n",
       "    </tr>\n",
       "    <tr>\n",
       "      <th>42.00</th>\n",
       "      <td>8500</td>\n",
       "    </tr>\n",
       "    <tr>\n",
       "      <th>43.00</th>\n",
       "      <td>51782</td>\n",
       "    </tr>\n",
       "    <tr>\n",
       "      <th>44.00</th>\n",
       "      <td>12616</td>\n",
       "    </tr>\n",
       "    <tr>\n",
       "      <th>45.00</th>\n",
       "      <td>102328</td>\n",
       "    </tr>\n",
       "    <tr>\n",
       "      <th>46.00</th>\n",
       "      <td>358142</td>\n",
       "    </tr>\n",
       "    <tr>\n",
       "      <th>47.00</th>\n",
       "      <td>116948</td>\n",
       "    </tr>\n",
       "    <tr>\n",
       "      <th>48.00</th>\n",
       "      <td>35256</td>\n",
       "    </tr>\n",
       "    <tr>\n",
       "      <th>49.00</th>\n",
       "      <td>30965</td>\n",
       "    </tr>\n",
       "    <tr>\n",
       "      <th>50.00</th>\n",
       "      <td>132983</td>\n",
       "    </tr>\n",
       "    <tr>\n",
       "      <th>51.00</th>\n",
       "      <td>2896</td>\n",
       "    </tr>\n",
       "    <tr>\n",
       "      <th>52.00</th>\n",
       "      <td>2638</td>\n",
       "    </tr>\n",
       "  </tbody>\n",
       "</table>\n",
       "</div>"
      ],
      "text/plain": [
       "                   0\n",
       "region_code         \n",
       "1.00           12999\n",
       "2.00           72071\n",
       "3.00          171358\n",
       "4.00           32680\n",
       "5.00           21300\n",
       "6.00          122587\n",
       "7.00           62436\n",
       "8.00          600362\n",
       "9.00           47746\n",
       "10.00          83283\n",
       "11.00         160894\n",
       "12.00          68709\n",
       "13.00          70092\n",
       "14.00          75405\n",
       "15.00         254891\n",
       "16.00          36094\n",
       "17.00          50749\n",
       "18.00         102789\n",
       "19.00          26762\n",
       "20.00          18833\n",
       "21.00          72037\n",
       "22.00          21112\n",
       "23.00          30955\n",
       "24.00          35426\n",
       "25.00          46887\n",
       "26.00          34790\n",
       "27.00          52783\n",
       "28.00        1185757\n",
       "29.00         187911\n",
       "30.00         296856\n",
       "31.00          31241\n",
       "32.00          54639\n",
       "33.00         134562\n",
       "34.00          27545\n",
       "35.00         121982\n",
       "36.00         175850\n",
       "37.00          92538\n",
       "38.00          29001\n",
       "39.00          69589\n",
       "40.00          21658\n",
       "41.00         290447\n",
       "42.00           8500\n",
       "43.00          51782\n",
       "44.00          12616\n",
       "45.00         102328\n",
       "46.00         358142\n",
       "47.00         116948\n",
       "48.00          35256\n",
       "49.00          30965\n",
       "50.00         132983\n",
       "51.00           2896\n",
       "52.00           2638"
      ]
     },
     "execution_count": 74,
     "metadata": {},
     "output_type": "execute_result"
    }
   ],
   "source": [
    "df_gb"
   ]
  },
  {
   "cell_type": "code",
   "execution_count": 75,
   "metadata": {},
   "outputs": [],
   "source": [
    "###los nulos ,son NAN, con lo que ponemos un numero extremo, -999"
   ]
  },
  {
   "cell_type": "code",
   "execution_count": 76,
   "metadata": {},
   "outputs": [],
   "source": [
    "###Entry_channel"
   ]
  },
  {
   "cell_type": "code",
   "execution_count": 77,
   "metadata": {},
   "outputs": [],
   "source": [
    "df_gb = df.groupby(\"entry_channel\").size().to_frame()"
   ]
  },
  {
   "cell_type": "code",
   "execution_count": 78,
   "metadata": {},
   "outputs": [
    {
     "data": {
      "text/html": [
       "<div>\n",
       "<style scoped>\n",
       "    .dataframe tbody tr th:only-of-type {\n",
       "        vertical-align: middle;\n",
       "    }\n",
       "\n",
       "    .dataframe tbody tr th {\n",
       "        vertical-align: top;\n",
       "    }\n",
       "\n",
       "    .dataframe thead th {\n",
       "        text-align: right;\n",
       "    }\n",
       "</style>\n",
       "<table border=\"1\" class=\"dataframe\">\n",
       "  <thead>\n",
       "    <tr style=\"text-align: right;\">\n",
       "      <th></th>\n",
       "      <th>0</th>\n",
       "    </tr>\n",
       "    <tr>\n",
       "      <th>entry_channel</th>\n",
       "      <th></th>\n",
       "    </tr>\n",
       "  </thead>\n",
       "  <tbody>\n",
       "    <tr>\n",
       "      <th>004</th>\n",
       "      <td>17</td>\n",
       "    </tr>\n",
       "    <tr>\n",
       "      <th>007</th>\n",
       "      <td>613</td>\n",
       "    </tr>\n",
       "    <tr>\n",
       "      <th>013</th>\n",
       "      <td>397</td>\n",
       "    </tr>\n",
       "    <tr>\n",
       "      <th>KAA</th>\n",
       "      <td>193</td>\n",
       "    </tr>\n",
       "    <tr>\n",
       "      <th>KAB</th>\n",
       "      <td>95</td>\n",
       "    </tr>\n",
       "    <tr>\n",
       "      <th>KAD</th>\n",
       "      <td>45</td>\n",
       "    </tr>\n",
       "    <tr>\n",
       "      <th>KAE</th>\n",
       "      <td>48</td>\n",
       "    </tr>\n",
       "    <tr>\n",
       "      <th>KAF</th>\n",
       "      <td>123</td>\n",
       "    </tr>\n",
       "    <tr>\n",
       "      <th>KAG</th>\n",
       "      <td>335</td>\n",
       "    </tr>\n",
       "    <tr>\n",
       "      <th>KAH</th>\n",
       "      <td>40</td>\n",
       "    </tr>\n",
       "    <tr>\n",
       "      <th>KAI</th>\n",
       "      <td>11</td>\n",
       "    </tr>\n",
       "    <tr>\n",
       "      <th>KAJ</th>\n",
       "      <td>33</td>\n",
       "    </tr>\n",
       "    <tr>\n",
       "      <th>KAK</th>\n",
       "      <td>34</td>\n",
       "    </tr>\n",
       "    <tr>\n",
       "      <th>KAM</th>\n",
       "      <td>43</td>\n",
       "    </tr>\n",
       "    <tr>\n",
       "      <th>KAQ</th>\n",
       "      <td>52</td>\n",
       "    </tr>\n",
       "    <tr>\n",
       "      <th>KAR</th>\n",
       "      <td>157</td>\n",
       "    </tr>\n",
       "    <tr>\n",
       "      <th>KAS</th>\n",
       "      <td>305</td>\n",
       "    </tr>\n",
       "    <tr>\n",
       "      <th>KAT</th>\n",
       "      <td>416084</td>\n",
       "    </tr>\n",
       "    <tr>\n",
       "      <th>KAW</th>\n",
       "      <td>65</td>\n",
       "    </tr>\n",
       "    <tr>\n",
       "      <th>KAY</th>\n",
       "      <td>149</td>\n",
       "    </tr>\n",
       "    <tr>\n",
       "      <th>KAZ</th>\n",
       "      <td>5635</td>\n",
       "    </tr>\n",
       "    <tr>\n",
       "      <th>KBE</th>\n",
       "      <td>17</td>\n",
       "    </tr>\n",
       "    <tr>\n",
       "      <th>KBG</th>\n",
       "      <td>1662</td>\n",
       "    </tr>\n",
       "    <tr>\n",
       "      <th>KBH</th>\n",
       "      <td>17</td>\n",
       "    </tr>\n",
       "    <tr>\n",
       "      <th>KBO</th>\n",
       "      <td>21</td>\n",
       "    </tr>\n",
       "    <tr>\n",
       "      <th>KBU</th>\n",
       "      <td>11</td>\n",
       "    </tr>\n",
       "    <tr>\n",
       "      <th>KBW</th>\n",
       "      <td>12</td>\n",
       "    </tr>\n",
       "    <tr>\n",
       "      <th>KBY</th>\n",
       "      <td>11</td>\n",
       "    </tr>\n",
       "    <tr>\n",
       "      <th>KBZ</th>\n",
       "      <td>198</td>\n",
       "    </tr>\n",
       "    <tr>\n",
       "      <th>KCB</th>\n",
       "      <td>47</td>\n",
       "    </tr>\n",
       "    <tr>\n",
       "      <th>KCC</th>\n",
       "      <td>89</td>\n",
       "    </tr>\n",
       "    <tr>\n",
       "      <th>KCH</th>\n",
       "      <td>48</td>\n",
       "    </tr>\n",
       "    <tr>\n",
       "      <th>KCI</th>\n",
       "      <td>17</td>\n",
       "    </tr>\n",
       "    <tr>\n",
       "      <th>KCK</th>\n",
       "      <td>11</td>\n",
       "    </tr>\n",
       "    <tr>\n",
       "      <th>KCL</th>\n",
       "      <td>17</td>\n",
       "    </tr>\n",
       "    <tr>\n",
       "      <th>KDA</th>\n",
       "      <td>2</td>\n",
       "    </tr>\n",
       "    <tr>\n",
       "      <th>KDH</th>\n",
       "      <td>51</td>\n",
       "    </tr>\n",
       "    <tr>\n",
       "      <th>KDR</th>\n",
       "      <td>16</td>\n",
       "    </tr>\n",
       "    <tr>\n",
       "      <th>KDS</th>\n",
       "      <td>1</td>\n",
       "    </tr>\n",
       "    <tr>\n",
       "      <th>KDT</th>\n",
       "      <td>23</td>\n",
       "    </tr>\n",
       "    <tr>\n",
       "      <th>KEH</th>\n",
       "      <td>728</td>\n",
       "    </tr>\n",
       "    <tr>\n",
       "      <th>KEJ</th>\n",
       "      <td>8</td>\n",
       "    </tr>\n",
       "    <tr>\n",
       "      <th>KES</th>\n",
       "      <td>11</td>\n",
       "    </tr>\n",
       "    <tr>\n",
       "      <th>KEY</th>\n",
       "      <td>20</td>\n",
       "    </tr>\n",
       "    <tr>\n",
       "      <th>KFA</th>\n",
       "      <td>79020</td>\n",
       "    </tr>\n",
       "    <tr>\n",
       "      <th>KFC</th>\n",
       "      <td>890620</td>\n",
       "    </tr>\n",
       "    <tr>\n",
       "      <th>KFD</th>\n",
       "      <td>91</td>\n",
       "    </tr>\n",
       "    <tr>\n",
       "      <th>KFF</th>\n",
       "      <td>22</td>\n",
       "    </tr>\n",
       "    <tr>\n",
       "      <th>KFK</th>\n",
       "      <td>17</td>\n",
       "    </tr>\n",
       "    <tr>\n",
       "      <th>KFL</th>\n",
       "      <td>13</td>\n",
       "    </tr>\n",
       "    <tr>\n",
       "      <th>KFP</th>\n",
       "      <td>2</td>\n",
       "    </tr>\n",
       "    <tr>\n",
       "      <th>KFS</th>\n",
       "      <td>17</td>\n",
       "    </tr>\n",
       "    <tr>\n",
       "      <th>KGC</th>\n",
       "      <td>17</td>\n",
       "    </tr>\n",
       "    <tr>\n",
       "      <th>KGN</th>\n",
       "      <td>17</td>\n",
       "    </tr>\n",
       "    <tr>\n",
       "      <th>KGX</th>\n",
       "      <td>17</td>\n",
       "    </tr>\n",
       "    <tr>\n",
       "      <th>KHC</th>\n",
       "      <td>5241</td>\n",
       "    </tr>\n",
       "    <tr>\n",
       "      <th>KHD</th>\n",
       "      <td>75899</td>\n",
       "    </tr>\n",
       "    <tr>\n",
       "      <th>KHE</th>\n",
       "      <td>3113947</td>\n",
       "    </tr>\n",
       "    <tr>\n",
       "      <th>KHF</th>\n",
       "      <td>20657</td>\n",
       "    </tr>\n",
       "    <tr>\n",
       "      <th>KHK</th>\n",
       "      <td>230197</td>\n",
       "    </tr>\n",
       "    <tr>\n",
       "      <th>KHL</th>\n",
       "      <td>41736</td>\n",
       "    </tr>\n",
       "    <tr>\n",
       "      <th>KHM</th>\n",
       "      <td>176591</td>\n",
       "    </tr>\n",
       "    <tr>\n",
       "      <th>KHN</th>\n",
       "      <td>108434</td>\n",
       "    </tr>\n",
       "    <tr>\n",
       "      <th>KHO</th>\n",
       "      <td>8247</td>\n",
       "    </tr>\n",
       "    <tr>\n",
       "      <th>KHP</th>\n",
       "      <td>691</td>\n",
       "    </tr>\n",
       "    <tr>\n",
       "      <th>KHQ</th>\n",
       "      <td>590280</td>\n",
       "    </tr>\n",
       "    <tr>\n",
       "      <th>KHS</th>\n",
       "      <td>5</td>\n",
       "    </tr>\n",
       "    <tr>\n",
       "      <th>RED</th>\n",
       "      <td>60601</td>\n",
       "    </tr>\n",
       "  </tbody>\n",
       "</table>\n",
       "</div>"
      ],
      "text/plain": [
       "                     0\n",
       "entry_channel         \n",
       "004                 17\n",
       "007                613\n",
       "013                397\n",
       "KAA                193\n",
       "KAB                 95\n",
       "KAD                 45\n",
       "KAE                 48\n",
       "KAF                123\n",
       "KAG                335\n",
       "KAH                 40\n",
       "KAI                 11\n",
       "KAJ                 33\n",
       "KAK                 34\n",
       "KAM                 43\n",
       "KAQ                 52\n",
       "KAR                157\n",
       "KAS                305\n",
       "KAT             416084\n",
       "KAW                 65\n",
       "KAY                149\n",
       "KAZ               5635\n",
       "KBE                 17\n",
       "KBG               1662\n",
       "KBH                 17\n",
       "KBO                 21\n",
       "KBU                 11\n",
       "KBW                 12\n",
       "KBY                 11\n",
       "KBZ                198\n",
       "KCB                 47\n",
       "KCC                 89\n",
       "KCH                 48\n",
       "KCI                 17\n",
       "KCK                 11\n",
       "KCL                 17\n",
       "KDA                  2\n",
       "KDH                 51\n",
       "KDR                 16\n",
       "KDS                  1\n",
       "KDT                 23\n",
       "KEH                728\n",
       "KEJ                  8\n",
       "KES                 11\n",
       "KEY                 20\n",
       "KFA              79020\n",
       "KFC             890620\n",
       "KFD                 91\n",
       "KFF                 22\n",
       "KFK                 17\n",
       "KFL                 13\n",
       "KFP                  2\n",
       "KFS                 17\n",
       "KGC                 17\n",
       "KGN                 17\n",
       "KGX                 17\n",
       "KHC               5241\n",
       "KHD              75899\n",
       "KHE            3113947\n",
       "KHF              20657\n",
       "KHK             230197\n",
       "KHL              41736\n",
       "KHM             176591\n",
       "KHN             108434\n",
       "KHO               8247\n",
       "KHP                691\n",
       "KHQ             590280\n",
       "KHS                  5\n",
       "RED              60601"
      ]
     },
     "execution_count": 78,
     "metadata": {},
     "output_type": "execute_result"
    }
   ],
   "source": [
    "df_gb"
   ]
  },
  {
   "cell_type": "code",
   "execution_count": 79,
   "metadata": {},
   "outputs": [],
   "source": [
    "###son codigos utilizados para los canales de entrada del cliente, por uno de los 2 bancos mas importantes de España, \n",
    "###con origen en Cantabria, y que utilizan\n",
    "###esta codificación, pero no he encontrado su significado..la K, sera key.Como nuestra empresa es un intermediario,y no\n",
    "### tiene oficinas, si no , una red comercial ,interpreto que en contrato de autonomo, los clientes llegarán,a traves\n",
    "### de la propia cartera de clientes de los vendedores,\n",
    "## por referencias de otro cliente ,que ya trabaja con EasyBank, por la pagina web, motores de recomendacion, mailings, etc...\n",
    "##Hacemos un one hot encoding, cogiendo las 16 opciones de entry channnel de mayor importancia"
   ]
  },
  {
   "cell_type": "code",
   "execution_count": 80,
   "metadata": {},
   "outputs": [],
   "source": [
    "def set_other(Serie, num_values):\n",
    "    top_categories = Serie.value_counts().head(num_values)\n",
    "    top_categories_list = top_categories.index.to_list()\n",
    "    top_categories_list.append('Others')\n",
    "    Serie = pd.Categorical(Serie, categories=top_categories_list).fillna('Others')\n",
    "    return Serie\n"
   ]
  },
  {
   "cell_type": "code",
   "execution_count": 81,
   "metadata": {},
   "outputs": [
    {
     "data": {
      "text/plain": [
       "KHE    3113947\n",
       "KFC     890620\n",
       "KHQ     590280\n",
       "KAT     416084\n",
       "KHK     230197\n",
       "KHM     176591\n",
       "KHN     108434\n",
       "KFA      79020\n",
       "KHD      75899\n",
       "RED      60601\n",
       "KHL      41736\n",
       "KHF      20657\n",
       "KHO       8247\n",
       "KAZ       5635\n",
       "KHC       5241\n",
       "KBG       1662\n",
       "KEH        728\n",
       "KHP        691\n",
       "007        613\n",
       "013        397\n",
       "KAG        335\n",
       "KAS        305\n",
       "KBZ        198\n",
       "KAA        193\n",
       "KAR        157\n",
       "KAY        149\n",
       "KAF        123\n",
       "KAB         95\n",
       "KFD         91\n",
       "KCC         89\n",
       "KAW         65\n",
       "KAQ         52\n",
       "KDH         51\n",
       "KCH         48\n",
       "KAE         48\n",
       "KCB         47\n",
       "KAD         45\n",
       "KAM         43\n",
       "KAH         40\n",
       "KAK         34\n",
       "KAJ         33\n",
       "KDT         23\n",
       "KFF         22\n",
       "KBO         21\n",
       "KEY         20\n",
       "KFS         17\n",
       "KGN         17\n",
       "KBH         17\n",
       "KBE         17\n",
       "KFK         17\n",
       "KCI         17\n",
       "KCL         17\n",
       "KGC         17\n",
       "004         17\n",
       "KGX         17\n",
       "KDR         16\n",
       "KFL         13\n",
       "KBW         12\n",
       "KBU         11\n",
       "KES         11\n",
       "KAI         11\n",
       "KCK         11\n",
       "KBY         11\n",
       "KEJ          8\n",
       "KHS          5\n",
       "KFP          2\n",
       "KDA          2\n",
       "KDS          1\n",
       "Name: entry_channel, dtype: int64"
      ]
     },
     "execution_count": 81,
     "metadata": {},
     "output_type": "execute_result"
    }
   ],
   "source": [
    "df['entry_channel'].value_counts()"
   ]
  },
  {
   "cell_type": "code",
   "execution_count": 82,
   "metadata": {},
   "outputs": [],
   "source": [
    "df['entry_channel'] = set_other(df['entry_channel'], 16)"
   ]
  },
  {
   "cell_type": "code",
   "execution_count": 83,
   "metadata": {},
   "outputs": [],
   "source": [
    "_dummy_dataset = pd.get_dummies(df['entry_channel'], prefix='entry_channel')\n",
    "df = pd.concat([df,_dummy_dataset],axis=1)"
   ]
  },
  {
   "cell_type": "code",
   "execution_count": 84,
   "metadata": {},
   "outputs": [],
   "source": [
    "df.drop(['entry_channel'],axis=1, inplace=True)"
   ]
  },
  {
   "cell_type": "code",
   "execution_count": 85,
   "metadata": {},
   "outputs": [],
   "source": [
    "##segment"
   ]
  },
  {
   "cell_type": "code",
   "execution_count": 86,
   "metadata": {
    "scrolled": false
   },
   "outputs": [
    {
     "data": {
      "text/plain": [
       "03 - UNIVERSITARIO    3900166\n",
       "02 - PARTICULARES     1830875\n",
       "01 - TOP                97939\n",
       "Name: segment, dtype: int64"
      ]
     },
     "execution_count": 86,
     "metadata": {},
     "output_type": "execute_result"
    }
   ],
   "source": [
    "df['segment'].value_counts()"
   ]
  },
  {
   "cell_type": "code",
   "execution_count": 87,
   "metadata": {},
   "outputs": [],
   "source": [
    "###hacemos un one hot encoding de segment"
   ]
  },
  {
   "cell_type": "code",
   "execution_count": 88,
   "metadata": {},
   "outputs": [],
   "source": [
    "_dummy_dataset = pd.get_dummies(df['segment'], prefix='segment')\n",
    "df = pd.concat([df,_dummy_dataset],axis=1)"
   ]
  },
  {
   "cell_type": "code",
   "execution_count": 89,
   "metadata": {},
   "outputs": [],
   "source": [
    "df.drop(['segment'],axis=1, inplace=True)"
   ]
  },
  {
   "cell_type": "code",
   "execution_count": 90,
   "metadata": {},
   "outputs": [],
   "source": [
    "##country_id"
   ]
  },
  {
   "cell_type": "code",
   "execution_count": 91,
   "metadata": {
    "scrolled": false
   },
   "outputs": [
    {
     "data": {
      "text/plain": [
       "<bound method IndexOpsMixin.value_counts of 2168122    ES\n",
       "1479563    ES\n",
       "5134317    ES\n",
       "2962973    ES\n",
       "4028169    ES\n",
       "           ..\n",
       "5679916    ES\n",
       "5679915    ES\n",
       "5679914    ES\n",
       "5679913    ES\n",
       "5679912    ES\n",
       "Name: country_id, Length: 5962924, dtype: object>"
      ]
     },
     "execution_count": 91,
     "metadata": {},
     "output_type": "execute_result"
    }
   ],
   "source": [
    "df['country_id'].value_counts"
   ]
  },
  {
   "cell_type": "code",
   "execution_count": 92,
   "metadata": {},
   "outputs": [],
   "source": [
    "df['country_id'] = set_other(df['country_id'],6)"
   ]
  },
  {
   "cell_type": "code",
   "execution_count": 93,
   "metadata": {},
   "outputs": [],
   "source": [
    "_dummy_dataset = pd.get_dummies(df['country_id'], prefix='country_id')\n",
    "df = pd.concat([df,_dummy_dataset],axis=1)"
   ]
  },
  {
   "cell_type": "code",
   "execution_count": 94,
   "metadata": {},
   "outputs": [],
   "source": [
    "df.drop(['country_id'],axis=1, inplace=True)"
   ]
  },
  {
   "cell_type": "code",
   "execution_count": 95,
   "metadata": {},
   "outputs": [],
   "source": [
    "###Voy a calcular los productos que se han vendido cada año, teniendo en cuenta que del año 2018,tengo todos los meses\n",
    "###y del año 2019, solo 5 meses, hasta mayo, incluido"
   ]
  },
  {
   "cell_type": "code",
   "execution_count": 96,
   "metadata": {
    "scrolled": false
   },
   "outputs": [
    {
     "data": {
      "text/plain": [
       "2019-05-28    442995\n",
       "2019-04-28    439627\n",
       "2019-03-28    436183\n",
       "2019-02-28    431727\n",
       "2019-01-28    426875\n",
       "2018-12-28    422481\n",
       "2018-11-28    416387\n",
       "2018-10-28    402300\n",
       "2018-09-28    375323\n",
       "2018-08-28    352922\n",
       "2018-07-28    339339\n",
       "2018-06-28    252104\n",
       "2018-05-28    249926\n",
       "2018-04-28    247463\n",
       "2018-03-28    245258\n",
       "2018-02-28    242521\n",
       "2018-01-28    239493\n",
       "Name: pk_partition, dtype: int64"
      ]
     },
     "execution_count": 96,
     "metadata": {},
     "output_type": "execute_result"
    }
   ],
   "source": [
    "df['pk_partition'].value_counts()"
   ]
  },
  {
   "cell_type": "code",
   "execution_count": 97,
   "metadata": {},
   "outputs": [
    {
     "data": {
      "text/plain": [
       "115816.723704467"
      ]
     },
     "execution_count": 97,
     "metadata": {},
     "output_type": "execute_result"
    }
   ],
   "source": [
    "df['salary'].mean()"
   ]
  },
  {
   "cell_type": "code",
   "execution_count": 98,
   "metadata": {},
   "outputs": [],
   "source": [
    "df['salary'] = df['salary'][df.salary > 10000]"
   ]
  },
  {
   "cell_type": "code",
   "execution_count": 99,
   "metadata": {},
   "outputs": [],
   "source": [
    "df['salary'] = df['salary'][df_socio.salary < 5000000]"
   ]
  },
  {
   "cell_type": "code",
   "execution_count": 100,
   "metadata": {},
   "outputs": [
    {
     "data": {
      "text/plain": [
       "4823901.12"
      ]
     },
     "execution_count": 100,
     "metadata": {},
     "output_type": "execute_result"
    }
   ],
   "source": [
    "df['salary'].max()"
   ]
  },
  {
   "cell_type": "code",
   "execution_count": 101,
   "metadata": {},
   "outputs": [
    {
     "data": {
      "text/plain": [
       "10018.41"
      ]
     },
     "execution_count": 101,
     "metadata": {},
     "output_type": "execute_result"
    }
   ],
   "source": [
    "df['salary'].min()"
   ]
  },
  {
   "cell_type": "code",
   "execution_count": 102,
   "metadata": {},
   "outputs": [],
   "source": [
    "df['salary'].fillna(value=df['salary'].mean(), inplace=True)"
   ]
  },
  {
   "cell_type": "code",
   "execution_count": 103,
   "metadata": {},
   "outputs": [],
   "source": [
    "df.fillna(value=-999, inplace=True)"
   ]
  },
  {
   "cell_type": "code",
   "execution_count": 104,
   "metadata": {
    "scrolled": true
   },
   "outputs": [
    {
     "data": {
      "text/plain": [
       "pk_cid                        0\n",
       "pk_partition                  0\n",
       "entry_date                    0\n",
       "active_customer               0\n",
       "short_term_deposit            0\n",
       "loans                         0\n",
       "mortgage                      0\n",
       "funds                         0\n",
       "securities                    0\n",
       "long_term_deposit             0\n",
       "em_account_pp                 0\n",
       "credit_card                   0\n",
       "payroll                       0\n",
       "pension_plan                  0\n",
       "payroll_account               0\n",
       "emc_account                   0\n",
       "debit_card                    0\n",
       "em_account_p                  0\n",
       "em_acount                     0\n",
       "region_code                   0\n",
       "gender                        0\n",
       "age                           0\n",
       "deceased                      0\n",
       "salary                        0\n",
       "entry_channel_KHE             0\n",
       "entry_channel_KFC             0\n",
       "entry_channel_KHQ             0\n",
       "entry_channel_KAT             0\n",
       "entry_channel_KHK             0\n",
       "entry_channel_KHM             0\n",
       "entry_channel_KHN             0\n",
       "entry_channel_KFA             0\n",
       "entry_channel_KHD             0\n",
       "entry_channel_RED             0\n",
       "entry_channel_KHL             0\n",
       "entry_channel_KHF             0\n",
       "entry_channel_KHO             0\n",
       "entry_channel_KAZ             0\n",
       "entry_channel_KHC             0\n",
       "entry_channel_KBG             0\n",
       "entry_channel_Others          0\n",
       "segment_01 - TOP              0\n",
       "segment_02 - PARTICULARES     0\n",
       "segment_03 - UNIVERSITARIO    0\n",
       "country_id_ES                 0\n",
       "country_id_GB                 0\n",
       "country_id_FR                 0\n",
       "country_id_DE                 0\n",
       "country_id_US                 0\n",
       "country_id_CH                 0\n",
       "country_id_Others             0\n",
       "dtype: int64"
      ]
     },
     "execution_count": 104,
     "metadata": {},
     "output_type": "execute_result"
    }
   ],
   "source": [
    "df.isnull().sum()"
   ]
  },
  {
   "cell_type": "code",
   "execution_count": 105,
   "metadata": {
    "scrolled": true
   },
   "outputs": [
    {
     "name": "stdout",
     "output_type": "stream",
     "text": [
      "<class 'pandas.core.frame.DataFrame'>\n",
      "Int64Index: 5962924 entries, 2168122 to 5679912\n",
      "Data columns (total 51 columns):\n",
      " #   Column                      Dtype  \n",
      "---  ------                      -----  \n",
      " 0   pk_cid                      int64  \n",
      " 1   pk_partition                object \n",
      " 2   entry_date                  object \n",
      " 3   active_customer             float64\n",
      " 4   short_term_deposit          int64  \n",
      " 5   loans                       int64  \n",
      " 6   mortgage                    int64  \n",
      " 7   funds                       int64  \n",
      " 8   securities                  int64  \n",
      " 9   long_term_deposit           int64  \n",
      " 10  em_account_pp               int64  \n",
      " 11  credit_card                 int64  \n",
      " 12  payroll                     float64\n",
      " 13  pension_plan                float64\n",
      " 14  payroll_account             int64  \n",
      " 15  emc_account                 int64  \n",
      " 16  debit_card                  int64  \n",
      " 17  em_account_p                int64  \n",
      " 18  em_acount                   int64  \n",
      " 19  region_code                 float64\n",
      " 20  gender                      object \n",
      " 21  age                         float64\n",
      " 22  deceased                    object \n",
      " 23  salary                      float64\n",
      " 24  entry_channel_KHE           uint8  \n",
      " 25  entry_channel_KFC           uint8  \n",
      " 26  entry_channel_KHQ           uint8  \n",
      " 27  entry_channel_KAT           uint8  \n",
      " 28  entry_channel_KHK           uint8  \n",
      " 29  entry_channel_KHM           uint8  \n",
      " 30  entry_channel_KHN           uint8  \n",
      " 31  entry_channel_KFA           uint8  \n",
      " 32  entry_channel_KHD           uint8  \n",
      " 33  entry_channel_RED           uint8  \n",
      " 34  entry_channel_KHL           uint8  \n",
      " 35  entry_channel_KHF           uint8  \n",
      " 36  entry_channel_KHO           uint8  \n",
      " 37  entry_channel_KAZ           uint8  \n",
      " 38  entry_channel_KHC           uint8  \n",
      " 39  entry_channel_KBG           uint8  \n",
      " 40  entry_channel_Others        uint8  \n",
      " 41  segment_01 - TOP            uint8  \n",
      " 42  segment_02 - PARTICULARES   uint8  \n",
      " 43  segment_03 - UNIVERSITARIO  uint8  \n",
      " 44  country_id_ES               uint8  \n",
      " 45  country_id_GB               uint8  \n",
      " 46  country_id_FR               uint8  \n",
      " 47  country_id_DE               uint8  \n",
      " 48  country_id_US               uint8  \n",
      " 49  country_id_CH               uint8  \n",
      " 50  country_id_Others           uint8  \n",
      "dtypes: float64(6), int64(14), object(4), uint8(27)\n",
      "memory usage: 1.4+ GB\n"
     ]
    }
   ],
   "source": [
    "df.info(verbose=True)"
   ]
  },
  {
   "cell_type": "code",
   "execution_count": 106,
   "metadata": {},
   "outputs": [],
   "source": [
    "df[\"pk_partition\"] = pd.to_datetime(df[\"pk_partition\"], format = \"%Y.%m.%d\")"
   ]
  },
  {
   "cell_type": "code",
   "execution_count": 107,
   "metadata": {},
   "outputs": [],
   "source": [
    "df = df[df['entry_date'] != '2015-02-29']\n",
    "df = df[df['entry_date'] != '2017-02-29']\n",
    "df = df[df['entry_date'] != '2018-02-29']\n",
    "df = df[df['entry_date'] != '2019-02-29']"
   ]
  },
  {
   "cell_type": "code",
   "execution_count": 108,
   "metadata": {},
   "outputs": [],
   "source": [
    "df[\"entry_date\"] = pd.to_datetime(df[\"entry_date\"], format = \"%Y.%m.%d\")"
   ]
  },
  {
   "cell_type": "code",
   "execution_count": 109,
   "metadata": {},
   "outputs": [],
   "source": [
    "df['gender'] = (df['gender']=='H').astype(int)"
   ]
  },
  {
   "cell_type": "code",
   "execution_count": 110,
   "metadata": {},
   "outputs": [
    {
     "data": {
      "text/plain": [
       "1    3084987\n",
       "0    2871524\n",
       "Name: gender, dtype: int64"
      ]
     },
     "execution_count": 110,
     "metadata": {},
     "output_type": "execute_result"
    }
   ],
   "source": [
    "df['gender'].value_counts()"
   ]
  },
  {
   "cell_type": "code",
   "execution_count": 111,
   "metadata": {
    "scrolled": true
   },
   "outputs": [],
   "source": [
    "df['deceased'] = (df['deceased']=='N').astype(int)"
   ]
  },
  {
   "cell_type": "code",
   "execution_count": 112,
   "metadata": {
    "scrolled": false
   },
   "outputs": [
    {
     "data": {
      "text/plain": [
       "1    5955436\n",
       "0       1075\n",
       "Name: deceased, dtype: int64"
      ]
     },
     "execution_count": 112,
     "metadata": {},
     "output_type": "execute_result"
    }
   ],
   "source": [
    "df['deceased'].value_counts()"
   ]
  },
  {
   "cell_type": "code",
   "execution_count": 113,
   "metadata": {},
   "outputs": [
    {
     "name": "stdout",
     "output_type": "stream",
     "text": [
      "<class 'pandas.core.frame.DataFrame'>\n",
      "Int64Index: 5956511 entries, 2168122 to 5679912\n",
      "Data columns (total 51 columns):\n",
      " #   Column                      Dtype         \n",
      "---  ------                      -----         \n",
      " 0   pk_cid                      int64         \n",
      " 1   pk_partition                datetime64[ns]\n",
      " 2   entry_date                  datetime64[ns]\n",
      " 3   active_customer             float64       \n",
      " 4   short_term_deposit          int64         \n",
      " 5   loans                       int64         \n",
      " 6   mortgage                    int64         \n",
      " 7   funds                       int64         \n",
      " 8   securities                  int64         \n",
      " 9   long_term_deposit           int64         \n",
      " 10  em_account_pp               int64         \n",
      " 11  credit_card                 int64         \n",
      " 12  payroll                     float64       \n",
      " 13  pension_plan                float64       \n",
      " 14  payroll_account             int64         \n",
      " 15  emc_account                 int64         \n",
      " 16  debit_card                  int64         \n",
      " 17  em_account_p                int64         \n",
      " 18  em_acount                   int64         \n",
      " 19  region_code                 float64       \n",
      " 20  gender                      int32         \n",
      " 21  age                         float64       \n",
      " 22  deceased                    int32         \n",
      " 23  salary                      float64       \n",
      " 24  entry_channel_KHE           uint8         \n",
      " 25  entry_channel_KFC           uint8         \n",
      " 26  entry_channel_KHQ           uint8         \n",
      " 27  entry_channel_KAT           uint8         \n",
      " 28  entry_channel_KHK           uint8         \n",
      " 29  entry_channel_KHM           uint8         \n",
      " 30  entry_channel_KHN           uint8         \n",
      " 31  entry_channel_KFA           uint8         \n",
      " 32  entry_channel_KHD           uint8         \n",
      " 33  entry_channel_RED           uint8         \n",
      " 34  entry_channel_KHL           uint8         \n",
      " 35  entry_channel_KHF           uint8         \n",
      " 36  entry_channel_KHO           uint8         \n",
      " 37  entry_channel_KAZ           uint8         \n",
      " 38  entry_channel_KHC           uint8         \n",
      " 39  entry_channel_KBG           uint8         \n",
      " 40  entry_channel_Others        uint8         \n",
      " 41  segment_01 - TOP            uint8         \n",
      " 42  segment_02 - PARTICULARES   uint8         \n",
      " 43  segment_03 - UNIVERSITARIO  uint8         \n",
      " 44  country_id_ES               uint8         \n",
      " 45  country_id_GB               uint8         \n",
      " 46  country_id_FR               uint8         \n",
      " 47  country_id_DE               uint8         \n",
      " 48  country_id_US               uint8         \n",
      " 49  country_id_CH               uint8         \n",
      " 50  country_id_Others           uint8         \n",
      "dtypes: datetime64[ns](2), float64(6), int32(2), int64(14), uint8(27)\n",
      "memory usage: 1.2 GB\n"
     ]
    }
   ],
   "source": [
    "df.info(verbose=True)"
   ]
  },
  {
   "cell_type": "code",
   "execution_count": 114,
   "metadata": {},
   "outputs": [
    {
     "data": {
      "text/html": [
       "<div>\n",
       "<style scoped>\n",
       "    .dataframe tbody tr th:only-of-type {\n",
       "        vertical-align: middle;\n",
       "    }\n",
       "\n",
       "    .dataframe tbody tr th {\n",
       "        vertical-align: top;\n",
       "    }\n",
       "\n",
       "    .dataframe thead th {\n",
       "        text-align: right;\n",
       "    }\n",
       "</style>\n",
       "<table border=\"1\" class=\"dataframe\">\n",
       "  <thead>\n",
       "    <tr style=\"text-align: right;\">\n",
       "      <th></th>\n",
       "      <th>pk_cid</th>\n",
       "      <th>em_account_p</th>\n",
       "      <th>em_account_pp</th>\n",
       "      <th>em_acount</th>\n",
       "      <th>emc_account</th>\n",
       "      <th>funds</th>\n",
       "      <th>loans</th>\n",
       "      <th>long_term_deposit</th>\n",
       "      <th>mortgage</th>\n",
       "      <th>payroll</th>\n",
       "      <th>payroll_account</th>\n",
       "      <th>pension_plan</th>\n",
       "      <th>short_term_deposit</th>\n",
       "      <th>securities</th>\n",
       "      <th>credit_card</th>\n",
       "      <th>debit_card</th>\n",
       "    </tr>\n",
       "    <tr>\n",
       "      <th>pk_partition</th>\n",
       "      <th></th>\n",
       "      <th></th>\n",
       "      <th></th>\n",
       "      <th></th>\n",
       "      <th></th>\n",
       "      <th></th>\n",
       "      <th></th>\n",
       "      <th></th>\n",
       "      <th></th>\n",
       "      <th></th>\n",
       "      <th></th>\n",
       "      <th></th>\n",
       "      <th></th>\n",
       "      <th></th>\n",
       "      <th></th>\n",
       "      <th></th>\n",
       "    </tr>\n",
       "  </thead>\n",
       "  <tbody>\n",
       "    <tr>\n",
       "      <th>2018-12-31</th>\n",
       "      <td>4603528579554</td>\n",
       "      <td>24</td>\n",
       "      <td>0</td>\n",
       "      <td>2908744</td>\n",
       "      <td>213286</td>\n",
       "      <td>13493</td>\n",
       "      <td>322</td>\n",
       "      <td>68236</td>\n",
       "      <td>218</td>\n",
       "      <td>71,638.00</td>\n",
       "      <td>207300</td>\n",
       "      <td>79,415.00</td>\n",
       "      <td>15252</td>\n",
       "      <td>13376</td>\n",
       "      <td>47596</td>\n",
       "      <td>359216</td>\n",
       "    </tr>\n",
       "    <tr>\n",
       "      <th>2019-12-31</th>\n",
       "      <td>2751474688341</td>\n",
       "      <td>10</td>\n",
       "      <td>0</td>\n",
       "      <td>1469408</td>\n",
       "      <td>113260</td>\n",
       "      <td>6602</td>\n",
       "      <td>146</td>\n",
       "      <td>32330</td>\n",
       "      <td>106</td>\n",
       "      <td>73,030.00</td>\n",
       "      <td>121913</td>\n",
       "      <td>77,266.00</td>\n",
       "      <td>142</td>\n",
       "      <td>8727</td>\n",
       "      <td>23103</td>\n",
       "      <td>203267</td>\n",
       "    </tr>\n",
       "  </tbody>\n",
       "</table>\n",
       "</div>"
      ],
      "text/plain": [
       "                     pk_cid  em_account_p  em_account_pp  em_acount  \\\n",
       "pk_partition                                                          \n",
       "2018-12-31    4603528579554            24              0    2908744   \n",
       "2019-12-31    2751474688341            10              0    1469408   \n",
       "\n",
       "              emc_account  funds  loans  long_term_deposit  mortgage  \\\n",
       "pk_partition                                                           \n",
       "2018-12-31         213286  13493    322              68236       218   \n",
       "2019-12-31         113260   6602    146              32330       106   \n",
       "\n",
       "               payroll  payroll_account  pension_plan  short_term_deposit  \\\n",
       "pk_partition                                                                \n",
       "2018-12-31   71,638.00           207300     79,415.00               15252   \n",
       "2019-12-31   73,030.00           121913     77,266.00                 142   \n",
       "\n",
       "              securities  credit_card  debit_card  \n",
       "pk_partition                                       \n",
       "2018-12-31         13376        47596      359216  \n",
       "2019-12-31          8727        23103      203267  "
      ]
     },
     "execution_count": 114,
     "metadata": {},
     "output_type": "execute_result"
    }
   ],
   "source": [
    "\n",
    "x = df[[\"pk_partition\",\"pk_cid\",\"em_account_p\",\"em_account_pp\",\"em_acount\",\"emc_account\",\"funds\",\"loans\",\\\n",
    "        \"long_term_deposit\",\"mortgage\",\"payroll\",\"payroll_account\",\"pension_plan\",\"short_term_deposit\",'securities','credit_card','debit_card']]\\\n",
    ".set_index(\"pk_partition\").resample(\"Y\").sum()\n",
    "x.head()"
   ]
  },
  {
   "cell_type": "code",
   "execution_count": 125,
   "metadata": {
    "scrolled": false
   },
   "outputs": [
    {
     "data": {
      "text/html": [
       "<div>\n",
       "<style scoped>\n",
       "    .dataframe tbody tr th:only-of-type {\n",
       "        vertical-align: middle;\n",
       "    }\n",
       "\n",
       "    .dataframe tbody tr th {\n",
       "        vertical-align: top;\n",
       "    }\n",
       "\n",
       "    .dataframe thead th {\n",
       "        text-align: right;\n",
       "    }\n",
       "</style>\n",
       "<table border=\"1\" class=\"dataframe\">\n",
       "  <thead>\n",
       "    <tr style=\"text-align: right;\">\n",
       "      <th></th>\n",
       "      <th>pk_cid</th>\n",
       "      <th>em_account_p</th>\n",
       "      <th>em_account_pp</th>\n",
       "      <th>em_acount</th>\n",
       "      <th>emc_account</th>\n",
       "      <th>funds</th>\n",
       "      <th>loans</th>\n",
       "      <th>long_term_deposit</th>\n",
       "      <th>mortgage</th>\n",
       "      <th>payroll</th>\n",
       "      <th>payroll_account</th>\n",
       "      <th>pension_plan</th>\n",
       "      <th>short_term_deposit</th>\n",
       "      <th>securities</th>\n",
       "      <th>credit_card</th>\n",
       "      <th>debit_card</th>\n",
       "    </tr>\n",
       "    <tr>\n",
       "      <th>pk_partition</th>\n",
       "      <th></th>\n",
       "      <th></th>\n",
       "      <th></th>\n",
       "      <th></th>\n",
       "      <th></th>\n",
       "      <th></th>\n",
       "      <th></th>\n",
       "      <th></th>\n",
       "      <th></th>\n",
       "      <th></th>\n",
       "      <th></th>\n",
       "      <th></th>\n",
       "      <th></th>\n",
       "      <th></th>\n",
       "      <th></th>\n",
       "      <th></th>\n",
       "    </tr>\n",
       "  </thead>\n",
       "  <tbody>\n",
       "    <tr>\n",
       "      <th>2018-01-31</th>\n",
       "      <td>282395031743</td>\n",
       "      <td>2</td>\n",
       "      <td>0</td>\n",
       "      <td>215224</td>\n",
       "      <td>15296</td>\n",
       "      <td>785</td>\n",
       "      <td>19</td>\n",
       "      <td>4876</td>\n",
       "      <td>15</td>\n",
       "      <td>-8,845.00</td>\n",
       "      <td>13469</td>\n",
       "      <td>-8,155.00</td>\n",
       "      <td>883</td>\n",
       "      <td>931</td>\n",
       "      <td>3318</td>\n",
       "      <td>24679</td>\n",
       "    </tr>\n",
       "    <tr>\n",
       "      <th>2018-02-28</th>\n",
       "      <td>286542027349</td>\n",
       "      <td>2</td>\n",
       "      <td>0</td>\n",
       "      <td>217029</td>\n",
       "      <td>15804</td>\n",
       "      <td>871</td>\n",
       "      <td>19</td>\n",
       "      <td>4948</td>\n",
       "      <td>15</td>\n",
       "      <td>-5,105.00</td>\n",
       "      <td>14238</td>\n",
       "      <td>-4,498.00</td>\n",
       "      <td>1343</td>\n",
       "      <td>964</td>\n",
       "      <td>3274</td>\n",
       "      <td>25429</td>\n",
       "    </tr>\n",
       "    <tr>\n",
       "      <th>2018-03-31</th>\n",
       "      <td>290308921382</td>\n",
       "      <td>2</td>\n",
       "      <td>0</td>\n",
       "      <td>218615</td>\n",
       "      <td>16405</td>\n",
       "      <td>968</td>\n",
       "      <td>23</td>\n",
       "      <td>4959</td>\n",
       "      <td>17</td>\n",
       "      <td>-262.00</td>\n",
       "      <td>14981</td>\n",
       "      <td>-115.00</td>\n",
       "      <td>1664</td>\n",
       "      <td>964</td>\n",
       "      <td>3503</td>\n",
       "      <td>27029</td>\n",
       "    </tr>\n",
       "    <tr>\n",
       "      <th>2018-04-30</th>\n",
       "      <td>293385496885</td>\n",
       "      <td>2</td>\n",
       "      <td>0</td>\n",
       "      <td>219748</td>\n",
       "      <td>16924</td>\n",
       "      <td>1084</td>\n",
       "      <td>24</td>\n",
       "      <td>5101</td>\n",
       "      <td>17</td>\n",
       "      <td>-94.00</td>\n",
       "      <td>15816</td>\n",
       "      <td>561.00</td>\n",
       "      <td>1740</td>\n",
       "      <td>982</td>\n",
       "      <td>3717</td>\n",
       "      <td>27747</td>\n",
       "    </tr>\n",
       "    <tr>\n",
       "      <th>2018-05-31</th>\n",
       "      <td>296777086463</td>\n",
       "      <td>2</td>\n",
       "      <td>0</td>\n",
       "      <td>221223</td>\n",
       "      <td>17545</td>\n",
       "      <td>1145</td>\n",
       "      <td>27</td>\n",
       "      <td>5350</td>\n",
       "      <td>18</td>\n",
       "      <td>-5.00</td>\n",
       "      <td>16686</td>\n",
       "      <td>149.00</td>\n",
       "      <td>1455</td>\n",
       "      <td>1011</td>\n",
       "      <td>3791</td>\n",
       "      <td>27894</td>\n",
       "    </tr>\n",
       "    <tr>\n",
       "      <th>2018-06-30</th>\n",
       "      <td>299826640440</td>\n",
       "      <td>2</td>\n",
       "      <td>0</td>\n",
       "      <td>224259</td>\n",
       "      <td>17928</td>\n",
       "      <td>1159</td>\n",
       "      <td>27</td>\n",
       "      <td>5582</td>\n",
       "      <td>19</td>\n",
       "      <td>10,937.00</td>\n",
       "      <td>15530</td>\n",
       "      <td>11,626.00</td>\n",
       "      <td>1244</td>\n",
       "      <td>1018</td>\n",
       "      <td>3993</td>\n",
       "      <td>28811</td>\n",
       "    </tr>\n",
       "    <tr>\n",
       "      <th>2018-07-31</th>\n",
       "      <td>409203010828</td>\n",
       "      <td>2</td>\n",
       "      <td>0</td>\n",
       "      <td>234256</td>\n",
       "      <td>18163</td>\n",
       "      <td>1172</td>\n",
       "      <td>28</td>\n",
       "      <td>5790</td>\n",
       "      <td>20</td>\n",
       "      <td>11,880.00</td>\n",
       "      <td>16906</td>\n",
       "      <td>12,771.00</td>\n",
       "      <td>1282</td>\n",
       "      <td>1052</td>\n",
       "      <td>4127</td>\n",
       "      <td>29559</td>\n",
       "    </tr>\n",
       "    <tr>\n",
       "      <th>2018-08-31</th>\n",
       "      <td>428688534641</td>\n",
       "      <td>2</td>\n",
       "      <td>0</td>\n",
       "      <td>245912</td>\n",
       "      <td>18311</td>\n",
       "      <td>1219</td>\n",
       "      <td>29</td>\n",
       "      <td>5917</td>\n",
       "      <td>20</td>\n",
       "      <td>11,376.00</td>\n",
       "      <td>18109</td>\n",
       "      <td>12,119.00</td>\n",
       "      <td>1335</td>\n",
       "      <td>1132</td>\n",
       "      <td>4194</td>\n",
       "      <td>29187</td>\n",
       "    </tr>\n",
       "    <tr>\n",
       "      <th>2018-09-30</th>\n",
       "      <td>461209096027</td>\n",
       "      <td>2</td>\n",
       "      <td>0</td>\n",
       "      <td>261142</td>\n",
       "      <td>18596</td>\n",
       "      <td>1237</td>\n",
       "      <td>31</td>\n",
       "      <td>6152</td>\n",
       "      <td>20</td>\n",
       "      <td>11,842.00</td>\n",
       "      <td>18853</td>\n",
       "      <td>12,616.00</td>\n",
       "      <td>1386</td>\n",
       "      <td>1200</td>\n",
       "      <td>4279</td>\n",
       "      <td>31665</td>\n",
       "    </tr>\n",
       "    <tr>\n",
       "      <th>2018-10-31</th>\n",
       "      <td>501169187131</td>\n",
       "      <td>2</td>\n",
       "      <td>0</td>\n",
       "      <td>277640</td>\n",
       "      <td>18822</td>\n",
       "      <td>1249</td>\n",
       "      <td>33</td>\n",
       "      <td>6375</td>\n",
       "      <td>19</td>\n",
       "      <td>12,446.00</td>\n",
       "      <td>19936</td>\n",
       "      <td>13,215.00</td>\n",
       "      <td>1374</td>\n",
       "      <td>1346</td>\n",
       "      <td>4374</td>\n",
       "      <td>34354</td>\n",
       "    </tr>\n",
       "    <tr>\n",
       "      <th>2018-11-30</th>\n",
       "      <td>522385169482</td>\n",
       "      <td>2</td>\n",
       "      <td>0</td>\n",
       "      <td>284833</td>\n",
       "      <td>19472</td>\n",
       "      <td>1282</td>\n",
       "      <td>32</td>\n",
       "      <td>6442</td>\n",
       "      <td>19</td>\n",
       "      <td>13,024.00</td>\n",
       "      <td>21428</td>\n",
       "      <td>13,810.00</td>\n",
       "      <td>1018</td>\n",
       "      <td>1358</td>\n",
       "      <td>4500</td>\n",
       "      <td>35449</td>\n",
       "    </tr>\n",
       "    <tr>\n",
       "      <th>2018-12-31</th>\n",
       "      <td>531638377183</td>\n",
       "      <td>2</td>\n",
       "      <td>0</td>\n",
       "      <td>288863</td>\n",
       "      <td>20020</td>\n",
       "      <td>1322</td>\n",
       "      <td>30</td>\n",
       "      <td>6744</td>\n",
       "      <td>19</td>\n",
       "      <td>14,444.00</td>\n",
       "      <td>21348</td>\n",
       "      <td>15,316.00</td>\n",
       "      <td>528</td>\n",
       "      <td>1418</td>\n",
       "      <td>4526</td>\n",
       "      <td>37413</td>\n",
       "    </tr>\n",
       "    <tr>\n",
       "      <th>2019-01-31</th>\n",
       "      <td>538419912564</td>\n",
       "      <td>2</td>\n",
       "      <td>0</td>\n",
       "      <td>291720</td>\n",
       "      <td>20898</td>\n",
       "      <td>1330</td>\n",
       "      <td>28</td>\n",
       "      <td>6654</td>\n",
       "      <td>20</td>\n",
       "      <td>12,053.00</td>\n",
       "      <td>22316</td>\n",
       "      <td>12,533.00</td>\n",
       "      <td>125</td>\n",
       "      <td>1653</td>\n",
       "      <td>4484</td>\n",
       "      <td>37332</td>\n",
       "    </tr>\n",
       "    <tr>\n",
       "      <th>2019-02-28</th>\n",
       "      <td>544659138449</td>\n",
       "      <td>2</td>\n",
       "      <td>0</td>\n",
       "      <td>292919</td>\n",
       "      <td>21773</td>\n",
       "      <td>1316</td>\n",
       "      <td>29</td>\n",
       "      <td>6654</td>\n",
       "      <td>20</td>\n",
       "      <td>14,368.00</td>\n",
       "      <td>23254</td>\n",
       "      <td>15,255.00</td>\n",
       "      <td>11</td>\n",
       "      <td>1745</td>\n",
       "      <td>4533</td>\n",
       "      <td>39383</td>\n",
       "    </tr>\n",
       "    <tr>\n",
       "      <th>2019-03-31</th>\n",
       "      <td>550735605933</td>\n",
       "      <td>2</td>\n",
       "      <td>0</td>\n",
       "      <td>294144</td>\n",
       "      <td>22451</td>\n",
       "      <td>1322</td>\n",
       "      <td>29</td>\n",
       "      <td>6533</td>\n",
       "      <td>20</td>\n",
       "      <td>15,099.00</td>\n",
       "      <td>24373</td>\n",
       "      <td>15,961.00</td>\n",
       "      <td>2</td>\n",
       "      <td>1766</td>\n",
       "      <td>4564</td>\n",
       "      <td>41342</td>\n",
       "    </tr>\n",
       "    <tr>\n",
       "      <th>2019-04-30</th>\n",
       "      <td>556198552419</td>\n",
       "      <td>2</td>\n",
       "      <td>0</td>\n",
       "      <td>295020</td>\n",
       "      <td>23423</td>\n",
       "      <td>1320</td>\n",
       "      <td>30</td>\n",
       "      <td>6364</td>\n",
       "      <td>23</td>\n",
       "      <td>15,208.00</td>\n",
       "      <td>25478</td>\n",
       "      <td>16,197.00</td>\n",
       "      <td>2</td>\n",
       "      <td>1778</td>\n",
       "      <td>4734</td>\n",
       "      <td>42052</td>\n",
       "    </tr>\n",
       "    <tr>\n",
       "      <th>2019-05-31</th>\n",
       "      <td>561461478976</td>\n",
       "      <td>2</td>\n",
       "      <td>0</td>\n",
       "      <td>295605</td>\n",
       "      <td>24715</td>\n",
       "      <td>1314</td>\n",
       "      <td>30</td>\n",
       "      <td>6125</td>\n",
       "      <td>23</td>\n",
       "      <td>16,302.00</td>\n",
       "      <td>26492</td>\n",
       "      <td>17,320.00</td>\n",
       "      <td>2</td>\n",
       "      <td>1785</td>\n",
       "      <td>4788</td>\n",
       "      <td>43158</td>\n",
       "    </tr>\n",
       "  </tbody>\n",
       "</table>\n",
       "</div>"
      ],
      "text/plain": [
       "                    pk_cid  em_account_p  em_account_pp  em_acount  \\\n",
       "pk_partition                                                         \n",
       "2018-01-31    282395031743             2              0     215224   \n",
       "2018-02-28    286542027349             2              0     217029   \n",
       "2018-03-31    290308921382             2              0     218615   \n",
       "2018-04-30    293385496885             2              0     219748   \n",
       "2018-05-31    296777086463             2              0     221223   \n",
       "2018-06-30    299826640440             2              0     224259   \n",
       "2018-07-31    409203010828             2              0     234256   \n",
       "2018-08-31    428688534641             2              0     245912   \n",
       "2018-09-30    461209096027             2              0     261142   \n",
       "2018-10-31    501169187131             2              0     277640   \n",
       "2018-11-30    522385169482             2              0     284833   \n",
       "2018-12-31    531638377183             2              0     288863   \n",
       "2019-01-31    538419912564             2              0     291720   \n",
       "2019-02-28    544659138449             2              0     292919   \n",
       "2019-03-31    550735605933             2              0     294144   \n",
       "2019-04-30    556198552419             2              0     295020   \n",
       "2019-05-31    561461478976             2              0     295605   \n",
       "\n",
       "              emc_account  funds  loans  long_term_deposit  mortgage  \\\n",
       "pk_partition                                                           \n",
       "2018-01-31          15296    785     19               4876        15   \n",
       "2018-02-28          15804    871     19               4948        15   \n",
       "2018-03-31          16405    968     23               4959        17   \n",
       "2018-04-30          16924   1084     24               5101        17   \n",
       "2018-05-31          17545   1145     27               5350        18   \n",
       "2018-06-30          17928   1159     27               5582        19   \n",
       "2018-07-31          18163   1172     28               5790        20   \n",
       "2018-08-31          18311   1219     29               5917        20   \n",
       "2018-09-30          18596   1237     31               6152        20   \n",
       "2018-10-31          18822   1249     33               6375        19   \n",
       "2018-11-30          19472   1282     32               6442        19   \n",
       "2018-12-31          20020   1322     30               6744        19   \n",
       "2019-01-31          20898   1330     28               6654        20   \n",
       "2019-02-28          21773   1316     29               6654        20   \n",
       "2019-03-31          22451   1322     29               6533        20   \n",
       "2019-04-30          23423   1320     30               6364        23   \n",
       "2019-05-31          24715   1314     30               6125        23   \n",
       "\n",
       "               payroll  payroll_account  pension_plan  short_term_deposit  \\\n",
       "pk_partition                                                                \n",
       "2018-01-31   -8,845.00            13469     -8,155.00                 883   \n",
       "2018-02-28   -5,105.00            14238     -4,498.00                1343   \n",
       "2018-03-31     -262.00            14981       -115.00                1664   \n",
       "2018-04-30      -94.00            15816        561.00                1740   \n",
       "2018-05-31       -5.00            16686        149.00                1455   \n",
       "2018-06-30   10,937.00            15530     11,626.00                1244   \n",
       "2018-07-31   11,880.00            16906     12,771.00                1282   \n",
       "2018-08-31   11,376.00            18109     12,119.00                1335   \n",
       "2018-09-30   11,842.00            18853     12,616.00                1386   \n",
       "2018-10-31   12,446.00            19936     13,215.00                1374   \n",
       "2018-11-30   13,024.00            21428     13,810.00                1018   \n",
       "2018-12-31   14,444.00            21348     15,316.00                 528   \n",
       "2019-01-31   12,053.00            22316     12,533.00                 125   \n",
       "2019-02-28   14,368.00            23254     15,255.00                  11   \n",
       "2019-03-31   15,099.00            24373     15,961.00                   2   \n",
       "2019-04-30   15,208.00            25478     16,197.00                   2   \n",
       "2019-05-31   16,302.00            26492     17,320.00                   2   \n",
       "\n",
       "              securities  credit_card  debit_card  \n",
       "pk_partition                                       \n",
       "2018-01-31           931         3318       24679  \n",
       "2018-02-28           964         3274       25429  \n",
       "2018-03-31           964         3503       27029  \n",
       "2018-04-30           982         3717       27747  \n",
       "2018-05-31          1011         3791       27894  \n",
       "2018-06-30          1018         3993       28811  \n",
       "2018-07-31          1052         4127       29559  \n",
       "2018-08-31          1132         4194       29187  \n",
       "2018-09-30          1200         4279       31665  \n",
       "2018-10-31          1346         4374       34354  \n",
       "2018-11-30          1358         4500       35449  \n",
       "2018-12-31          1418         4526       37413  \n",
       "2019-01-31          1653         4484       37332  \n",
       "2019-02-28          1745         4533       39383  \n",
       "2019-03-31          1766         4564       41342  \n",
       "2019-04-30          1778         4734       42052  \n",
       "2019-05-31          1785         4788       43158  "
      ]
     },
     "execution_count": 125,
     "metadata": {},
     "output_type": "execute_result"
    }
   ],
   "source": [
    "\n",
    "x1 = df[[\"pk_partition\",\"pk_cid\",\"em_account_p\",\"em_account_pp\",\"em_acount\",\"emc_account\",\"funds\",\"loans\",\\\n",
    "        \"long_term_deposit\",\"mortgage\",\"payroll\",\"payroll_account\",\"pension_plan\",\"short_term_deposit\",'securities','credit_card','debit_card']]\\\n",
    ".set_index(\"pk_partition\").resample(\"M\").sum()\n",
    "x1.head(17)"
   ]
  },
  {
   "cell_type": "code",
   "execution_count": 134,
   "metadata": {},
   "outputs": [],
   "source": [
    "###vamos a crear el revenue , para cada uno de los productos"
   ]
  },
  {
   "cell_type": "code",
   "execution_count": 129,
   "metadata": {},
   "outputs": [],
   "source": [
    "def revenue_em_acount(row):\n",
    "    return row.em_acount*10\n",
    "    \n",
    "    "
   ]
  },
  {
   "cell_type": "code",
   "execution_count": 132,
   "metadata": {},
   "outputs": [],
   "source": [
    "df['em_acount_revenue'] = df.apply(revenue_em_acount, axis = 1) "
   ]
  },
  {
   "cell_type": "code",
   "execution_count": 133,
   "metadata": {},
   "outputs": [
    {
     "data": {
      "text/plain": [
       "2168122     0\n",
       "1479563    10\n",
       "5134317     0\n",
       "2962973     0\n",
       "4028169     0\n",
       "           ..\n",
       "5679916     0\n",
       "5679915     0\n",
       "5679914     0\n",
       "5679913     0\n",
       "5679912     0\n",
       "Name: em_acount_revenue, Length: 5956511, dtype: int64"
      ]
     },
     "execution_count": 133,
     "metadata": {},
     "output_type": "execute_result"
    }
   ],
   "source": [
    "df['em_acount_revenue'] "
   ]
  },
  {
   "cell_type": "code",
   "execution_count": null,
   "metadata": {},
   "outputs": [],
   "source": []
  },
  {
   "cell_type": "code",
   "execution_count": null,
   "metadata": {
    "scrolled": true
   },
   "outputs": [],
   "source": [
    "df[df['pk_partition'] == '2018-01-28'].describe().T"
   ]
  },
  {
   "cell_type": "code",
   "execution_count": null,
   "metadata": {
    "scrolled": true
   },
   "outputs": [],
   "source": [
    "\n",
    "df[df['pk_partition'] == '2019-05-28'].describe().T"
   ]
  },
  {
   "cell_type": "code",
   "execution_count": null,
   "metadata": {},
   "outputs": [],
   "source": [
    "products_sorted = df.sort_values(by=['pk_cid', 'pk_partition'])"
   ]
  },
  {
   "cell_type": "code",
   "execution_count": null,
   "metadata": {},
   "outputs": [],
   "source": [
    "products_sorted.head()"
   ]
  },
  {
   "cell_type": "code",
   "execution_count": null,
   "metadata": {},
   "outputs": [],
   "source": [
    "products_sorted['short_term_deposit_previous_month'] = products_sorted.groupby('pk_cid')['short_term_deposit'].shift(1)\n",
    "products_sorted['loans_previous_month'] = products_sorted.groupby('pk_cid')['loans'].shift(1)\n",
    "products_sorted['mortgage_previous_month'] = products_sorted.groupby('pk_cid')['mortgage'].shift(1)\n",
    "products_sorted['funds_previous_month'] = products_sorted.groupby('pk_cid')['funds'].shift(1)\n",
    "products_sorted['securities_previous_month'] = products_sorted.groupby('pk_cid')['securities'].shift(1)\n",
    "products_sorted['long_term_deposit_previous_month'] = products_sorted.groupby('pk_cid')['long_term_deposit'].shift(1)\n",
    "products_sorted['em_account_pp_previous_month'] = products_sorted.groupby('pk_cid')['em_account_pp'].shift(1)\n",
    "products_sorted['credit_card_previous_month'] = products_sorted.groupby('pk_cid')['credit_card'].shift(1)\n",
    "products_sorted['payroll_previous_month'] = products_sorted.groupby('pk_cid')['payroll'].shift(1)\n",
    "products_sorted['pension_plan_previous_month'] = products_sorted.groupby('pk_cid')['pension_plan'].shift(1)\n",
    "products_sorted['payroll_account_previous_month'] = products_sorted.groupby('pk_cid')['payroll_account'].shift(1)\n",
    "products_sorted['em_account_p_previous_month'] = products_sorted.groupby('pk_cid')['em_account_p'].shift(1)\n",
    "products_sorted['em_acount_previous_month'] = products_sorted.groupby('pk_cid')['em_acount'].shift(1)\n",
    "products_sorted['debit_card_previous_month']=products_sorted.groupby('pk_cid')['debit_card'].shift(1)\n",
    "products_sorted['emc_account_previous_month'] = products_sorted.groupby('pk_cid')['emc_account'].shift(1)\n",
    "products_sorted['loans_previous_month'] = products_sorted.groupby('pk_cid')['loans'].shift(1)"
   ]
  },
  {
   "cell_type": "code",
   "execution_count": null,
   "metadata": {},
   "outputs": [],
   "source": [
    "products_sorted['dif_short_term_deposit'] = products_sorted['short_term_deposit'] - products_sorted['short_term_deposit_previous_month']\n",
    "products_sorted['dif_short_loans'] = products_sorted['loans'] - products_sorted['loans_previous_month']\n",
    "products_sorted['dif_mortgage'] = products_sorted['mortgage'] - products_sorted['mortgage_previous_month']\n",
    "products_sorted['dif_funds'] = products_sorted['funds'] - products_sorted['funds_previous_month']\n",
    "products_sorted['dif_securities'] = products_sorted['securities'] - products_sorted['securities_previous_month']\n",
    "products_sorted['dif_long_term_deposit'] = products_sorted['long_term_deposit'] - products_sorted['long_term_deposit_previous_month']\n",
    "products_sorted['dif_em_account_pp'] = products_sorted['em_account_pp'] - products_sorted['em_account_pp_previous_month']\n",
    "products_sorted['dif_credit_card'] = products_sorted['credit_card'] - products_sorted['credit_card_previous_month']\n",
    "products_sorted['dif_payroll'] = products_sorted['payroll'] - products_sorted['payroll_previous_month']\n",
    "products_sorted['dif_pension_plan'] = products_sorted['pension_plan'] - products_sorted['pension_plan_previous_month']\n",
    "products_sorted['dif_payroll_account'] = products_sorted['payroll_account'] - products_sorted['payroll_account_previous_month']\n",
    "products_sorted['dif_em_account_p'] = products_sorted['em_account_p'] - products_sorted['em_account_p_previous_month']\n",
    "products_sorted['dif_em_acount'] = products_sorted['em_acount'] - products_sorted['em_acount_previous_month']\n",
    "products_sorted['dif_debit_card'] = products_sorted['debit_card'] - products_sorted['debit_card_previous_month']\n",
    "products_sorted['dif_emc_account'] = products_sorted['emc_account'] - products_sorted['emc_account_previous_month']\n",
    "products_sorted['dif_loans'] = products_sorted['loans'] - products_sorted['loans_previous_month']"
   ]
  },
  {
   "cell_type": "code",
   "execution_count": null,
   "metadata": {},
   "outputs": [],
   "source": [
    "products_sorted['emc_account_previous_month'] = products_sorted.groupby('pk_cid')['emc_account'].shift(1)"
   ]
  },
  {
   "cell_type": "code",
   "execution_count": null,
   "metadata": {},
   "outputs": [],
   "source": [
    "products_sorted['dif_emc_account'] = products_sorted['emc_account'] - products_sorted['emc_account_previous_month']"
   ]
  },
  {
   "cell_type": "code",
   "execution_count": null,
   "metadata": {},
   "outputs": [],
   "source": [
    "products_sorted['dif_emc_account'].value_counts()"
   ]
  },
  {
   "cell_type": "code",
   "execution_count": null,
   "metadata": {
    "scrolled": true
   },
   "outputs": [],
   "source": [
    "products_sorted[products_sorted['dif_emc_account'] == -1].pivot_table(index='pk_partition', values='dif_emc_account', aggfunc=[len])"
   ]
  },
  {
   "cell_type": "code",
   "execution_count": null,
   "metadata": {},
   "outputs": [],
   "source": [
    "products_sorted['short_term_diposit_previous_month'] = products_sorted.groupby('pk_cid')['short_term_deposit'].shift(1)"
   ]
  },
  {
   "cell_type": "code",
   "execution_count": null,
   "metadata": {},
   "outputs": [],
   "source": [
    "products_sorted['dif_short_term_deposit'] = products_sorted['short_term_deposit'] - products_sorted['short_term_deposit_previous_month']"
   ]
  },
  {
   "cell_type": "code",
   "execution_count": null,
   "metadata": {},
   "outputs": [],
   "source": [
    "products_sorted['dif_short_term_deposit'].value_counts()"
   ]
  },
  {
   "cell_type": "code",
   "execution_count": null,
   "metadata": {
    "scrolled": false
   },
   "outputs": [],
   "source": [
    "products_sorted[products_sorted['dif_short_term_deposit'] == -1].pivot_table(index='pk_partition', values='dif_short_term_deposit', aggfunc=[len])"
   ]
  },
  {
   "cell_type": "code",
   "execution_count": null,
   "metadata": {},
   "outputs": [],
   "source": [
    "products_sorted['loans_previous_month'] = products_sorted.groupby('pk_cid')['loans'].shift(1)"
   ]
  },
  {
   "cell_type": "code",
   "execution_count": null,
   "metadata": {},
   "outputs": [],
   "source": [
    "products_sorted['dif_loans'] = products_sorted['loans'] - products_sorted['loans_previous_month']"
   ]
  },
  {
   "cell_type": "code",
   "execution_count": null,
   "metadata": {},
   "outputs": [],
   "source": [
    "products_sorted['dif_loans'].value_counts()"
   ]
  },
  {
   "cell_type": "code",
   "execution_count": null,
   "metadata": {},
   "outputs": [],
   "source": [
    "products_sorted[products_sorted['dif_loans'] == -1].pivot_table(index='pk_partition', values='dif_loans', aggfunc=[len])"
   ]
  },
  {
   "cell_type": "code",
   "execution_count": null,
   "metadata": {},
   "outputs": [],
   "source": [
    "products_sorted['dif_mortgage'].value_counts()"
   ]
  },
  {
   "cell_type": "code",
   "execution_count": null,
   "metadata": {},
   "outputs": [],
   "source": [
    "products_sorted[products_sorted['dif_mortgage'] == -1].pivot_table(index='pk_partition', values='dif_mortgage', aggfunc=[len])"
   ]
  },
  {
   "cell_type": "code",
   "execution_count": null,
   "metadata": {},
   "outputs": [],
   "source": [
    "products_sorted['dif_funds'].value_counts()"
   ]
  },
  {
   "cell_type": "code",
   "execution_count": null,
   "metadata": {},
   "outputs": [],
   "source": [
    "products_sorted[products_sorted['dif_funds'] == -1].pivot_table(index='pk_partition', values='dif_funds', aggfunc=[len])"
   ]
  },
  {
   "cell_type": "code",
   "execution_count": null,
   "metadata": {},
   "outputs": [],
   "source": [
    "products_sorted['dif_securities'].value_counts()"
   ]
  },
  {
   "cell_type": "code",
   "execution_count": null,
   "metadata": {
    "scrolled": true
   },
   "outputs": [],
   "source": [
    "products_sorted[products_sorted['dif_securities'] == -1].pivot_table(index='pk_partition', values='dif_securities', aggfunc=[len])"
   ]
  },
  {
   "cell_type": "code",
   "execution_count": null,
   "metadata": {},
   "outputs": [],
   "source": [
    "products_sorted['dif_long_term_deposit'].value_counts()"
   ]
  },
  {
   "cell_type": "code",
   "execution_count": null,
   "metadata": {},
   "outputs": [],
   "source": [
    "products_sorted[products_sorted['dif_long_term_deposit'] == -1].pivot_table(index='pk_partition', values='dif_long_term_deposit', aggfunc=[len])"
   ]
  },
  {
   "cell_type": "code",
   "execution_count": null,
   "metadata": {},
   "outputs": [],
   "source": [
    "products_sorted['dif_em_account_pp'].value_counts()"
   ]
  },
  {
   "cell_type": "code",
   "execution_count": null,
   "metadata": {},
   "outputs": [],
   "source": [
    "products_sorted[products_sorted['dif_em_account_pp'] == -1].pivot_table(index='pk_partition', values='dif_em_account_pp', aggfunc=[len])"
   ]
  },
  {
   "cell_type": "code",
   "execution_count": null,
   "metadata": {},
   "outputs": [],
   "source": [
    "products_sorted['dif_credit_card'].value_counts()"
   ]
  },
  {
   "cell_type": "code",
   "execution_count": null,
   "metadata": {},
   "outputs": [],
   "source": [
    "products_sorted[products_sorted['dif_credit_card'] == -1].pivot_table(index='pk_partition', values='dif_credit_card', aggfunc=[len])"
   ]
  },
  {
   "cell_type": "code",
   "execution_count": null,
   "metadata": {},
   "outputs": [],
   "source": [
    "products_sorted['dif_payroll'].value_counts()"
   ]
  },
  {
   "cell_type": "code",
   "execution_count": null,
   "metadata": {},
   "outputs": [],
   "source": [
    "products_sorted[products_sorted['dif_payroll'] == -1].pivot_table(index='pk_partition', values='dif_payroll', aggfunc=[len])"
   ]
  },
  {
   "cell_type": "code",
   "execution_count": null,
   "metadata": {},
   "outputs": [],
   "source": [
    "products_sorted['dif_payroll_account'].value_counts()"
   ]
  },
  {
   "cell_type": "code",
   "execution_count": null,
   "metadata": {},
   "outputs": [],
   "source": [
    "products_sorted[products_sorted['dif_payroll_account'] == -1].pivot_table(index='pk_partition', values='dif_payroll_account', aggfunc=[len])"
   ]
  },
  {
   "cell_type": "code",
   "execution_count": null,
   "metadata": {},
   "outputs": [],
   "source": [
    "products_sorted['dif_pension_plan'].value_counts()"
   ]
  },
  {
   "cell_type": "code",
   "execution_count": null,
   "metadata": {},
   "outputs": [],
   "source": [
    "products_sorted[products_sorted['dif_pension_plan'] == -1].pivot_table(index='pk_partition', values='dif_pension_plan', aggfunc=[len])"
   ]
  },
  {
   "cell_type": "code",
   "execution_count": null,
   "metadata": {},
   "outputs": [],
   "source": [
    "products_sorted['dif_em_account_p'].value_counts()"
   ]
  },
  {
   "cell_type": "code",
   "execution_count": null,
   "metadata": {},
   "outputs": [],
   "source": [
    "products_sorted[products_sorted['dif_em_account_p'] == -1].pivot_table(index='pk_partition', values='dif_em_account_p', aggfunc=[len])"
   ]
  },
  {
   "cell_type": "code",
   "execution_count": null,
   "metadata": {},
   "outputs": [],
   "source": [
    "products_sorted['dif_debit_card'].value_counts()"
   ]
  },
  {
   "cell_type": "code",
   "execution_count": null,
   "metadata": {},
   "outputs": [],
   "source": [
    "products_sorted[products_sorted['dif_debit_card'] == -1].pivot_table(index='pk_partition', values='dif_debit_card', aggfunc=[len])"
   ]
  },
  {
   "cell_type": "code",
   "execution_count": null,
   "metadata": {},
   "outputs": [],
   "source": [
    "products_sorted['dif_em_acount'].value_counts()"
   ]
  },
  {
   "cell_type": "code",
   "execution_count": null,
   "metadata": {
    "scrolled": false
   },
   "outputs": [],
   "source": [
    "products_sorted[products_sorted['dif_em_acount'] == -1].pivot_table(index='pk_partition', values='dif_em_acount', aggfunc=[len])"
   ]
  },
  {
   "cell_type": "code",
   "execution_count": null,
   "metadata": {},
   "outputs": [],
   "source": [
    "products_sorted['dif_loans'].value_counts()"
   ]
  },
  {
   "cell_type": "code",
   "execution_count": null,
   "metadata": {
    "scrolled": true
   },
   "outputs": [],
   "source": [
    "products_sorted[products_sorted['dif_loans'] == -1].pivot_table(index='pk_partition', values='dif_loans', aggfunc=[len])"
   ]
  },
  {
   "cell_type": "code",
   "execution_count": null,
   "metadata": {},
   "outputs": [],
   "source": [
    "products_sorted['dif_securities'].value_counts()"
   ]
  },
  {
   "cell_type": "code",
   "execution_count": null,
   "metadata": {},
   "outputs": [],
   "source": [
    "products_sorted[products_sorted['dif_securities'] == -1].pivot_table(index='pk_partition', values='dif_securities', aggfunc=[len])"
   ]
  },
  {
   "cell_type": "code",
   "execution_count": null,
   "metadata": {},
   "outputs": [],
   "source": [
    "products_sorted['dif_credit_card'].value_counts()"
   ]
  },
  {
   "cell_type": "code",
   "execution_count": null,
   "metadata": {},
   "outputs": [],
   "source": [
    "products_sorted[products_sorted['dif_credit_card'] == -1].pivot_table(index='pk_partition', values='dif_credit_card', aggfunc=[len])"
   ]
  },
  {
   "cell_type": "code",
   "execution_count": null,
   "metadata": {
    "scrolled": true
   },
   "outputs": [],
   "source": [
    "products_sorted.head(2).T"
   ]
  },
  {
   "cell_type": "code",
   "execution_count": null,
   "metadata": {
    "scrolled": true
   },
   "outputs": [],
   "source": [
    "products_sorted.head(20).T"
   ]
  },
  {
   "cell_type": "code",
   "execution_count": null,
   "metadata": {},
   "outputs": [],
   "source": [
    "products_sorted[\"pk_partition\"] = pd.to_datetime(products_sorted[\"pk_partition\"], format = \"%Y.%m.%d\")"
   ]
  },
  {
   "cell_type": "code",
   "execution_count": null,
   "metadata": {},
   "outputs": [],
   "source": [
    "products_sorted.info()"
   ]
  },
  {
   "cell_type": "code",
   "execution_count": null,
   "metadata": {},
   "outputs": [],
   "source": [
    "products_sorted[\"pk_partition\"] = pd.to_datetime(products_sorted[\"pk_partition\"], format = \"%d.%m.%Y\")\n",
    "y = products_sorted[[\"pk_cid\", \"em_account_p\",\"em_account_pp\",\"securities\",\"credit_card\",\"debit_card\",\"em_acount\",\"emc_account\",\"funds\",\"loans\",\\\n",
    "        \"long_term_deposit\",\"mortgage\",\"payroll\",\"payroll_account\",\"pension_plan\",\"short_term_deposit\"]]\\\n",
    ".set_index(\"pk_cid\")\n",
    "y.head()"
   ]
  },
  {
   "cell_type": "code",
   "execution_count": null,
   "metadata": {
    "scrolled": true
   },
   "outputs": [],
   "source": [
    "x = products_sorted[[\"pk_cid\", \"dif_em_account_p\",\"dif_em_account_pp\",\"dif_em_account_pp\",\"dif_em_acount\",\"dif_emc_account\",\\\n",
    "        \"dif_funds\",\"dif_loans\",\"dif_securities\",\"dif_credit_card\",\"dif_debit_card\",\"dif_long_term_deposit\",\\\n",
    "                     \"dif_mortgage\",\"dif_payroll\",\"dif_payroll_account\",\"dif_pension_plan\",\"dif_short_term_deposit\"]]\\\n",
    ".set_index(\"pk_cid\")\n",
    "x.head()"
   ]
  },
  {
   "cell_type": "code",
   "execution_count": null,
   "metadata": {},
   "outputs": [],
   "source": [
    "z = products_sorted[[\"pk_cid\", \"em_account_p_previous_month\",\"em_account_pp_previous_month\",\"em_acount_previous_month\"\\\n",
    "                     ,\"emc_account_previous_month\",\"funds_previous_month\",\"loans_previous_month\",\\\n",
    "        \"long_term_deposit_previous_month\",\"mortgage_previous_month\",\"payroll_previous_month\"\\\n",
    "                     ,\"payroll_account_previous_month\",\"pension_plan_previous_month\",\"short_term_deposit_previous_month\",\\\n",
    "        \"securities_previous_month\",\"debit_card_previous_month\",\"credit_card_previous_month\"]]\\\n",
    ".set_index(\"pk_cid\")\n",
    "z.head()"
   ]
  },
  {
   "cell_type": "code",
   "execution_count": null,
   "metadata": {
    "scrolled": true
   },
   "outputs": [],
   "source": [
    "products_sorted.isnull().sum()"
   ]
  },
  {
   "cell_type": "code",
   "execution_count": null,
   "metadata": {},
   "outputs": [],
   "source": [
    "products_sorted.fillna(value=-999, inplace=True)"
   ]
  },
  {
   "cell_type": "code",
   "execution_count": null,
   "metadata": {},
   "outputs": [],
   "source": [
    "products_sorted.isnull().sum()"
   ]
  },
  {
   "cell_type": "code",
   "execution_count": null,
   "metadata": {},
   "outputs": [],
   "source": [
    "###quiero unir dos dataframes para saber los clientes activos por cada uno de los productos."
   ]
  },
  {
   "cell_type": "code",
   "execution_count": null,
   "metadata": {},
   "outputs": [],
   "source": [
    "df4=df[['active_customer']]"
   ]
  },
  {
   "cell_type": "code",
   "execution_count": null,
   "metadata": {},
   "outputs": [],
   "source": [
    "df4"
   ]
  },
  {
   "cell_type": "code",
   "execution_count": null,
   "metadata": {},
   "outputs": [],
   "source": [
    "frames=[df4,products_sorted]"
   ]
  },
  {
   "cell_type": "code",
   "execution_count": null,
   "metadata": {},
   "outputs": [],
   "source": [
    "result = pd.concat([df4,products_sorted], axis=1,join='inner')"
   ]
  },
  {
   "cell_type": "code",
   "execution_count": null,
   "metadata": {
    "scrolled": true
   },
   "outputs": [],
   "source": [
    "result"
   ]
  },
  {
   "cell_type": "code",
   "execution_count": null,
   "metadata": {},
   "outputs": [],
   "source": [
    "###Voy a analizar en relacion a los clientes activos, los 6 productos de más rotación de la compañía.\n",
    "##Esta información , se deduce de la exploracion, que se ha hecho anteriormente, a cada uno de los 15 productos, que \n",
    "###comercializa la compañia."
   ]
  },
  {
   "cell_type": "code",
   "execution_count": null,
   "metadata": {},
   "outputs": [],
   "source": [
    "result_2 = result.groupby(by=[\"pk_partition\",\"active_customer\"], as_index=False)[\"em_acount\"].count()"
   ]
  },
  {
   "cell_type": "code",
   "execution_count": null,
   "metadata": {},
   "outputs": [],
   "source": [
    "result_2"
   ]
  },
  {
   "cell_type": "code",
   "execution_count": null,
   "metadata": {
    "scrolled": false
   },
   "outputs": [],
   "source": [
    "sns.barplot(data=result_2, x='active_customer', y='em_acount')"
   ]
  },
  {
   "cell_type": "code",
   "execution_count": null,
   "metadata": {},
   "outputs": [],
   "source": []
  }
 ],
 "metadata": {
  "kernelspec": {
   "display_name": "Python 3",
   "language": "python",
   "name": "python3"
  },
  "language_info": {
   "codemirror_mode": {
    "name": "ipython",
    "version": 3
   },
   "file_extension": ".py",
   "mimetype": "text/x-python",
   "name": "python",
   "nbconvert_exporter": "python",
   "pygments_lexer": "ipython3",
   "version": "3.7.6"
  }
 },
 "nbformat": 4,
 "nbformat_minor": 4
}
